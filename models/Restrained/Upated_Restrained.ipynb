{
 "cells": [
  {
   "cell_type": "code",
   "execution_count": 1,
   "id": "55e23ad2",
   "metadata": {},
   "outputs": [],
   "source": [
    "# %matplotlib inline\n",
    "import matplotlib.pyplot as plt\n",
    "from getdist import plots, MCSamples\n",
    "import scipy.integrate as integrate\n",
    "# import planckStyle\n",
    "import pylab\n",
    "import numpy as np\n",
    "\n",
    "params1 = {'backend': 'pdf',\n",
    "               'axes.labelsize': 20,\n",
    "               'xtick.labelsize': 20,\n",
    "               'ytick.labelsize': 20,\n",
    "               'legend.fontsize': 16,\n",
    "               'lines.markersize': 6,\n",
    "               'font.size': 25,\n",
    "               'text.usetex': True}#\n",
    "pylab.rcParams.update(params1)\n"
   ]
  },
  {
   "cell_type": "code",
   "execution_count": 2,
   "id": "3c809507",
   "metadata": {},
   "outputs": [],
   "source": [
    "dir_name= '/home/isidro/Downloads/chains/'"
   ]
  },
  {
   "cell_type": "code",
   "execution_count": 4,
   "id": "2ef75e61",
   "metadata": {},
   "outputs": [],
   "source": [
    "roots = ['Restrained_phy_CBAO+HD+Pantheon+Planck_15_nested_multi']\n",
    "\n",
    "g= plots.getSinglePlotter(chain_dir = dir_name, width_inch=6, \n",
    "                          analysis_settings={'smooth_scale_1D': 0.4,'smooth_scale_2D': 0.5, 'ignore_rows': 0.2})\n",
    "\n",
    "# g.settings.axis_tick_rotation = 75\n",
    "# g.settings.axes_fontsize    = 20\n",
    "# g.settings.lab_fontsize     = 20\n",
    "# g.settings.alpha_filled_add = 0.9"
   ]
  },
  {
   "cell_type": "code",
   "execution_count": 5,
   "id": "7eb1f299",
   "metadata": {},
   "outputs": [
    {
     "name": "stderr",
     "output_type": "stream",
     "text": [
      "WARNING:root:sampleAnalyser is deprecated, use sample_analyser\n",
      "WARNING:root:samplesForRoot is deprecated, use samples_for_root\n"
     ]
    }
   ],
   "source": [
    "samples = g.sampleAnalyser.samplesForRoot('Restrained_phy_HD+CBAO+Pantheon+Planck_15_nested_multi')\n",
    "p = samples.getParams()"
   ]
  },
  {
   "cell_type": "code",
   "execution_count": 6,
   "id": "b7a5534b",
   "metadata": {},
   "outputs": [
    {
     "name": "stderr",
     "output_type": "stream",
     "text": [
      "WARNING:root:sampleAnalyser is deprecated, use sample_analyser\n",
      "WARNING:root:samplesForRoot is deprecated, use samples_for_root\n"
     ]
    },
    {
     "name": "stdout",
     "output_type": "stream",
     "text": [
      "/home/isidro/Downloads/chains/Restrained_phy_CBAO+HD+Pantheon+Planck_15_nested_multi_1.txt\n",
      "Removed 0.1 as burn in\n"
     ]
    },
    {
     "ename": "NameError",
     "evalue": "name 'wx' is not defined",
     "output_type": "error",
     "traceback": [
      "\u001b[0;31m---------------------------------------------------------------------------\u001b[0m",
      "\u001b[0;31mNameError\u001b[0m                                 Traceback (most recent call last)",
      "\u001b[0;32m/tmp/ipykernel_7003/3415915637.py\u001b[0m in \u001b[0;36m<module>\u001b[0;34m\u001b[0m\n\u001b[1;32m     49\u001b[0m \u001b[0;34m\u001b[0m\u001b[0m\n\u001b[1;32m     50\u001b[0m \u001b[0msamples\u001b[0m\u001b[0;34m.\u001b[0m\u001b[0maddDerived\u001b[0m\u001b[0;34m(\u001b[0m \u001b[0mgamma\u001b[0m \u001b[0;34m,\u001b[0m \u001b[0mname\u001b[0m\u001b[0;34m=\u001b[0m\u001b[0;34m'gamma'\u001b[0m\u001b[0;34m,\u001b[0m \u001b[0mlabel\u001b[0m\u001b[0;34m=\u001b[0m\u001b[0;34m'\\gamma'\u001b[0m\u001b[0;34m)\u001b[0m\u001b[0;34m\u001b[0m\u001b[0;34m\u001b[0m\u001b[0m\n\u001b[0;32m---> 51\u001b[0;31m \u001b[0msamples\u001b[0m\u001b[0;34m.\u001b[0m\u001b[0maddDerived\u001b[0m\u001b[0;34m(\u001b[0m \u001b[0mwx\u001b[0m \u001b[0;34m,\u001b[0m  \u001b[0mname\u001b[0m\u001b[0;34m=\u001b[0m\u001b[0;34m'wx'\u001b[0m\u001b[0;34m,\u001b[0m      \u001b[0mlabel\u001b[0m\u001b[0;34m=\u001b[0m\u001b[0;34m'1+w_x'\u001b[0m\u001b[0;34m)\u001b[0m\u001b[0;34m\u001b[0m\u001b[0;34m\u001b[0m\u001b[0m\n\u001b[0m\u001b[1;32m     52\u001b[0m \u001b[0msamples\u001b[0m\u001b[0;34m.\u001b[0m\u001b[0maddDerived\u001b[0m\u001b[0;34m(\u001b[0m \u001b[0mwy\u001b[0m \u001b[0;34m,\u001b[0m  \u001b[0mname\u001b[0m\u001b[0;34m=\u001b[0m\u001b[0;34m'wy'\u001b[0m\u001b[0;34m,\u001b[0m      \u001b[0mlabel\u001b[0m\u001b[0;34m=\u001b[0m\u001b[0;34m'1+w_y'\u001b[0m\u001b[0;34m)\u001b[0m\u001b[0;34m\u001b[0m\u001b[0;34m\u001b[0m\u001b[0m\n\u001b[1;32m     53\u001b[0m \u001b[0msamples\u001b[0m\u001b[0;34m.\u001b[0m\u001b[0maddDerived\u001b[0m\u001b[0;34m(\u001b[0m \u001b[0mOde\u001b[0m \u001b[0;34m,\u001b[0m \u001b[0mname\u001b[0m\u001b[0;34m=\u001b[0m\u001b[0;34m'Ode'\u001b[0m\u001b[0;34m,\u001b[0m     \u001b[0mlabel\u001b[0m\u001b[0;34m=\u001b[0m\u001b[0;34m'\\Omega{DE,0}'\u001b[0m\u001b[0;34m)\u001b[0m\u001b[0;34m\u001b[0m\u001b[0;34m\u001b[0m\u001b[0m\n",
      "\u001b[0;31mNameError\u001b[0m: name 'wx' is not defined"
     ]
    }
   ],
   "source": [
    "roots = ['Restrained_phy_CBAO+HD+Pantheon+Planck_15_nested_multi']\n",
    "\n",
    "g= plots.getSinglePlotter(chain_dir = dir_name, width_inch=12, \n",
    "                          analysis_settings={'smooth_scale_1D': 0.5,'smooth_scale_2D': 0.6, 'ignore_rows': 0.1})\n",
    "\n",
    "g.settings.axis_tick_x_rotation= 75\n",
    "g.settings.axes_fontsize    = 10\n",
    "g.settings.lab_fontsize     = 15\n",
    "g.settings.alpha_filled_add = 0.9\n",
    "\n",
    "samples = g.sampleAnalyser.samplesForRoot('Restrained_phy_CBAO+HD+Pantheon+Planck_15_nested_multi')\n",
    "p = samples.getParams()\n",
    "\n",
    "wvar   = 1.83E-11\n",
    "p.weff = (-1+wvar)*np.ones(len(p.h)) \n",
    "\n",
    "#samples.updateBaseStatistics()\n",
    "Orad   = (2.469E-5*(1+ 0*0.2271*3.046)*p.h**(-2))\n",
    "Osig  = (1-p.Om)*(1+p.weff)*0.5\n",
    "Odv   = (1-p.Om)*(1-p.weff)*0.5\n",
    "Ode   = 1-p.Om-Orad\n",
    "Oeff  = Odv + Osig\n",
    "par = np.sqrt((1+ p.weff)*0.5*p.Om/Oeff)\n",
    "#wx    = -2*par\n",
    "#wy    = + par\n",
    "gamma = -3.*par\n",
    "\n",
    "ratio  = p.Om/Orad\n",
    "zeq    = -1 + ratio\n",
    "keq  = ((1-2*p.Om)*(1+zeq)**(1+3*p.weff)+2*p.Om*(1+zeq))**(0.5)*(p.h*1.0E5/299792458.)\n",
    "wtmp = 1+ p.weff\n",
    "x = (1 + 3.0E8)\n",
    "Osbbn= 0.5*(Ode*wtmp*x**(3*wtmp)/(p.Om*x**3+Orad*x**4+Ode*x**(3*wtmp)))\n",
    "\n",
    "def osigma(x, Om, weff, h):\n",
    "    Orad   = (2.469E-5*(1+0*0.2271*3.046)*h**(-2))\n",
    "    Ode  = 1-Om-Orad\n",
    "    wtmp = 1+weff\n",
    "    return 0.5*(Ode*wtmp*x**(3*wtmp)/(Om*x**3+Orad*x**4+Ode*x**(3*wtmp)))\n",
    "\n",
    "def integral(x, Om, weff, h):\n",
    "    # x = z + 1\n",
    "    T0     = 2.7255\n",
    "    return 3*T0*(np.sqrt(osigma(x, Om, weff, h))/x)*1.0E6\n",
    "\n",
    "it = []\n",
    "for i,j, k in zip(p.Om, p.weff, p.h):\n",
    "    it.append(integrate.quad(integral, 1, 1101, args=(i, j, k))[0])\n",
    "\n",
    "samples.addDerived( gamma , name='gamma', label='\\gamma')\n",
    "samples.addDerived( wx ,  name='wx',      label='1+w_x')\n",
    "samples.addDerived( wy ,  name='wy',      label='1+w_y')\n",
    "samples.addDerived( Ode , name='Ode',     label='\\Omega{DE,0}')\n",
    "samples.addDerived( Osig ,name='Osig',    label='\\Omega_{\\sigma^2,0}')\n",
    "samples.addDerived( Odv , name='Odv',     label='\\Omega_{dv,0}')\n",
    "samples.addDerived( it ,  name='it',      label='\\Delta T_{\\\\sigma^2}~ [\\mu K]')\n",
    "samples.addDerived( Oeff, name='Oeff',    label='\\Omega{eff,0}')\n",
    "samples.addDerived( keq , name='keq'  , label='k_{eq}')\n",
    "samples.addDerived( Osbbn, name='Osbbn'  , label='\\Omega_{BBN}')\n",
    "\n",
    "samples.updateBaseStatistics()\n",
    "#g.plots_1d(roots, ['weff'] , lims=[-1, -0.82, 0., 1.1])\n",
    "#g.plots_1d(roots, ['gamma']) #, lims = [0, 1., 0, 1.1])\n",
    "#g.plots_1d(roots, ['wx'])  \n",
    "#g.plots_1d(roots, ['wy'], lims = [ -1, -0.68, 0, 1.1])\n",
    "#g.plots_1d(roots, ['Osig'], lims = [ 0, 0.06, 0, 1.1])\n",
    "#g.plots_1d(roots, ['Odv'])\n",
    "#g.plots_1d(roots, ['it']) #, lims = [ 0, 2.3, 0, 1.1])\n",
    "#g.plots_1d(roots, ['it', 'Osig', 'Odv'], nx=3)\n",
    "#g.add_legend(['$w_{eff}$ = -1 + %1.1E'%wvar], legend_loc='upper right')\n",
    "#plt.title('$w_{eff}$ = -1 + %1.1e'%wvar, fontsize=20)\n",
    "#plt.title('$w_{\\\\rm eff}$ +1 = $1.83\\\\times10^{-11}$', fontsize=20)\n",
    "#g.triangle_plot(roots, ['Odv', 'weff','h'])\n",
    "\n",
    "#g.settings.axes_fontsize = 2\n",
    "#g.settings.lab_fontsize = 10\n",
    "#g.settings.colorbar_axes_fontsize=10\n",
    "#g.settings.colorbar_label_rotation= 0\n",
    "#g.settings.alpha_filled_add =0.9\n",
    "#g.settings.scatter_size = 9\n",
    "#g.settings.lw_contour=3\n",
    "#g.settings.colormap_scatter= 'hsv'\n",
    "#g.triangle_plot(roots, ['h','Osig', 'keq', 'it'])\n",
    "\n",
    "g.triangle_plot(roots, \n",
    "                ['h','Osig', 'keq', 'it'], filled=True, legend_labels=['dv-wCDM']) \n",
    "#                contour_args=[{'lw':2, 'color':'blue', 'ls':'-'}, \n",
    "#                              {'lw':5, 'color':'red', 'ls':'-'}, \n",
    "#                              {'lw':2, 'color':'blue', 'ls':'-'}], filled=False,\n",
    "#                alphas=[0.5, 0.6, 0.9], legend_labels=['EMLG', 'LCDM'], \n",
    "#                line_args=[{'lw':2, 'color':'blue'}, {'lw':2, 'color':'red', 'ls':'-'}, \n",
    "#                {'lw':2, 'color':'blue'}], contour_colors=['red','blue','red'])\n",
    "g.add_legend(['dv-wCDM'], legend_loc='best', fontsize=12)\n",
    "\n",
    "g.export('dv-wCDM.pdf')"
   ]
  },
  {
   "cell_type": "code",
   "execution_count": 7,
   "id": "4d03ee32",
   "metadata": {},
   "outputs": [
    {
     "ename": "AttributeError",
     "evalue": "'ParamInfo' object has no attribute 'ND_limit_bot'",
     "output_type": "error",
     "traceback": [
      "\u001b[0;31m---------------------------------------------------------------------------\u001b[0m",
      "\u001b[0;31mAttributeError\u001b[0m                            Traceback (most recent call last)",
      "\u001b[0;32m/tmp/ipykernel_7003/2143942861.py\u001b[0m in \u001b[0;36m<module>\u001b[0;34m\u001b[0m\n\u001b[0;32m----> 1\u001b[0;31m \u001b[0mprint\u001b[0m \u001b[0;34m(\u001b[0m\u001b[0msamples\u001b[0m\u001b[0;34m.\u001b[0m\u001b[0mlikeStats\u001b[0m\u001b[0;34m)\u001b[0m\u001b[0;34m\u001b[0m\u001b[0;34m\u001b[0m\u001b[0m\n\u001b[0m",
      "\u001b[0;32m~/.local/lib/python3.10/site-packages/getdist/types.py\u001b[0m in \u001b[0;36m__str__\u001b[0;34m(self)\u001b[0m\n\u001b[1;32m    872\u001b[0m             \u001b[0mtext\u001b[0m \u001b[0;34m+=\u001b[0m \u001b[0mself\u001b[0m\u001b[0;34m.\u001b[0m\u001b[0mheaderLine\u001b[0m\u001b[0;34m(\u001b[0m\u001b[0;34m)\u001b[0m\u001b[0;34m\u001b[0m\u001b[0;34m\u001b[0m\u001b[0m\n\u001b[1;32m    873\u001b[0m             \u001b[0;32mfor\u001b[0m \u001b[0mj\u001b[0m\u001b[0;34m,\u001b[0m \u001b[0mpar\u001b[0m \u001b[0;32min\u001b[0m \u001b[0menumerate\u001b[0m\u001b[0;34m(\u001b[0m\u001b[0mself\u001b[0m\u001b[0;34m.\u001b[0m\u001b[0mnames\u001b[0m\u001b[0;34m)\u001b[0m\u001b[0;34m:\u001b[0m\u001b[0;34m\u001b[0m\u001b[0;34m\u001b[0m\u001b[0m\n\u001b[0;32m--> 874\u001b[0;31m                 \u001b[0;32mif\u001b[0m \u001b[0mpar\u001b[0m\u001b[0;34m.\u001b[0m\u001b[0mND_limit_bot\u001b[0m\u001b[0;34m.\u001b[0m\u001b[0msize\u001b[0m \u001b[0;34m<\u001b[0m \u001b[0;36m2\u001b[0m\u001b[0;34m:\u001b[0m\u001b[0;34m\u001b[0m\u001b[0;34m\u001b[0m\u001b[0m\n\u001b[0m\u001b[1;32m    875\u001b[0m                     \u001b[0;32mraise\u001b[0m \u001b[0mException\u001b[0m\u001b[0;34m(\u001b[0m\u001b[0;34m'Likestats output assumes at least two contour levels'\u001b[0m\u001b[0;34m)\u001b[0m\u001b[0;34m\u001b[0m\u001b[0;34m\u001b[0m\u001b[0m\n\u001b[1;32m    876\u001b[0m                 \u001b[0mtext\u001b[0m \u001b[0;34m+=\u001b[0m \u001b[0mparForm\u001b[0m \u001b[0;34m%\u001b[0m \u001b[0;34m(\u001b[0m\u001b[0mself\u001b[0m\u001b[0;34m.\u001b[0m\u001b[0mname\u001b[0m\u001b[0;34m(\u001b[0m\u001b[0mj\u001b[0m\u001b[0;34m,\u001b[0m \u001b[0;32mTrue\u001b[0m\u001b[0;34m)\u001b[0m\u001b[0;34m)\u001b[0m\u001b[0;34m\u001b[0m\u001b[0;34m\u001b[0m\u001b[0m\n",
      "\u001b[0;31mAttributeError\u001b[0m: 'ParamInfo' object has no attribute 'ND_limit_bot'"
     ]
    }
   ],
   "source": [
    "print (samples.likeStats)"
   ]
  },
  {
   "cell_type": "code",
   "execution_count": 8,
   "id": "45a185c8",
   "metadata": {},
   "outputs": [
    {
     "ename": "TypeError",
     "evalue": "'NoneType' object is not iterable",
     "output_type": "error",
     "traceback": [
      "\u001b[0;31m---------------------------------------------------------------------------\u001b[0m",
      "\u001b[0;31mTypeError\u001b[0m                                 Traceback (most recent call last)",
      "\u001b[0;32m/tmp/ipykernel_7003/4119426705.py\u001b[0m in \u001b[0;36m<module>\u001b[0;34m\u001b[0m\n\u001b[0;32m----> 1\u001b[0;31m \u001b[0;32mfor\u001b[0m \u001b[0mi\u001b[0m\u001b[0;34m,\u001b[0m\u001b[0mj\u001b[0m\u001b[0;34m,\u001b[0m\u001b[0mk\u001b[0m \u001b[0;32min\u001b[0m \u001b[0mzip\u001b[0m\u001b[0;34m(\u001b[0m\u001b[0msamples\u001b[0m\u001b[0;34m.\u001b[0m\u001b[0mparamNames\u001b[0m\u001b[0;34m.\u001b[0m\u001b[0mlist\u001b[0m\u001b[0;34m(\u001b[0m\u001b[0;34m)\u001b[0m\u001b[0;34m,\u001b[0m \u001b[0msamples\u001b[0m\u001b[0;34m.\u001b[0m\u001b[0mmeans\u001b[0m\u001b[0;34m,\u001b[0m \u001b[0msamples\u001b[0m\u001b[0;34m.\u001b[0m\u001b[0msddev\u001b[0m\u001b[0;34m)\u001b[0m\u001b[0;34m:\u001b[0m\u001b[0;34m\u001b[0m\u001b[0;34m\u001b[0m\u001b[0m\n\u001b[0m\u001b[1;32m      2\u001b[0m     \u001b[0mprint\u001b[0m \u001b[0;34m(\u001b[0m\u001b[0mi\u001b[0m\u001b[0;34m,\u001b[0m\u001b[0;34m'\\t \\t'\u001b[0m\u001b[0;34m,\u001b[0m\u001b[0mj\u001b[0m\u001b[0;34m,\u001b[0m\u001b[0mk\u001b[0m\u001b[0;34m)\u001b[0m\u001b[0;34m\u001b[0m\u001b[0;34m\u001b[0m\u001b[0m\n",
      "\u001b[0;31mTypeError\u001b[0m: 'NoneType' object is not iterable"
     ]
    }
   ],
   "source": [
    "for i,j,k in zip(samples.paramNames.list(), samples.means, samples.sddev):\n",
    "    print (i,'\\t \\t',j,k)"
   ]
  },
  {
   "cell_type": "code",
   "execution_count": 9,
   "id": "75480fc0",
   "metadata": {},
   "outputs": [
    {
     "name": "stderr",
     "output_type": "stream",
     "text": [
      "WARNING:root:sampleAnalyser is deprecated, use sample_analyser\n",
      "WARNING:root:samplesForRoot is deprecated, use samples_for_root\n"
     ]
    },
    {
     "name": "stdout",
     "output_type": "stream",
     "text": [
      "/home/isidro/Downloads/chains/Anisotropic_phy_CBAO+HD+Pantheon+Planck_15_nested_multi_1.txt\n",
      "Removed 0.1 as burn in\n"
     ]
    },
    {
     "ename": "RuntimeError",
     "evalue": "Failed to process string with tex because latex could not be found",
     "output_type": "error",
     "traceback": [
      "\u001b[0;31m---------------------------------------------------------------------------\u001b[0m",
      "\u001b[0;31mFileNotFoundError\u001b[0m                         Traceback (most recent call last)",
      "\u001b[0;32m~/.local/lib/python3.10/site-packages/matplotlib/texmanager.py\u001b[0m in \u001b[0;36m_run_checked_subprocess\u001b[0;34m(cls, command, tex, cwd)\u001b[0m\n\u001b[1;32m    254\u001b[0m         \u001b[0;32mtry\u001b[0m\u001b[0;34m:\u001b[0m\u001b[0;34m\u001b[0m\u001b[0;34m\u001b[0m\u001b[0m\n\u001b[0;32m--> 255\u001b[0;31m             report = subprocess.check_output(\n\u001b[0m\u001b[1;32m    256\u001b[0m                 \u001b[0mcommand\u001b[0m\u001b[0;34m,\u001b[0m \u001b[0mcwd\u001b[0m\u001b[0;34m=\u001b[0m\u001b[0mcwd\u001b[0m \u001b[0;32mif\u001b[0m \u001b[0mcwd\u001b[0m \u001b[0;32mis\u001b[0m \u001b[0;32mnot\u001b[0m \u001b[0;32mNone\u001b[0m \u001b[0;32melse\u001b[0m \u001b[0mcls\u001b[0m\u001b[0;34m.\u001b[0m\u001b[0mtexcache\u001b[0m\u001b[0;34m,\u001b[0m\u001b[0;34m\u001b[0m\u001b[0;34m\u001b[0m\u001b[0m\n",
      "\u001b[0;32m/usr/lib/python3.10/subprocess.py\u001b[0m in \u001b[0;36mcheck_output\u001b[0;34m(timeout, *popenargs, **kwargs)\u001b[0m\n\u001b[1;32m    419\u001b[0m \u001b[0;34m\u001b[0m\u001b[0m\n\u001b[0;32m--> 420\u001b[0;31m     return run(*popenargs, stdout=PIPE, timeout=timeout, check=True,\n\u001b[0m\u001b[1;32m    421\u001b[0m                **kwargs).stdout\n",
      "\u001b[0;32m/usr/lib/python3.10/subprocess.py\u001b[0m in \u001b[0;36mrun\u001b[0;34m(input, capture_output, timeout, check, *popenargs, **kwargs)\u001b[0m\n\u001b[1;32m    500\u001b[0m \u001b[0;34m\u001b[0m\u001b[0m\n\u001b[0;32m--> 501\u001b[0;31m     \u001b[0;32mwith\u001b[0m \u001b[0mPopen\u001b[0m\u001b[0;34m(\u001b[0m\u001b[0;34m*\u001b[0m\u001b[0mpopenargs\u001b[0m\u001b[0;34m,\u001b[0m \u001b[0;34m**\u001b[0m\u001b[0mkwargs\u001b[0m\u001b[0;34m)\u001b[0m \u001b[0;32mas\u001b[0m \u001b[0mprocess\u001b[0m\u001b[0;34m:\u001b[0m\u001b[0;34m\u001b[0m\u001b[0;34m\u001b[0m\u001b[0m\n\u001b[0m\u001b[1;32m    502\u001b[0m         \u001b[0;32mtry\u001b[0m\u001b[0;34m:\u001b[0m\u001b[0;34m\u001b[0m\u001b[0;34m\u001b[0m\u001b[0m\n",
      "\u001b[0;32m/usr/lib/python3.10/subprocess.py\u001b[0m in \u001b[0;36m__init__\u001b[0;34m(self, args, bufsize, executable, stdin, stdout, stderr, preexec_fn, close_fds, shell, cwd, env, universal_newlines, startupinfo, creationflags, restore_signals, start_new_session, pass_fds, user, group, extra_groups, encoding, errors, text, umask, pipesize)\u001b[0m\n\u001b[1;32m    968\u001b[0m \u001b[0;34m\u001b[0m\u001b[0m\n\u001b[0;32m--> 969\u001b[0;31m             self._execute_child(args, executable, preexec_fn, close_fds,\n\u001b[0m\u001b[1;32m    970\u001b[0m                                 \u001b[0mpass_fds\u001b[0m\u001b[0;34m,\u001b[0m \u001b[0mcwd\u001b[0m\u001b[0;34m,\u001b[0m \u001b[0menv\u001b[0m\u001b[0;34m,\u001b[0m\u001b[0;34m\u001b[0m\u001b[0;34m\u001b[0m\u001b[0m\n",
      "\u001b[0;32m/usr/lib/python3.10/subprocess.py\u001b[0m in \u001b[0;36m_execute_child\u001b[0;34m(self, args, executable, preexec_fn, close_fds, pass_fds, cwd, env, startupinfo, creationflags, shell, p2cread, p2cwrite, c2pread, c2pwrite, errread, errwrite, restore_signals, gid, gids, uid, umask, start_new_session)\u001b[0m\n\u001b[1;32m   1844\u001b[0m                         \u001b[0merr_msg\u001b[0m \u001b[0;34m=\u001b[0m \u001b[0mos\u001b[0m\u001b[0;34m.\u001b[0m\u001b[0mstrerror\u001b[0m\u001b[0;34m(\u001b[0m\u001b[0merrno_num\u001b[0m\u001b[0;34m)\u001b[0m\u001b[0;34m\u001b[0m\u001b[0;34m\u001b[0m\u001b[0m\n\u001b[0;32m-> 1845\u001b[0;31m                     \u001b[0;32mraise\u001b[0m \u001b[0mchild_exception_type\u001b[0m\u001b[0;34m(\u001b[0m\u001b[0merrno_num\u001b[0m\u001b[0;34m,\u001b[0m \u001b[0merr_msg\u001b[0m\u001b[0;34m,\u001b[0m \u001b[0merr_filename\u001b[0m\u001b[0;34m)\u001b[0m\u001b[0;34m\u001b[0m\u001b[0;34m\u001b[0m\u001b[0m\n\u001b[0m\u001b[1;32m   1846\u001b[0m                 \u001b[0;32mraise\u001b[0m \u001b[0mchild_exception_type\u001b[0m\u001b[0;34m(\u001b[0m\u001b[0merr_msg\u001b[0m\u001b[0;34m)\u001b[0m\u001b[0;34m\u001b[0m\u001b[0;34m\u001b[0m\u001b[0m\n",
      "\u001b[0;31mFileNotFoundError\u001b[0m: [Errno 2] No such file or directory: 'latex'",
      "\nThe above exception was the direct cause of the following exception:\n",
      "\u001b[0;31mRuntimeError\u001b[0m                              Traceback (most recent call last)",
      "\u001b[0;32m/tmp/ipykernel_7003/1418988708.py\u001b[0m in \u001b[0;36m<module>\u001b[0;34m\u001b[0m\n\u001b[1;32m     59\u001b[0m \u001b[0;31m#g.export('T_wCDM_wvar.pdf')\u001b[0m\u001b[0;34m\u001b[0m\u001b[0;34m\u001b[0m\u001b[0m\n\u001b[1;32m     60\u001b[0m \u001b[0;34m\u001b[0m\u001b[0m\n\u001b[0;32m---> 61\u001b[0;31m g.triangle_plot(roots, \n\u001b[0m\u001b[1;32m     62\u001b[0m                 ['h', 'keq', 'it'], filled=True, legend_labels=['dv-wCDM'], contour_colors=['red','blue','red']) \n\u001b[1;32m     63\u001b[0m \u001b[0;31m#                contour_args=[{'lw':2, 'color':'blue', 'ls':'-'},\u001b[0m\u001b[0;34m\u001b[0m\u001b[0;34m\u001b[0m\u001b[0m\n",
      "\u001b[0;32m~/.local/lib/python3.10/site-packages/getdist/plots.py\u001b[0m in \u001b[0;36mtriangle_plot\u001b[0;34m(self, roots, params, legend_labels, plot_3d_with_param, filled, shaded, contour_args, contour_colors, contour_ls, contour_lws, line_args, label_order, legend_ncol, legend_loc, title_limit, upper_roots, upper_kwargs, upper_label_right, diag1d_kwargs, markers, marker_args, param_limits, **kwargs)\u001b[0m\n\u001b[1;32m   2563\u001b[0m             \u001b[0margs\u001b[0m\u001b[0;34m[\u001b[0m\u001b[0;34m'borderaxespad'\u001b[0m\u001b[0;34m]\u001b[0m \u001b[0;34m=\u001b[0m \u001b[0;36m0\u001b[0m\u001b[0;34m\u001b[0m\u001b[0;34m\u001b[0m\u001b[0m\n\u001b[1;32m   2564\u001b[0m \u001b[0;34m\u001b[0m\u001b[0m\n\u001b[0;32m-> 2565\u001b[0;31m         self.finish_plot(labels, label_order=label_order,\n\u001b[0m\u001b[1;32m   2566\u001b[0m                          legend_ncol=legend_ncol or self.settings.figure_legend_ncol or (\n\u001b[1;32m   2567\u001b[0m                              None if upper_roots is None else len(labels)), legend_loc=legend_loc,\n",
      "\u001b[0;32m~/.local/lib/python3.10/site-packages/getdist/plots.py\u001b[0m in \u001b[0;36mfinish_plot\u001b[0;34m(self, legend_labels, legend_loc, line_offset, legend_ncol, label_order, no_extra_legend_space, no_tight, **legend_args)\u001b[0m\n\u001b[1;32m   1999\u001b[0m \u001b[0;34m\u001b[0m\u001b[0m\n\u001b[1;32m   2000\u001b[0m         \u001b[0;32mif\u001b[0m \u001b[0mself\u001b[0m\u001b[0;34m.\u001b[0m\u001b[0msettings\u001b[0m\u001b[0;34m.\u001b[0m\u001b[0mtight_layout\u001b[0m \u001b[0;32mand\u001b[0m \u001b[0;32mnot\u001b[0m \u001b[0mself\u001b[0m\u001b[0;34m.\u001b[0m\u001b[0msettings\u001b[0m\u001b[0;34m.\u001b[0m\u001b[0mconstrained_layout\u001b[0m \u001b[0;32mand\u001b[0m \u001b[0;32mnot\u001b[0m \u001b[0mno_tight\u001b[0m\u001b[0;34m:\u001b[0m\u001b[0;34m\u001b[0m\u001b[0;34m\u001b[0m\u001b[0m\n\u001b[0;32m-> 2001\u001b[0;31m             \u001b[0mself\u001b[0m\u001b[0;34m.\u001b[0m\u001b[0m_tight_layout\u001b[0m\u001b[0;34m(\u001b[0m\u001b[0;34m)\u001b[0m\u001b[0;34m\u001b[0m\u001b[0;34m\u001b[0m\u001b[0m\n\u001b[0m\u001b[1;32m   2002\u001b[0m \u001b[0;34m\u001b[0m\u001b[0m\n\u001b[1;32m   2003\u001b[0m         \u001b[0;32mif\u001b[0m \u001b[0mhas_legend\u001b[0m\u001b[0;34m:\u001b[0m\u001b[0;34m\u001b[0m\u001b[0;34m\u001b[0m\u001b[0m\n",
      "\u001b[0;32m~/.local/lib/python3.10/site-packages/getdist/plots.py\u001b[0m in \u001b[0;36m_tight_layout\u001b[0;34m(self, rect)\u001b[0m\n\u001b[1;32m   1978\u001b[0m         \u001b[0;32mwith\u001b[0m \u001b[0mwarnings\u001b[0m\u001b[0;34m.\u001b[0m\u001b[0mcatch_warnings\u001b[0m\u001b[0;34m(\u001b[0m\u001b[0;34m)\u001b[0m\u001b[0;34m:\u001b[0m\u001b[0;34m\u001b[0m\u001b[0;34m\u001b[0m\u001b[0m\n\u001b[1;32m   1979\u001b[0m             \u001b[0mwarnings\u001b[0m\u001b[0;34m.\u001b[0m\u001b[0msimplefilter\u001b[0m\u001b[0;34m(\u001b[0m\u001b[0;34m\"ignore\"\u001b[0m\u001b[0;34m)\u001b[0m\u001b[0;34m\u001b[0m\u001b[0;34m\u001b[0m\u001b[0m\n\u001b[0;32m-> 1980\u001b[0;31m             self.gridspec.tight_layout(self.fig, h_pad=self._share_kwargs.get('h_pad'),\n\u001b[0m\u001b[1;32m   1981\u001b[0m                                        w_pad=self._share_kwargs.get('w_pad'), rect=rect)\n\u001b[1;32m   1982\u001b[0m \u001b[0;34m\u001b[0m\u001b[0m\n",
      "\u001b[0;32m~/.local/lib/python3.10/site-packages/matplotlib/gridspec.py\u001b[0m in \u001b[0;36mtight_layout\u001b[0;34m(self, figure, renderer, pad, h_pad, w_pad, rect)\u001b[0m\n\u001b[1;32m    461\u001b[0m         \u001b[0;32mif\u001b[0m \u001b[0mrenderer\u001b[0m \u001b[0;32mis\u001b[0m \u001b[0;32mNone\u001b[0m\u001b[0;34m:\u001b[0m\u001b[0;34m\u001b[0m\u001b[0;34m\u001b[0m\u001b[0m\n\u001b[1;32m    462\u001b[0m             \u001b[0mrenderer\u001b[0m \u001b[0;34m=\u001b[0m \u001b[0mfigure\u001b[0m\u001b[0;34m.\u001b[0m\u001b[0m_get_renderer\u001b[0m\u001b[0;34m(\u001b[0m\u001b[0;34m)\u001b[0m\u001b[0;34m\u001b[0m\u001b[0;34m\u001b[0m\u001b[0m\n\u001b[0;32m--> 463\u001b[0;31m         kwargs = _tight_layout.get_tight_layout_figure(\n\u001b[0m\u001b[1;32m    464\u001b[0m             \u001b[0mfigure\u001b[0m\u001b[0;34m,\u001b[0m \u001b[0mfigure\u001b[0m\u001b[0;34m.\u001b[0m\u001b[0maxes\u001b[0m\u001b[0;34m,\u001b[0m\u001b[0;34m\u001b[0m\u001b[0;34m\u001b[0m\u001b[0m\n\u001b[1;32m    465\u001b[0m             \u001b[0m_tight_layout\u001b[0m\u001b[0;34m.\u001b[0m\u001b[0mget_subplotspec_list\u001b[0m\u001b[0;34m(\u001b[0m\u001b[0mfigure\u001b[0m\u001b[0;34m.\u001b[0m\u001b[0maxes\u001b[0m\u001b[0;34m,\u001b[0m \u001b[0mgrid_spec\u001b[0m\u001b[0;34m=\u001b[0m\u001b[0mself\u001b[0m\u001b[0;34m)\u001b[0m\u001b[0;34m,\u001b[0m\u001b[0;34m\u001b[0m\u001b[0;34m\u001b[0m\u001b[0m\n",
      "\u001b[0;32m~/.local/lib/python3.10/site-packages/matplotlib/_tight_layout.py\u001b[0m in \u001b[0;36mget_tight_layout_figure\u001b[0;34m(fig, axes_list, subplotspec_list, renderer, pad, h_pad, w_pad, rect)\u001b[0m\n\u001b[1;32m    264\u001b[0m             slice(ss.colspan.start * div_col, ss.colspan.stop * div_col)))\n\u001b[1;32m    265\u001b[0m \u001b[0;34m\u001b[0m\u001b[0m\n\u001b[0;32m--> 266\u001b[0;31m     kwargs = _auto_adjust_subplotpars(fig, renderer,\n\u001b[0m\u001b[1;32m    267\u001b[0m                                       \u001b[0mshape\u001b[0m\u001b[0;34m=\u001b[0m\u001b[0;34m(\u001b[0m\u001b[0mmax_nrows\u001b[0m\u001b[0;34m,\u001b[0m \u001b[0mmax_ncols\u001b[0m\u001b[0;34m)\u001b[0m\u001b[0;34m,\u001b[0m\u001b[0;34m\u001b[0m\u001b[0;34m\u001b[0m\u001b[0m\n\u001b[1;32m    268\u001b[0m                                       \u001b[0mspan_pairs\u001b[0m\u001b[0;34m=\u001b[0m\u001b[0mspan_pairs\u001b[0m\u001b[0;34m,\u001b[0m\u001b[0;34m\u001b[0m\u001b[0;34m\u001b[0m\u001b[0m\n",
      "\u001b[0;32m~/.local/lib/python3.10/site-packages/matplotlib/_tight_layout.py\u001b[0m in \u001b[0;36m_auto_adjust_subplotpars\u001b[0;34m(fig, renderer, shape, span_pairs, subplot_list, ax_bbox_list, pad, h_pad, w_pad, rect)\u001b[0m\n\u001b[1;32m     80\u001b[0m         \u001b[0;32mfor\u001b[0m \u001b[0max\u001b[0m \u001b[0;32min\u001b[0m \u001b[0msubplots\u001b[0m\u001b[0;34m:\u001b[0m\u001b[0;34m\u001b[0m\u001b[0;34m\u001b[0m\u001b[0m\n\u001b[1;32m     81\u001b[0m             \u001b[0;32mif\u001b[0m \u001b[0max\u001b[0m\u001b[0;34m.\u001b[0m\u001b[0mget_visible\u001b[0m\u001b[0;34m(\u001b[0m\u001b[0;34m)\u001b[0m\u001b[0;34m:\u001b[0m\u001b[0;34m\u001b[0m\u001b[0;34m\u001b[0m\u001b[0m\n\u001b[0;32m---> 82\u001b[0;31m                 \u001b[0mbb\u001b[0m \u001b[0;34m+=\u001b[0m \u001b[0;34m[\u001b[0m\u001b[0mmartist\u001b[0m\u001b[0;34m.\u001b[0m\u001b[0m_get_tightbbox_for_layout_only\u001b[0m\u001b[0;34m(\u001b[0m\u001b[0max\u001b[0m\u001b[0;34m,\u001b[0m \u001b[0mrenderer\u001b[0m\u001b[0;34m)\u001b[0m\u001b[0;34m]\u001b[0m\u001b[0;34m\u001b[0m\u001b[0;34m\u001b[0m\u001b[0m\n\u001b[0m\u001b[1;32m     83\u001b[0m \u001b[0;34m\u001b[0m\u001b[0m\n\u001b[1;32m     84\u001b[0m         \u001b[0mtight_bbox_raw\u001b[0m \u001b[0;34m=\u001b[0m \u001b[0mBbox\u001b[0m\u001b[0;34m.\u001b[0m\u001b[0munion\u001b[0m\u001b[0;34m(\u001b[0m\u001b[0mbb\u001b[0m\u001b[0;34m)\u001b[0m\u001b[0;34m\u001b[0m\u001b[0;34m\u001b[0m\u001b[0m\n",
      "\u001b[0;32m~/.local/lib/python3.10/site-packages/matplotlib/artist.py\u001b[0m in \u001b[0;36m_get_tightbbox_for_layout_only\u001b[0;34m(obj, *args, **kwargs)\u001b[0m\n\u001b[1;32m   1413\u001b[0m     \"\"\"\n\u001b[1;32m   1414\u001b[0m     \u001b[0;32mtry\u001b[0m\u001b[0;34m:\u001b[0m\u001b[0;34m\u001b[0m\u001b[0;34m\u001b[0m\u001b[0m\n\u001b[0;32m-> 1415\u001b[0;31m         \u001b[0;32mreturn\u001b[0m \u001b[0mobj\u001b[0m\u001b[0;34m.\u001b[0m\u001b[0mget_tightbbox\u001b[0m\u001b[0;34m(\u001b[0m\u001b[0;34m*\u001b[0m\u001b[0margs\u001b[0m\u001b[0;34m,\u001b[0m \u001b[0;34m**\u001b[0m\u001b[0;34m{\u001b[0m\u001b[0;34m**\u001b[0m\u001b[0mkwargs\u001b[0m\u001b[0;34m,\u001b[0m \u001b[0;34m\"for_layout_only\"\u001b[0m\u001b[0;34m:\u001b[0m \u001b[0;32mTrue\u001b[0m\u001b[0;34m}\u001b[0m\u001b[0;34m)\u001b[0m\u001b[0;34m\u001b[0m\u001b[0;34m\u001b[0m\u001b[0m\n\u001b[0m\u001b[1;32m   1416\u001b[0m     \u001b[0;32mexcept\u001b[0m \u001b[0mTypeError\u001b[0m\u001b[0;34m:\u001b[0m\u001b[0;34m\u001b[0m\u001b[0;34m\u001b[0m\u001b[0m\n\u001b[1;32m   1417\u001b[0m         \u001b[0;32mreturn\u001b[0m \u001b[0mobj\u001b[0m\u001b[0;34m.\u001b[0m\u001b[0mget_tightbbox\u001b[0m\u001b[0;34m(\u001b[0m\u001b[0;34m*\u001b[0m\u001b[0margs\u001b[0m\u001b[0;34m,\u001b[0m \u001b[0;34m**\u001b[0m\u001b[0mkwargs\u001b[0m\u001b[0;34m)\u001b[0m\u001b[0;34m\u001b[0m\u001b[0;34m\u001b[0m\u001b[0m\n",
      "\u001b[0;32m~/.local/lib/python3.10/site-packages/matplotlib/axes/_base.py\u001b[0m in \u001b[0;36mget_tightbbox\u001b[0;34m(self, renderer, call_axes_locator, bbox_extra_artists, for_layout_only)\u001b[0m\n\u001b[1;32m   4385\u001b[0m         \u001b[0;32mfor\u001b[0m \u001b[0maxis\u001b[0m \u001b[0;32min\u001b[0m \u001b[0mself\u001b[0m\u001b[0;34m.\u001b[0m\u001b[0m_axis_map\u001b[0m\u001b[0;34m.\u001b[0m\u001b[0mvalues\u001b[0m\u001b[0;34m(\u001b[0m\u001b[0;34m)\u001b[0m\u001b[0;34m:\u001b[0m\u001b[0;34m\u001b[0m\u001b[0;34m\u001b[0m\u001b[0m\n\u001b[1;32m   4386\u001b[0m             \u001b[0;32mif\u001b[0m \u001b[0mself\u001b[0m\u001b[0;34m.\u001b[0m\u001b[0maxison\u001b[0m \u001b[0;32mand\u001b[0m \u001b[0maxis\u001b[0m\u001b[0;34m.\u001b[0m\u001b[0mget_visible\u001b[0m\u001b[0;34m(\u001b[0m\u001b[0;34m)\u001b[0m\u001b[0;34m:\u001b[0m\u001b[0;34m\u001b[0m\u001b[0;34m\u001b[0m\u001b[0m\n\u001b[0;32m-> 4387\u001b[0;31m                 \u001b[0mba\u001b[0m \u001b[0;34m=\u001b[0m \u001b[0mmartist\u001b[0m\u001b[0;34m.\u001b[0m\u001b[0m_get_tightbbox_for_layout_only\u001b[0m\u001b[0;34m(\u001b[0m\u001b[0maxis\u001b[0m\u001b[0;34m,\u001b[0m \u001b[0mrenderer\u001b[0m\u001b[0;34m)\u001b[0m\u001b[0;34m\u001b[0m\u001b[0;34m\u001b[0m\u001b[0m\n\u001b[0m\u001b[1;32m   4388\u001b[0m                 \u001b[0;32mif\u001b[0m \u001b[0mba\u001b[0m\u001b[0;34m:\u001b[0m\u001b[0;34m\u001b[0m\u001b[0;34m\u001b[0m\u001b[0m\n\u001b[1;32m   4389\u001b[0m                     \u001b[0mbb\u001b[0m\u001b[0;34m.\u001b[0m\u001b[0mappend\u001b[0m\u001b[0;34m(\u001b[0m\u001b[0mba\u001b[0m\u001b[0;34m)\u001b[0m\u001b[0;34m\u001b[0m\u001b[0;34m\u001b[0m\u001b[0m\n",
      "\u001b[0;32m~/.local/lib/python3.10/site-packages/matplotlib/artist.py\u001b[0m in \u001b[0;36m_get_tightbbox_for_layout_only\u001b[0;34m(obj, *args, **kwargs)\u001b[0m\n\u001b[1;32m   1413\u001b[0m     \"\"\"\n\u001b[1;32m   1414\u001b[0m     \u001b[0;32mtry\u001b[0m\u001b[0;34m:\u001b[0m\u001b[0;34m\u001b[0m\u001b[0;34m\u001b[0m\u001b[0m\n\u001b[0;32m-> 1415\u001b[0;31m         \u001b[0;32mreturn\u001b[0m \u001b[0mobj\u001b[0m\u001b[0;34m.\u001b[0m\u001b[0mget_tightbbox\u001b[0m\u001b[0;34m(\u001b[0m\u001b[0;34m*\u001b[0m\u001b[0margs\u001b[0m\u001b[0;34m,\u001b[0m \u001b[0;34m**\u001b[0m\u001b[0;34m{\u001b[0m\u001b[0;34m**\u001b[0m\u001b[0mkwargs\u001b[0m\u001b[0;34m,\u001b[0m \u001b[0;34m\"for_layout_only\"\u001b[0m\u001b[0;34m:\u001b[0m \u001b[0;32mTrue\u001b[0m\u001b[0;34m}\u001b[0m\u001b[0;34m)\u001b[0m\u001b[0;34m\u001b[0m\u001b[0;34m\u001b[0m\u001b[0m\n\u001b[0m\u001b[1;32m   1416\u001b[0m     \u001b[0;32mexcept\u001b[0m \u001b[0mTypeError\u001b[0m\u001b[0;34m:\u001b[0m\u001b[0;34m\u001b[0m\u001b[0;34m\u001b[0m\u001b[0m\n\u001b[1;32m   1417\u001b[0m         \u001b[0;32mreturn\u001b[0m \u001b[0mobj\u001b[0m\u001b[0;34m.\u001b[0m\u001b[0mget_tightbbox\u001b[0m\u001b[0;34m(\u001b[0m\u001b[0;34m*\u001b[0m\u001b[0margs\u001b[0m\u001b[0;34m,\u001b[0m \u001b[0;34m**\u001b[0m\u001b[0mkwargs\u001b[0m\u001b[0;34m)\u001b[0m\u001b[0;34m\u001b[0m\u001b[0;34m\u001b[0m\u001b[0m\n",
      "\u001b[0;32m~/.local/lib/python3.10/site-packages/matplotlib/axis.py\u001b[0m in \u001b[0;36mget_tightbbox\u001b[0;34m(self, renderer, for_layout_only)\u001b[0m\n\u001b[1;32m   1318\u001b[0m         \u001b[0mticks_to_draw\u001b[0m \u001b[0;34m=\u001b[0m \u001b[0mself\u001b[0m\u001b[0;34m.\u001b[0m\u001b[0m_update_ticks\u001b[0m\u001b[0;34m(\u001b[0m\u001b[0;34m)\u001b[0m\u001b[0;34m\u001b[0m\u001b[0;34m\u001b[0m\u001b[0m\n\u001b[1;32m   1319\u001b[0m \u001b[0;34m\u001b[0m\u001b[0m\n\u001b[0;32m-> 1320\u001b[0;31m         \u001b[0mself\u001b[0m\u001b[0;34m.\u001b[0m\u001b[0m_update_label_position\u001b[0m\u001b[0;34m(\u001b[0m\u001b[0mrenderer\u001b[0m\u001b[0;34m)\u001b[0m\u001b[0;34m\u001b[0m\u001b[0;34m\u001b[0m\u001b[0m\n\u001b[0m\u001b[1;32m   1321\u001b[0m \u001b[0;34m\u001b[0m\u001b[0m\n\u001b[1;32m   1322\u001b[0m         \u001b[0;31m# go back to just this axis's tick labels\u001b[0m\u001b[0;34m\u001b[0m\u001b[0;34m\u001b[0m\u001b[0m\n",
      "\u001b[0;32m~/.local/lib/python3.10/site-packages/matplotlib/axis.py\u001b[0m in \u001b[0;36m_update_label_position\u001b[0;34m(self, renderer)\u001b[0m\n\u001b[1;32m   2306\u001b[0m         \u001b[0;31m# get bounding boxes for this axis and any siblings\u001b[0m\u001b[0;34m\u001b[0m\u001b[0;34m\u001b[0m\u001b[0m\n\u001b[1;32m   2307\u001b[0m         \u001b[0;31m# that have been set by `fig.align_xlabels()`\u001b[0m\u001b[0;34m\u001b[0m\u001b[0;34m\u001b[0m\u001b[0m\n\u001b[0;32m-> 2308\u001b[0;31m         \u001b[0mbboxes\u001b[0m\u001b[0;34m,\u001b[0m \u001b[0mbboxes2\u001b[0m \u001b[0;34m=\u001b[0m \u001b[0mself\u001b[0m\u001b[0;34m.\u001b[0m\u001b[0m_get_tick_boxes_siblings\u001b[0m\u001b[0;34m(\u001b[0m\u001b[0mrenderer\u001b[0m\u001b[0;34m=\u001b[0m\u001b[0mrenderer\u001b[0m\u001b[0;34m)\u001b[0m\u001b[0;34m\u001b[0m\u001b[0;34m\u001b[0m\u001b[0m\n\u001b[0m\u001b[1;32m   2309\u001b[0m \u001b[0;34m\u001b[0m\u001b[0m\n\u001b[1;32m   2310\u001b[0m         \u001b[0mx\u001b[0m\u001b[0;34m,\u001b[0m \u001b[0my\u001b[0m \u001b[0;34m=\u001b[0m \u001b[0mself\u001b[0m\u001b[0;34m.\u001b[0m\u001b[0mlabel\u001b[0m\u001b[0;34m.\u001b[0m\u001b[0mget_position\u001b[0m\u001b[0;34m(\u001b[0m\u001b[0;34m)\u001b[0m\u001b[0;34m\u001b[0m\u001b[0;34m\u001b[0m\u001b[0m\n",
      "\u001b[0;32m~/.local/lib/python3.10/site-packages/matplotlib/axis.py\u001b[0m in \u001b[0;36m_get_tick_boxes_siblings\u001b[0;34m(self, renderer)\u001b[0m\n\u001b[1;32m   2102\u001b[0m             \u001b[0maxis\u001b[0m \u001b[0;34m=\u001b[0m \u001b[0mgetattr\u001b[0m\u001b[0;34m(\u001b[0m\u001b[0max\u001b[0m\u001b[0;34m,\u001b[0m \u001b[0;34mf\"{axis_name}axis\"\u001b[0m\u001b[0;34m)\u001b[0m\u001b[0;34m\u001b[0m\u001b[0;34m\u001b[0m\u001b[0m\n\u001b[1;32m   2103\u001b[0m             \u001b[0mticks_to_draw\u001b[0m \u001b[0;34m=\u001b[0m \u001b[0maxis\u001b[0m\u001b[0;34m.\u001b[0m\u001b[0m_update_ticks\u001b[0m\u001b[0;34m(\u001b[0m\u001b[0;34m)\u001b[0m\u001b[0;34m\u001b[0m\u001b[0;34m\u001b[0m\u001b[0m\n\u001b[0;32m-> 2104\u001b[0;31m             \u001b[0mtlb\u001b[0m\u001b[0;34m,\u001b[0m \u001b[0mtlb2\u001b[0m \u001b[0;34m=\u001b[0m \u001b[0maxis\u001b[0m\u001b[0;34m.\u001b[0m\u001b[0m_get_ticklabel_bboxes\u001b[0m\u001b[0;34m(\u001b[0m\u001b[0mticks_to_draw\u001b[0m\u001b[0;34m,\u001b[0m \u001b[0mrenderer\u001b[0m\u001b[0;34m)\u001b[0m\u001b[0;34m\u001b[0m\u001b[0;34m\u001b[0m\u001b[0m\n\u001b[0m\u001b[1;32m   2105\u001b[0m             \u001b[0mbboxes\u001b[0m\u001b[0;34m.\u001b[0m\u001b[0mextend\u001b[0m\u001b[0;34m(\u001b[0m\u001b[0mtlb\u001b[0m\u001b[0;34m)\u001b[0m\u001b[0;34m\u001b[0m\u001b[0;34m\u001b[0m\u001b[0m\n\u001b[1;32m   2106\u001b[0m             \u001b[0mbboxes2\u001b[0m\u001b[0;34m.\u001b[0m\u001b[0mextend\u001b[0m\u001b[0;34m(\u001b[0m\u001b[0mtlb2\u001b[0m\u001b[0;34m)\u001b[0m\u001b[0;34m\u001b[0m\u001b[0;34m\u001b[0m\u001b[0m\n",
      "\u001b[0;32m~/.local/lib/python3.10/site-packages/matplotlib/axis.py\u001b[0m in \u001b[0;36m_get_ticklabel_bboxes\u001b[0;34m(self, ticks, renderer)\u001b[0m\n\u001b[1;32m   1297\u001b[0m         \u001b[0;32mif\u001b[0m \u001b[0mrenderer\u001b[0m \u001b[0;32mis\u001b[0m \u001b[0;32mNone\u001b[0m\u001b[0;34m:\u001b[0m\u001b[0;34m\u001b[0m\u001b[0;34m\u001b[0m\u001b[0m\n\u001b[1;32m   1298\u001b[0m             \u001b[0mrenderer\u001b[0m \u001b[0;34m=\u001b[0m \u001b[0mself\u001b[0m\u001b[0;34m.\u001b[0m\u001b[0mfigure\u001b[0m\u001b[0;34m.\u001b[0m\u001b[0m_get_renderer\u001b[0m\u001b[0;34m(\u001b[0m\u001b[0;34m)\u001b[0m\u001b[0;34m\u001b[0m\u001b[0;34m\u001b[0m\u001b[0m\n\u001b[0;32m-> 1299\u001b[0;31m         return ([tick.label1.get_window_extent(renderer)\n\u001b[0m\u001b[1;32m   1300\u001b[0m                  for tick in ticks if tick.label1.get_visible()],\n\u001b[1;32m   1301\u001b[0m                 [tick.label2.get_window_extent(renderer)\n",
      "\u001b[0;32m~/.local/lib/python3.10/site-packages/matplotlib/axis.py\u001b[0m in \u001b[0;36m<listcomp>\u001b[0;34m(.0)\u001b[0m\n\u001b[1;32m   1297\u001b[0m         \u001b[0;32mif\u001b[0m \u001b[0mrenderer\u001b[0m \u001b[0;32mis\u001b[0m \u001b[0;32mNone\u001b[0m\u001b[0;34m:\u001b[0m\u001b[0;34m\u001b[0m\u001b[0;34m\u001b[0m\u001b[0m\n\u001b[1;32m   1298\u001b[0m             \u001b[0mrenderer\u001b[0m \u001b[0;34m=\u001b[0m \u001b[0mself\u001b[0m\u001b[0;34m.\u001b[0m\u001b[0mfigure\u001b[0m\u001b[0;34m.\u001b[0m\u001b[0m_get_renderer\u001b[0m\u001b[0;34m(\u001b[0m\u001b[0;34m)\u001b[0m\u001b[0;34m\u001b[0m\u001b[0;34m\u001b[0m\u001b[0m\n\u001b[0;32m-> 1299\u001b[0;31m         return ([tick.label1.get_window_extent(renderer)\n\u001b[0m\u001b[1;32m   1300\u001b[0m                  for tick in ticks if tick.label1.get_visible()],\n\u001b[1;32m   1301\u001b[0m                 [tick.label2.get_window_extent(renderer)\n",
      "\u001b[0;32m~/.local/lib/python3.10/site-packages/matplotlib/text.py\u001b[0m in \u001b[0;36mget_window_extent\u001b[0;34m(self, renderer, dpi)\u001b[0m\n\u001b[1;32m    957\u001b[0m \u001b[0;34m\u001b[0m\u001b[0m\n\u001b[1;32m    958\u001b[0m         \u001b[0;32mwith\u001b[0m \u001b[0mcbook\u001b[0m\u001b[0;34m.\u001b[0m\u001b[0m_setattr_cm\u001b[0m\u001b[0;34m(\u001b[0m\u001b[0mself\u001b[0m\u001b[0;34m.\u001b[0m\u001b[0mfigure\u001b[0m\u001b[0;34m,\u001b[0m \u001b[0mdpi\u001b[0m\u001b[0;34m=\u001b[0m\u001b[0mdpi\u001b[0m\u001b[0;34m)\u001b[0m\u001b[0;34m:\u001b[0m\u001b[0;34m\u001b[0m\u001b[0;34m\u001b[0m\u001b[0m\n\u001b[0;32m--> 959\u001b[0;31m             \u001b[0mbbox\u001b[0m\u001b[0;34m,\u001b[0m \u001b[0minfo\u001b[0m\u001b[0;34m,\u001b[0m \u001b[0mdescent\u001b[0m \u001b[0;34m=\u001b[0m \u001b[0mself\u001b[0m\u001b[0;34m.\u001b[0m\u001b[0m_get_layout\u001b[0m\u001b[0;34m(\u001b[0m\u001b[0mself\u001b[0m\u001b[0;34m.\u001b[0m\u001b[0m_renderer\u001b[0m\u001b[0;34m)\u001b[0m\u001b[0;34m\u001b[0m\u001b[0;34m\u001b[0m\u001b[0m\n\u001b[0m\u001b[1;32m    960\u001b[0m             \u001b[0mx\u001b[0m\u001b[0;34m,\u001b[0m \u001b[0my\u001b[0m \u001b[0;34m=\u001b[0m \u001b[0mself\u001b[0m\u001b[0;34m.\u001b[0m\u001b[0mget_unitless_position\u001b[0m\u001b[0;34m(\u001b[0m\u001b[0;34m)\u001b[0m\u001b[0;34m\u001b[0m\u001b[0;34m\u001b[0m\u001b[0m\n\u001b[1;32m    961\u001b[0m             \u001b[0mx\u001b[0m\u001b[0;34m,\u001b[0m \u001b[0my\u001b[0m \u001b[0;34m=\u001b[0m \u001b[0mself\u001b[0m\u001b[0;34m.\u001b[0m\u001b[0mget_transform\u001b[0m\u001b[0;34m(\u001b[0m\u001b[0;34m)\u001b[0m\u001b[0;34m.\u001b[0m\u001b[0mtransform\u001b[0m\u001b[0;34m(\u001b[0m\u001b[0;34m(\u001b[0m\u001b[0mx\u001b[0m\u001b[0;34m,\u001b[0m \u001b[0my\u001b[0m\u001b[0;34m)\u001b[0m\u001b[0;34m)\u001b[0m\u001b[0;34m\u001b[0m\u001b[0;34m\u001b[0m\u001b[0m\n",
      "\u001b[0;32m~/.local/lib/python3.10/site-packages/matplotlib/text.py\u001b[0m in \u001b[0;36m_get_layout\u001b[0;34m(self, renderer)\u001b[0m\n\u001b[1;32m    376\u001b[0m \u001b[0;34m\u001b[0m\u001b[0m\n\u001b[1;32m    377\u001b[0m         \u001b[0;31m# Full vertical extent of font, including ascenders and descenders:\u001b[0m\u001b[0;34m\u001b[0m\u001b[0;34m\u001b[0m\u001b[0m\n\u001b[0;32m--> 378\u001b[0;31m         _, lp_h, lp_d = _get_text_metrics_with_cache(\n\u001b[0m\u001b[1;32m    379\u001b[0m             \u001b[0mrenderer\u001b[0m\u001b[0;34m,\u001b[0m \u001b[0;34m\"lp\"\u001b[0m\u001b[0;34m,\u001b[0m \u001b[0mself\u001b[0m\u001b[0;34m.\u001b[0m\u001b[0m_fontproperties\u001b[0m\u001b[0;34m,\u001b[0m\u001b[0;34m\u001b[0m\u001b[0;34m\u001b[0m\u001b[0m\n\u001b[1;32m    380\u001b[0m             ismath=\"TeX\" if self.get_usetex() else False, dpi=self.figure.dpi)\n",
      "\u001b[0;32m~/.local/lib/python3.10/site-packages/matplotlib/text.py\u001b[0m in \u001b[0;36m_get_text_metrics_with_cache\u001b[0;34m(renderer, text, fontprop, ismath, dpi)\u001b[0m\n\u001b[1;32m     95\u001b[0m     \u001b[0;31m# Cached based on a copy of fontprop so that later in-place mutations of\u001b[0m\u001b[0;34m\u001b[0m\u001b[0;34m\u001b[0m\u001b[0m\n\u001b[1;32m     96\u001b[0m     \u001b[0;31m# the passed-in argument do not mess up the cache.\u001b[0m\u001b[0;34m\u001b[0m\u001b[0;34m\u001b[0m\u001b[0m\n\u001b[0;32m---> 97\u001b[0;31m     return _get_text_metrics_with_cache_impl(\n\u001b[0m\u001b[1;32m     98\u001b[0m         weakref.ref(renderer), text, fontprop.copy(), ismath, dpi)\n\u001b[1;32m     99\u001b[0m \u001b[0;34m\u001b[0m\u001b[0m\n",
      "\u001b[0;32m~/.local/lib/python3.10/site-packages/matplotlib/text.py\u001b[0m in \u001b[0;36m_get_text_metrics_with_cache_impl\u001b[0;34m(renderer_ref, text, fontprop, ismath, dpi)\u001b[0m\n\u001b[1;32m    103\u001b[0m         renderer_ref, text, fontprop, ismath, dpi):\n\u001b[1;32m    104\u001b[0m     \u001b[0;31m# dpi is unused, but participates in cache invalidation (via the renderer).\u001b[0m\u001b[0;34m\u001b[0m\u001b[0;34m\u001b[0m\u001b[0m\n\u001b[0;32m--> 105\u001b[0;31m     \u001b[0;32mreturn\u001b[0m \u001b[0mrenderer_ref\u001b[0m\u001b[0;34m(\u001b[0m\u001b[0;34m)\u001b[0m\u001b[0;34m.\u001b[0m\u001b[0mget_text_width_height_descent\u001b[0m\u001b[0;34m(\u001b[0m\u001b[0mtext\u001b[0m\u001b[0;34m,\u001b[0m \u001b[0mfontprop\u001b[0m\u001b[0;34m,\u001b[0m \u001b[0mismath\u001b[0m\u001b[0;34m)\u001b[0m\u001b[0;34m\u001b[0m\u001b[0;34m\u001b[0m\u001b[0m\n\u001b[0m\u001b[1;32m    106\u001b[0m \u001b[0;34m\u001b[0m\u001b[0m\n\u001b[1;32m    107\u001b[0m \u001b[0;34m\u001b[0m\u001b[0m\n",
      "\u001b[0;32m~/.local/lib/python3.10/site-packages/matplotlib/backends/_backend_pdf_ps.py\u001b[0m in \u001b[0;36mget_text_width_height_descent\u001b[0;34m(self, s, prop, ismath)\u001b[0m\n\u001b[1;32m    105\u001b[0m         \u001b[0;31m# docstring inherited\u001b[0m\u001b[0;34m\u001b[0m\u001b[0;34m\u001b[0m\u001b[0m\n\u001b[1;32m    106\u001b[0m         \u001b[0;32mif\u001b[0m \u001b[0mismath\u001b[0m \u001b[0;34m==\u001b[0m \u001b[0;34m\"TeX\"\u001b[0m\u001b[0;34m:\u001b[0m\u001b[0;34m\u001b[0m\u001b[0;34m\u001b[0m\u001b[0m\n\u001b[0;32m--> 107\u001b[0;31m             \u001b[0;32mreturn\u001b[0m \u001b[0msuper\u001b[0m\u001b[0;34m(\u001b[0m\u001b[0;34m)\u001b[0m\u001b[0;34m.\u001b[0m\u001b[0mget_text_width_height_descent\u001b[0m\u001b[0;34m(\u001b[0m\u001b[0ms\u001b[0m\u001b[0;34m,\u001b[0m \u001b[0mprop\u001b[0m\u001b[0;34m,\u001b[0m \u001b[0mismath\u001b[0m\u001b[0;34m)\u001b[0m\u001b[0;34m\u001b[0m\u001b[0;34m\u001b[0m\u001b[0m\n\u001b[0m\u001b[1;32m    108\u001b[0m         \u001b[0;32melif\u001b[0m \u001b[0mismath\u001b[0m\u001b[0;34m:\u001b[0m\u001b[0;34m\u001b[0m\u001b[0;34m\u001b[0m\u001b[0m\n\u001b[1;32m    109\u001b[0m             \u001b[0mparse\u001b[0m \u001b[0;34m=\u001b[0m \u001b[0mself\u001b[0m\u001b[0;34m.\u001b[0m\u001b[0m_text2path\u001b[0m\u001b[0;34m.\u001b[0m\u001b[0mmathtext_parser\u001b[0m\u001b[0;34m.\u001b[0m\u001b[0mparse\u001b[0m\u001b[0;34m(\u001b[0m\u001b[0ms\u001b[0m\u001b[0;34m,\u001b[0m \u001b[0;36m72\u001b[0m\u001b[0;34m,\u001b[0m \u001b[0mprop\u001b[0m\u001b[0;34m)\u001b[0m\u001b[0;34m\u001b[0m\u001b[0;34m\u001b[0m\u001b[0m\n",
      "\u001b[0;32m~/.local/lib/python3.10/site-packages/matplotlib/backend_bases.py\u001b[0m in \u001b[0;36mget_text_width_height_descent\u001b[0;34m(self, s, prop, ismath)\u001b[0m\n\u001b[1;32m    639\u001b[0m         \u001b[0;32mif\u001b[0m \u001b[0mismath\u001b[0m \u001b[0;34m==\u001b[0m \u001b[0;34m'TeX'\u001b[0m\u001b[0;34m:\u001b[0m\u001b[0;34m\u001b[0m\u001b[0;34m\u001b[0m\u001b[0m\n\u001b[1;32m    640\u001b[0m             \u001b[0;31m# todo: handle properties\u001b[0m\u001b[0;34m\u001b[0m\u001b[0;34m\u001b[0m\u001b[0m\n\u001b[0;32m--> 641\u001b[0;31m             return self.get_texmanager().get_text_width_height_descent(\n\u001b[0m\u001b[1;32m    642\u001b[0m                 s, fontsize, renderer=self)\n\u001b[1;32m    643\u001b[0m \u001b[0;34m\u001b[0m\u001b[0m\n",
      "\u001b[0;32m~/.local/lib/python3.10/site-packages/matplotlib/texmanager.py\u001b[0m in \u001b[0;36mget_text_width_height_descent\u001b[0;34m(cls, tex, fontsize, renderer)\u001b[0m\n\u001b[1;32m    366\u001b[0m         \u001b[0;32mif\u001b[0m \u001b[0mtex\u001b[0m\u001b[0;34m.\u001b[0m\u001b[0mstrip\u001b[0m\u001b[0;34m(\u001b[0m\u001b[0;34m)\u001b[0m \u001b[0;34m==\u001b[0m \u001b[0;34m''\u001b[0m\u001b[0;34m:\u001b[0m\u001b[0;34m\u001b[0m\u001b[0;34m\u001b[0m\u001b[0m\n\u001b[1;32m    367\u001b[0m             \u001b[0;32mreturn\u001b[0m \u001b[0;36m0\u001b[0m\u001b[0;34m,\u001b[0m \u001b[0;36m0\u001b[0m\u001b[0;34m,\u001b[0m \u001b[0;36m0\u001b[0m\u001b[0;34m\u001b[0m\u001b[0;34m\u001b[0m\u001b[0m\n\u001b[0;32m--> 368\u001b[0;31m         \u001b[0mdvifile\u001b[0m \u001b[0;34m=\u001b[0m \u001b[0mcls\u001b[0m\u001b[0;34m.\u001b[0m\u001b[0mmake_dvi\u001b[0m\u001b[0;34m(\u001b[0m\u001b[0mtex\u001b[0m\u001b[0;34m,\u001b[0m \u001b[0mfontsize\u001b[0m\u001b[0;34m)\u001b[0m\u001b[0;34m\u001b[0m\u001b[0;34m\u001b[0m\u001b[0m\n\u001b[0m\u001b[1;32m    369\u001b[0m         \u001b[0mdpi_fraction\u001b[0m \u001b[0;34m=\u001b[0m \u001b[0mrenderer\u001b[0m\u001b[0;34m.\u001b[0m\u001b[0mpoints_to_pixels\u001b[0m\u001b[0;34m(\u001b[0m\u001b[0;36m1.\u001b[0m\u001b[0;34m)\u001b[0m \u001b[0;32mif\u001b[0m \u001b[0mrenderer\u001b[0m \u001b[0;32melse\u001b[0m \u001b[0;36m1\u001b[0m\u001b[0;34m\u001b[0m\u001b[0;34m\u001b[0m\u001b[0m\n\u001b[1;32m    370\u001b[0m         \u001b[0;32mwith\u001b[0m \u001b[0mdviread\u001b[0m\u001b[0;34m.\u001b[0m\u001b[0mDvi\u001b[0m\u001b[0;34m(\u001b[0m\u001b[0mdvifile\u001b[0m\u001b[0;34m,\u001b[0m \u001b[0;36m72\u001b[0m \u001b[0;34m*\u001b[0m \u001b[0mdpi_fraction\u001b[0m\u001b[0;34m)\u001b[0m \u001b[0;32mas\u001b[0m \u001b[0mdvi\u001b[0m\u001b[0;34m:\u001b[0m\u001b[0;34m\u001b[0m\u001b[0;34m\u001b[0m\u001b[0m\n",
      "\u001b[0;32m~/.local/lib/python3.10/site-packages/matplotlib/texmanager.py\u001b[0m in \u001b[0;36mmake_dvi\u001b[0;34m(cls, tex, fontsize)\u001b[0m\n\u001b[1;32m    298\u001b[0m             \u001b[0;32mwith\u001b[0m \u001b[0mTemporaryDirectory\u001b[0m\u001b[0;34m(\u001b[0m\u001b[0mdir\u001b[0m\u001b[0;34m=\u001b[0m\u001b[0mcwd\u001b[0m\u001b[0;34m)\u001b[0m \u001b[0;32mas\u001b[0m \u001b[0mtmpdir\u001b[0m\u001b[0;34m:\u001b[0m\u001b[0;34m\u001b[0m\u001b[0;34m\u001b[0m\u001b[0m\n\u001b[1;32m    299\u001b[0m                 \u001b[0mtmppath\u001b[0m \u001b[0;34m=\u001b[0m \u001b[0mPath\u001b[0m\u001b[0;34m(\u001b[0m\u001b[0mtmpdir\u001b[0m\u001b[0;34m)\u001b[0m\u001b[0;34m\u001b[0m\u001b[0;34m\u001b[0m\u001b[0m\n\u001b[0;32m--> 300\u001b[0;31m                 cls._run_checked_subprocess(\n\u001b[0m\u001b[1;32m    301\u001b[0m                     [\"latex\", \"-interaction=nonstopmode\", \"--halt-on-error\",\n\u001b[1;32m    302\u001b[0m                      \u001b[0;34mf\"--output-directory={tmppath.name}\"\u001b[0m\u001b[0;34m,\u001b[0m\u001b[0;34m\u001b[0m\u001b[0;34m\u001b[0m\u001b[0m\n",
      "\u001b[0;32m~/.local/lib/python3.10/site-packages/matplotlib/texmanager.py\u001b[0m in \u001b[0;36m_run_checked_subprocess\u001b[0;34m(cls, command, tex, cwd)\u001b[0m\n\u001b[1;32m    257\u001b[0m                 stderr=subprocess.STDOUT)\n\u001b[1;32m    258\u001b[0m         \u001b[0;32mexcept\u001b[0m \u001b[0mFileNotFoundError\u001b[0m \u001b[0;32mas\u001b[0m \u001b[0mexc\u001b[0m\u001b[0;34m:\u001b[0m\u001b[0;34m\u001b[0m\u001b[0;34m\u001b[0m\u001b[0m\n\u001b[0;32m--> 259\u001b[0;31m             raise RuntimeError(\n\u001b[0m\u001b[1;32m    260\u001b[0m                 \u001b[0;34m'Failed to process string with tex because {} could not be '\u001b[0m\u001b[0;34m\u001b[0m\u001b[0;34m\u001b[0m\u001b[0m\n\u001b[1;32m    261\u001b[0m                 'found'.format(command[0])) from exc\n",
      "\u001b[0;31mRuntimeError\u001b[0m: Failed to process string with tex because latex could not be found"
     ]
    }
   ],
   "source": [
    "roots = ['Anisotropic_phy_CBAO+HD+Pantheon+Planck_15_nested_multi']\n",
    "\n",
    "g= plots.getSinglePlotter(chain_dir = dir_name, width_inch=12, \n",
    "                          analysis_settings={'smooth_scale_1D': 0.4,'smooth_scale_2D': 0.5, 'ignore_rows': 0.1})\n",
    "\n",
    "g.settings.axis_tick_x_rotation= 75\n",
    "g.settings.axes_fontsize    = 10\n",
    "g.settings.lab_fontsize     = 15\n",
    "g.settings.alpha_filled_add = 0.9\n",
    "\n",
    "samples = g.sampleAnalyser.samplesForRoot('Anisotropic_phy_CBAO+HD+Pantheon+Planck_15_nested_multi')\n",
    "p = samples.getParams()\n",
    " \n",
    "\n",
    "#samples.updateBaseStatistics()\n",
    "Orad   = (2.469E-5*(1+0.2271*3.046)*p.h**(-2))\n",
    "Ode  = 1-p.Om-Orad\n",
    "\n",
    "ratio  = p.Om/Orad\n",
    "zeq    = -1 + ratio\n",
    "keq    = ((1-2*p.Om)*(1+zeq)**(-2.)+2*p.Om*(1+zeq))**(0.5)*(p.h*1.0E5/299792458.)\n",
    "\n",
    "zbbn   = 3.0E8\n",
    "Osbbn  = 3.63E-21*(1+ zbbn)**6*np.ones(len(p.Om))/(p.Om*(1+zbbn)**3+Orad*(1+zbbn)**4+ 4.0E-21*(1+ zbbn)**6)\n",
    "\n",
    "def osigma(x, Om, h):\n",
    "    Or   =  (2.469E-5*(1+0.2271*3.046)*h**(-2)) \n",
    "    Os   = 3.63E-21\n",
    "    return Os*x**6/(Om*x**3+Or*x**4+ Os*x**6 + (1-Om-Or-Os))\n",
    "    \n",
    "\n",
    "def integral(x, Om, h):\n",
    "    # x = z + 1\n",
    "    T0     = 2.7255\n",
    "    return 3*T0*(np.sqrt(osigma(x, Om, h))/x)*1.0E6\n",
    "\n",
    "\n",
    "it = []\n",
    "for i, j in zip(p.Om, p.h):\n",
    "    tmp = integrate.quad(integral, 1, 1101, args=(i, j))[0]\n",
    "    it.append(tmp)\n",
    "\n",
    "samples.addDerived( Ode , name='Ode',     label='\\Omega{DE,0}')\n",
    "samples.addDerived( it ,  name='it',      label='\\Delta T [\\mu K]')\n",
    "samples.addDerived( keq , name='keq'  , label='k_{eq}')\n",
    "samples.addDerived( Osbbn, name='Osbbn'  , label='\\Omega_{BBN}')\n",
    "\n",
    "samples.updateBaseStatistics()\n",
    "#g.plots_1d(roots, ['weff'] , lims=[-1, -0.82, 0., 1.1])\n",
    "#g.plots_1d(roots, ['gamma']) #, lims = [0, 1., 0, 1.1])\n",
    "#g.plots_1d(roots, ['wx'])  \n",
    "#g.plots_1d(roots, ['wy'], lims = [ -1, -0.68, 0, 1.1])\n",
    "#g.plots_1d(roots, ['Osig'], lims = [ 0, 0.06, 0, 1.1])\n",
    "#g.plots_1d(roots, ['Odv'])\n",
    "#g.plots_1d(roots, ['it']) #, lims = [ 0, 2.3, 0, 1.1])\n",
    "#g.plots_1d(roots, ['it', 'Osig', 'Odv'], nx=3)\n",
    "#g.add_legend(['$w_{eff}$ = -1 + %1.1E'%wvar], legend_loc='upper right')\n",
    "#g.triangle_plot(roots, ['Odv', 'weff','h'])\n",
    "#g.export('T_wCDM_wvar.pdf')\n",
    "\n",
    "g.triangle_plot(roots, \n",
    "                ['h', 'keq', 'it'], filled=True, legend_labels=['dv-wCDM'], contour_colors=['red','blue','red']) \n",
    "#                contour_args=[{'lw':2, 'color':'blue', 'ls':'-'}, \n",
    "#                              {'lw':5, 'color':'red', 'ls':'-'}, \n",
    "#                              {'lw':2, 'color':'blue', 'ls':'-'}], filled=False,\n",
    "#                alphas=[0.5, 0.6, 0.9], legend_labels=['EMLG', 'LCDM'], \n",
    "#                line_args=[{'lw':2, 'color':'blue'}, {'lw':2, 'color':'red', 'ls':'-'}, \n",
    "#                {'lw':2, 'color':'blue'}], contour_colors=['red','blue','red'])\n",
    "g.add_legend(['An-$\\Lambda$CDM'], legend_loc='best', fontsize=12)\n",
    "g.export('An-LCDM.pdf')"
   ]
  },
  {
   "cell_type": "code",
   "execution_count": 10,
   "id": "1593cd42",
   "metadata": {},
   "outputs": [
    {
     "name": "stdout",
     "output_type": "stream",
     "text": [
      "Best fit sample -log(Like) = 526.107081\n",
      "mean(-Ln(like)) = 527.647818\n",
      "-Ln(mean like)  = 527.169138\n",
      "\n",
      "parameter           bestfit        lower1         upper1         lower2         upper2\n",
      "Om                  3.0041720E-01  3.1218405E-01  3.1218405E-01  3.2035932E-01  3.2035932E-01   \\Omega_m\n",
      "Obh2                2.2468570E-02  2.2722060E-02  2.2722060E-02  2.2848200E-02  2.2848200E-02   \\Omega_{b}h^2\n",
      "h                   6.8283034E-01  6.9051983E-01  6.9051983E-01  6.9498114E-01  6.9498114E-01   h\n",
      "BAODR12_like       -1.6764749E+00 -1.6477752E+00 -1.6477752E+00 -1.6403270E+00 -1.6403270E+00   BAODR12\n",
      "DR14LyaAuto_like   -6.5299543E-01 -5.6101135E-01 -5.6101135E-01 -5.1027182E-01 -5.1027182E-01   DR14LyaAuto\n",
      "DR14LyaCross_like  -1.8946817E+00 -1.7594692E+00 -1.7594692E+00 -1.6989106E+00 -1.6989106E+00   DR14LyaCross\n",
      "SixdFGS_like       -2.0532708E-04 -1.7489556E-10 -1.7489556E-10 -1.7489556E-10 -1.7489556E-10   SixdFGS\n",
      "MGS_like           -1.0194980E+00 -5.6876979E-01 -5.6876979E-01 -3.2331697E-01 -3.2331697E-01   MGS\n",
      "eBOSS_like         -8.5452808E-01 -9.2814285E-02 -9.2814285E-02 -3.1485414E-05 -3.1485414E-05   eBOSS\n",
      "HD_like            -7.3629407E+00 -7.3388147E+00 -7.3388147E+00 -7.3275180E+00 -7.3275180E+00   HD\n",
      "Pantheon_like      -5.1249221E+02 -5.1249213E+02 -5.1249213E+02 -5.1249213E+02 -5.1249213E+02   Pantheon\n",
      "SPlanck_15_like    -1.5568710E-01 -1.1038612E-02 -1.1038612E-02 -1.1038612E-02 -1.1038612E-02   SPlanck_15\n",
      "Ode*                6.9949322E-01  7.0969212E-01 1.1376347E-313  7.1498098E-01  0.0000000E+00   \\Omega{DE,0}\n",
      "it*                 2.0046678E+01  2.0376171E+01 6.9227561E-310  2.0555317E+01 6.9227561E-310   \\Delta T [\\mu K]\n",
      "keq*                1.0223898E-02  1.0359858E-02  6.8000000E-01  1.0450511E-02  9.5000000E-01   k_{eq}\n",
      "Osbbn*              7.2667004E-01  7.2989119E-01 6.9227561E-310  7.3172388E-01 4.6597517E-310   \\Omega_{BBN}\n",
      "\n"
     ]
    }
   ],
   "source": [
    "print (samples.likeStats)"
   ]
  },
  {
   "cell_type": "code",
   "execution_count": 11,
   "id": "235216ff",
   "metadata": {},
   "outputs": [
    {
     "name": "stdout",
     "output_type": "stream",
     "text": [
      "Om \t \t 0.3012226561173623 0.006541609697819557\n",
      "Obh2 \t \t 0.02245366753767768 0.00014425971412791535\n",
      "h \t \t 0.6822674758291803 0.0050105136351694295\n",
      "BAODR12_like \t \t -1.8493287309312167 0.2652943186331746\n",
      "DR14LyaAuto_like \t \t -0.6644840966095173 0.06709969475754979\n",
      "DR14LyaCross_like \t \t -1.901279125087994 0.08116575931049924\n",
      "SixdFGS_like \t \t -0.009493528202938778 0.015093487136112884\n",
      "MGS_like \t \t -1.0090045976300357 0.27408517097497453\n",
      "eBOSS_like \t \t -0.9672500126141148 0.5941641405212885\n",
      "HD_like \t \t -7.369042153441679 0.020473912667892898\n",
      "Pantheon_like \t \t -512.5371155534109 0.07044562705730992\n",
      "SPlanck_15_like \t \t -1.345809720161405 1.0908135714310603\n",
      "Ode \t \t 0.6986875973762839 0.006542918999079511\n",
      "it \t \t 20.02439427074176 0.20513323316888424\n",
      "keq \t \t 0.010231741836283557 7.569838325519587e-05\n",
      "Osbbn \t \t 0.7264138578614362 0.002134469454697565\n"
     ]
    }
   ],
   "source": [
    "for i,j,k in zip(samples.paramNames.list(), samples.means, samples.sddev):\n",
    "    print (i,'\\t \\t',j,k)"
   ]
  },
  {
   "cell_type": "code",
   "execution_count": 12,
   "id": "ea03ae1e",
   "metadata": {},
   "outputs": [],
   "source": [
    "dir_name= '/Users/josevazquezgonzalez/Desktop/Restrained/chains/Vary'"
   ]
  },
  {
   "cell_type": "code",
   "execution_count": 121,
   "id": "c2571cff",
   "metadata": {},
   "outputs": [
    {
     "data": {
      "text/plain": [
       "<getdist.mcsamples.MCSamples at 0x1263ca208>"
      ]
     },
     "execution_count": 121,
     "metadata": {},
     "output_type": "execute_result"
    },
    {
     "data": {
      "text/plain": [
       "<matplotlib.figure.Figure at 0x12471f160>"
      ]
     },
     "metadata": {},
     "output_type": "display_data"
    }
   ],
   "source": [
    "roots = ['LCDM_phy_HD+CBAO+Pantheon+Planck_15_nested_multi']\n",
    "\n",
    "g= plots.getSinglePlotter(chain_dir = dir_name, width_inch=12, \n",
    "                          analysis_settings={'smooth_scale_1D': 0.4,'smooth_scale_2D': 0.5, 'ignore_rows': 0.1})\n",
    "\n",
    "\n",
    "samples = g.sampleAnalyser.samplesForRoot('LCDM_phy_HD+CBAO+Pantheon+Planck_15_nested_multi')\n",
    "\n",
    "p = samples.getParams()\n",
    "\n",
    "\n",
    "Orad   = (2.469E-5*(1+0.2271*3.046)*p.h**(-2))\n",
    "Ode  = 1-p.Om-Orad\n",
    "ratio  = p.Om/Orad\n",
    "zeq    = -1 + ratio\n",
    "\n",
    "keq    = ((1-2*p.Om)*(1+zeq)**(-2.)+2*p.Om*(1+zeq))**(0.5)*(p.h*1.0E5/299792458.)\n",
    "\n",
    "samples.addDerived( Ode , name='Ode',     label='\\Omega{DE,0}')\n",
    "samples.addDerived( keq , name='keq',     label='kde')\n",
    "\n",
    "samples.updateBaseStatistics()"
   ]
  },
  {
   "cell_type": "code",
   "execution_count": 122,
   "id": "e1a89b98",
   "metadata": {},
   "outputs": [
    {
     "name": "stdout",
     "output_type": "stream",
     "text": [
      "Best fit sample -log(Like) = 526.108922\n",
      "mean(-Ln(like)) = 527.648789\n",
      "-Ln(mean like)  = 527.183208\n",
      "\n",
      "parameter           bestfit        lower1         upper1         lower2         upper2\n",
      "Om                  2.9994922E-01  2.8968698E-01  3.1225982E-01  2.8526568E-01  3.1825061E-01   \\Omega_m\n",
      "Obh2                2.2466670E-02  2.2228280E-02  2.2724690E-02  2.2092760E-02  2.2848560E-02   \\Omega_{b}h^2\n",
      "h                   6.8335518E-01  6.7407609E-01  6.9122737E-01  6.6969661E-01  6.9490150E-01   h\n",
      "HD_like            -7.3651179E+00 -7.4140979E+00 -7.3370658E+00 -7.4485870E+00 -7.3297548E+00   HD\n",
      "BAODR12_like       -1.6831227E+00 -2.3576571E+00 -1.6491053E+00 -2.9287140E+00 -1.6451814E+00   BAODR12\n",
      "DR14LyaAuto_like   -6.4991286E-01 -7.9032723E-01 -5.6077070E-01 -8.6302293E-01 -5.1745746E-01   DR14LyaAuto\n",
      "DR14LyaCross_like  -1.8901329E+00 -2.0399636E+00 -1.7600266E+00 -2.1097955E+00 -1.7069017E+00   DR14LyaCross\n",
      "SixdFGS_like       -8.0387677E-05 -3.5420899E-02 -4.7202412E-09 -7.2699712E-02 -4.7202412E-09   SixdFGS\n",
      "MGS_like           -1.0356587E+00 -1.5234209E+00 -5.5250637E-01 -1.7433540E+00 -3.7627308E-01   MGS\n",
      "eBOSS_like         -8.1432478E-01 -2.0000000E+00 -7.0595714E-02 -2.0000000E+00 -4.5550615E-04   eBOSS\n",
      "Pantheon_like      -5.1249213E+02 -5.1264877E+02 -5.1249213E+02 -5.1283372E+02 -5.1249213E+02   Pantheon\n",
      "SPlanck_15_like    -1.7846452E-01 -2.1355176E+00 -8.8550594E-03 -4.0280870E+00 -8.8550594E-03   SPlanck_15\n",
      "Ode*                6.9996133E-01  6.8764825E-01  7.1022560E-01  6.8165626E-01  7.1464772E-01   \\Omega{DE,0}\n",
      "keq*                1.0223670E-02  1.0096846E-02  1.0356191E-02  1.0043260E-02  1.0418172E-02   kde\n",
      "\n"
     ]
    }
   ],
   "source": [
    "print (samples.likeStats)"
   ]
  },
  {
   "cell_type": "code",
   "execution_count": 123,
   "id": "d816b916",
   "metadata": {},
   "outputs": [
    {
     "name": "stdout",
     "output_type": "stream",
     "text": [
      "Om \t \t 0.30082325922877745 0.006486320021286634\n",
      "Obh2 \t \t 0.022453542031822885 0.0001493707907516196\n",
      "h \t \t 0.6827046329060263 0.00502486916594694\n",
      "HD_like \t \t -7.369287274790597 0.02025759746864148\n",
      "BAODR12_like \t \t -1.8469362557014584 0.25954106791224535\n",
      "DR14LyaAuto_like \t \t -0.6645722262977313 0.06639306750164542\n",
      "DR14LyaCross_like \t \t -1.9013867099882549 0.08101193212490772\n",
      "SixdFGS_like \t \t -0.00940701754683838 0.014260230464123017\n",
      "MGS_like \t \t -1.0069236028861284 0.27401852162024587\n",
      "eBOSS_like \t \t -0.9822555859083051 0.5983983312284723\n",
      "Pantheon_like \t \t -512.5366608306385 0.06674519116246415\n",
      "SPlanck_15_like \t \t -1.3363488371328156 1.0817562091541477\n",
      "Ode \t \t 0.699087109115396 0.00648762993599\n",
      "keq \t \t 0.010231287930222096 7.380159618739838e-05\n"
     ]
    }
   ],
   "source": [
    "for i,j,k in zip(samples.paramNames.list(), samples.means, samples.sddev):\n",
    "    print (i,'\\t \\t',j,k)"
   ]
  },
  {
   "cell_type": "code",
   "execution_count": null,
   "id": "437fd573",
   "metadata": {},
   "outputs": [],
   "source": []
  }
 ],
 "metadata": {
  "kernelspec": {
   "display_name": "Python 3 (ipykernel)",
   "language": "python",
   "name": "python3"
  },
  "language_info": {
   "codemirror_mode": {
    "name": "ipython",
    "version": 3
   },
   "file_extension": ".py",
   "mimetype": "text/x-python",
   "name": "python",
   "nbconvert_exporter": "python",
   "pygments_lexer": "ipython3",
   "version": "3.10.6"
  }
 },
 "nbformat": 4,
 "nbformat_minor": 5
}
