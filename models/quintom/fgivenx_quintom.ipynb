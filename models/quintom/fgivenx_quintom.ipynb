{
 "cells": [
  {
   "cell_type": "code",
   "execution_count": 4,
   "metadata": {},
   "outputs": [
    {
     "name": "stdout",
     "output_type": "stream",
     "text": [
      "Initalizing nu density look up table... Done\n",
      "Hello, World! I am process 0 of 1 on ubik\n"
     ]
    },
    {
     "name": "stderr",
     "output_type": "stream",
     "text": [
      "/home/isidro/Documents/gitHub/simplemc_tests/simplemc/analyzers/GA_deap.py:14: UserWarning: Please install DEAP library if you want to use ga_deap genetic algorithms.\n",
      "  warnings.warn(\"Please install DEAP library if you want to use ga_deap genetic algorithms.\")\n",
      "/home/isidro/Documents/gitHub/simplemc_tests/simplemc/analyzers/elitism.py:6: UserWarning: Please install DEAP library if you want to use ga_deap genetic algorithms.\n",
      "  warnings.warn(\"Please install DEAP library if you want to use ga_deap genetic algorithms.\")\n"
     ]
    }
   ],
   "source": [
    "# import planckStyle\n",
    "import sys\n",
    "import pylab\n",
    "import numpy as np\n",
    "import tkinter\n",
    "import matplotlib.pyplot as plt\n",
    "import matplotlib as mpl\n",
    "import matplotlib.ticker\n",
    "\n",
    "import fgivenx\n",
    "from fgivenx import plot_contours, samples_from_getdist_chains\n",
    "\n",
    "\n",
    "sys.path.append(\"/home/isidro/Documents/gitHub/simplemc_tests/\")\n",
    "from simplemc.plots.plot_Quintom_variables import *\n",
    "from simplemc.models.QuintomCosmology import QuintomCosmology\n",
    "from simplemc.models.LCDMCosmology import LCDMCosmology\n",
    "from simplemc.cosmo.paramDefs import *\n",
    "\n",
    "# matplotlib.use('TkAgg')\n",
    "%matplotlib inline"
   ]
  },
  {
   "cell_type": "code",
   "execution_count": 5,
   "metadata": {},
   "outputs": [],
   "source": [
    "dir_name = 'chains_quintom/'\n",
    "cmap_reversed = matplotlib.cm.get_cmap('Greens_r')"
   ]
  },
  {
   "cell_type": "code",
   "execution_count": 6,
   "metadata": {},
   "outputs": [],
   "source": [
    "steps = 9\n",
    "coupling = 0\n",
    "fname = 'Quintom_coupling_both'\n",
    "\n",
    "\n",
    "if fname == 'Quintessence':\n",
    "    T = QuintomCosmology(vary_mquin=True)\n",
    "    name = fname\n",
    "    mlabel = '$m_\\phi$'\n",
    "\n",
    "if fname == 'Phantom':\n",
    "    T = QuintomCosmology(vary_mphan=True)\n",
    "    name = fname\n",
    "    mlabel = '$m_\\psi$'\n",
    "\n",
    "if fname == 'Quintom_mquin':\n",
    "    T = QuintomCosmology(vary_mquin=True, vary_mphan=True)\n",
    "    mphan = 1.2\n",
    "    name = 'Quintom, $m_{\\psi}$=%0.1f'%mphan\n",
    "    mlabel = '$m_\\phi$'\n",
    "\n",
    "if fname == 'Quintom_mphan':\n",
    "    T = QuintomCosmology(vary_mquin=False, vary_mphan=True)\n",
    "    mphi = 1.2\n",
    "    name = 'Quintom, $m_{\\phi}$=%0.1f'%mphi\n",
    "    mlabel = '$m_\\psi$'\n",
    "\n",
    "if fname == 'Quintom_coupling_mquin':\n",
    "    T = QuintomCosmology(vary_mquin=True, vary_coupling=True)\n",
    "    mphan = 1.2\n",
    "    coupling = 4.0\n",
    "    name = 'Quintom, $m_{\\psi}$=%0.1f, $\\\\beta=%0.1f$'%(mphan, coupling)\n",
    "    mlabel = '$m_\\phi$'\n",
    "\n",
    "if fname == 'Quintom_coupling_mphan':\n",
    "    T = QuintomCosmology(vary_mphan=True, vary_coupling=True)\n",
    "    mphi = 1.0 #1.2\n",
    "    coupling = 10 #6.0\n",
    "    name = 'Quintom, $m_{\\phi}$=%0.1f, $\\\\beta=%0.1f$'%(mphi, coupling)\n",
    "    mlabel = '$m_\\psi$'\n",
    "\n",
    "if fname == 'Quintom_coupling_both':\n",
    "    T = QuintomCosmology(vary_mquin=True, vary_mphan=True, vary_coupling=True)\n",
    "    mphi = 2.0\n",
    "    mphan = 1.0\n",
    "    coupling = -1\n",
    "    name = 'Quintom, $m_{\\phi}$=%0.1f, $m_{\\psi}$=%0.1f'%(mphi, mphan)\n",
    "    mlabel = '$\\\\beta$'\n",
    "\n",
    "if fname == 'Quintom_coupling_both':\n",
    "    min, max = (4., 8.)\n",
    "else:\n",
    "    min, max = (0.1, 2.5)\n",
    "if coupling < 0:\n",
    "    min, max = (-10, -1.)\n"
   ]
  },
  {
   "cell_type": "code",
   "execution_count": 7,
   "metadata": {},
   "outputs": [],
   "source": [
    "step = (max-min)/steps\n",
    "\n",
    "mquin_ = mquin_par\n",
    "mphan_ = mphan_par\n",
    "coupling_ = coupling_par\n",
    "om_ = Om_par\n",
    "obh2_ = Obh2_par\n",
    "h_ = h_par\n",
    "\n",
    "ww = []\n",
    "zz = []\n",
    "PP = []\n",
    "\n",
    "\n",
    "for i in np.arange(min, max, step):\n",
    "    if fname == 'Quintessence':\n",
    "        mquin_.setValue(i)\n",
    "        T.updateParams([mquin_])\n",
    "\n",
    "    if fname == 'Phantom':\n",
    "        mphan_.setValue(i)\n",
    "        T.updateParams([mphan_])\n",
    "\n",
    "\n",
    "    if fname == 'Quintom_mquin':\n",
    "        mquin_.setValue(i)\n",
    "        mphan_.setValue(mphan)\n",
    "        T.updateParams([mquin_, mphan_])\n",
    "\n",
    "\n",
    "    if fname == 'Quintom_mphan':\n",
    "        mphan_.setValue(i)\n",
    "        mquin_.setValue(mphi)\n",
    "        T.updateParams([mquin_, mphan_])\n",
    "\n",
    "    if fname == 'Quintom_coupling_mquin':\n",
    "        mquin_.setValue(i)\n",
    "        mphan_.setValue(mphan)\n",
    "        coupling_.setValue(coupling)\n",
    "        T.updateParams([mquin_, mphan_, coupling_])\n",
    "\n",
    "    if fname == 'Quintom_coupling_mphan':\n",
    "        mquin_.setValue(mphi)\n",
    "        mphan_.setValue(i)\n",
    "        coupling_.setValue(coupling)\n",
    "        T.updateParams([mquin_, mphan_, coupling_])\n",
    "\n",
    "    if fname == 'Quintom_coupling_both':\n",
    "        mquin_.setValue(mphi)\n",
    "        mphan_.setValue(mphan)\n",
    "        coupling_.setValue(i)\n",
    "        T.updateParams([mquin_, mphan_, coupling_])\n",
    "\n",
    "\n",
    "    T.call_functions()\n",
    "    zl = np.arange(0, 3, 0.05)\n",
    "    ww.append([T.w_de(1./(1+z)) for z in zl])\n",
    "    PP.append(i)\n",
    "    zz.append(zl)\n"
   ]
  },
  {
   "cell_type": "code",
   "execution_count": 8,
   "metadata": {},
   "outputs": [
    {
     "data": {
      "text/plain": [
       "((9, 60), (9, 60), (60,))"
      ]
     },
     "execution_count": 8,
     "metadata": {},
     "output_type": "execute_result"
    }
   ],
   "source": [
    "np.shape(ww), np.shape(ww), np.shape(zl)"
   ]
  },
  {
   "cell_type": "code",
   "execution_count": 9,
   "metadata": {},
   "outputs": [
    {
     "data": {
      "text/plain": [
       "[<matplotlib.lines.Line2D at 0x7fb969211bb0>]"
      ]
     },
     "execution_count": 9,
     "metadata": {},
     "output_type": "execute_result"
    },
    {
     "data": {
      "image/png": "[encoded data removed]",
      "text/plain": [
       "<Figure size 432x288 with 1 Axes>"
      ]
     },
     "metadata": {
      "needs_background": "light"
     },
     "output_type": "display_data"
    }
   ],
   "source": [
    "plt.plot(zz[7], np.array(ww[7]).reshape(60,))"
   ]
  },
  {
   "cell_type": "code",
   "execution_count": 10,
   "metadata": {},
   "outputs": [
    {
     "data": {
      "text/plain": [
       "Text(0.5, 0, 'z')"
      ]
     },
     "execution_count": 10,
     "metadata": {},
     "output_type": "execute_result"
    },
    {
     "data": {
      "image/png": "[encoded data removed]",
      "text/plain": [
       "<Figure size 432x288 with 1 Axes>"
      ]
     },
     "metadata": {
      "needs_background": "light"
     },
     "output_type": "display_data"
    }
   ],
   "source": [
    "# -- Plot 1\n",
    "for x, w, z in zip(zz, ww, PP):\n",
    "    g = (float(z) - min)/(max - min)\n",
    "    b, r = 0, 1 - g\n",
    "    plt.plot(x, w, color=(r, g, b))\n",
    "\n",
    "plt.ylabel('$w(z)$', fontsize=20)\n",
    "plt.xlabel('z', fontsize=20)"
   ]
  },
  {
   "cell_type": "code",
   "execution_count": 11,
   "metadata": {},
   "outputs": [],
   "source": [
    "def eos(z, params):\n",
    "#     mphi, mphan, coupling = params\n",
    "    om, obh2, h, mphi, mphan, coupling = params\n",
    "    T = QuintomCosmology(vary_mquin=True, vary_mphan=True, vary_coupling=True)\n",
    "    mquin_.setValue(mphi)\n",
    "    mphan_.setValue(mphan)\n",
    "    coupling_.setValue(coupling)\n",
    "    om_.setValue(om)\n",
    "    obh2_.setValue(obh2)\n",
    "    h_.setValue(h)\n",
    "\n",
    "    T.updateParams([om_, obh2_, h_, mquin_, mphan_, coupling_])\n",
    "    T.call_functions()\n",
    "    return T.w_de(1./(1+z))"
   ]
  },
  {
   "cell_type": "code",
   "execution_count": 12,
   "metadata": {},
   "outputs": [
    {
     "name": "stdout",
     "output_type": "stream",
     "text": [
      "chains_quintom/350/Quintom_couple_phy_CBAO_nested_multi_1.txt\n",
      "Removed 0.5 as burn in\n"
     ]
    },
    {
     "data": {
      "application/vnd.jupyter.widget-view+json": {
       "model_id": "3bfac12fa8b9495dacb351ab18abc648",
       "version_major": 2,
       "version_minor": 0
      },
      "text/plain": [
       "  0%|          | 0/920 [00:00<?, ?it/s]"
      ]
     },
     "metadata": {},
     "output_type": "display_data"
    },
    {
     "data": {
      "application/vnd.jupyter.widget-view+json": {
       "model_id": "8f644d46f6514de89c6cd9b0434cb79f",
       "version_major": 2,
       "version_minor": 0
      },
      "text/plain": [
       "  0%|          | 0/62 [00:00<?, ?it/s]"
      ]
     },
     "metadata": {},
     "output_type": "display_data"
    },
    {
     "data": {
      "image/png": "[encoded data removed]",
      "text/plain": [
       "<Figure size 432x288 with 2 Axes>"
      ]
     },
     "metadata": {
      "needs_background": "light"
     },
     "output_type": "display_data"
    }
   ],
   "source": [
    "# file_root = dir_name + 'Quintom_couple_phy_SN+HD+CBAO_nested_multi'\n",
    "file_root = dir_name + '350/Quintom_couple_phy_CBAO_nested_multi'\n",
    "\n",
    "samples, weights = samples_from_getdist_chains(['Om', 'Obh2', 'h','mquin', 'mphan', 'beta'], file_root,\n",
    "                                               settings={'ignore_rows':0.5})\n",
    "# k = np.linspace(0,2,9)\n",
    "k = np.arange(0, 3.1, 0.05)\n",
    "\n",
    "cbar = plot_contours(eos, k, samples, weights=weights, colors=cmap_reversed, contour_line_levels=[1,2], \n",
    "                     linewidths=[2,1.5])\n",
    "cbar = plt.colorbar(cbar,ticks=[0,1,2],  )\n",
    "cbar.set_ticklabels(['',r'$1\\sigma$',r'$2\\sigma$'])\n",
    "plt.hlines(-1, xmin=0, xmax=3, colors='black',  linestyles='dashed', label='$w=-1$', lw=4)\n",
    "# plt.ylabel(r'$H(z)/(1+z)[km\\;s^{-1}Mpc^{-1}]$')\n",
    "plt.ylabel(r'$\\omega(z)$')\n",
    "plt.xlabel(r'$z$')\n",
    "plt.ylim(-2,0)\n",
    "plt.xlim(0, 2.9)\n",
    "plt.tight_layout()\n",
    "plt.grid()\n",
    "\n",
    "# plt.legend(loc='lower left')\n",
    "plt.text(0.01,-1.7, 'BAO', fontsize=13)\n",
    "plt.savefig('eos_quintom_couple_cbao_burn5.png', dpi=300)\n",
    "plt.savefig('eos_quintom_couple_cbao_burn5.svg')"
   ]
  },
  {
   "cell_type": "code",
   "execution_count": 13,
   "metadata": {},
   "outputs": [],
   "source": [
    "def hoverzfn(z, params):\n",
    "    om, obh2, h, mphi, mphan, coupling = params\n",
    "    T = QuintomCosmology(vary_mquin=True, vary_mphan=True, vary_coupling=True)\n",
    "    mquin_.setValue(mphi)\n",
    "    mphan_.setValue(mphan)\n",
    "    coupling_.setValue(coupling)\n",
    "    om_.setValue(om)\n",
    "    obh2_.setValue(obh2)\n",
    "    h_.setValue(h)\n",
    "\n",
    "    T.updateParams([om_, obh2_, h_, mquin_, mphan_, coupling_])\n",
    "#     mphi, mphan, coupling = params\n",
    "#     T = QuintomCosmology(vary_mquin=True, vary_coupling=True)\n",
    "#     mquin_.setValue(mphi)\n",
    "#     mphan_.setValue(mphan)\n",
    "#     coupling_.setValue(coupling)\n",
    "#     T.updateParams([mquin_, mphan_, coupling_])\n",
    "    T.call_functions()\n",
    "    H = T.Hubble_a(1./(1+z))\n",
    "    return H/(1+z)"
   ]
  },
  {
   "cell_type": "code",
   "execution_count": 14,
   "metadata": {},
   "outputs": [
    {
     "name": "stdout",
     "output_type": "stream",
     "text": [
      "chains_quintom/350/Quintom_couple_phy_SN+HD+CBAO_nested_multi_1.txt\n",
      "Removed 0.5 as burn in\n"
     ]
    },
    {
     "data": {
      "application/vnd.jupyter.widget-view+json": {
       "model_id": "29161b14552c4513949a8c34faa9b8c0",
       "version_major": 2,
       "version_minor": 0
      },
      "text/plain": [
       "  0%|          | 0/765 [00:00<?, ?it/s]"
      ]
     },
     "metadata": {},
     "output_type": "display_data"
    },
    {
     "data": {
      "application/vnd.jupyter.widget-view+json": {
       "model_id": "0bbf4dd675b14457a8b98bae34e53b51",
       "version_major": 2,
       "version_minor": 0
      },
      "text/plain": [
       "  0%|          | 0/62 [00:00<?, ?it/s]"
      ]
     },
     "metadata": {},
     "output_type": "display_data"
    },
    {
     "data": {
      "image/png": "[encoded data removed]",
      "text/plain": [
       "<Figure size 432x288 with 2 Axes>"
      ]
     },
     "metadata": {
      "needs_background": "light"
     },
     "output_type": "display_data"
    }
   ],
   "source": [
    "file_root = dir_name + '350/Quintom_couple_phy_SN+HD+CBAO_nested_multi'\n",
    "# file_root = dir_name + 'Quintom_couple_phy_CBAO_nested_multi'\n",
    "\n",
    "samples, weights = samples_from_getdist_chains(['Om', 'Obh2', 'h','mquin', 'mphan', 'beta'], file_root,\n",
    "                                               settings={'ignore_rows':0.5})\n",
    "# k = np.linspace(0,2,9)\n",
    "k = np.arange(0, 3.1, 0.05)\n",
    "\n",
    "cbar = plot_contours(eos, k, samples, weights=weights, colors=cmap_reversed, contour_line_levels=[1,2], \n",
    "                     linewidths=[2,1.5])\n",
    "cbar = plt.colorbar(cbar,ticks=[0,1,2],  )\n",
    "cbar.set_ticklabels(['',r'$1\\sigma$',r'$2\\sigma$'])\n",
    "plt.hlines(-1, xmin=0, xmax=3, colors='black',  linestyles='dashed', label='$w=-1$', lw=4)\n",
    "\n",
    "# plt.ylabel(r'$H(z)/(1+z)[km\\;s^{-1}Mpc^{-1}]$')\n",
    "plt.ylabel(r'$\\omega(z)$')\n",
    "plt.xlabel(r'$z$')\n",
    "plt.ylim(-2,0)\n",
    "plt.xlim(0, 3)\n",
    "plt.tight_layout()\n",
    "plt.grid()\n",
    "\n",
    "# plt.legend(loc='lower left')\n",
    "# plt.text(0.01,-1.7, 'SN+HD+CBAO', fontsize=13)\n",
    "plt.text(0.01,-1.7, 'BAO+HD+SN', fontsize=13)\n",
    "plt.savefig('eos_quintom_couple_sn+hd+cbao_burn5.png', dpi=300)\n",
    "plt.savefig('eos_quintom_couple_sn+hd+cbao_burn5.svg')\n"
   ]
  },
  {
   "cell_type": "code",
   "execution_count": 15,
   "metadata": {},
   "outputs": [],
   "source": [
    "def hoverzfn_lcdm(z, om, obh2, h):\n",
    "    T = LCDMCosmology()\n",
    "    om_.setValue(om)\n",
    "    obh2_.setValue(obh2)\n",
    "    h_.setValue(h)\n",
    "    T.updateParams([om_, obh2_, h_])\n",
    "    h_list =[]\n",
    "    for zz in z:\n",
    "#       T.RHSquared_a = E(z) = H(z)^2/H(z=0)^2\n",
    "        Ez = T.RHSquared_a(1./(1+zz))\n",
    "        H = np.sqrt((100*h)**2*Ez)\n",
    "        hinv = H/(1+zz)\n",
    "        h_list.append(hinv)\n",
    "           \n",
    "    return np.array(h_list)\n"
   ]
  },
  {
   "cell_type": "code",
   "execution_count": 16,
   "metadata": {},
   "outputs": [],
   "source": [
    "z = np.linspace(0, 3, 100)\n",
    "rd_fid_DR12 = 147.78\n",
    "\n",
    "zLyaA = 2.37\n",
    "zLyaC = 2.35\n",
    "zCombBAO1 = 0.38\n",
    "zCombBAO2 = 0.51\n",
    "zCombBAO3 = 0.61\n",
    "fact = (300000./rd_fid_DR12)\n",
    "\n",
    "def ersys(x, y):\n",
    "    return np.sqrt(x**2 + y**2)\n",
    "\n",
    "lcdmzh = hoverzfn_lcdm(z, h=0.68, obh2=0.0220, om=0.31)"
   ]
  },
  {
   "cell_type": "code",
   "execution_count": 17,
   "metadata": {},
   "outputs": [
    {
     "data": {
      "image/png": "[encoded data removed]",
      "text/plain": [
       "<Figure size 432x288 with 1 Axes>"
      ]
     },
     "metadata": {
      "needs_background": "light"
     },
     "output_type": "display_data"
    }
   ],
   "source": [
    "plt.plot(z, lcdmzh)\n",
    "plt.show()"
   ]
  },
  {
   "cell_type": "code",
   "execution_count": 18,
   "metadata": {},
   "outputs": [
    {
     "name": "stdout",
     "output_type": "stream",
     "text": [
      "chains_quintom//350/Quintom_couple_phy_SN+HD+CBAO_nested_multi_1.txt\n",
      "Removed no burn in\n"
     ]
    },
    {
     "data": {
      "application/vnd.jupyter.widget-view+json": {
       "model_id": "5aea2b027e614feca46d5940777850ef",
       "version_major": 2,
       "version_minor": 0
      },
      "text/plain": [
       "  0%|          | 0/1407 [00:00<?, ?it/s]"
      ]
     },
     "metadata": {},
     "output_type": "display_data"
    },
    {
     "ename": "KeyboardInterrupt",
     "evalue": "",
     "output_type": "error",
     "traceback": [
      "\u001b[0;31m---------------------------------------------------------------------------\u001b[0m",
      "\u001b[0;31mKeyboardInterrupt\u001b[0m                         Traceback (most recent call last)",
      "\u001b[0;32m<ipython-input-18-fd1cf6ab1e95>\u001b[0m in \u001b[0;36m<module>\u001b[0;34m\u001b[0m\n\u001b[1;32m      7\u001b[0m \u001b[0mk\u001b[0m \u001b[0;34m=\u001b[0m \u001b[0mnp\u001b[0m\u001b[0;34m.\u001b[0m\u001b[0marange\u001b[0m\u001b[0;34m(\u001b[0m\u001b[0;36m0\u001b[0m\u001b[0;34m,\u001b[0m\u001b[0;36m3.1\u001b[0m\u001b[0;34m,\u001b[0m \u001b[0;36m0.05\u001b[0m\u001b[0;34m)\u001b[0m\u001b[0;34m\u001b[0m\u001b[0;34m\u001b[0m\u001b[0m\n\u001b[1;32m      8\u001b[0m \u001b[0;34m\u001b[0m\u001b[0m\n\u001b[0;32m----> 9\u001b[0;31m cbar = plot_contours(hoverzfn, k, samples, weights=weights, contour_line_levels=[1,2],  \n\u001b[0m\u001b[1;32m     10\u001b[0m                      colors=cmap_reversed, linewidths=[2,1.5] )\n\u001b[1;32m     11\u001b[0m \u001b[0mcbar\u001b[0m \u001b[0;34m=\u001b[0m \u001b[0mplt\u001b[0m\u001b[0;34m.\u001b[0m\u001b[0mcolorbar\u001b[0m\u001b[0;34m(\u001b[0m\u001b[0mcbar\u001b[0m\u001b[0;34m,\u001b[0m\u001b[0mticks\u001b[0m\u001b[0;34m=\u001b[0m\u001b[0;34m[\u001b[0m\u001b[0;36m0\u001b[0m\u001b[0;34m,\u001b[0m\u001b[0;36m1\u001b[0m\u001b[0;34m,\u001b[0m\u001b[0;36m2\u001b[0m\u001b[0;34m]\u001b[0m\u001b[0;34m)\u001b[0m\u001b[0;34m\u001b[0m\u001b[0;34m\u001b[0m\u001b[0m\n",
      "\u001b[0;32m~/.local/lib/python3.8/site-packages/fgivenx/drivers.py\u001b[0m in \u001b[0;36mplot_contours\u001b[0;34m(f, x, samples, ax, **kwargs)\u001b[0m\n\u001b[1;32m    120\u001b[0m     \u001b[0mtqdm_kwargs\u001b[0m \u001b[0;34m=\u001b[0m \u001b[0mkwargs\u001b[0m\u001b[0;34m.\u001b[0m\u001b[0mpop\u001b[0m\u001b[0;34m(\u001b[0m\u001b[0;34m'tqdm_kwargs'\u001b[0m\u001b[0;34m,\u001b[0m \u001b[0;34m{\u001b[0m\u001b[0;34m}\u001b[0m\u001b[0;34m)\u001b[0m\u001b[0;34m\u001b[0m\u001b[0;34m\u001b[0m\u001b[0m\n\u001b[1;32m    121\u001b[0m \u001b[0;34m\u001b[0m\u001b[0m\n\u001b[0;32m--> 122\u001b[0;31m     y, pmf = compute_pmf(f, x, samples, weights=weights, logZ=logZ,\n\u001b[0m\u001b[1;32m    123\u001b[0m                          \u001b[0mntrim\u001b[0m\u001b[0;34m=\u001b[0m\u001b[0mntrim\u001b[0m\u001b[0;34m,\u001b[0m \u001b[0mny\u001b[0m\u001b[0;34m=\u001b[0m\u001b[0mny\u001b[0m\u001b[0;34m,\u001b[0m \u001b[0my\u001b[0m\u001b[0;34m=\u001b[0m\u001b[0my\u001b[0m\u001b[0;34m,\u001b[0m\u001b[0;34m\u001b[0m\u001b[0;34m\u001b[0m\u001b[0m\n\u001b[1;32m    124\u001b[0m                          \u001b[0mparallel\u001b[0m\u001b[0;34m=\u001b[0m\u001b[0mparallel\u001b[0m\u001b[0;34m,\u001b[0m \u001b[0mcache\u001b[0m\u001b[0;34m=\u001b[0m\u001b[0mcache\u001b[0m\u001b[0;34m,\u001b[0m\u001b[0;34m\u001b[0m\u001b[0;34m\u001b[0m\u001b[0m\n",
      "\u001b[0;32m~/.local/lib/python3.8/site-packages/fgivenx/drivers.py\u001b[0m in \u001b[0;36mcompute_pmf\u001b[0;34m(f, x, samples, **kwargs)\u001b[0m\n\u001b[1;32m    435\u001b[0m             \u001b[0;32mraise\u001b[0m \u001b[0mValueError\u001b[0m\u001b[0;34m(\u001b[0m\u001b[0;34m\"y should be a 1D array\"\u001b[0m\u001b[0;34m)\u001b[0m\u001b[0;34m\u001b[0m\u001b[0;34m\u001b[0m\u001b[0m\n\u001b[1;32m    436\u001b[0m \u001b[0;34m\u001b[0m\u001b[0m\n\u001b[0;32m--> 437\u001b[0;31m     fsamps = compute_samples(f, x, samples, logZ=logZ,\n\u001b[0m\u001b[1;32m    438\u001b[0m                              \u001b[0mweights\u001b[0m\u001b[0;34m=\u001b[0m\u001b[0mweights\u001b[0m\u001b[0;34m,\u001b[0m \u001b[0mntrim\u001b[0m\u001b[0;34m=\u001b[0m\u001b[0mntrim\u001b[0m\u001b[0;34m,\u001b[0m\u001b[0;34m\u001b[0m\u001b[0;34m\u001b[0m\u001b[0m\n\u001b[1;32m    439\u001b[0m                              \u001b[0mparallel\u001b[0m\u001b[0;34m=\u001b[0m\u001b[0mparallel\u001b[0m\u001b[0;34m,\u001b[0m \u001b[0mcache\u001b[0m\u001b[0;34m=\u001b[0m\u001b[0mcache\u001b[0m\u001b[0;34m,\u001b[0m\u001b[0;34m\u001b[0m\u001b[0;34m\u001b[0m\u001b[0m\n",
      "\u001b[0;32m~/.local/lib/python3.8/site-packages/fgivenx/drivers.py\u001b[0m in \u001b[0;36mcompute_samples\u001b[0;34m(f, x, samples, **kwargs)\u001b[0m\n\u001b[1;32m    348\u001b[0m         \u001b[0msamples\u001b[0m\u001b[0;34m[\u001b[0m\u001b[0mi\u001b[0m\u001b[0;34m]\u001b[0m \u001b[0;34m=\u001b[0m \u001b[0m_equally_weight_samples\u001b[0m\u001b[0;34m(\u001b[0m\u001b[0ms\u001b[0m\u001b[0;34m,\u001b[0m \u001b[0mw\u001b[0m\u001b[0;34m)\u001b[0m\u001b[0;34m\u001b[0m\u001b[0;34m\u001b[0m\u001b[0m\n\u001b[1;32m    349\u001b[0m \u001b[0;34m\u001b[0m\u001b[0m\n\u001b[0;32m--> 350\u001b[0;31m     return fgivenx.samples.compute_samples(f, x, samples,\n\u001b[0m\u001b[1;32m    351\u001b[0m                                            \u001b[0mparallel\u001b[0m\u001b[0;34m=\u001b[0m\u001b[0mparallel\u001b[0m\u001b[0;34m,\u001b[0m \u001b[0mcache\u001b[0m\u001b[0;34m=\u001b[0m\u001b[0mcache\u001b[0m\u001b[0;34m,\u001b[0m\u001b[0;34m\u001b[0m\u001b[0;34m\u001b[0m\u001b[0m\n\u001b[1;32m    352\u001b[0m                                            tqdm_kwargs=tqdm_kwargs)\n",
      "\u001b[0;32m~/.local/lib/python3.8/site-packages/fgivenx/samples.py\u001b[0m in \u001b[0;36mcompute_samples\u001b[0;34m(f, x, samples, **kwargs)\u001b[0m\n\u001b[1;32m     49\u001b[0m     \u001b[0;32mfor\u001b[0m \u001b[0mfi\u001b[0m\u001b[0;34m,\u001b[0m \u001b[0ms\u001b[0m \u001b[0;32min\u001b[0m \u001b[0mzip\u001b[0m\u001b[0;34m(\u001b[0m\u001b[0mf\u001b[0m\u001b[0;34m,\u001b[0m \u001b[0msamples\u001b[0m\u001b[0;34m)\u001b[0m\u001b[0;34m:\u001b[0m\u001b[0;34m\u001b[0m\u001b[0;34m\u001b[0m\u001b[0m\n\u001b[1;32m     50\u001b[0m         \u001b[0;32mif\u001b[0m \u001b[0mlen\u001b[0m\u001b[0;34m(\u001b[0m\u001b[0ms\u001b[0m\u001b[0;34m)\u001b[0m \u001b[0;34m>\u001b[0m \u001b[0;36m0\u001b[0m\u001b[0;34m:\u001b[0m\u001b[0;34m\u001b[0m\u001b[0;34m\u001b[0m\u001b[0m\n\u001b[0;32m---> 51\u001b[0;31m             fsamps = parallel_apply(fi, s, precurry=(x,), parallel=parallel,\n\u001b[0m\u001b[1;32m     52\u001b[0m                                     tqdm_kwargs=tqdm_kwargs)\n\u001b[1;32m     53\u001b[0m             \u001b[0mfsamps\u001b[0m \u001b[0;34m=\u001b[0m \u001b[0mnumpy\u001b[0m\u001b[0;34m.\u001b[0m\u001b[0marray\u001b[0m\u001b[0;34m(\u001b[0m\u001b[0mfsamps\u001b[0m\u001b[0;34m)\u001b[0m\u001b[0;34m.\u001b[0m\u001b[0mtranspose\u001b[0m\u001b[0;34m(\u001b[0m\u001b[0;34m)\u001b[0m\u001b[0;34m.\u001b[0m\u001b[0mcopy\u001b[0m\u001b[0;34m(\u001b[0m\u001b[0;34m)\u001b[0m\u001b[0;34m\u001b[0m\u001b[0;34m\u001b[0m\u001b[0m\n",
      "\u001b[0;32m~/.local/lib/python3.8/site-packages/fgivenx/parallel.py\u001b[0m in \u001b[0;36mparallel_apply\u001b[0;34m(f, array, **kwargs)\u001b[0m\n\u001b[1;32m     75\u001b[0m         \u001b[0mprogress\u001b[0m \u001b[0;34m=\u001b[0m \u001b[0mtqdm\u001b[0m\u001b[0;34m\u001b[0m\u001b[0;34m\u001b[0m\u001b[0m\n\u001b[1;32m     76\u001b[0m     \u001b[0;32mif\u001b[0m \u001b[0;32mnot\u001b[0m \u001b[0mparallel\u001b[0m\u001b[0;34m:\u001b[0m\u001b[0;34m\u001b[0m\u001b[0;34m\u001b[0m\u001b[0m\n\u001b[0;32m---> 77\u001b[0;31m         return [f(*(precurry + (x,) + postcurry)) for x in\n\u001b[0m\u001b[1;32m     78\u001b[0m                 progress(array, **tqdm_kwargs)]\n\u001b[1;32m     79\u001b[0m     \u001b[0;32melif\u001b[0m \u001b[0mparallel\u001b[0m \u001b[0;32mis\u001b[0m \u001b[0;32mTrue\u001b[0m\u001b[0;34m:\u001b[0m\u001b[0;34m\u001b[0m\u001b[0;34m\u001b[0m\u001b[0m\n",
      "\u001b[0;32m~/.local/lib/python3.8/site-packages/fgivenx/parallel.py\u001b[0m in \u001b[0;36m<listcomp>\u001b[0;34m(.0)\u001b[0m\n\u001b[1;32m     75\u001b[0m         \u001b[0mprogress\u001b[0m \u001b[0;34m=\u001b[0m \u001b[0mtqdm\u001b[0m\u001b[0;34m\u001b[0m\u001b[0;34m\u001b[0m\u001b[0m\n\u001b[1;32m     76\u001b[0m     \u001b[0;32mif\u001b[0m \u001b[0;32mnot\u001b[0m \u001b[0mparallel\u001b[0m\u001b[0;34m:\u001b[0m\u001b[0;34m\u001b[0m\u001b[0;34m\u001b[0m\u001b[0m\n\u001b[0;32m---> 77\u001b[0;31m         return [f(*(precurry + (x,) + postcurry)) for x in\n\u001b[0m\u001b[1;32m     78\u001b[0m                 progress(array, **tqdm_kwargs)]\n\u001b[1;32m     79\u001b[0m     \u001b[0;32melif\u001b[0m \u001b[0mparallel\u001b[0m \u001b[0;32mis\u001b[0m \u001b[0;32mTrue\u001b[0m\u001b[0;34m:\u001b[0m\u001b[0;34m\u001b[0m\u001b[0;34m\u001b[0m\u001b[0m\n",
      "\u001b[0;32m<ipython-input-13-4dc62cceb8c6>\u001b[0m in \u001b[0;36mhoverzfn\u001b[0;34m(z, params)\u001b[0m\n\u001b[1;32m      1\u001b[0m \u001b[0;32mdef\u001b[0m \u001b[0mhoverzfn\u001b[0m\u001b[0;34m(\u001b[0m\u001b[0mz\u001b[0m\u001b[0;34m,\u001b[0m \u001b[0mparams\u001b[0m\u001b[0;34m)\u001b[0m\u001b[0;34m:\u001b[0m\u001b[0;34m\u001b[0m\u001b[0;34m\u001b[0m\u001b[0m\n\u001b[1;32m      2\u001b[0m     \u001b[0mom\u001b[0m\u001b[0;34m,\u001b[0m \u001b[0mobh2\u001b[0m\u001b[0;34m,\u001b[0m \u001b[0mh\u001b[0m\u001b[0;34m,\u001b[0m \u001b[0mmphi\u001b[0m\u001b[0;34m,\u001b[0m \u001b[0mmphan\u001b[0m\u001b[0;34m,\u001b[0m \u001b[0mcoupling\u001b[0m \u001b[0;34m=\u001b[0m \u001b[0mparams\u001b[0m\u001b[0;34m\u001b[0m\u001b[0;34m\u001b[0m\u001b[0m\n\u001b[0;32m----> 3\u001b[0;31m     \u001b[0mT\u001b[0m \u001b[0;34m=\u001b[0m \u001b[0mQuintomCosmology\u001b[0m\u001b[0;34m(\u001b[0m\u001b[0mvary_mquin\u001b[0m\u001b[0;34m=\u001b[0m\u001b[0;32mTrue\u001b[0m\u001b[0;34m,\u001b[0m \u001b[0mvary_mphan\u001b[0m\u001b[0;34m=\u001b[0m\u001b[0;32mTrue\u001b[0m\u001b[0;34m,\u001b[0m \u001b[0mvary_coupling\u001b[0m\u001b[0;34m=\u001b[0m\u001b[0;32mTrue\u001b[0m\u001b[0;34m)\u001b[0m\u001b[0;34m\u001b[0m\u001b[0;34m\u001b[0m\u001b[0m\n\u001b[0m\u001b[1;32m      4\u001b[0m     \u001b[0mmquin_\u001b[0m\u001b[0;34m.\u001b[0m\u001b[0msetValue\u001b[0m\u001b[0;34m(\u001b[0m\u001b[0mmphi\u001b[0m\u001b[0;34m)\u001b[0m\u001b[0;34m\u001b[0m\u001b[0;34m\u001b[0m\u001b[0m\n\u001b[1;32m      5\u001b[0m     \u001b[0mmphan_\u001b[0m\u001b[0;34m.\u001b[0m\u001b[0msetValue\u001b[0m\u001b[0;34m(\u001b[0m\u001b[0mmphan\u001b[0m\u001b[0;34m)\u001b[0m\u001b[0;34m\u001b[0m\u001b[0;34m\u001b[0m\u001b[0m\n",
      "\u001b[0;32m~/Documents/gitHub/simplemc_tests/simplemc/models/QuintomCosmology.py\u001b[0m in \u001b[0;36m__init__\u001b[0;34m(self, vary_mquin, vary_mphan, vary_iniphi, vary_coupling, vary_Ok)\u001b[0m\n\u001b[1;32m     42\u001b[0m         \u001b[0mLCDMCosmology\u001b[0m\u001b[0;34m.\u001b[0m\u001b[0m__init__\u001b[0m\u001b[0;34m(\u001b[0m\u001b[0mself\u001b[0m\u001b[0;34m,\u001b[0m \u001b[0mmnu\u001b[0m\u001b[0;34m=\u001b[0m\u001b[0;36m0\u001b[0m\u001b[0;34m)\u001b[0m\u001b[0;34m\u001b[0m\u001b[0;34m\u001b[0m\u001b[0m\n\u001b[1;32m     43\u001b[0m \u001b[0;34m\u001b[0m\u001b[0m\n\u001b[0;32m---> 44\u001b[0;31m         \u001b[0mself\u001b[0m\u001b[0;34m.\u001b[0m\u001b[0mupdateParams\u001b[0m\u001b[0;34m(\u001b[0m\u001b[0;34m[\u001b[0m\u001b[0;34m]\u001b[0m\u001b[0;34m)\u001b[0m\u001b[0;34m\u001b[0m\u001b[0;34m\u001b[0m\u001b[0m\n\u001b[0m\u001b[1;32m     45\u001b[0m \u001b[0;34m\u001b[0m\u001b[0m\n\u001b[1;32m     46\u001b[0m \u001b[0;34m\u001b[0m\u001b[0m\n",
      "\u001b[0;32m~/Documents/gitHub/simplemc_tests/simplemc/models/QuintomCosmology.py\u001b[0m in \u001b[0;36mupdateParams\u001b[0;34m(self, pars)\u001b[0m\n\u001b[1;32m     86\u001b[0m \u001b[0;34m\u001b[0m\u001b[0m\n\u001b[1;32m     87\u001b[0m         \u001b[0;31m# Main method.\u001b[0m\u001b[0;34m\u001b[0m\u001b[0;34m\u001b[0m\u001b[0;34m\u001b[0m\u001b[0m\n\u001b[0;32m---> 88\u001b[0;31m         \u001b[0mself\u001b[0m\u001b[0;34m.\u001b[0m\u001b[0minitialize\u001b[0m\u001b[0;34m(\u001b[0m\u001b[0;34m)\u001b[0m\u001b[0;34m\u001b[0m\u001b[0;34m\u001b[0m\u001b[0m\n\u001b[0m\u001b[1;32m     89\u001b[0m \u001b[0;34m\u001b[0m\u001b[0m\n\u001b[1;32m     90\u001b[0m         \u001b[0;32mreturn\u001b[0m \u001b[0;32mTrue\u001b[0m\u001b[0;34m\u001b[0m\u001b[0;34m\u001b[0m\u001b[0m\n",
      "\u001b[0;32m~/Documents/gitHub/simplemc_tests/simplemc/models/QuintomCosmology.py\u001b[0m in \u001b[0;36minitialize\u001b[0;34m(self)\u001b[0m\n\u001b[1;32m    271\u001b[0m \u001b[0;34m\u001b[0m\u001b[0m\n\u001b[1;32m    272\u001b[0m         \u001b[0;31m#It's slower than newton, but finds more solutions\u001b[0m\u001b[0;34m\u001b[0m\u001b[0;34m\u001b[0m\u001b[0;34m\u001b[0m\u001b[0m\n\u001b[0;32m--> 273\u001b[0;31m         \u001b[0mself\u001b[0m\u001b[0;34m.\u001b[0m\u001b[0mphi_ini\u001b[0m\u001b[0;34m,\u001b[0m \u001b[0mself\u001b[0m\u001b[0;34m.\u001b[0m\u001b[0msolution\u001b[0m \u001b[0;34m=\u001b[0m \u001b[0mself\u001b[0m\u001b[0;34m.\u001b[0m\u001b[0mfind_initial_phi\u001b[0m\u001b[0;34m(\u001b[0m\u001b[0;34m-\u001b[0m\u001b[0;36m2\u001b[0m\u001b[0;34m,\u001b[0m \u001b[0mhigh_guess\u001b[0m\u001b[0;34m)\u001b[0m\u001b[0;34m\u001b[0m\u001b[0;34m\u001b[0m\u001b[0m\n\u001b[0m\u001b[1;32m    274\u001b[0m \u001b[0;34m\u001b[0m\u001b[0m\n\u001b[1;32m    275\u001b[0m         \u001b[0;32mif\u001b[0m \u001b[0mself\u001b[0m\u001b[0;34m.\u001b[0m\u001b[0mphi_ini\u001b[0m \u001b[0;34m==\u001b[0m \u001b[0;36m0\u001b[0m\u001b[0;34m:\u001b[0m\u001b[0;34m\u001b[0m\u001b[0;34m\u001b[0m\u001b[0m\n",
      "\u001b[0;32m~/Documents/gitHub/simplemc_tests/simplemc/models/QuintomCosmology.py\u001b[0m in \u001b[0;36mfind_initial_phi\u001b[0;34m(self, low_guess, high_guess, tolerance)\u001b[0m\n\u001b[1;32m    235\u001b[0m             \u001b[0;31m# Compute the solution for an initial guess.\u001b[0m\u001b[0;34m\u001b[0m\u001b[0;34m\u001b[0m\u001b[0;34m\u001b[0m\u001b[0m\n\u001b[1;32m    236\u001b[0m             \u001b[0msolution\u001b[0m\u001b[0;34m,\u001b[0m \u001b[0mcurrent_tolerance\u001b[0m \u001b[0;34m=\u001b[0m \u001b[0mself\u001b[0m\u001b[0;34m.\u001b[0m\u001b[0mcompute_omega_de\u001b[0m\u001b[0;34m(\u001b[0m\u001b[0mmid_guess\u001b[0m\u001b[0;34m)\u001b[0m\u001b[0;34m\u001b[0m\u001b[0;34m\u001b[0m\u001b[0m\n\u001b[0;32m--> 237\u001b[0;31m             \u001b[0mlow_tolerance\u001b[0m \u001b[0;34m=\u001b[0m \u001b[0mself\u001b[0m\u001b[0;34m.\u001b[0m\u001b[0mcompute_omega_de\u001b[0m\u001b[0;34m(\u001b[0m\u001b[0mlow_guess\u001b[0m\u001b[0;34m)\u001b[0m\u001b[0;34m[\u001b[0m\u001b[0;36m1\u001b[0m\u001b[0;34m]\u001b[0m\u001b[0;34m\u001b[0m\u001b[0;34m\u001b[0m\u001b[0m\n\u001b[0m\u001b[1;32m    238\u001b[0m \u001b[0;34m\u001b[0m\u001b[0m\n\u001b[1;32m    239\u001b[0m             \u001b[0;32mif\u001b[0m \u001b[0mself\u001b[0m\u001b[0;34m.\u001b[0m\u001b[0mchatty\u001b[0m\u001b[0;34m:\u001b[0m\u001b[0;34m\u001b[0m\u001b[0;34m\u001b[0m\u001b[0m\n",
      "\u001b[0;32m~/Documents/gitHub/simplemc_tests/simplemc/models/QuintomCosmology.py\u001b[0m in \u001b[0;36mcompute_omega_de\u001b[0;34m(self, ini_guess)\u001b[0m\n\u001b[1;32m    195\u001b[0m \u001b[0;34m\u001b[0m\u001b[0m\n\u001b[1;32m    196\u001b[0m         \u001b[0;31m# Find the solution for such a guess.\u001b[0m\u001b[0;34m\u001b[0m\u001b[0;34m\u001b[0m\u001b[0;34m\u001b[0m\u001b[0m\n\u001b[0;32m--> 197\u001b[0;31m         \u001b[0msolution\u001b[0m \u001b[0;34m=\u001b[0m \u001b[0mself\u001b[0m\u001b[0;34m.\u001b[0m\u001b[0msolve_eqns\u001b[0m\u001b[0;34m(\u001b[0m\u001b[0mphi_ini\u001b[0m\u001b[0;34m,\u001b[0m \u001b[0;36m0.0\u001b[0m\u001b[0;34m,\u001b[0m \u001b[0mpsi_ini\u001b[0m\u001b[0;34m,\u001b[0m \u001b[0;36m0.0\u001b[0m\u001b[0;34m)\u001b[0m\u001b[0;34m\u001b[0m\u001b[0;34m\u001b[0m\u001b[0m\n\u001b[0m\u001b[1;32m    198\u001b[0m \u001b[0;34m\u001b[0m\u001b[0m\n\u001b[1;32m    199\u001b[0m         \u001b[0;31m# Solution at a=1.\u001b[0m\u001b[0;34m\u001b[0m\u001b[0;34m\u001b[0m\u001b[0;34m\u001b[0m\u001b[0m\n",
      "\u001b[0;32m~/Documents/gitHub/simplemc_tests/simplemc/models/QuintomCosmology.py\u001b[0m in \u001b[0;36msolve_eqns\u001b[0;34m(self, *y0)\u001b[0m\n\u001b[1;32m    171\u001b[0m         \u001b[0mthe\u001b[0m \u001b[0msolution\u001b[0m \u001b[0mof\u001b[0m \u001b[0mthe\u001b[0m \u001b[0mKlein\u001b[0m\u001b[0;34m-\u001b[0m\u001b[0mGordon\u001b[0m \u001b[0mequations\u001b[0m\u001b[0;34m.\u001b[0m\u001b[0;34m\u001b[0m\u001b[0;34m\u001b[0m\u001b[0m\n\u001b[1;32m    172\u001b[0m         \"\"\"\n\u001b[0;32m--> 173\u001b[0;31m         \u001b[0msolution\u001b[0m \u001b[0;34m=\u001b[0m \u001b[0modeint\u001b[0m\u001b[0;34m(\u001b[0m\u001b[0mself\u001b[0m\u001b[0;34m.\u001b[0m\u001b[0mright_hand_side\u001b[0m\u001b[0;34m,\u001b[0m \u001b[0my0\u001b[0m\u001b[0;34m,\u001b[0m \u001b[0mself\u001b[0m\u001b[0;34m.\u001b[0m\u001b[0mlna\u001b[0m\u001b[0;34m,\u001b[0m \u001b[0mh0\u001b[0m\u001b[0;34m=\u001b[0m\u001b[0;36m1E-10\u001b[0m\u001b[0;34m)\u001b[0m\u001b[0;34m\u001b[0m\u001b[0;34m\u001b[0m\u001b[0m\n\u001b[0m\u001b[1;32m    174\u001b[0m         \u001b[0;32mreturn\u001b[0m \u001b[0msolution\u001b[0m\u001b[0;34m\u001b[0m\u001b[0;34m\u001b[0m\u001b[0m\n\u001b[1;32m    175\u001b[0m \u001b[0;34m\u001b[0m\u001b[0m\n",
      "\u001b[0;32m~/.local/lib/python3.8/site-packages/scipy/integrate/odepack.py\u001b[0m in \u001b[0;36modeint\u001b[0;34m(func, y0, t, args, Dfun, col_deriv, full_output, ml, mu, rtol, atol, tcrit, h0, hmax, hmin, ixpr, mxstep, mxhnil, mxordn, mxords, printmessg, tfirst)\u001b[0m\n\u001b[1;32m    239\u001b[0m     \u001b[0mt\u001b[0m \u001b[0;34m=\u001b[0m \u001b[0mcopy\u001b[0m\u001b[0;34m(\u001b[0m\u001b[0mt\u001b[0m\u001b[0;34m)\u001b[0m\u001b[0;34m\u001b[0m\u001b[0;34m\u001b[0m\u001b[0m\n\u001b[1;32m    240\u001b[0m     \u001b[0my0\u001b[0m \u001b[0;34m=\u001b[0m \u001b[0mcopy\u001b[0m\u001b[0;34m(\u001b[0m\u001b[0my0\u001b[0m\u001b[0;34m)\u001b[0m\u001b[0;34m\u001b[0m\u001b[0;34m\u001b[0m\u001b[0m\n\u001b[0;32m--> 241\u001b[0;31m     output = _odepack.odeint(func, y0, t, args, Dfun, col_deriv, ml, mu,\n\u001b[0m\u001b[1;32m    242\u001b[0m                              \u001b[0mfull_output\u001b[0m\u001b[0;34m,\u001b[0m \u001b[0mrtol\u001b[0m\u001b[0;34m,\u001b[0m \u001b[0matol\u001b[0m\u001b[0;34m,\u001b[0m \u001b[0mtcrit\u001b[0m\u001b[0;34m,\u001b[0m \u001b[0mh0\u001b[0m\u001b[0;34m,\u001b[0m \u001b[0mhmax\u001b[0m\u001b[0;34m,\u001b[0m \u001b[0mhmin\u001b[0m\u001b[0;34m,\u001b[0m\u001b[0;34m\u001b[0m\u001b[0;34m\u001b[0m\u001b[0m\n\u001b[1;32m    243\u001b[0m                              \u001b[0mixpr\u001b[0m\u001b[0;34m,\u001b[0m \u001b[0mmxstep\u001b[0m\u001b[0;34m,\u001b[0m \u001b[0mmxhnil\u001b[0m\u001b[0;34m,\u001b[0m \u001b[0mmxordn\u001b[0m\u001b[0;34m,\u001b[0m \u001b[0mmxords\u001b[0m\u001b[0;34m,\u001b[0m\u001b[0;34m\u001b[0m\u001b[0;34m\u001b[0m\u001b[0m\n",
      "\u001b[0;32m~/Documents/gitHub/simplemc_tests/simplemc/models/QuintomCosmology.py\u001b[0m in \u001b[0;36mright_hand_side\u001b[0;34m(self, variables, lna)\u001b[0m\n\u001b[1;32m    160\u001b[0m         \u001b[0;31m# Right hand side of the dynamical system.\u001b[0m\u001b[0;34m\u001b[0m\u001b[0;34m\u001b[0m\u001b[0;34m\u001b[0m\u001b[0m\n\u001b[1;32m    161\u001b[0m         rhs = [factor*x_phi/hubble,\n\u001b[0;32m--> 162\u001b[0;31m                \u001b[0;34m-\u001b[0m\u001b[0;36m3\u001b[0m\u001b[0;34m*\u001b[0m\u001b[0mx_phi\u001b[0m \u001b[0;34m-\u001b[0m \u001b[0mself\u001b[0m\u001b[0;34m.\u001b[0m\u001b[0msf_potential\u001b[0m\u001b[0;34m(\u001b[0m\u001b[0mphi\u001b[0m\u001b[0;34m,\u001b[0m \u001b[0mpsi\u001b[0m\u001b[0;34m,\u001b[0m \u001b[0;34m'phi'\u001b[0m\u001b[0;34m)\u001b[0m\u001b[0;34m/\u001b[0m\u001b[0;34m(\u001b[0m\u001b[0mfactor\u001b[0m\u001b[0;34m*\u001b[0m\u001b[0mhubble\u001b[0m\u001b[0;34m)\u001b[0m\u001b[0;34m,\u001b[0m\u001b[0;34m\u001b[0m\u001b[0;34m\u001b[0m\u001b[0m\n\u001b[0m\u001b[1;32m    163\u001b[0m                \u001b[0mfactor\u001b[0m\u001b[0;34m*\u001b[0m\u001b[0mx_psi\u001b[0m\u001b[0;34m/\u001b[0m\u001b[0mhubble\u001b[0m\u001b[0;34m,\u001b[0m\u001b[0;34m\u001b[0m\u001b[0;34m\u001b[0m\u001b[0m\n\u001b[1;32m    164\u001b[0m                -3*x_psi + self.sf_potential(phi, psi, 'psi')/(factor*hubble)]\n",
      "\u001b[0;32m~/Documents/gitHub/simplemc_tests/simplemc/models/QuintomCosmology.py\u001b[0m in \u001b[0;36msf_potential\u001b[0;34m(self, phi, psi, select)\u001b[0m\n\u001b[1;32m    102\u001b[0m             \u001b[0mpotential\u001b[0m \u001b[0;34m=\u001b[0m \u001b[0;36m0.5\u001b[0m\u001b[0;34m*\u001b[0m\u001b[0;34m(\u001b[0m\u001b[0mself\u001b[0m\u001b[0;34m.\u001b[0m\u001b[0mmquin\u001b[0m\u001b[0;34m*\u001b[0m\u001b[0mphi\u001b[0m\u001b[0;34m)\u001b[0m\u001b[0;34m**\u001b[0m\u001b[0;36m2\u001b[0m \u001b[0;34m+\u001b[0m \u001b[0;36m0.5\u001b[0m\u001b[0;34m*\u001b[0m\u001b[0;34m(\u001b[0m\u001b[0mself\u001b[0m\u001b[0;34m.\u001b[0m\u001b[0mmphan\u001b[0m\u001b[0;34m*\u001b[0m\u001b[0mpsi\u001b[0m\u001b[0;34m)\u001b[0m\u001b[0;34m**\u001b[0m\u001b[0;36m2\u001b[0m \u001b[0;34m+\u001b[0m \u001b[0mself\u001b[0m\u001b[0;34m.\u001b[0m\u001b[0mcoupling\u001b[0m\u001b[0;34m*\u001b[0m\u001b[0;34m(\u001b[0m\u001b[0mphi\u001b[0m\u001b[0;34m*\u001b[0m\u001b[0mpsi\u001b[0m\u001b[0;34m)\u001b[0m\u001b[0;34m**\u001b[0m\u001b[0;36m2\u001b[0m\u001b[0;34m\u001b[0m\u001b[0;34m\u001b[0m\u001b[0m\n\u001b[1;32m    103\u001b[0m         \u001b[0;32melif\u001b[0m \u001b[0mselect\u001b[0m \u001b[0;34m==\u001b[0m \u001b[0;34m'phi'\u001b[0m\u001b[0;34m:\u001b[0m\u001b[0;34m\u001b[0m\u001b[0;34m\u001b[0m\u001b[0m\n\u001b[0;32m--> 104\u001b[0;31m             \u001b[0mpotential\u001b[0m \u001b[0;34m=\u001b[0m \u001b[0mself\u001b[0m\u001b[0;34m.\u001b[0m\u001b[0mmquin\u001b[0m\u001b[0;34m**\u001b[0m\u001b[0;36m2\u001b[0m\u001b[0;34m*\u001b[0m\u001b[0mphi\u001b[0m \u001b[0;34m+\u001b[0m \u001b[0;36m2\u001b[0m\u001b[0;34m*\u001b[0m\u001b[0mself\u001b[0m\u001b[0;34m.\u001b[0m\u001b[0mcoupling\u001b[0m\u001b[0;34m*\u001b[0m\u001b[0mphi\u001b[0m\u001b[0;34m*\u001b[0m\u001b[0mpsi\u001b[0m\u001b[0;34m**\u001b[0m\u001b[0;36m2\u001b[0m\u001b[0;34m\u001b[0m\u001b[0;34m\u001b[0m\u001b[0m\n\u001b[0m\u001b[1;32m    105\u001b[0m         \u001b[0;32melif\u001b[0m \u001b[0mselect\u001b[0m \u001b[0;34m==\u001b[0m \u001b[0;34m'psi'\u001b[0m\u001b[0;34m:\u001b[0m\u001b[0;34m\u001b[0m\u001b[0;34m\u001b[0m\u001b[0m\n\u001b[1;32m    106\u001b[0m             \u001b[0mpotential\u001b[0m \u001b[0;34m=\u001b[0m \u001b[0mself\u001b[0m\u001b[0;34m.\u001b[0m\u001b[0mmphan\u001b[0m\u001b[0;34m**\u001b[0m\u001b[0;36m2\u001b[0m\u001b[0;34m*\u001b[0m\u001b[0mpsi\u001b[0m \u001b[0;34m+\u001b[0m \u001b[0;36m2\u001b[0m\u001b[0;34m*\u001b[0m\u001b[0mself\u001b[0m\u001b[0;34m.\u001b[0m\u001b[0mcoupling\u001b[0m\u001b[0;34m*\u001b[0m\u001b[0mpsi\u001b[0m\u001b[0;34m*\u001b[0m\u001b[0mphi\u001b[0m\u001b[0;34m**\u001b[0m\u001b[0;36m2\u001b[0m\u001b[0;34m\u001b[0m\u001b[0;34m\u001b[0m\u001b[0m\n",
      "\u001b[0;31mKeyboardInterrupt\u001b[0m: "
     ]
    }
   ],
   "source": [
    "file_root = dir_name + '/350/Quintom_couple_phy_SN+HD+CBAO_nested_multi'\n",
    "# file_root = dir_name + '/350/Quintom_couple_phy_CBAO_nested_multi'\n",
    "\n",
    "samples, weights = samples_from_getdist_chains(['Om', 'Obh2', 'h','mquin', 'mphan', 'beta'], file_root, \n",
    "                                              settings={'ignore_rows':0.0})\n",
    "# k = np.linspace(0,2.0,100)\n",
    "k = np.arange(0,3.1, 0.05)\n",
    "\n",
    "cbar = plot_contours(hoverzfn, k, samples, weights=weights, contour_line_levels=[1,2],  \n",
    "                     colors=cmap_reversed, linewidths=[2,1.5] )\n",
    "cbar = plt.colorbar(cbar,ticks=[0,1,2])\n",
    "cbar.set_ticklabels(['',r'$1\\sigma$',r'$2\\sigma$'])\n",
    "\n",
    "# plt.errorbar(0.02,  69.8,       yerr=0.8, color='green', fmt='o', markersize=5, elinewidth=1., capsize=5, capthick=2)\n",
    "# plt.errorbar(0.38,  63.9,       yerr=1.0, color='green', fmt='d', markersize=5, elinewidth=1., capsize=5, capthick=2)\n",
    "# plt.errorbar(0.51,  62.6,       yerr=1.0, color='green', fmt='d', markersize=5, elinewidth=1., capsize=5, capthick=2)\n",
    "# plt.errorbar(0.61,  61.9,       yerr=1.0, color='green', fmt='d', markersize=5, elinewidth=1., capsize=5, capthick=2)\n",
    "# plt.errorbar(2.34,  65.6,       yerr=3.3, color='green', fmt='s', markersize=5, elinewidth=1., capsize=5, capthick=2)\n",
    "# plt.errorbar(2.36,  67.8,       yerr=3.4, color='green', fmt='s', markersize=5, elinewidth=1., capsize=5, capthick=2)\n",
    "\n",
    "#https://arxiv.org/abs/1904.03430\n",
    "plt.errorbar(zLyaC,  fact/9.20/(1+zLyaC),        yerr=0.36*fact/(1+zLyaC)/9.20**2,\n",
    "              color='red', fmt='s', markersize=6, elinewidth=1.5)\n",
    "#https://arxiv.org/abs/1904.03430\n",
    "plt.errorbar(zLyaA,  fact/8.86/(1+zLyaA),        yerr=0.29*fact/(1+zLyaA)/8.86**2,\n",
    "              color='red', fmt='s', markersize=6, elinewidth=1.5)\n",
    "\n",
    "plt.errorbar(zCombBAO1,  81.21/(1+zCombBAO1),       yerr=ersys(2.17, 0.97)/(1+zCombBAO1),\n",
    "              color='red', fmt='d', markersize=6, elinewidth=1.5)\n",
    "plt.errorbar(zCombBAO2,  90.90/(1+zCombBAO2),       yerr=ersys(2.07, 1.08)/(1+zCombBAO1),\n",
    "              color='red', fmt='d', markersize=6, elinewidth=1.5)\n",
    "plt.errorbar(zCombBAO3,  98.96/(1+zCombBAO3),       yerr=ersys(2.21, 1.18)/(1+zCombBAO1),\n",
    "              color='red', fmt='d', markersize=6, elinewidth=1.5)\n",
    "plt.errorbar(0.01,  69.8,       yerr=0.8,\n",
    "              color='red', fmt='d', markersize=6, elinewidth=1.5)\n",
    "\n",
    "\n",
    "plt.plot(z, lcdmzh, color='black', label=r'$\\Lambda CDM$', lw=4,  linestyle='dashed')\n",
    "\n",
    "# plt.hlines(-1, xmin=0, xmax=2, colors='r',  linestyles='dashed', label='$w=-1$', lw=2)\n",
    "plt.ylabel(r'$H(z)/(1+z)[km\\;s^{-1}Mpc^{-1}]$')\n",
    "# plt.ylabel(r'$\\omega(z)$')\n",
    "plt.xlabel(r'$z$')\n",
    "plt.xlim(0,3)\n",
    "plt.ylim(45,80)\n",
    "plt.tight_layout()\n",
    "pylab.grid(True)\n",
    "\n",
    "\n",
    "plt.legend(loc='lower left')\n",
    "plt.text(0.01,76, 'BAO+HD+SN', fontsize=13)\n",
    "plt.savefig('hzfn_quintom_couple_sn+hd+cbao.png', dpi=300)\n",
    "plt.savefig('hzfn_quintom_couple_sn+hd+cbao.svg')\n",
    "# plt.text(0.01,76, 'CBAO', fontsize=13)\n",
    "# plt.savefig('hzfn_quintom_couple_cbao.png', dpi=300)\n",
    "# plt.savefig('hzfn_quintom_couple_cbao.svg')"
   ]
  },
  {
   "cell_type": "code",
   "execution_count": null,
   "metadata": {},
   "outputs": [],
   "source": [
    "# file_root = dir_name + '/350/Quintom_couple_phy_SN+HD+CBAO_nested_multi'\n",
    "file_root = dir_name + '/350/Quintom_couple_phy_CBAO_nested_multi'\n",
    "\n",
    "samples, weights = samples_from_getdist_chains(['Om', 'Obh2', 'h','mquin', 'mphan', 'beta'], file_root, \n",
    "                                              settings={'ignore_rows':0.0})\n",
    "# k = np.linspace(0,2.0,100)\n",
    "k = np.arange(0,3.1, 0.05)\n",
    "\n",
    "cbar = plot_contours(hoverzfn, k, samples, weights=weights, contour_line_levels=[1,2],  \n",
    "                     colors=cmap_reversed, linewidths=[2,1.5] )\n",
    "cbar = plt.colorbar(cbar,ticks=[0,1,2])\n",
    "cbar.set_ticklabels(['',r'$1\\sigma$',r'$2\\sigma$'])\n",
    "\n",
    "#https://arxiv.org/abs/1904.03430\n",
    "plt.errorbar(zLyaC,  fact/9.20/(1+zLyaC),        yerr=0.36*fact/(1+zLyaC)/9.20**2,\n",
    "              color='red', fmt='s', markersize=6, elinewidth=1.5)\n",
    "#https://arxiv.org/abs/1904.03430\n",
    "plt.errorbar(zLyaA,  fact/8.86/(1+zLyaA),        yerr=0.29*fact/(1+zLyaA)/8.86**2,\n",
    "              color='red', fmt='s', markersize=6, elinewidth=1.5)\n",
    "\n",
    "plt.errorbar(zCombBAO1,  81.21/(1+zCombBAO1),       yerr=ersys(2.17, 0.97)/(1+zCombBAO1),\n",
    "              color='red', fmt='d', markersize=6, elinewidth=1.5)\n",
    "plt.errorbar(zCombBAO2,  90.90/(1+zCombBAO2),       yerr=ersys(2.07, 1.08)/(1+zCombBAO1),\n",
    "              color='red', fmt='d', markersize=6, elinewidth=1.5)\n",
    "plt.errorbar(zCombBAO3,  98.96/(1+zCombBAO3),       yerr=ersys(2.21, 1.18)/(1+zCombBAO1),\n",
    "              color='red', fmt='d', markersize=6, elinewidth=1.5)\n",
    "plt.errorbar(0.01,  69.8,       yerr=0.8,\n",
    "              color='red', fmt='d', markersize=6, elinewidth=1.5)\n",
    "\n",
    "# plt.errorbar(0.02,  69.8,       yerr=0.8, color='green', fmt='o', markersize=5, elinewidth=1., capsize=5, capthick=2)\n",
    "# plt.errorbar(0.38,  63.9,       yerr=1.0, color='green', fmt='d', markersize=5, elinewidth=1., capsize=5, capthick=2)\n",
    "# plt.errorbar(0.51,  62.6,       yerr=1.0, color='green', fmt='d', markersize=5, elinewidth=1., capsize=5, capthick=2)\n",
    "# plt.errorbar(0.61,  61.9,       yerr=1.0, color='green', fmt='d', markersize=5, elinewidth=1., capsize=5, capthick=2)\n",
    "# plt.errorbar(2.34,  65.6,       yerr=3.3, color='green', fmt='s', markersize=5, elinewidth=1., capsize=5, capthick=2)\n",
    "# plt.errorbar(2.36,  67.8,       yerr=3.4, color='green', fmt='s', markersize=5, elinewidth=1., capsize=5, capthick=2)\n",
    "\n",
    "\n",
    "plt.plot(z, lcdmzh, color='black', label=r'$\\Lambda CDM$', lw=4,  linestyle='dashed')\n",
    "\n",
    "# plt.hlines(-1, xmin=0, xmax=2, colors='r',  linestyles='dashed', label='$w=-1$', lw=2)\n",
    "plt.ylabel(r'$H(z)/(1+z)[km\\;s^{-1}Mpc^{-1}]$')\n",
    "# plt.ylabel(r'$\\omega(z)$')\n",
    "plt.xlabel(r'$z$')\n",
    "plt.xlim(0,3)\n",
    "plt.ylim(45,80)\n",
    "plt.tight_layout()\n",
    "pylab.grid(True)\n",
    "\n",
    "\n",
    "plt.legend(loc='lower left')\n",
    "# plt.text(0.01,76, 'SN+HD+CBAO', fontsize=13)\n",
    "# plt.savefig('hzfn_quintom_couple_sn+hd+cbao.png', dpi=300)\n",
    "# plt.savefig('hzfn_quintom_couple_sn+hd+cbao.svg')\n",
    "plt.text(0.01,76, 'BAO', fontsize=13)\n",
    "plt.savefig('hzfn_quintom_couple_cbao.png', dpi=300)\n",
    "plt.savefig('hzfn_quintom_couple_cbao.svg')"
   ]
  },
  {
   "cell_type": "code",
   "execution_count": null,
   "metadata": {},
   "outputs": [],
   "source": [
    "def hfn(z, params):\n",
    "    om, obh2, h, mphi, mphan, coupling = params\n",
    "    T = QuintomCosmology(vary_mquin=True, vary_mphan=True, vary_coupling=True)\n",
    "    mquin_.setValue(mphi)\n",
    "    mphan_.setValue(mphan)\n",
    "    coupling_.setValue(coupling)\n",
    "    om_.setValue(om)\n",
    "    obh2_.setValue(obh2)\n",
    "    h_.setValue(h)\n",
    "\n",
    "    T.updateParams([om_, obh2_, h_, mquin_, mphan_, coupling_])\n",
    "\n",
    "    T.call_functions()\n",
    "    H = T.Hubble_a(1./(1+z))\n",
    "    return H"
   ]
  },
  {
   "cell_type": "code",
   "execution_count": null,
   "metadata": {},
   "outputs": [],
   "source": [
    "file_root = dir_name + '/350/Quintom_couple_phy_SN+HD+CBAO_nested_multi'\n",
    "# file_root = dir_name + '/350/Quintom_couple_phy_CBAO_nested_multi'\n",
    "\n",
    "samples, weights = samples_from_getdist_chains(['Om', 'Obh2', 'h','mquin', 'mphan', 'beta'], file_root)\n",
    "# k = np.linspace(0,2.0,100)\n",
    "k = np.arange(0, 2.5, 0.05)\n",
    "\n",
    "cbar = plot_contours(hfn, k, samples, weights=weights, colors=cmap_reversed, linewidths=[2,1.5,1],\n",
    "                    contour_line_levels=[1,2])\n",
    "cbar = plt.colorbar(cbar,ticks=[0,1,2])\n",
    "cbar.set_ticklabels(['',r'$1\\sigma$',r'$2\\sigma$'])\n",
    "\n",
    "# plt.hlines(-1, xmin=0, xmax=2, colors='r',  linestyles='dashed', label='$w=-1$', lw=2)\n",
    "plt.ylabel(r'$H(z)[km\\;s^{-1}Mpc^{-1}]$')\n",
    "# plt.ylabel(r'$\\omega(z)$')\n",
    "plt.xlabel(r'$z$')\n",
    "# plt.ylim(60,)\n",
    "plt.tight_layout()\n",
    "pylab.grid(True)\n",
    "\n",
    "plt.text(0.01,250, 'SN+HD+CBAO', fontsize=13)\n",
    "plt.savefig('hfn_quintom_couple_sn+hd+cbao.png', dpi=300)\n",
    "plt.savefig('hfn_quintom_couple_sn+hd+cbao.svg')\n",
    "# plt.text(0.01,250, 'CBAO', fontsize=13)\n",
    "# plt.savefig('hfn_quintom_couple_cbao.png', dpi=300)\n",
    "# plt.savefig('hfn_quintom_couple_cbao.svg')"
   ]
  },
  {
   "cell_type": "code",
   "execution_count": null,
   "metadata": {},
   "outputs": [],
   "source": [
    "#Planck best fit cosmology\n",
    "T2 = LCDMCosmology()\n",
    "x1 = [67.4*np.sqrt(T2.RHSquared_a(1./(1+z))) for z in zl]\n",
    "x2 = [T2.HIOverrd(z)*z/fixer(z) for z in zl]\n",
    "x3 = [T2.DaOverrd(z)/fixer(z) for z in zl]\n",
    "#PLK-15\n",
    "#T=LCDMCosmology(Obh2=0.02225,Om=0.3156,h=0.6727)\n",
    "\n",
    "\n",
    "\n",
    "params1 = {'backend': 'pdf',\n",
    "               'axes.labelsize': 18,\n",
    "               'xtick.labelsize': 18,\n",
    "               'ytick.labelsize': 18,\n",
    "               'legend.fontsize': 16,\n",
    "               'lines.markersize': 6,\n",
    "               'font.size': 20,\n",
    "               'text.usetex': True}\n",
    "pylab.rcParams.update(params1)\n",
    "\n",
    "\n",
    "## --- Plotting --\n",
    "fig, (ax2, ax3, ax4)= plt.subplots(3, sharex=True, gridspec_kw={'hspace': 0}, figsize=(7,10))\n",
    "fig.suptitle(name, fontsize=17,  y=0.95)\n",
    "\n",
    "\n",
    "\n",
    "\n",
    "## -- Plot 2\n",
    "ax2.plot(zl, x1 , color='k', linestyle='--')\n",
    "ax2.set_ylabel('$H(z)$', fontsize=20)\n",
    "\n",
    "\n",
    "\n",
    "## -- Plot 3\n",
    "ax3.plot(zl, x2 , color='k', linestyle='--')\n",
    "ax3.set_ylabel(\"${\\\\rm zD_H(z)}/r_d\\\\sqrt{z}$\")\n",
    "\n",
    "\n",
    "## -- Plot 4\n",
    "ax4.plot(zl, x3, color='k', linestyle='--')\n",
    "ax4.set_xlim(0.05, 3)\n",
    "ax4.set_ylabel(\"${\\\\rm D_M(z)}/r_d\\\\sqrt{z}$\")\n",
    "\n",
    "\n",
    "\n",
    "\n",
    "\n",
    "#Axis\n",
    "ax4.xaxis.set_major_formatter(matplotlib.ticker.ScalarFormatter())\n",
    "ax4.yaxis.set_major_formatter(matplotlib.ticker.ScalarFormatter())\n",
    "#ax4.xaxis.set_minor_formatter(plt.ScalarFormatter())\n",
    "#ax4.xaxis.set_major_locator(plt.FixedLocator([0.1,1.0]))\n",
    "#ax4.xaxis.set_minor_locator(plt.FixedLocator([0.2,0.5,2]))\n",
    "ax4.set_xlabel(\"$z$\")\n",
    "\n",
    "\n",
    "#pylab.savefig(\"Fig1_\"+fname+\".pdf\", bbox_inches='tight')\n",
    "pylab.show()\n",
    "\n"
   ]
  },
  {
   "cell_type": "code",
   "execution_count": null,
   "metadata": {},
   "outputs": [],
   "source": [
    "z = np.linspace(0, 3, 100)\n",
    "rd_fid_DR12 = 147.78\n",
    "\n",
    "zLyaA = 2.37\n",
    "zLyaC = 2.35\n",
    "zCombBAO1 = 0.38\n",
    "zCombBAO2 = 0.51\n",
    "zCombBAO3 = 0.61\n",
    "fact = (300000./rd_fid_DR12)\n",
    "\n",
    "def ersys(x, y):\n",
    "    return np.sqrt(x**2 + y**2)\n",
    "\n",
    "#https://arxiv.org/abs/1904.03430\n",
    "plt.errorbar(zLyaC,  fact/9.20/(1+zLyaC),        yerr=0.36*fact/(1+zLyaC)/9.20**2,\n",
    "              color='red', fmt='s', markersize=6, elinewidth=1.5)\n",
    "#https://arxiv.org/abs/1904.03430\n",
    "plt.errorbar(zLyaA,  fact/8.86/(1+zLyaA),        yerr=0.29*fact/(1+zLyaA)/8.86**2,\n",
    "              color='red', fmt='s', markersize=6, elinewidth=1.5)\n",
    "\n",
    "plt.errorbar(zCombBAO1,  81.21/(1+zCombBAO1),       yerr=ersys(2.17, 0.97)/(1+zCombBAO1),\n",
    "              color='red', fmt='d', markersize=6, elinewidth=1.5)\n",
    "plt.errorbar(zCombBAO2,  90.90/(1+zCombBAO2),       yerr=ersys(2.07, 1.08)/(1+zCombBAO1),\n",
    "              color='red', fmt='d', markersize=6, elinewidth=1.5)\n",
    "plt.errorbar(zCombBAO3,  98.96/(1+zCombBAO3),       yerr=ersys(2.21, 1.18)/(1+zCombBAO1),\n",
    "              color='red', fmt='d', markersize=6, elinewidth=1.5)\n",
    "plt.errorbar(0.01,  69.8,       yerr=0.8,\n",
    "              color='red', fmt='d', markersize=6, elinewidth=1.5)\n",
    "\n",
    "# plt.plot(z, [100*0.682*(0.30*(1+zi)**3 + (1-0.30))**0.5/(1+zi) for zi in z], 'red', lw=1.5)\n",
    "#plt.ylim(55, 80)\n",
    "plt.ylim(50, 85)\n",
    "plt.plot(z, lcdmzh)\n",
    "plt.tight_layout()\n",
    "plt.show()"
   ]
  },
  {
   "cell_type": "code",
   "execution_count": null,
   "metadata": {},
   "outputs": [],
   "source": []
  },
  {
   "cell_type": "code",
   "execution_count": null,
   "metadata": {},
   "outputs": [],
   "source": []
  }
 ],
 "metadata": {
  "kernelspec": {
   "display_name": "Python 3",
   "language": "python",
   "name": "python3"
  },
  "language_info": {
   "codemirror_mode": {
    "name": "ipython",
    "version": 3
   },
   "file_extension": ".py",
   "mimetype": "text/x-python",
   "name": "python",
   "nbconvert_exporter": "python",
   "pygments_lexer": "ipython3",
   "version": "3.8.10"
  }
 },
 "nbformat": 4,
 "nbformat_minor": 5
}
