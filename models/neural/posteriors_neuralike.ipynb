{
 "cells": [
  {
   "cell_type": "code",
   "execution_count": 1,
   "metadata": {},
   "outputs": [],
   "source": [
    "import matplotlib.pyplot as plt\n",
    "from getdist import plots, MCSamples\n",
    "from getdist import *\n",
    "\n",
    "# import planckStyle\n",
    "import pylab\n",
    "import numpy as np\n",
    "import tkinter\n",
    "import matplotlib.pyplot as plt\n",
    "import matplotlib as mpl\n",
    "import matplotlib.ticker\n",
    "\n",
    "# import corner \n",
    "# # matplotlib.use('TkAgg')\n",
    "%matplotlib inline"
   ]
  },
  {
   "cell_type": "code",
   "execution_count": 2,
   "metadata": {},
   "outputs": [],
   "source": [
    "dir_name = '/home/isidro/Documents/github/cosmo_tools/models/neural/neuralike/'\n",
    "\n",
    "\n",
    "roots = [\n",
    "#          'owaCDM_phy_Pantheon+CBAO+HD_nested_multi',\n",
    "#          'owaCDM_phy_Pantheon+CBAO+HD_neuralike_nested_multi',\n",
    "         'owaCDM_phy_Pantheon_nested_multi',\n",
    "         'owaCDM_phy_Pantheon_neuralike_nested_nested_multi',\n",
    "#          'owaCDM_phy_fs8_nested_multi',\n",
    "#          'owaCDM_phy_fs8_neuralike_nested_multi',\n",
    "        ]\n"
   ]
  },
  {
   "cell_type": "code",
   "execution_count": 3,
   "metadata": {},
   "outputs": [
    {
     "data": {
      "text/plain": [
       "<Figure size 720x648 with 0 Axes>"
      ]
     },
     "metadata": {},
     "output_type": "display_data"
    }
   ],
   "source": [
    "g = plots.getSinglePlotter(chain_dir = dir_name, width_inch= 10,\n",
    "                          ratio = 0.9, \n",
    "                          analysis_settings={'smooth_scale_2D': 0.4,\n",
    "                                             'smooth_scale_1D': 0.4, \n",
    "                                             'ignore_rows': 0.2})"
   ]
  },
  {
   "cell_type": "code",
   "execution_count": null,
   "metadata": {},
   "outputs": [
    {
     "name": "stderr",
     "output_type": "stream",
     "text": [
      "WARNING:root:outlier fraction 0.01046337817638266 \n"
     ]
    },
    {
     "name": "stdout",
     "output_type": "stream",
     "text": [
      "/home/isidro/Documents/github/cosmo_tools/models/neural/neuralike/owaCDM_phy_Pantheon_nested_multi_1.txt\n",
      "Removed 0.2 as burn in\n",
      "/home/isidro/Documents/github/cosmo_tools/models/neural/neuralike/owaCDM_phy_Pantheon_neuralike_nested_nested_multi_1.txt\n",
      "Removed 0.2 as burn in\n"
     ]
    }
   ],
   "source": [
    "#g.settings.axes_fontsize = 5\n",
    "g.settings.lab_fontsize = 15\n",
    "g.settings.x_label_rotation= 45\n",
    "#g.settings.alpha_filled_add = 0.9\n",
    "g.settings.legend_fontsize = 15\n",
    "g.settings.axes_fontsize = 15   \n",
    "g.settings.lw1 = 3\n",
    "g.settings.linewidth_contour = 2\n",
    "\n",
    "\n",
    "g.triangle_plot(roots, ['Om','h', 'wa', 'w'],               \n",
    "# g.triangle_plot(roots, ['Om', 'Obh2', 'h'],\n",
    "                diag1d_kwargs={'colors':['green', 'blue', 'red'], \n",
    "                               'alphas':[0.8, 0.8, 0.8]},\n",
    "                colors=['green', 'blue', 'red'],\n",
    "                alphas = [0.4, 0.6, 0.6],\n",
    "                legend_labels=['original likelihood', 'neural likelihood'],\n",
    "                legend_loc='upper right',\n",
    "                filled = True,\n",
    "                normalized=False, shaded=False, \n",
    "#                 param_limits={'mquin': [0, 3], 'mphan':[0, 2], 'beta':[-8, 12]},\n",
    "                \n",
    "#                 parampriors={'mquin': [0, 3], 'mphan':[0, 2], 'beta':[-8, 12]}\n",
    "           )\n",
    "\n",
    "# g.add_text('Quintom with $\\\\beta$', x= 0.35, y= 2.5, fontsize=14)\n",
    "#            \\n 350 live points \\n 0.2 burn', 0.1, 2)        \n",
    "# plt.grid()\n",
    "# plt.savefig('nled_250lp.png', dpi=300)\n",
    "# plt.savefig('img/nled_250lp_HD_SN.png', dpi=300)"
   ]
  },
  {
   "cell_type": "code",
   "execution_count": null,
   "metadata": {
    "scrolled": true
   },
   "outputs": [],
   "source": [
    "plt.figure(figsize=(10, 10), dpi=100)\n",
    "\n",
    "gg= plots.getSinglePlotter(chain_dir = dir_name, width_inch= 10,\n",
    "                          ratio = 0.8, \n",
    "                          analysis_settings={'smooth_scale_2D': 0.2,\n",
    "                                             'smooth_scale_1D': 0.2, \n",
    "                                             'ignore_rows': 0.1})\n",
    "\n",
    "gg.settings.lab_fontsize = 25\n",
    "gg.settings.x_label_rotation= 45\n",
    "gg.settings.legend_fontsize = 15\n",
    "gg.settings.axes_fontsize = 25 \n",
    "gg.settings.linewidth_meanlikes = 5\n",
    "gg.settings.linewidth_contour = 1\n",
    "\n",
    "\n",
    "# plt.figure(figsize=(10,8))\n",
    "gg.plot_2d(roots, ['wa', 'w'], colors=['green', 'blue', 'red'], \n",
    "          filled=True, alphas = [1, 0.6, 0.4], \n",
    "          legend_loc='upper right')\n",
    "\n",
    "# # gg.add_y_marker(0, color='green', lw=3.0)\n",
    "# gg.add_x_marker(0.7324, color='purple', lw=3.0, ls='dotted')\n",
    "# gg.add_x_marker(0.674, color='brown', lw=3.0, ls='dashdot')\n",
    "\n",
    "# plt.text(0.42, 0.38, '·-·- $H_0 = 67.4$', fontsize=22, color='brown')\n",
    "# plt.text(0.42, 0.34, '··· $H_0 = 73.24$', fontsize=22, color='purple')\n",
    "# plt.text(0.3, 10, '--- $\\\\beta = 0$', fontsize=22, color='green')\n",
    "\n",
    "gg.add_legend(['original', 'neural'])\n",
    "# plt.grid()\n",
    "# plt.savefig('img/hvsb_hd_sn.png', dpi=80)"
   ]
  },
  {
   "cell_type": "code",
   "execution_count": null,
   "metadata": {},
   "outputs": [],
   "source": []
  }
 ],
 "metadata": {
  "kernelspec": {
   "display_name": "Python 3",
   "language": "python",
   "name": "python3"
  },
  "language_info": {
   "codemirror_mode": {
    "name": "ipython",
    "version": 3
   },
   "file_extension": ".py",
   "mimetype": "text/x-python",
   "name": "python",
   "nbconvert_exporter": "python",
   "pygments_lexer": "ipython3",
   "version": "3.8.10"
  }
 },
 "nbformat": 4,
 "nbformat_minor": 4
}
