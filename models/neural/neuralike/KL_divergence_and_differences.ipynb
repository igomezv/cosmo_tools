{
 "cells": [
  {
   "cell_type": "code",
   "execution_count": 29,
   "metadata": {},
   "outputs": [],
   "source": [
    "import numpy as np\n",
    "import pandas as pd\n",
    "from scipy.stats import norm\n",
    "from matplotlib import pyplot as plt\n",
    "from scipy.special import kl_div"
   ]
  },
  {
   "cell_type": "code",
   "execution_count": 7,
   "metadata": {},
   "outputs": [],
   "source": [
    "# calculate the kl divergence\n",
    "def kl_divergence(p, q):\n",
    "    return sum(p[i] * np.log2(p[i]/q[i]) for i in range(len(p)))"
   ]
  },
  {
   "cell_type": "code",
   "execution_count": 8,
   "metadata": {},
   "outputs": [],
   "source": [
    "dir_name = '/home/isidro/Documents/github/cosmo_tools/models/neural/neuralike/chains/'"
   ]
  },
  {
   "cell_type": "markdown",
   "metadata": {},
   "source": [
    "# Case 1 "
   ]
  },
  {
   "cell_type": "code",
   "execution_count": 9,
   "metadata": {},
   "outputs": [],
   "source": [
    "header = ['weights', 'logL', 'Om', 'Obh2', 'h', 'w', 'wa', 'BAOlike', 'DR14autolike', 'DR14crosslike', 'sixfgslike', \n",
    "           'mgslike', 'ebosslike', 'hdlike', 'Pantheonlike', 'theory_prior']\n",
    "\n",
    "nested_case1 = pd.read_csv(dir_name+'waCDM_phy_CBAO+Pantheon+HD_nested_multi_1.txt', sep=' ', names=header)\n",
    "neuralike_case1_10 = pd.read_csv(dir_name+'waCDM_phy_CBAO+Pantheon+HD_nested_multi_neuralike_1.txt', sep=' ', names=header)\n",
    "neuralike_case1_5 = pd.read_csv(dir_name+'waCDM_phy_CBAO+HD+Pantheon_nested_multi_neuralike_dlogz5_1.txt', sep=' ', names=header)\n",
    "#   "
   ]
  },
  {
   "cell_type": "code",
   "execution_count": 10,
   "metadata": {},
   "outputs": [],
   "source": [
    "nested_case1 = nested_case1[['Om', 'Obh2', 'h', 'w', 'wa']]\n",
    "neuralike_case1_10 = neuralike_case1_10[['Om', 'Obh2', 'h', 'w', 'wa']]\n",
    "neuralike_case1_5 = neuralike_case1_5[['Om', 'Obh2', 'h', 'w', 'wa']]"
   ]
  },
  {
   "cell_type": "markdown",
   "metadata": {},
   "source": [
    "## dlogz_start = 10\n"
   ]
  },
  {
   "cell_type": "code",
   "execution_count": 11,
   "metadata": {},
   "outputs": [
    {
     "name": "stdout",
     "output_type": "stream",
     "text": [
      "Om: 132.91559028254363\n",
      "Obh2: 0.6199838537512178\n",
      "h: 33.039513364746135\n",
      "w: -1690.9418718053685\n",
      "wa: nan\n"
     ]
    },
    {
     "name": "stderr",
     "output_type": "stream",
     "text": [
      "<ipython-input-7-8b9ad2770def>:3: RuntimeWarning: invalid value encountered in log2\n",
      "  return sum(p[i] * np.log2(p[i]/q[i]) for i in range(len(p)))\n"
     ]
    }
   ],
   "source": [
    "print('Om: {}'.format(kl_divergence(nested_case1['Om'].values, neuralike_case1_10['Om'].values)))\n",
    "print('Obh2: {}'.format(kl_divergence(nested_case1['Obh2'].values, neuralike_case1_10['Obh2'].values)))\n",
    "print('h: {}'.format(kl_divergence(nested_case1['h'].values, neuralike_case1_10['h'].values)))\n",
    "print('w: {}'.format(kl_divergence(nested_case1['w'].values, neuralike_case1_10['w'].values)))\n",
    "print('wa: {}'.format(kl_divergence(nested_case1['wa'].values, neuralike_case1_10['wa'].values)))"
   ]
  },
  {
   "cell_type": "code",
   "execution_count": 33,
   "metadata": {},
   "outputs": [],
   "source": [
    "lastsamples = len(nested_case1['Om'].values)"
   ]
  },
  {
   "cell_type": "code",
   "execution_count": 36,
   "metadata": {},
   "outputs": [
    {
     "name": "stdout",
     "output_type": "stream",
     "text": [
      "Om: [0.12397611 0.00184712 0.00167289 ... 0.00094497 0.00076298 0.00063547]\n",
      "Obh2: [8.45007561e-06 1.82869915e-05 4.18337889e-05 ... 5.80444928e-09\n",
      " 2.82221208e-07 5.54383745e-08]\n",
      "h: [0.0022007  0.00774284 0.03962095 ... 0.00044394 0.00029217 0.00026502]\n",
      "w: [inf inf inf ... inf inf inf]\n",
      "wa: [2.22543902e-03 1.33496784e+00 1.13000926e-03 ... 9.13968626e-01\n",
      " 3.19142183e-01 2.16834771e-01]\n"
     ]
    }
   ],
   "source": [
    "print('Om: {}'.format(kl_div(nested_case1['Om'].values, neuralike_case1_10['Om'].values[-lastsamples:])))\n",
    "print('Obh2: {}'.format(kl_div(nested_case1['Obh2'].values, neuralike_case1_10['Obh2'].values[-lastsamples:])))\n",
    "print('h: {}'.format(kl_div(nested_case1['h'].values, neuralike_case1_10['h'].values[-lastsamples:])))\n",
    "print('w: {}'.format(kl_div(nested_case1['w'].values, neuralike_case1_10['w'].values[-lastsamples:])))\n",
    "print('wa: {}'.format(kl_div(nested_case1['wa'].values, neuralike_case1_10['wa'].values[-lastsamples:])))"
   ]
  },
  {
   "cell_type": "markdown",
   "metadata": {},
   "source": [
    "**Parece ser que KL no nos dará mucha información para comparar nuestras dist posteriores, mejor usar alguna diferencia**"
   ]
  },
  {
   "cell_type": "code",
   "execution_count": 27,
   "metadata": {},
   "outputs": [],
   "source": [
    "from getdist import mcsamples\n",
    "from scipy.stats import wasserstein_distance"
   ]
  },
  {
   "cell_type": "code",
   "execution_count": 24,
   "metadata": {},
   "outputs": [
    {
     "name": "stdout",
     "output_type": "stream",
     "text": [
      "Om: 0.00496786212511072\n",
      "Obh2: 1.2873309342326545e-05\n",
      "h: 0.004921383527747297\n",
      "w: 0.008996428964967098\n",
      "wa: 0.09018964587000294\n"
     ]
    }
   ],
   "source": [
    "print('Om: {}'.format(wasserstein_distance(nested_case1['Om'].values, neuralike_case1_10['Om'].values)))\n",
    "print('Obh2: {}'.format(wasserstein_distance(nested_case1['Obh2'].values, neuralike_case1_10['Obh2'].values)))\n",
    "print('h: {}'.format(wasserstein_distance(nested_case1['h'].values, neuralike_case1_10['h'].values)))\n",
    "print('w: {}'.format(wasserstein_distance(nested_case1['w'].values, neuralike_case1_10['w'].values)))\n",
    "print('wa: {}'.format(wasserstein_distance(nested_case1['wa'].values, neuralike_case1_10['wa'].values)))\n"
   ]
  },
  {
   "cell_type": "code",
   "execution_count": 26,
   "metadata": {},
   "outputs": [
    {
     "name": "stdout",
     "output_type": "stream",
     "text": [
      "Om: 0.0029592410527389443\n",
      "Obh2: 1.332970796632127e-05\n",
      "h: 0.0056277706219247\n",
      "w: 0.006697062376634735\n",
      "wa: 0.05675417712793968\n"
     ]
    }
   ],
   "source": [
    "print('Om: {}'.format(wasserstein_distance(nested_case1['Om'].values, neuralike_case1_5['Om'].values)))\n",
    "print('Obh2: {}'.format(wasserstein_distance(nested_case1['Obh2'].values, neuralike_case1_5['Obh2'].values)))\n",
    "print('h: {}'.format(wasserstein_distance(nested_case1['h'].values, neuralike_case1_5['h'].values)))\n",
    "print('w: {}'.format(wasserstein_distance(nested_case1['w'].values, neuralike_case1_5['w'].values)))\n",
    "print('wa: {}'.format(wasserstein_distance(nested_case1['wa'].values, neuralike_case1_5['wa'].values)))"
   ]
  },
  {
   "cell_type": "code",
   "execution_count": 13,
   "metadata": {},
   "outputs": [],
   "source": [
    "roots1 = ['waCDM_phy_CBAO+Pantheon+HD_nested_multi',\n",
    "#           'waCDM_phy_HD+CBAO+Pantheon_nested_multi_neuralike',\n",
    "#           'waCDM_phy_CBAO+HD+Pantheon_nested_multi_neuralike',\n",
    "          'waCDM_phy_CBAO+Pantheon+HD_nested_multi_neuralike',\n",
    "          'waCDM_phy_CBAO+HD+Pantheon_nested_multi_neuralike_dlogz5',\n",
    "         ]"
   ]
  },
  {
   "cell_type": "code",
   "execution_count": 21,
   "metadata": {},
   "outputs": [
    {
     "name": "stdout",
     "output_type": "stream",
     "text": [
      "nested:\n",
      "& $0.3001 \\pm 0.0195$\n",
      "& $0.022 \\pm 0.0005$\n",
      "& $0.6744 \\pm 0.0208$\n",
      "& $-1.0069 \\pm 0.0866$\n",
      "& $0.1236 \\pm 0.473$\n"
     ]
    }
   ],
   "source": [
    "samples1_nested = mcsamples.loadMCSamples(dir_name+'/'+roots1[0])\n",
    "samples1_neuralike10 = mcsamples.loadMCSamples(dir_name+'/'+roots1[1])\n",
    "samples1_neuralike5 = mcsamples.loadMCSamples(dir_name+'/'+roots1[2])\n",
    "\n",
    "freeParameters = ['Om', 'Obh2', 'h', 'w', 'wa']\n",
    "\n",
    "means1_nested = samples1_nested.getMeans()\n",
    "means1_neuralike10 = samples1_neuralike10.getMeans()\n",
    "means1_neuralike5 = samples1_neuralike5.getMeans()\n",
    "\n",
    "stdnested = samples1_nested.std(freeParameters)\n",
    "stdneuralike10 = samples1_neuralike10.std(freeParameters)\n",
    "stdneuralike5 = samples1_neuralike5.std(freeParameters)\n",
    "# stdowaCDM = owaCDMsamplefile.std(freeParameters)\n",
    "\n",
    "\n",
    "print(\"nested:\")\n",
    "for i, param in enumerate(freeParameters):\n",
    "    print(\"& $\" + str(round(means1_nested[i], 4)) + \" \\pm \" + str(round(stdnested[i], 4)) + \"$\")\n"
   ]
  },
  {
   "cell_type": "code",
   "execution_count": null,
   "metadata": {},
   "outputs": [],
   "source": []
  }
 ],
 "metadata": {
  "kernelspec": {
   "display_name": "Python 3",
   "language": "python",
   "name": "python3"
  },
  "language_info": {
   "codemirror_mode": {
    "name": "ipython",
    "version": 3
   },
   "file_extension": ".py",
   "mimetype": "text/x-python",
   "name": "python",
   "nbconvert_exporter": "python",
   "pygments_lexer": "ipython3",
   "version": "3.8.10"
  }
 },
 "nbformat": 4,
 "nbformat_minor": 4
}
