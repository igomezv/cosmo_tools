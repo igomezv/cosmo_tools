{
 "cells": [
  {
   "cell_type": "code",
   "execution_count": 1,
   "metadata": {},
   "outputs": [],
   "source": [
    "import numpy as np\n",
    "import pandas as pd\n",
    "from scipy.stats import norm\n",
    "from matplotlib import pyplot as plt\n",
    "from scipy.special import kl_div"
   ]
  },
  {
   "cell_type": "markdown",
   "metadata": {},
   "source": [
    "**KL not give us useful information to make a comparison between our posterior distributions. It seems that the Wasserstein distance can be an interesting option: https://arxiv.org/abs/1509.02237**"
   ]
  },
  {
   "cell_type": "code",
   "execution_count": 2,
   "metadata": {},
   "outputs": [],
   "source": [
    "dir_name = '/home/isidro/Documents/github/cosmo_tools/models/neural/neuralike/chains/'"
   ]
  },
  {
   "cell_type": "markdown",
   "metadata": {},
   "source": [
    "# Case 1 "
   ]
  },
  {
   "cell_type": "code",
   "execution_count": 3,
   "metadata": {},
   "outputs": [],
   "source": [
    "header = ['Om', 'Obh2', 'h', 'w', 'wa']\n",
    "\n",
    "nestedfile1a = dir_name+'waCDM_phy_CBAO+Pantheon+HD_nested_multi_1.txt'\n",
    "neuralfile1a = dir_name+'waCDM_phy_CBAO+Pantheon+HD_nested_multi_neuralike_1.txt'\n",
    "neuralfile1b = dir_name+'waCDM_phy_CBAO+HD+Pantheon_nested_multi_neuralike_dlogz5_1.txt'\n",
    "\n",
    "nested_case1a = np.loadtxt(nestedfile1a, usecols=(2,3,4,5,6))\n",
    "nested_case1b = np.loadtxt(nestedfile1a, usecols=(2,3,4,5,6))\n",
    "\n",
    "neuralike_case1_10 = np.loadtxt(neuralfile1a, usecols=(2,3,4,5,6))\n",
    "neuralike_case1_5 = np.loadtxt(neuralfile1b, usecols=(2,3,4,5,6))\n",
    "#   \n",
    "\n",
    "\n",
    "w_nested_case1a = np.loadtxt(nestedfile1a, usecols=(0))\n",
    "w_nested_case1b = np.loadtxt(nestedfile1a, usecols=(0))\n",
    "w_neuralike_case1a = np.loadtxt(neuralfile1a, usecols=(0))\n",
    "w_neuralike_case1b = np.loadtxt(neuralfile1b, usecols=(0))\n",
    "\n",
    "nested_case1 = pd.DataFrame(nested_case1a, columns=header)\n",
    "neuralike_case1_10 = pd.DataFrame(neuralike_case1_10, columns=header)\n",
    "neuralike_case1_5 = pd.DataFrame(neuralike_case1_5, columns=header)"
   ]
  },
  {
   "cell_type": "code",
   "execution_count": 4,
   "metadata": {},
   "outputs": [
    {
     "data": {
      "text/html": [
       "<div>\n",
       "<style scoped>\n",
       "    .dataframe tbody tr th:only-of-type {\n",
       "        vertical-align: middle;\n",
       "    }\n",
       "\n",
       "    .dataframe tbody tr th {\n",
       "        vertical-align: top;\n",
       "    }\n",
       "\n",
       "    .dataframe thead th {\n",
       "        text-align: right;\n",
       "    }\n",
       "</style>\n",
       "<table border=\"1\" class=\"dataframe\">\n",
       "  <thead>\n",
       "    <tr style=\"text-align: right;\">\n",
       "      <th></th>\n",
       "      <th>Om</th>\n",
       "      <th>Obh2</th>\n",
       "      <th>h</th>\n",
       "      <th>w</th>\n",
       "      <th>wa</th>\n",
       "    </tr>\n",
       "  </thead>\n",
       "  <tbody>\n",
       "    <tr>\n",
       "      <th>0</th>\n",
       "      <td>0.190314</td>\n",
       "      <td>0.020633</td>\n",
       "      <td>0.870409</td>\n",
       "      <td>-0.098071</td>\n",
       "      <td>1.886864</td>\n",
       "    </tr>\n",
       "    <tr>\n",
       "      <th>1</th>\n",
       "      <td>0.202112</td>\n",
       "      <td>0.022299</td>\n",
       "      <td>0.833578</td>\n",
       "      <td>-0.141016</td>\n",
       "      <td>1.798428</td>\n",
       "    </tr>\n",
       "    <tr>\n",
       "      <th>2</th>\n",
       "      <td>0.411427</td>\n",
       "      <td>0.024214</td>\n",
       "      <td>0.840901</td>\n",
       "      <td>-0.017137</td>\n",
       "      <td>1.855285</td>\n",
       "    </tr>\n",
       "    <tr>\n",
       "      <th>3</th>\n",
       "      <td>0.196657</td>\n",
       "      <td>0.020590</td>\n",
       "      <td>0.733219</td>\n",
       "      <td>-0.000270</td>\n",
       "      <td>1.497750</td>\n",
       "    </tr>\n",
       "    <tr>\n",
       "      <th>4</th>\n",
       "      <td>0.196407</td>\n",
       "      <td>0.021503</td>\n",
       "      <td>0.637278</td>\n",
       "      <td>-0.042960</td>\n",
       "      <td>1.931113</td>\n",
       "    </tr>\n",
       "  </tbody>\n",
       "</table>\n",
       "</div>"
      ],
      "text/plain": [
       "         Om      Obh2         h         w        wa\n",
       "0  0.190314  0.020633  0.870409 -0.098071  1.886864\n",
       "1  0.202112  0.022299  0.833578 -0.141016  1.798428\n",
       "2  0.411427  0.024214  0.840901 -0.017137  1.855285\n",
       "3  0.196657  0.020590  0.733219 -0.000270  1.497750\n",
       "4  0.196407  0.021503  0.637278 -0.042960  1.931113"
      ]
     },
     "execution_count": 4,
     "metadata": {},
     "output_type": "execute_result"
    }
   ],
   "source": [
    "# nested_case1 = nested_case1[['Om', 'Obh2', 'h', 'w', 'wa']]\n",
    "# neuralike_case1_10 = neuralike_case1_10[['Om', 'Obh2', 'h', 'w', 'wa']]\n",
    "neuralike_case1_10.head()"
   ]
  },
  {
   "cell_type": "markdown",
   "metadata": {},
   "source": [
    "## dlogz_start = 10\n"
   ]
  },
  {
   "cell_type": "code",
   "execution_count": 5,
   "metadata": {},
   "outputs": [],
   "source": [
    "from scipy.stats import wasserstein_distance"
   ]
  },
  {
   "cell_type": "code",
   "execution_count": 6,
   "metadata": {},
   "outputs": [
    {
     "name": "stdout",
     "output_type": "stream",
     "text": [
      "& $0.00480$ & $0.00004$ & $0.00428$ & $0.01241$ & $0.11283$\n"
     ]
    }
   ],
   "source": [
    "Om1a = wasserstein_distance(nested_case1['Om'].values, neuralike_case1_10['Om'].values, u_weights=w_nested_case1a, v_weights=w_neuralike_case1a)\n",
    "Ob1a = wasserstein_distance(nested_case1['Obh2'].values, neuralike_case1_10['Obh2'].values, u_weights=w_nested_case1a, v_weights=w_neuralike_case1a)\n",
    "h1a = wasserstein_distance(nested_case1['h'].values, neuralike_case1_10['h'].values, u_weights=w_nested_case1a, v_weights=w_neuralike_case1a)\n",
    "w1a = wasserstein_distance(nested_case1['w'].values, neuralike_case1_10['w'].values, u_weights=w_nested_case1a, v_weights=w_neuralike_case1a)\n",
    "wa1a = wasserstein_distance(nested_case1['wa'].values, neuralike_case1_10['wa'].values, u_weights=w_nested_case1a, v_weights=w_neuralike_case1a)\n",
    "print(\"& ${:.5f}$ & ${:.5f}$ & ${:.5f}$ & ${:.5f}$ & ${:.5f}$\".format(Om1a, Ob1a, h1a, w1a, wa1a))"
   ]
  },
  {
   "cell_type": "markdown",
   "metadata": {},
   "source": [
    "## dlogz_start = 5"
   ]
  },
  {
   "cell_type": "code",
   "execution_count": 7,
   "metadata": {},
   "outputs": [
    {
     "name": "stdout",
     "output_type": "stream",
     "text": [
      "& $0.00091$ & $0.00004$ & $0.00518$ & $0.00997$ & $0.05761$\n"
     ]
    }
   ],
   "source": [
    "Om1b = wasserstein_distance(nested_case1['Om'].values, neuralike_case1_5['Om'].values, u_weights=w_nested_case1b, v_weights=w_neuralike_case1b)\n",
    "Ob1b = wasserstein_distance(nested_case1['Obh2'].values, neuralike_case1_5['Obh2'].values, u_weights=w_nested_case1b, v_weights=w_neuralike_case1b)\n",
    "h1b = wasserstein_distance(nested_case1['h'].values, neuralike_case1_5['h'].values, u_weights=w_nested_case1b, v_weights=w_neuralike_case1b)\n",
    "w1b = wasserstein_distance(nested_case1['w'].values, neuralike_case1_5['w'].values, u_weights=w_nested_case1b, v_weights=w_neuralike_case1b)\n",
    "wa1b = wasserstein_distance(nested_case1['wa'].values, neuralike_case1_5['wa'].values, u_weights=w_nested_case1b, v_weights=w_neuralike_case1b)\n",
    "print(\"& ${:.5f}$ & ${:.5f}$ & ${:.5f}$ & ${:.5f}$ & ${:.5f}$\".format(Om1b, Ob1b, h1b, w1b, wa1b))"
   ]
  },
  {
   "cell_type": "markdown",
   "metadata": {},
   "source": [
    "## Case 2, 4k live points, same model CPL and 5 free parameters"
   ]
  },
  {
   "cell_type": "code",
   "execution_count": 8,
   "metadata": {},
   "outputs": [],
   "source": [
    "header2 = ['Om', 'Obh2', 'h', 'w', 'wa']\n",
    "\n",
    "nestedfile2 = dir_name+'waCDM_phy_CBAO+HD+Pantheon_nested_multi_4k_1.txt'\n",
    "neuralfile2 = dir_name+'waCDM_phy_HD+CBAO+Pantheon_nested_multi_neuralike_4kdlogz20_1.txt'\n",
    "nested_case2 = np.loadtxt(nestedfile2, usecols=(2,3,4,5,6))\n",
    "neuralike_case2 = np.loadtxt(neuralfile2, usecols=(2,3,4,5,6))\n",
    "\n",
    "w_nested_case2 = np.loadtxt(nestedfile2, usecols=(0))\n",
    "w_neuralike_case2 = np.loadtxt(neuralfile2, usecols=(0))\n",
    "\n",
    "nested_case2 = pd.DataFrame(nested_case2, columns=header2)\n",
    "neuralike_case2 = pd.DataFrame(neuralike_case2, columns=header2)"
   ]
  },
  {
   "cell_type": "code",
   "execution_count": 9,
   "metadata": {},
   "outputs": [
    {
     "data": {
      "text/html": [
       "<div>\n",
       "<style scoped>\n",
       "    .dataframe tbody tr th:only-of-type {\n",
       "        vertical-align: middle;\n",
       "    }\n",
       "\n",
       "    .dataframe tbody tr th {\n",
       "        vertical-align: top;\n",
       "    }\n",
       "\n",
       "    .dataframe thead th {\n",
       "        text-align: right;\n",
       "    }\n",
       "</style>\n",
       "<table border=\"1\" class=\"dataframe\">\n",
       "  <thead>\n",
       "    <tr style=\"text-align: right;\">\n",
       "      <th></th>\n",
       "      <th>Om</th>\n",
       "      <th>Obh2</th>\n",
       "      <th>h</th>\n",
       "      <th>w</th>\n",
       "      <th>wa</th>\n",
       "    </tr>\n",
       "  </thead>\n",
       "  <tbody>\n",
       "    <tr>\n",
       "      <th>0</th>\n",
       "      <td>0.157075</td>\n",
       "      <td>0.021242</td>\n",
       "      <td>0.885001</td>\n",
       "      <td>-0.082855</td>\n",
       "      <td>1.826681</td>\n",
       "    </tr>\n",
       "    <tr>\n",
       "      <th>1</th>\n",
       "      <td>0.148660</td>\n",
       "      <td>0.024457</td>\n",
       "      <td>0.892356</td>\n",
       "      <td>-0.028418</td>\n",
       "      <td>1.565048</td>\n",
       "    </tr>\n",
       "    <tr>\n",
       "      <th>2</th>\n",
       "      <td>0.157508</td>\n",
       "      <td>0.022240</td>\n",
       "      <td>0.747432</td>\n",
       "      <td>-0.034120</td>\n",
       "      <td>1.900326</td>\n",
       "    </tr>\n",
       "    <tr>\n",
       "      <th>3</th>\n",
       "      <td>0.132863</td>\n",
       "      <td>0.023489</td>\n",
       "      <td>0.849439</td>\n",
       "      <td>-0.059571</td>\n",
       "      <td>1.421665</td>\n",
       "    </tr>\n",
       "    <tr>\n",
       "      <th>4</th>\n",
       "      <td>0.189798</td>\n",
       "      <td>0.024814</td>\n",
       "      <td>0.893979</td>\n",
       "      <td>-0.118741</td>\n",
       "      <td>1.666078</td>\n",
       "    </tr>\n",
       "  </tbody>\n",
       "</table>\n",
       "</div>"
      ],
      "text/plain": [
       "         Om      Obh2         h         w        wa\n",
       "0  0.157075  0.021242  0.885001 -0.082855  1.826681\n",
       "1  0.148660  0.024457  0.892356 -0.028418  1.565048\n",
       "2  0.157508  0.022240  0.747432 -0.034120  1.900326\n",
       "3  0.132863  0.023489  0.849439 -0.059571  1.421665\n",
       "4  0.189798  0.024814  0.893979 -0.118741  1.666078"
      ]
     },
     "execution_count": 9,
     "metadata": {},
     "output_type": "execute_result"
    }
   ],
   "source": [
    "neuralike_case2.head()"
   ]
  },
  {
   "cell_type": "code",
   "execution_count": 10,
   "metadata": {},
   "outputs": [],
   "source": [
    "Om2 = wasserstein_distance(nested_case2['Om'].values, neuralike_case2['Om'].values, u_weights=w_nested_case2, v_weights=w_neuralike_case2)\n",
    "Ob2 = wasserstein_distance(nested_case2['Obh2'].values, neuralike_case2['Obh2'].values, u_weights=w_nested_case2, v_weights=w_neuralike_case2)\n",
    "h2 = wasserstein_distance(nested_case2['h'].values, neuralike_case2['h'].values, u_weights=w_nested_case2, v_weights=w_neuralike_case2)\n",
    "w2 = wasserstein_distance(nested_case2['w'].values, neuralike_case2['w'].values, u_weights=w_nested_case2, v_weights=w_neuralike_case2)\n",
    "wa2 = wasserstein_distance(nested_case2['wa'].values, neuralike_case2['wa'].values, u_weights=w_nested_case2, v_weights=w_neuralike_case2)"
   ]
  },
  {
   "cell_type": "code",
   "execution_count": 11,
   "metadata": {},
   "outputs": [
    {
     "name": "stdout",
     "output_type": "stream",
     "text": [
      "& $0.00095$ & $0.00002$ & $0.00111$ & $0.00810$ & $0.06279$\n"
     ]
    }
   ],
   "source": [
    "print(\"& ${:.5f}$ & ${:.5f}$ & ${:.5f}$ & ${:.5f}$ & ${:.5f}$\".format(Om2, Ob2, h2, w2, wa2))"
   ]
  },
  {
   "cell_type": "markdown",
   "metadata": {},
   "source": [
    "## Case 3: 4k live points, CPL with 8 free parameters"
   ]
  },
  {
   "cell_type": "code",
   "execution_count": 12,
   "metadata": {},
   "outputs": [],
   "source": [
    "header3 = ['Om', 'Obh2', 'h', 's8', 'mnu', 'w', 'wa', 'Ok']\n",
    "\n",
    "nestedfile3 = dir_name+'nuowaCDM_phy_HD+Pantheon+CBAO+fs8+Planck_15_nested_multi_1.txt'\n",
    "neuralfile3 = dir_name+'nuowaCDM_phy_Pantheon+HD+CBAO+fs8+Planck_15_nested_multi_neuralike_1.txt'\n",
    "nested_case3 = np.loadtxt(nestedfile3, usecols=(2,3,4,5,6,7,8,9))\n",
    "neuralike_case3 = np.loadtxt(neuralfile3, usecols=(2,3,4,5,6,7,8,9))\n",
    "\n",
    "w_nested_case3 = np.loadtxt(nestedfile3, usecols=(0))\n",
    "w_neuralike_case3 = np.loadtxt(neuralfile3, usecols=(0))\n",
    "\n",
    "nested_case3 = pd.DataFrame(nested_case3, columns=header3)\n",
    "neuralike_case3 = pd.DataFrame(neuralike_case3, columns=header3)"
   ]
  },
  {
   "cell_type": "code",
   "execution_count": 13,
   "metadata": {},
   "outputs": [
    {
     "data": {
      "text/html": [
       "<div>\n",
       "<style scoped>\n",
       "    .dataframe tbody tr th:only-of-type {\n",
       "        vertical-align: middle;\n",
       "    }\n",
       "\n",
       "    .dataframe tbody tr th {\n",
       "        vertical-align: top;\n",
       "    }\n",
       "\n",
       "    .dataframe thead th {\n",
       "        text-align: right;\n",
       "    }\n",
       "</style>\n",
       "<table border=\"1\" class=\"dataframe\">\n",
       "  <thead>\n",
       "    <tr style=\"text-align: right;\">\n",
       "      <th></th>\n",
       "      <th>Om</th>\n",
       "      <th>Obh2</th>\n",
       "      <th>h</th>\n",
       "      <th>s8</th>\n",
       "      <th>mnu</th>\n",
       "      <th>w</th>\n",
       "      <th>wa</th>\n",
       "      <th>Ok</th>\n",
       "    </tr>\n",
       "  </thead>\n",
       "  <tbody>\n",
       "    <tr>\n",
       "      <th>0</th>\n",
       "      <td>0.105265</td>\n",
       "      <td>0.021570</td>\n",
       "      <td>0.872014</td>\n",
       "      <td>0.862017</td>\n",
       "      <td>0.724227</td>\n",
       "      <td>-0.144261</td>\n",
       "      <td>1.846471</td>\n",
       "      <td>-0.002280</td>\n",
       "    </tr>\n",
       "    <tr>\n",
       "      <th>1</th>\n",
       "      <td>0.126452</td>\n",
       "      <td>0.023722</td>\n",
       "      <td>0.582245</td>\n",
       "      <td>0.873522</td>\n",
       "      <td>0.920966</td>\n",
       "      <td>-0.112327</td>\n",
       "      <td>1.968310</td>\n",
       "      <td>-0.006609</td>\n",
       "    </tr>\n",
       "    <tr>\n",
       "      <th>2</th>\n",
       "      <td>0.114429</td>\n",
       "      <td>0.022467</td>\n",
       "      <td>0.625467</td>\n",
       "      <td>0.716972</td>\n",
       "      <td>0.207459</td>\n",
       "      <td>-0.063751</td>\n",
       "      <td>1.690782</td>\n",
       "      <td>-0.018216</td>\n",
       "    </tr>\n",
       "    <tr>\n",
       "      <th>3</th>\n",
       "      <td>0.117947</td>\n",
       "      <td>0.023878</td>\n",
       "      <td>0.531023</td>\n",
       "      <td>0.910337</td>\n",
       "      <td>0.295187</td>\n",
       "      <td>-0.064626</td>\n",
       "      <td>1.980239</td>\n",
       "      <td>-0.010762</td>\n",
       "    </tr>\n",
       "    <tr>\n",
       "      <th>4</th>\n",
       "      <td>0.146176</td>\n",
       "      <td>0.023484</td>\n",
       "      <td>0.822183</td>\n",
       "      <td>0.652892</td>\n",
       "      <td>0.055304</td>\n",
       "      <td>-0.067901</td>\n",
       "      <td>1.383152</td>\n",
       "      <td>0.004074</td>\n",
       "    </tr>\n",
       "  </tbody>\n",
       "</table>\n",
       "</div>"
      ],
      "text/plain": [
       "         Om      Obh2         h        s8       mnu         w        wa  \\\n",
       "0  0.105265  0.021570  0.872014  0.862017  0.724227 -0.144261  1.846471   \n",
       "1  0.126452  0.023722  0.582245  0.873522  0.920966 -0.112327  1.968310   \n",
       "2  0.114429  0.022467  0.625467  0.716972  0.207459 -0.063751  1.690782   \n",
       "3  0.117947  0.023878  0.531023  0.910337  0.295187 -0.064626  1.980239   \n",
       "4  0.146176  0.023484  0.822183  0.652892  0.055304 -0.067901  1.383152   \n",
       "\n",
       "         Ok  \n",
       "0 -0.002280  \n",
       "1 -0.006609  \n",
       "2 -0.018216  \n",
       "3 -0.010762  \n",
       "4  0.004074  "
      ]
     },
     "execution_count": 13,
     "metadata": {},
     "output_type": "execute_result"
    }
   ],
   "source": [
    "neuralike_case3.head()"
   ]
  },
  {
   "cell_type": "code",
   "execution_count": 14,
   "metadata": {},
   "outputs": [],
   "source": [
    "Om3 = wasserstein_distance(nested_case3['Om'].values, neuralike_case3['Om'].values, u_weights=w_nested_case3, v_weights=w_neuralike_case3)\n",
    "Ob3 = wasserstein_distance(nested_case3['Obh2'].values, neuralike_case3['Obh2'].values, u_weights=w_nested_case3, v_weights=w_neuralike_case3)\n",
    "h3 = wasserstein_distance(nested_case3['h'].values, neuralike_case3['h'].values, u_weights=w_nested_case3, v_weights=w_neuralike_case3)\n",
    "w3 = wasserstein_distance(nested_case3['w'].values, neuralike_case3['w'].values, u_weights=w_nested_case3, v_weights=w_neuralike_case3)\n",
    "wa3 = wasserstein_distance(nested_case3['wa'].values, neuralike_case3['wa'].values, u_weights=w_nested_case3, v_weights=w_neuralike_case3)\n",
    "Ok3 = wasserstein_distance(nested_case3['Ok'].values, neuralike_case3['Ok'].values, u_weights=w_nested_case3, v_weights=w_neuralike_case3)\n",
    "s83 = wasserstein_distance(nested_case3['s8'].values, neuralike_case3['s8'].values, u_weights=w_nested_case3, v_weights=w_neuralike_case3)\n",
    "mnu3 = wasserstein_distance(nested_case3['mnu'].values, neuralike_case3['mnu'].values, u_weights=w_nested_case3, v_weights=w_neuralike_case3)"
   ]
  },
  {
   "cell_type": "code",
   "execution_count": 16,
   "metadata": {},
   "outputs": [
    {
     "name": "stdout",
     "output_type": "stream",
     "text": [
      "& $0.00055$ & $0.00001$ & $0.00054$ & $0.00335$ & $0.01396$ & $0.00018$ & $0.00971$ & $0.01753$\n"
     ]
    }
   ],
   "source": [
    "print(\"& ${:.5f}$ & ${:.5f}$ & ${:.5f}$ & ${:.5f}$ & ${:.5f}$ & ${:.5f}$ & ${:.5f}$ & ${:.5f}$\".format(Om3, Ob3, h3, w3, wa3, Ok3, s83, mnu3))"
   ]
  },
  {
   "cell_type": "code",
   "execution_count": null,
   "metadata": {},
   "outputs": [],
   "source": []
  }
 ],
 "metadata": {
  "kernelspec": {
   "display_name": "Python 3",
   "language": "python",
   "name": "python3"
  },
  "language_info": {
   "codemirror_mode": {
    "name": "ipython",
    "version": 3
   },
   "file_extension": ".py",
   "mimetype": "text/x-python",
   "name": "python",
   "nbconvert_exporter": "python",
   "pygments_lexer": "ipython3",
   "version": "3.8.10"
  }
 },
 "nbformat": 4,
 "nbformat_minor": 4
}
