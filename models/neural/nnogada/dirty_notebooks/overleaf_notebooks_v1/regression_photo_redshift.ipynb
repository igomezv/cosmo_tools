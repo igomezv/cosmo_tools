{
 "cells": [
  {
   "cell_type": "code",
   "execution_count": 12,
   "metadata": {
    "id": "ItxP3RKqqmzb"
   },
   "outputs": [],
   "source": [
    "import numpy as np\n",
    "import pandas as pd\n",
    "import matplotlib as mpl\n",
    "import matplotlib.pyplot as plt\n",
    "import time, os\n",
    "import random\n",
    "import seaborn as sns\n",
    "\n",
    "import astropy\n",
    "from astropy.io import fits\n",
    "\n",
    "import tensorflow as tf\n",
    "from tensorflow import keras\n",
    "from tensorflow.keras.layers import Input, Dense, LeakyReLU\n",
    "from tensorflow.keras.utils import to_categorical\n",
    "from tensorboard.plugins.hparams import api as hp\n",
    "\n",
    "from tensorflow.keras import activations\n",
    "from tensorflow.keras.losses import CategoricalCrossentropy\n",
    "from tensorflow.keras.models import Model\n",
    "\n",
    "from sklearn.metrics import accuracy_score, confusion_matrix, precision_score, roc_auc_score, f1_score\n",
    "from sklearn.preprocessing import StandardScaler\n",
    "from sklearn.model_selection import train_test_split \n",
    "from scipy.stats import bernoulli\n",
    "\n",
    "from matplotlib.ticker import FormatStrFormatter"
   ]
  },
  {
   "cell_type": "code",
   "execution_count": 13,
   "metadata": {
    "id": "tQnsPJKYqmzu"
   },
   "outputs": [],
   "source": [
    "np.random.seed(0)\n",
    "scaler = StandardScaler()"
   ]
  },
  {
   "cell_type": "markdown",
   "metadata": {
    "id": "YKypMarmqmzy"
   },
   "source": [
    "### Conjunto de datos: "
   ]
  },
  {
   "cell_type": "code",
   "execution_count": 15,
   "metadata": {
    "colab": {
     "base_uri": "https://localhost:8080/",
     "height": 206
    },
    "id": "xGCn9Krpqmz3",
    "outputId": "c49c7769-0973-4d7a-98f7-4b5e985545ac"
   },
   "outputs": [],
   "source": [
    "with fits.open('https://github.com/igomezv/cosmo_tools/blob/main/COB_22/Viviana_Acquaviva/DEEP2_uniq_Terapix_Subaru_v1.fits?raw=true') as data:\n",
    "    df = pd.DataFrame(np.array(data[1].data).byteswap().newbyteorder()) #see https://numpy.org/devdocs/user/basics.byteswapping.html#changing-byte-ordering"
   ]
  },
  {
   "cell_type": "code",
   "execution_count": 16,
   "metadata": {},
   "outputs": [
    {
     "data": {
      "text/html": [
       "<div>\n",
       "<style scoped>\n",
       "    .dataframe tbody tr th:only-of-type {\n",
       "        vertical-align: middle;\n",
       "    }\n",
       "\n",
       "    .dataframe tbody tr th {\n",
       "        vertical-align: top;\n",
       "    }\n",
       "\n",
       "    .dataframe thead th {\n",
       "        text-align: right;\n",
       "    }\n",
       "</style>\n",
       "<table border=\"1\" class=\"dataframe\">\n",
       "  <thead>\n",
       "    <tr style=\"text-align: right;\">\n",
       "      <th></th>\n",
       "      <th>objno_deep2</th>\n",
       "      <th>ra_deep2</th>\n",
       "      <th>dec_deep2</th>\n",
       "      <th>magb</th>\n",
       "      <th>magr</th>\n",
       "      <th>magi</th>\n",
       "      <th>pgal</th>\n",
       "      <th>sfd_ebv</th>\n",
       "      <th>class</th>\n",
       "      <th>subclass</th>\n",
       "      <th>...</th>\n",
       "      <th>ra_subaru</th>\n",
       "      <th>dec_subaru</th>\n",
       "      <th>y</th>\n",
       "      <th>yerr</th>\n",
       "      <th>y_apercor</th>\n",
       "      <th>yerr_aper</th>\n",
       "      <th>yerr_apercor</th>\n",
       "      <th>y(sexflag)</th>\n",
       "      <th>y_radius_arcsec</th>\n",
       "      <th>subaru_source</th>\n",
       "    </tr>\n",
       "  </thead>\n",
       "  <tbody>\n",
       "    <tr>\n",
       "      <th>0</th>\n",
       "      <td>11001673</td>\n",
       "      <td>213.868704</td>\n",
       "      <td>51.956445</td>\n",
       "      <td>23.487745</td>\n",
       "      <td>23.143082</td>\n",
       "      <td>22.582092</td>\n",
       "      <td>1.000000</td>\n",
       "      <td>0.010943</td>\n",
       "      <td>b''</td>\n",
       "      <td>b''</td>\n",
       "      <td>...</td>\n",
       "      <td>213.868626</td>\n",
       "      <td>51.956443</td>\n",
       "      <td>21.869627</td>\n",
       "      <td>0.060918</td>\n",
       "      <td>21.926356</td>\n",
       "      <td>0.041955</td>\n",
       "      <td>0.141778</td>\n",
       "      <td>3.0</td>\n",
       "      <td>0.656514</td>\n",
       "      <td>1</td>\n",
       "    </tr>\n",
       "    <tr>\n",
       "      <th>1</th>\n",
       "      <td>11001699</td>\n",
       "      <td>213.810471</td>\n",
       "      <td>51.942316</td>\n",
       "      <td>22.067692</td>\n",
       "      <td>20.034674</td>\n",
       "      <td>19.545080</td>\n",
       "      <td>3.000000</td>\n",
       "      <td>0.011014</td>\n",
       "      <td>b'GALAXY'</td>\n",
       "      <td>b''</td>\n",
       "      <td>...</td>\n",
       "      <td>213.810455</td>\n",
       "      <td>51.942321</td>\n",
       "      <td>18.757229</td>\n",
       "      <td>0.005813</td>\n",
       "      <td>18.811085</td>\n",
       "      <td>0.004386</td>\n",
       "      <td>0.050987</td>\n",
       "      <td>3.0</td>\n",
       "      <td>0.744269</td>\n",
       "      <td>1</td>\n",
       "    </tr>\n",
       "    <tr>\n",
       "      <th>2</th>\n",
       "      <td>11001770</td>\n",
       "      <td>213.848431</td>\n",
       "      <td>51.948876</td>\n",
       "      <td>24.144438</td>\n",
       "      <td>24.103180</td>\n",
       "      <td>24.020006</td>\n",
       "      <td>3.000000</td>\n",
       "      <td>0.010856</td>\n",
       "      <td>b'GALAXY'</td>\n",
       "      <td>b''</td>\n",
       "      <td>...</td>\n",
       "      <td>-99.000000</td>\n",
       "      <td>-99.000000</td>\n",
       "      <td>-99.000000</td>\n",
       "      <td>-99.000000</td>\n",
       "      <td>-99.000000</td>\n",
       "      <td>-99.000000</td>\n",
       "      <td>-99.000000</td>\n",
       "      <td>-99.0</td>\n",
       "      <td>-99.000000</td>\n",
       "      <td>-99</td>\n",
       "    </tr>\n",
       "    <tr>\n",
       "      <th>3</th>\n",
       "      <td>11001800</td>\n",
       "      <td>213.831758</td>\n",
       "      <td>51.952548</td>\n",
       "      <td>25.336836</td>\n",
       "      <td>23.508480</td>\n",
       "      <td>23.081087</td>\n",
       "      <td>0.509809</td>\n",
       "      <td>0.010823</td>\n",
       "      <td>b'GALAXY'</td>\n",
       "      <td>b''</td>\n",
       "      <td>...</td>\n",
       "      <td>213.831766</td>\n",
       "      <td>51.952544</td>\n",
       "      <td>22.404269</td>\n",
       "      <td>0.088970</td>\n",
       "      <td>22.535600</td>\n",
       "      <td>0.053497</td>\n",
       "      <td>0.094733</td>\n",
       "      <td>0.0</td>\n",
       "      <td>0.455820</td>\n",
       "      <td>1</td>\n",
       "    </tr>\n",
       "    <tr>\n",
       "      <th>4</th>\n",
       "      <td>11001860</td>\n",
       "      <td>213.832550</td>\n",
       "      <td>51.954174</td>\n",
       "      <td>24.382738</td>\n",
       "      <td>23.401484</td>\n",
       "      <td>22.572845</td>\n",
       "      <td>3.000000</td>\n",
       "      <td>0.010827</td>\n",
       "      <td>b'GALAXY'</td>\n",
       "      <td>b''</td>\n",
       "      <td>...</td>\n",
       "      <td>213.832574</td>\n",
       "      <td>51.954175</td>\n",
       "      <td>22.242717</td>\n",
       "      <td>0.070760</td>\n",
       "      <td>22.100980</td>\n",
       "      <td>0.033256</td>\n",
       "      <td>0.073067</td>\n",
       "      <td>0.0</td>\n",
       "      <td>0.442022</td>\n",
       "      <td>1</td>\n",
       "    </tr>\n",
       "  </tbody>\n",
       "</table>\n",
       "<p>5 rows × 78 columns</p>\n",
       "</div>"
      ],
      "text/plain": [
       "   objno_deep2    ra_deep2  dec_deep2       magb       magr       magi  \\\n",
       "0     11001673  213.868704  51.956445  23.487745  23.143082  22.582092   \n",
       "1     11001699  213.810471  51.942316  22.067692  20.034674  19.545080   \n",
       "2     11001770  213.848431  51.948876  24.144438  24.103180  24.020006   \n",
       "3     11001800  213.831758  51.952548  25.336836  23.508480  23.081087   \n",
       "4     11001860  213.832550  51.954174  24.382738  23.401484  22.572845   \n",
       "\n",
       "       pgal   sfd_ebv      class subclass  ...   ra_subaru dec_subaru  \\\n",
       "0  1.000000  0.010943        b''      b''  ...  213.868626  51.956443   \n",
       "1  3.000000  0.011014  b'GALAXY'      b''  ...  213.810455  51.942321   \n",
       "2  3.000000  0.010856  b'GALAXY'      b''  ...  -99.000000 -99.000000   \n",
       "3  0.509809  0.010823  b'GALAXY'      b''  ...  213.831766  51.952544   \n",
       "4  3.000000  0.010827  b'GALAXY'      b''  ...  213.832574  51.954175   \n",
       "\n",
       "           y       yerr  y_apercor  yerr_aper  yerr_apercor  y(sexflag)  \\\n",
       "0  21.869627   0.060918  21.926356   0.041955      0.141778         3.0   \n",
       "1  18.757229   0.005813  18.811085   0.004386      0.050987         3.0   \n",
       "2 -99.000000 -99.000000 -99.000000 -99.000000    -99.000000       -99.0   \n",
       "3  22.404269   0.088970  22.535600   0.053497      0.094733         0.0   \n",
       "4  22.242717   0.070760  22.100980   0.033256      0.073067         0.0   \n",
       "\n",
       "   y_radius_arcsec  subaru_source  \n",
       "0         0.656514              1  \n",
       "1         0.744269              1  \n",
       "2       -99.000000            -99  \n",
       "3         0.455820              1  \n",
       "4         0.442022              1  \n",
       "\n",
       "[5 rows x 78 columns]"
      ]
     },
     "execution_count": 16,
     "metadata": {},
     "output_type": "execute_result"
    }
   ],
   "source": [
    "df.head()"
   ]
  },
  {
   "cell_type": "code",
   "execution_count": 18,
   "metadata": {},
   "outputs": [
    {
     "data": {
      "text/html": [
       "<div>\n",
       "<style scoped>\n",
       "    .dataframe tbody tr th:only-of-type {\n",
       "        vertical-align: middle;\n",
       "    }\n",
       "\n",
       "    .dataframe tbody tr th {\n",
       "        vertical-align: top;\n",
       "    }\n",
       "\n",
       "    .dataframe thead th {\n",
       "        text-align: right;\n",
       "    }\n",
       "</style>\n",
       "<table border=\"1\" class=\"dataframe\">\n",
       "  <thead>\n",
       "    <tr style=\"text-align: right;\">\n",
       "      <th></th>\n",
       "      <th>u_apercor</th>\n",
       "      <th>g_apercor</th>\n",
       "      <th>r_apercor</th>\n",
       "      <th>i_apercor</th>\n",
       "      <th>z_apercor</th>\n",
       "      <th>y_apercor</th>\n",
       "    </tr>\n",
       "  </thead>\n",
       "  <tbody>\n",
       "    <tr>\n",
       "      <th>0</th>\n",
       "      <td>23.543491</td>\n",
       "      <td>23.430495</td>\n",
       "      <td>23.100311</td>\n",
       "      <td>22.768970</td>\n",
       "      <td>22.223810</td>\n",
       "      <td>21.926356</td>\n",
       "    </tr>\n",
       "    <tr>\n",
       "      <th>1</th>\n",
       "      <td>30.848978</td>\n",
       "      <td>28.989668</td>\n",
       "      <td>19.027422</td>\n",
       "      <td>99.000000</td>\n",
       "      <td>99.000000</td>\n",
       "      <td>18.811085</td>\n",
       "    </tr>\n",
       "    <tr>\n",
       "      <th>2</th>\n",
       "      <td>24.324670</td>\n",
       "      <td>24.273606</td>\n",
       "      <td>24.150319</td>\n",
       "      <td>23.446252</td>\n",
       "      <td>23.574236</td>\n",
       "      <td>-99.000000</td>\n",
       "    </tr>\n",
       "    <tr>\n",
       "      <th>3</th>\n",
       "      <td>99.000000</td>\n",
       "      <td>24.804309</td>\n",
       "      <td>23.636544</td>\n",
       "      <td>23.009222</td>\n",
       "      <td>22.689591</td>\n",
       "      <td>22.535600</td>\n",
       "    </tr>\n",
       "    <tr>\n",
       "      <th>4</th>\n",
       "      <td>24.362068</td>\n",
       "      <td>24.136913</td>\n",
       "      <td>23.490342</td>\n",
       "      <td>22.777181</td>\n",
       "      <td>22.319676</td>\n",
       "      <td>22.100980</td>\n",
       "    </tr>\n",
       "  </tbody>\n",
       "</table>\n",
       "</div>"
      ],
      "text/plain": [
       "   u_apercor  g_apercor  r_apercor  i_apercor  z_apercor  y_apercor\n",
       "0  23.543491  23.430495  23.100311  22.768970  22.223810  21.926356\n",
       "1  30.848978  28.989668  19.027422  99.000000  99.000000  18.811085\n",
       "2  24.324670  24.273606  24.150319  23.446252  23.574236 -99.000000\n",
       "3  99.000000  24.804309  23.636544  23.009222  22.689591  22.535600\n",
       "4  24.362068  24.136913  23.490342  22.777181  22.319676  22.100980"
      ]
     },
     "execution_count": 18,
     "metadata": {},
     "output_type": "execute_result"
    }
   ],
   "source": [
    "features = df[['u_apercor', 'g_apercor', 'r_apercor', 'i_apercor', 'z_apercor','y_apercor']]\n",
    "features.head()"
   ]
  },
  {
   "cell_type": "code",
   "execution_count": 19,
   "metadata": {},
   "outputs": [
    {
     "data": {
      "text/plain": [
       "0    1.115261\n",
       "1    0.290608\n",
       "2    0.605744\n",
       "3    1.306796\n",
       "4    0.957669\n",
       "Name: zhelio, dtype: float32"
      ]
     },
     "execution_count": 19,
     "metadata": {},
     "output_type": "execute_result"
    }
   ],
   "source": [
    "target = df['zhelio']\n",
    "target.head()"
   ]
  },
  {
   "cell_type": "code",
   "execution_count": 20,
   "metadata": {
    "id": "vaLXQeaMqm0S"
   },
   "outputs": [],
   "source": [
    "# Produces test split.\n",
    "X_train, X_val, Y_train, Y_val = train_test_split(features, target)"
   ]
  },
  {
   "cell_type": "markdown",
   "metadata": {
    "id": "ZLyZeQ7rqm0X"
   },
   "source": [
    "### Arquitectura del modelo proveniente de la malla de hiperparámetros"
   ]
  },
  {
   "cell_type": "code",
   "execution_count": 25,
   "metadata": {},
   "outputs": [],
   "source": [
    "# loss -> val_loss\n",
    "callbacks = [tf.keras.callbacks.EarlyStopping(monitor='val_loss', mode='min',\n",
    "                                   min_delta=0.0,\n",
    "                                   patience=200,\n",
    "                                   restore_best_weights=True, verbose=False)\n",
    "                                   ]\n",
    "\n",
    "n_cols = 1\n",
    "epochs=200"
   ]
  },
  {
   "cell_type": "code",
   "execution_count": 31,
   "metadata": {
    "id": "dSDGtnhRqm0Z",
    "scrolled": true
   },
   "outputs": [],
   "source": [
    "def train_test_model(hparams):    \n",
    "    \n",
    "    # Train LSTM model and predict on validation set\n",
    "    model = tf.keras.Sequential()\n",
    "    model.add(Dense(int(X_train.shape[1])))\n",
    "    \n",
    "    for i in range(hparams['HP_LAYERS']):        \n",
    "        model.add(Dense(hparams['HP_NUM_UNITS'], activation='relu'))\n",
    "    model.add(Dense(1, activation='linear'))\n",
    "     \n",
    "    optimizer = tf.keras.optimizers.Adam(learning_rate=hparams['HP_LEARNING'], beta_1=0.9, beta_2=0.999, epsilon=1e-3)\n",
    "    model.compile(\n",
    "            optimizer=optimizer,\n",
    "            loss='mse', \n",
    "            metrics=['mean_squared_error'])\n",
    "    \n",
    "    # Run with 1 epoch to speed things up for demo purposes\n",
    "\n",
    "    train = model.fit(X_train, Y_train, epochs=epochs, validation_data=(X_val, Y_val),\n",
    "              callbacks=callbacks, batch_size=hparams['HP_BATCHSIZE'], shuffle=False, verbose=False)\n",
    "\n",
    "    _, loss = model.evaluate(X_val, Y_val)\n",
    "    \n",
    "    return model, loss, train.history"
   ]
  },
  {
   "cell_type": "code",
   "execution_count": 32,
   "metadata": {},
   "outputs": [],
   "source": [
    "hparams = {'HP_LAYERS': 4, 'HP_NUM_UNITS': 200, 'HP_BATCHSIZE': 16, 'HP_LEARNING':0.0001}"
   ]
  },
  {
   "cell_type": "code",
   "execution_count": null,
   "metadata": {},
   "outputs": [],
   "source": [
    "model1, loss_test1, history1 = train_test_model(hparams)"
   ]
  },
  {
   "cell_type": "code",
   "execution_count": null,
   "metadata": {},
   "outputs": [],
   "source": [
    "plt.plot(history1['loss'], label='Training')\n",
    "plt.plot(history1['val_loss'], label='Validation')\n",
    "plt.ylabel('Loss function', fontsize=14)\n",
    "plt.xlabel('Epochs', fontsize=14)\n",
    "# plt.ylim(-5, 210)\n",
    "plt.legend(loc='upper right', fontsize=14)\n",
    "plt.title(\"Grid\", fontsize=14)\n",
    "# plt.savefig(\"loss_jla_grid.png\")"
   ]
  },
  {
   "cell_type": "code",
   "execution_count": null,
   "metadata": {},
   "outputs": [],
   "source": [
    "print(\"number of epochs\", len(history1['loss']))"
   ]
  },
  {
   "cell_type": "code",
   "execution_count": null,
   "metadata": {},
   "outputs": [],
   "source": [
    "model1.save(\"models/model_zphoto.h5\")"
   ]
  },
  {
   "cell_type": "code",
   "execution_count": null,
   "metadata": {},
   "outputs": [],
   "source": [
    "loss_test1"
   ]
  },
  {
   "cell_type": "code",
   "execution_count": null,
   "metadata": {},
   "outputs": [],
   "source": []
  }
 ],
 "metadata": {
  "colab": {
   "name": "Stellar_Classifier.ipynb",
   "provenance": []
  },
  "kernelspec": {
   "display_name": "Python 3 (ipykernel)",
   "language": "python",
   "name": "python3"
  },
  "language_info": {
   "codemirror_mode": {
    "name": "ipython",
    "version": 3
   },
   "file_extension": ".py",
   "mimetype": "text/x-python",
   "name": "python",
   "nbconvert_exporter": "python",
   "pygments_lexer": "ipython3",
   "version": "3.10.6"
  },
  "latex_envs": {
   "LaTeX_envs_menu_present": true,
   "autoclose": false,
   "autocomplete": false,
   "bibliofile": "biblio.bib",
   "cite_by": "apalike",
   "current_citInitial": 1,
   "eqLabelWithNumbers": true,
   "eqNumInitial": 1,
   "hotkeys": {
    "equation": "Ctrl-E",
    "itemize": "Ctrl-I"
   },
   "labels_anchors": false,
   "latex_user_defs": false,
   "report_style_numbering": true,
   "user_envs_cfg": true
  },
  "notify_time": "5",
  "varInspector": {
   "cols": {
    "lenName": 16,
    "lenType": 16,
    "lenVar": 40
   },
   "kernels_config": {
    "python": {
     "delete_cmd_postfix": "",
     "delete_cmd_prefix": "del ",
     "library": "var_list.py",
     "varRefreshCmd": "print(var_dic_list())"
    },
    "r": {
     "delete_cmd_postfix": ") ",
     "delete_cmd_prefix": "rm(",
     "library": "var_list.r",
     "varRefreshCmd": "cat(var_dic_list()) "
    }
   },
   "types_to_exclude": [
    "module",
    "function",
    "builtin_function_or_method",
    "instance",
    "_Feature"
   ],
   "window_display": false
  }
 },
 "nbformat": 4,
 "nbformat_minor": 1
}
