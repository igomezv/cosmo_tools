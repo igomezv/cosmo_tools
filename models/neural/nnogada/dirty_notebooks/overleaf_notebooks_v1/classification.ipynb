{
 "cells": [
  {
   "cell_type": "code",
   "execution_count": 1,
   "metadata": {
    "id": "ItxP3RKqqmzb"
   },
   "outputs": [],
   "source": [
    "import numpy as np\n",
    "import pandas as pd\n",
    "import matplotlib as mpl\n",
    "import matplotlib.pyplot as plt\n",
    "import time, os\n",
    "import random\n",
    "import seaborn as sns\n",
    "\n",
    "import tensorflow as tf\n",
    "from tensorflow import keras\n",
    "from tensorflow.keras.layers import Input, Dense, LeakyReLU\n",
    "from tensorflow.keras.utils import to_categorical\n",
    "from tensorboard.plugins.hparams import api as hp\n",
    "\n",
    "from tensorflow.keras import activations\n",
    "from tensorflow.keras.losses import CategoricalCrossentropy\n",
    "from tensorflow.keras.models import Model\n",
    "\n",
    "from sklearn.metrics import accuracy_score, confusion_matrix, precision_score, roc_auc_score, f1_score\n",
    "from sklearn.preprocessing import StandardScaler\n",
    "from sklearn.model_selection import train_test_split as split\n",
    "from scipy.stats import bernoulli\n",
    "\n",
    "from matplotlib.ticker import FormatStrFormatter"
   ]
  },
  {
   "cell_type": "code",
   "execution_count": 2,
   "metadata": {
    "id": "tQnsPJKYqmzu"
   },
   "outputs": [],
   "source": [
    "np.random.seed(0)\n",
    "scaler = StandardScaler()"
   ]
  },
  {
   "cell_type": "markdown",
   "metadata": {
    "id": "YKypMarmqmzy"
   },
   "source": [
    "### Conjunto de datos: SDSS DR17"
   ]
  },
  {
   "cell_type": "code",
   "execution_count": 3,
   "metadata": {
    "colab": {
     "base_uri": "https://localhost:8080/",
     "height": 206
    },
    "id": "xGCn9Krpqmz3",
    "outputId": "c49c7769-0973-4d7a-98f7-4b5e985545ac"
   },
   "outputs": [
    {
     "data": {
      "text/html": [
       "<div>\n",
       "<style scoped>\n",
       "    .dataframe tbody tr th:only-of-type {\n",
       "        vertical-align: middle;\n",
       "    }\n",
       "\n",
       "    .dataframe tbody tr th {\n",
       "        vertical-align: top;\n",
       "    }\n",
       "\n",
       "    .dataframe thead th {\n",
       "        text-align: right;\n",
       "    }\n",
       "</style>\n",
       "<table border=\"1\" class=\"dataframe\">\n",
       "  <thead>\n",
       "    <tr style=\"text-align: right;\">\n",
       "      <th></th>\n",
       "      <th>alpha</th>\n",
       "      <th>delta</th>\n",
       "      <th>u</th>\n",
       "      <th>g</th>\n",
       "      <th>r</th>\n",
       "      <th>i</th>\n",
       "      <th>z</th>\n",
       "      <th>class</th>\n",
       "    </tr>\n",
       "  </thead>\n",
       "  <tbody>\n",
       "    <tr>\n",
       "      <th>0</th>\n",
       "      <td>135.689107</td>\n",
       "      <td>32.494632</td>\n",
       "      <td>23.87882</td>\n",
       "      <td>22.27530</td>\n",
       "      <td>20.39501</td>\n",
       "      <td>19.16573</td>\n",
       "      <td>18.79371</td>\n",
       "      <td>GALAXY</td>\n",
       "    </tr>\n",
       "    <tr>\n",
       "      <th>1</th>\n",
       "      <td>144.826101</td>\n",
       "      <td>31.274185</td>\n",
       "      <td>24.77759</td>\n",
       "      <td>22.83188</td>\n",
       "      <td>22.58444</td>\n",
       "      <td>21.16812</td>\n",
       "      <td>21.61427</td>\n",
       "      <td>GALAXY</td>\n",
       "    </tr>\n",
       "    <tr>\n",
       "      <th>2</th>\n",
       "      <td>142.188790</td>\n",
       "      <td>35.582444</td>\n",
       "      <td>25.26307</td>\n",
       "      <td>22.66389</td>\n",
       "      <td>20.60976</td>\n",
       "      <td>19.34857</td>\n",
       "      <td>18.94827</td>\n",
       "      <td>GALAXY</td>\n",
       "    </tr>\n",
       "    <tr>\n",
       "      <th>3</th>\n",
       "      <td>338.741038</td>\n",
       "      <td>-0.402828</td>\n",
       "      <td>22.13682</td>\n",
       "      <td>23.77656</td>\n",
       "      <td>21.61162</td>\n",
       "      <td>20.50454</td>\n",
       "      <td>19.25010</td>\n",
       "      <td>GALAXY</td>\n",
       "    </tr>\n",
       "    <tr>\n",
       "      <th>4</th>\n",
       "      <td>345.282593</td>\n",
       "      <td>21.183866</td>\n",
       "      <td>19.43718</td>\n",
       "      <td>17.58028</td>\n",
       "      <td>16.49747</td>\n",
       "      <td>15.97711</td>\n",
       "      <td>15.54461</td>\n",
       "      <td>GALAXY</td>\n",
       "    </tr>\n",
       "  </tbody>\n",
       "</table>\n",
       "</div>"
      ],
      "text/plain": [
       "        alpha      delta         u         g         r         i         z  \\\n",
       "0  135.689107  32.494632  23.87882  22.27530  20.39501  19.16573  18.79371   \n",
       "1  144.826101  31.274185  24.77759  22.83188  22.58444  21.16812  21.61427   \n",
       "2  142.188790  35.582444  25.26307  22.66389  20.60976  19.34857  18.94827   \n",
       "3  338.741038  -0.402828  22.13682  23.77656  21.61162  20.50454  19.25010   \n",
       "4  345.282593  21.183866  19.43718  17.58028  16.49747  15.97711  15.54461   \n",
       "\n",
       "    class  \n",
       "0  GALAXY  \n",
       "1  GALAXY  \n",
       "2  GALAXY  \n",
       "3  GALAXY  \n",
       "4  GALAXY  "
      ]
     },
     "execution_count": 3,
     "metadata": {},
     "output_type": "execute_result"
    }
   ],
   "source": [
    "url = \"https://raw.githubusercontent.com/igomezv/nnogada/main/data/star_classification.csv\"\n",
    "data = pd.read_csv(url)\n",
    "cols = ['alpha','delta','u','g','r','i','z','class']\n",
    "data = data[cols]\n",
    "data.head()"
   ]
  },
  {
   "cell_type": "markdown",
   "metadata": {
    "id": "6XosYBBPqmz8"
   },
   "source": [
    "Se cambian las clases a vectores con números enteros\n",
    "\n",
    "$$ \\text{GALAXY}: \\begin{pmatrix}1\\\\0\\\\0\\end{pmatrix},\\quad \\text{STAR}: \\begin{pmatrix}0\\\\1\\\\0\\end{pmatrix},\\quad \\text{QSO}:\\begin{pmatrix}0\\\\0\\\\1\\end{pmatrix} $$"
   ]
  },
  {
   "cell_type": "code",
   "execution_count": 4,
   "metadata": {
    "colab": {
     "base_uri": "https://localhost:8080/"
    },
    "id": "ukwjanYVqmz_",
    "outputId": "5cbffba3-3e30-4986-f950-21cb64c87047"
   },
   "outputs": [
    {
     "name": "stdout",
     "output_type": "stream",
     "text": [
      "        alpha      delta         u         g         r         i         z  \\\n",
      "0  135.689107  32.494632  23.87882  22.27530  20.39501  19.16573  18.79371   \n",
      "1  144.826101  31.274185  24.77759  22.83188  22.58444  21.16812  21.61427   \n",
      "2  142.188790  35.582444  25.26307  22.66389  20.60976  19.34857  18.94827   \n",
      "3  338.741038  -0.402828  22.13682  23.77656  21.61162  20.50454  19.25010   \n",
      "4  345.282593  21.183866  19.43718  17.58028  16.49747  15.97711  15.54461   \n",
      "\n",
      "   class  \n",
      "0      0  \n",
      "1      0  \n",
      "2      0  \n",
      "3      0  \n",
      "4      0  \n"
     ]
    }
   ],
   "source": [
    "data[\"class\"]=[0 if i == \"GALAXY\" else 1 if i == \"STAR\" else 2 for i in data[\"class\"]]\n",
    "print(data.head())\n",
    "data = data.to_numpy()"
   ]
  },
  {
   "cell_type": "code",
   "execution_count": 5,
   "metadata": {
    "id": "gspwez8Uqm0Q"
   },
   "outputs": [],
   "source": [
    "# Divide data into X and Y and implement hot_ones in Y\n",
    "def prepare_dataset(data):\n",
    "    X, Y = np.empty((0)), np.empty((0))\n",
    "    X = data[:,0:7]\n",
    "    Y = data[:,7]\n",
    "    Y = to_categorical(Y, num_classes=3)\n",
    "    return X, Y"
   ]
  },
  {
   "cell_type": "code",
   "execution_count": 6,
   "metadata": {
    "id": "vaLXQeaMqm0S"
   },
   "outputs": [],
   "source": [
    "# Split dataset into train, validation and test sets\n",
    "X,Y = prepare_dataset(data)\n",
    "\n",
    "# Defines ratios, w.r.t. whole dataset.\n",
    "ratio_train = 0.8\n",
    "ratio_val = 0.1\n",
    "ratio_test = 0.1\n",
    "\n",
    "# Produces test split.\n",
    "x_, X_test, y_, Y_test = split(X, Y, test_size = ratio_test, random_state=0)\n",
    "\n",
    "# Adjusts val ratio, w.r.t. remaining dataset.\n",
    "ratio_remaining = 1 - ratio_test\n",
    "ratio_val_adjusted = ratio_val / ratio_remaining\n",
    "\n",
    "# Produces train and val splits.\n",
    "X_train, X_val, Y_train, Y_val = split(x_, y_, test_size=ratio_val_adjusted, random_state=0)\n",
    "\n",
    "# Normalize and scale the input sets.\n",
    "scaler.fit(X)\n",
    "X_train = scaler.transform(X_train)\n",
    "X_test  = scaler.transform(X_test)\n",
    "X_val   = scaler.transform(X_val)"
   ]
  },
  {
   "cell_type": "markdown",
   "metadata": {
    "id": "ZLyZeQ7rqm0X"
   },
   "source": [
    "### Arquitectura del modelo proveniente de la malla de hiperparámetros"
   ]
  },
  {
   "cell_type": "code",
   "execution_count": 7,
   "metadata": {
    "id": "dSDGtnhRqm0Z",
    "scrolled": true
   },
   "outputs": [
    {
     "name": "stdout",
     "output_type": "stream",
     "text": [
      "Epoch 1/50\n",
      "625/625 [==============================] - 1s 2ms/step - loss: 0.6563 - accuracy: 0.7447 - val_loss: 0.5439 - val_accuracy: 0.7902\n",
      "Epoch 2/50\n",
      "625/625 [==============================] - 1s 2ms/step - loss: 0.5263 - accuracy: 0.8008 - val_loss: 0.4972 - val_accuracy: 0.8100\n",
      "Epoch 3/50\n",
      "625/625 [==============================] - 1s 1ms/step - loss: 0.5445 - accuracy: 0.8176 - val_loss: 0.4731 - val_accuracy: 0.8233\n",
      "Epoch 4/50\n",
      "625/625 [==============================] - 1s 1ms/step - loss: 0.4677 - accuracy: 0.8280 - val_loss: 0.4634 - val_accuracy: 0.8245\n",
      "Epoch 5/50\n",
      "625/625 [==============================] - 1s 1ms/step - loss: 0.4473 - accuracy: 0.8363 - val_loss: 0.4285 - val_accuracy: 0.8411\n",
      "Epoch 6/50\n",
      "625/625 [==============================] - 1s 1ms/step - loss: 0.4372 - accuracy: 0.8432 - val_loss: 0.4386 - val_accuracy: 0.8382\n",
      "Epoch 7/50\n",
      "625/625 [==============================] - 1s 1ms/step - loss: 0.4191 - accuracy: 0.8480 - val_loss: 0.4094 - val_accuracy: 0.8495\n",
      "Epoch 8/50\n",
      "625/625 [==============================] - 1s 1ms/step - loss: 0.4055 - accuracy: 0.8530 - val_loss: 0.4040 - val_accuracy: 0.8490\n",
      "Epoch 9/50\n",
      "625/625 [==============================] - 1s 1ms/step - loss: 0.3980 - accuracy: 0.8555 - val_loss: 0.3989 - val_accuracy: 0.8528\n",
      "Epoch 10/50\n",
      "625/625 [==============================] - 1s 1ms/step - loss: 0.3902 - accuracy: 0.8581 - val_loss: 0.4126 - val_accuracy: 0.8486\n",
      "Epoch 11/50\n",
      "625/625 [==============================] - 1s 1ms/step - loss: 0.3861 - accuracy: 0.8601 - val_loss: 0.3798 - val_accuracy: 0.8637\n",
      "Epoch 12/50\n",
      "625/625 [==============================] - 1s 1ms/step - loss: 0.3830 - accuracy: 0.8613 - val_loss: 0.3856 - val_accuracy: 0.8606\n",
      "Epoch 13/50\n",
      "625/625 [==============================] - 1s 1ms/step - loss: 0.3799 - accuracy: 0.8620 - val_loss: 0.3842 - val_accuracy: 0.8590\n",
      "Epoch 14/50\n",
      "625/625 [==============================] - 1s 1ms/step - loss: 0.3741 - accuracy: 0.8649 - val_loss: 0.3688 - val_accuracy: 0.8671\n",
      "Epoch 15/50\n",
      "625/625 [==============================] - 1s 1ms/step - loss: 0.3729 - accuracy: 0.8658 - val_loss: 0.3759 - val_accuracy: 0.8631\n",
      "Epoch 16/50\n",
      "625/625 [==============================] - 1s 2ms/step - loss: 0.3701 - accuracy: 0.8665 - val_loss: 0.3716 - val_accuracy: 0.8661\n",
      "Epoch 17/50\n",
      "625/625 [==============================] - 1s 1ms/step - loss: 0.3654 - accuracy: 0.8679 - val_loss: 0.3756 - val_accuracy: 0.8627\n",
      "Epoch 18/50\n",
      "625/625 [==============================] - 1s 1ms/step - loss: 0.3641 - accuracy: 0.8688 - val_loss: 0.3620 - val_accuracy: 0.8682\n",
      "Epoch 19/50\n",
      "625/625 [==============================] - 1s 1ms/step - loss: 0.3626 - accuracy: 0.8687 - val_loss: 0.3552 - val_accuracy: 0.8701\n",
      "Epoch 20/50\n",
      "625/625 [==============================] - 1s 1ms/step - loss: 0.3604 - accuracy: 0.8701 - val_loss: 0.3542 - val_accuracy: 0.8719\n",
      "Epoch 21/50\n",
      "625/625 [==============================] - 1s 1ms/step - loss: 0.3575 - accuracy: 0.8709 - val_loss: 0.3630 - val_accuracy: 0.8633\n",
      "Epoch 22/50\n",
      "625/625 [==============================] - 1s 1ms/step - loss: 0.3539 - accuracy: 0.8723 - val_loss: 0.3537 - val_accuracy: 0.8690\n",
      "Epoch 23/50\n",
      "625/625 [==============================] - 1s 2ms/step - loss: 0.3527 - accuracy: 0.8719 - val_loss: 0.3551 - val_accuracy: 0.8678\n",
      "Epoch 24/50\n",
      "625/625 [==============================] - 1s 1ms/step - loss: 0.3515 - accuracy: 0.8723 - val_loss: 0.3521 - val_accuracy: 0.8718\n",
      "Epoch 25/50\n",
      "625/625 [==============================] - 1s 1ms/step - loss: 0.3520 - accuracy: 0.8724 - val_loss: 0.3550 - val_accuracy: 0.8724\n",
      "Epoch 26/50\n",
      "625/625 [==============================] - 1s 1ms/step - loss: 0.3473 - accuracy: 0.8745 - val_loss: 0.3528 - val_accuracy: 0.8712\n",
      "Epoch 27/50\n",
      "625/625 [==============================] - 1s 1ms/step - loss: 0.3458 - accuracy: 0.8740 - val_loss: 0.3566 - val_accuracy: 0.8677\n",
      "Epoch 28/50\n",
      "625/625 [==============================] - 1s 1ms/step - loss: 0.3456 - accuracy: 0.8746 - val_loss: 0.3774 - val_accuracy: 0.8616\n",
      "Epoch 29/50\n",
      "625/625 [==============================] - 1s 1ms/step - loss: 0.3433 - accuracy: 0.8753 - val_loss: 0.3414 - val_accuracy: 0.8737\n",
      "Epoch 30/50\n",
      "625/625 [==============================] - 1s 2ms/step - loss: 0.3400 - accuracy: 0.8769 - val_loss: 0.3521 - val_accuracy: 0.8702\n",
      "Epoch 31/50\n",
      "625/625 [==============================] - 1s 1ms/step - loss: 0.3398 - accuracy: 0.8764 - val_loss: 0.3433 - val_accuracy: 0.8742\n",
      "Epoch 32/50\n",
      "625/625 [==============================] - 1s 2ms/step - loss: 0.3402 - accuracy: 0.8769 - val_loss: 0.3523 - val_accuracy: 0.8717\n",
      "Epoch 33/50\n",
      "625/625 [==============================] - 1s 1ms/step - loss: 0.3368 - accuracy: 0.8781 - val_loss: 0.3492 - val_accuracy: 0.8755\n",
      "Epoch 34/50\n",
      "625/625 [==============================] - 1s 1ms/step - loss: 0.3374 - accuracy: 0.8771 - val_loss: 0.3394 - val_accuracy: 0.8769\n",
      "Epoch 35/50\n",
      "625/625 [==============================] - 1s 1ms/step - loss: 0.3364 - accuracy: 0.8783 - val_loss: 0.3483 - val_accuracy: 0.8688\n",
      "Epoch 36/50\n",
      "625/625 [==============================] - 1s 1ms/step - loss: 0.3326 - accuracy: 0.8789 - val_loss: 0.3382 - val_accuracy: 0.8798\n",
      "Epoch 37/50\n",
      "625/625 [==============================] - 1s 1ms/step - loss: 0.3325 - accuracy: 0.8790 - val_loss: 0.3354 - val_accuracy: 0.8761\n",
      "Epoch 38/50\n",
      "625/625 [==============================] - 1s 1ms/step - loss: 0.3309 - accuracy: 0.8807 - val_loss: 0.3401 - val_accuracy: 0.8752\n",
      "Epoch 39/50\n",
      "625/625 [==============================] - 1s 1ms/step - loss: 0.3289 - accuracy: 0.8804 - val_loss: 0.3358 - val_accuracy: 0.8767\n",
      "Epoch 40/50\n",
      "625/625 [==============================] - 1s 1ms/step - loss: 0.3283 - accuracy: 0.8813 - val_loss: 0.3334 - val_accuracy: 0.8769\n",
      "Epoch 41/50\n",
      "625/625 [==============================] - 1s 1ms/step - loss: 0.3272 - accuracy: 0.8817 - val_loss: 0.3385 - val_accuracy: 0.8742\n",
      "Epoch 42/50\n",
      "625/625 [==============================] - 1s 1ms/step - loss: 0.3263 - accuracy: 0.8814 - val_loss: 0.3391 - val_accuracy: 0.8736\n",
      "Epoch 43/50\n",
      "625/625 [==============================] - 1s 1ms/step - loss: 0.3259 - accuracy: 0.8814 - val_loss: 0.3450 - val_accuracy: 0.8722\n",
      "Epoch 44/50\n",
      "625/625 [==============================] - 1s 2ms/step - loss: 0.3255 - accuracy: 0.8813 - val_loss: 0.3318 - val_accuracy: 0.8763\n",
      "Epoch 45/50\n",
      "625/625 [==============================] - 1s 1ms/step - loss: 0.3236 - accuracy: 0.8821 - val_loss: 0.3422 - val_accuracy: 0.8760\n",
      "Epoch 46/50\n",
      "625/625 [==============================] - 1s 1ms/step - loss: 0.3213 - accuracy: 0.8828 - val_loss: 0.3317 - val_accuracy: 0.8774\n",
      "Epoch 47/50\n",
      "625/625 [==============================] - 1s 1ms/step - loss: 0.3204 - accuracy: 0.8843 - val_loss: 0.3486 - val_accuracy: 0.8704\n",
      "Epoch 48/50\n",
      "625/625 [==============================] - 1s 1ms/step - loss: 0.3199 - accuracy: 0.8835 - val_loss: 0.3365 - val_accuracy: 0.8781\n",
      "Epoch 49/50\n",
      "625/625 [==============================] - 1s 1ms/step - loss: 0.3191 - accuracy: 0.8841 - val_loss: 0.3345 - val_accuracy: 0.8737\n",
      "Epoch 50/50\n",
      "625/625 [==============================] - 1s 1ms/step - loss: 0.3179 - accuracy: 0.8842 - val_loss: 0.3400 - val_accuracy: 0.8753\n",
      "313/313 [==============================] - 0s 688us/step - loss: 0.3400 - accuracy: 0.8753\n",
      "Accuracy: 0.8752999901771545 , Elapsed time: 47.07377815246582\n"
     ]
    }
   ],
   "source": [
    "t = time.time(); t_total = 0    \n",
    "deep_layers = 2\n",
    "num_units = 150\n",
    "learning_rate = 1e-3\n",
    "epochs = 50\n",
    "\n",
    "my_callbacks = [tf.keras.callbacks.EarlyStopping(\n",
    "                               monitor='val_loss', mode='min',\n",
    "                               min_delta=0, \n",
    "                               patience=40,\n",
    "                               verbose=1,\n",
    "                               restore_best_weights=1)]\n",
    "    \n",
    "\n",
    "model1 = tf.keras.Sequential()\n",
    "model1.add(tf.keras.layers.InputLayer(int(X_train.shape[1],)))\n",
    "model1.add(Dense(num_units, input_shape=(int(X_train.shape[1]),)))\n",
    "    \n",
    "for i in range(deep_layers):        \n",
    "    model1.add(Dense(num_units, activation='relu'))\n",
    "model1.add(Dense(3, activation=tf.nn.softmax))\n",
    "    \n",
    "optimizer = tf.keras.optimizers.Adam(learning_rate=learning_rate, beta_1=0.9, beta_2=0.999, epsilon=1e-3)\n",
    "model1.compile(optimizer=optimizer, loss='categorical_crossentropy', metrics=[\"accuracy\"])\n",
    "train1 = model1.fit(X_train, Y_train, epochs=epochs, validation_data=(X_val, Y_val),\n",
    "                    callbacks=my_callbacks, batch_size=128, shuffle=1, verbose=1)\n",
    "    \n",
    "loss, score = model1.evaluate(X_val, Y_val)    \n",
    "t = time.time()-t\n",
    "print(\"Accuracy:\", score, \", Elapsed time:\", t)"
   ]
  },
  {
   "cell_type": "code",
   "execution_count": 8,
   "metadata": {
    "id": "0RXuYHipq8t3"
   },
   "outputs": [],
   "source": [
    "def plot_cm(Y_test, Y_pred, labels, porcentaje=False, cbar=False, ax=None):\n",
    "    matrix = confusion_matrix(Y_test.argmax(axis=1), Y_pred)   \n",
    "    #Aquí se divide si queremos en porcentaje o números\n",
    "    if porcentaje==False: \n",
    "        ax = sns.heatmap(matrix, annot=True, cmap=\"OrRd\", cbar=cbar, cbar_kws={'label': 'scale'}, ax=ax)\n",
    "#         ax.yaxis.set_major_formatter(FormatStrFormatter('%.4f'))\n",
    "    if porcentaje==True:\n",
    "        m=np.zeros(matrix.shape)\n",
    "        for j in range(0,matrix.shape[1]):\n",
    "            m[:,j]=matrix[:,j]/np.sum(matrix[:,j])*100\n",
    "            \n",
    "        ax = sns.heatmap(m, annot=True,cmap='OrRd', cbar=cbar, cbar_kws={'label': 'scale'}, ax=ax)\n",
    " \n",
    "    ax.set_xticklabels(labels)\n",
    "    ax.set_yticklabels(labels)\n",
    " \n",
    "    # ax.set(xlabel=\"True label\", ylabel=\"Predicted label\")\n",
    "\n",
    "    return ax"
   ]
  },
  {
   "cell_type": "code",
   "execution_count": 9,
   "metadata": {
    "colab": {
     "base_uri": "https://localhost:8080/",
     "height": 336
    },
    "id": "8ySBn5bTqm0v",
    "outputId": "cc9fae88-d6b0-4f4f-8908-d98a908dba35"
   },
   "outputs": [
    {
     "name": "stdout",
     "output_type": "stream",
     "text": [
      "313/313 [==============================] - 0s 526us/step\n"
     ]
    },
    {
     "data": {
      "image/png": "[encoded data removed]",
      "text/plain": [
       "<Figure size 360x360 with 1 Axes>"
      ]
     },
     "metadata": {
      "needs_background": "light"
     },
     "output_type": "display_data"
    }
   ],
   "source": [
    "X_test_inverse = scaler.inverse_transform(X_test)\n",
    "labels=['Star','Galaxy','QSO']\n",
    "porcentaje = True\n",
    "\n",
    "# titles.append(f\"Confusion matrix model\")\n",
    "# plot_cm(Y_test, model1.predict(X_test), labels, porcentaje=porcentaje)\n",
    "fig = plt.figure(figsize=(5,5))\n",
    "ax = fig.add_subplot(111)\n",
    "\n",
    "y_pred = model1.predict(X_test)\n",
    "y_test=np.argmax(Y_test, axis=1)\n",
    "y_pred=np.argmax(y_pred, axis=1)\n",
    "plot_cm(Y_test, y_pred, labels=labels, porcentaje=False, ax=ax)\n",
    "plt.title(\"Hyperparameter grid\", fontsize=15)\n",
    "plt.xlabel(\"Predicted label\", fontsize=15)\n",
    "plt.ylabel(\"True label\", fontsize=15)\n",
    "plt.savefig(\"classification_grid_cm.png\")"
   ]
  },
  {
   "cell_type": "code",
   "execution_count": 10,
   "metadata": {},
   "outputs": [
    {
     "data": {
      "text/plain": [
       "0.3178901970386505"
      ]
     },
     "execution_count": 10,
     "metadata": {},
     "output_type": "execute_result"
    },
    {
     "data": {
      "image/png": "[encoded data removed]",
      "text/plain": [
       "<Figure size 432x432 with 1 Axes>"
      ]
     },
     "metadata": {
      "needs_background": "light"
     },
     "output_type": "display_data"
    }
   ],
   "source": [
    "fig = plt.figure(figsize=(6,6))\n",
    "ax = fig.add_subplot(111)\n",
    "plt.plot(train1.history['loss'], label='Training')\n",
    "plt.plot(train1.history['val_loss'], label='Validation')\n",
    "# plt.ylim(0.25, 0.65)\n",
    "ax.yaxis.set_major_formatter(FormatStrFormatter('%.2f'))\n",
    "plt.title(\"Hyperparameter grid\", fontsize=14)\n",
    "plt.ylabel('Loss function', fontsize=14)\n",
    "plt.xlabel('Epochs', fontsize=14)\n",
    "plt.legend(loc='upper right', fontsize=14)\n",
    "plt.savefig(\"classification_grid_loss.png\")\n",
    "np.min(train1.history['loss'])"
   ]
  },
  {
   "cell_type": "code",
   "execution_count": 11,
   "metadata": {},
   "outputs": [],
   "source": [
    "model1.save(\"models/classification_grid.h5\")"
   ]
  },
  {
   "cell_type": "code",
   "execution_count": 12,
   "metadata": {},
   "outputs": [
    {
     "name": "stdout",
     "output_type": "stream",
     "text": [
      "epochs 50\n"
     ]
    }
   ],
   "source": [
    "print(\"epochs\", len(train1.history['loss']))"
   ]
  },
  {
   "cell_type": "code",
   "execution_count": 13,
   "metadata": {},
   "outputs": [
    {
     "name": "stdout",
     "output_type": "stream",
     "text": [
      "Accuracy: 0.8809\n",
      "Precision: 0.8793799278774839\n",
      "F1: 0.8781489865345146\n"
     ]
    }
   ],
   "source": [
    "# other metrics\n",
    "am = accuracy_score(y_test, y_pred)\n",
    "pm = precision_score(y_test, y_pred, average='weighted')\n",
    "# rm = roc_auc_score(y_test, y_pred,multi_class='ovr')\n",
    "fm = f1_score(y_test, y_pred, average='weighted')\n",
    "\n",
    "print(\"Accuracy:\", am)\n",
    "print(\"Precision:\", pm)\n",
    "print(\"F1:\", fm)"
   ]
  },
  {
   "cell_type": "markdown",
   "metadata": {},
   "source": [
    "### Arquitectura del modelo proveniente del algoritmo genéticos (mismo número de evaluaciones que con la malla)"
   ]
  },
  {
   "cell_type": "code",
   "execution_count": 27,
   "metadata": {},
   "outputs": [
    {
     "name": "stdout",
     "output_type": "stream",
     "text": [
      "Epoch 1/50\n",
      "625/625 [==============================] - 2s 2ms/step - loss: 0.6202 - accuracy: 0.7547 - val_loss: 0.5279 - val_accuracy: 0.7975\n",
      "Epoch 2/50\n",
      "625/625 [==============================] - 1s 2ms/step - loss: 0.5178 - accuracy: 0.8038 - val_loss: 0.5091 - val_accuracy: 0.8049\n",
      "Epoch 3/50\n",
      "625/625 [==============================] - 1s 2ms/step - loss: 0.4757 - accuracy: 0.8242 - val_loss: 0.4483 - val_accuracy: 0.8346\n",
      "Epoch 4/50\n",
      "625/625 [==============================] - 1s 2ms/step - loss: 0.5036 - accuracy: 0.8348 - val_loss: 0.4405 - val_accuracy: 0.8325\n",
      "Epoch 5/50\n",
      "625/625 [==============================] - 1s 2ms/step - loss: 0.4197 - accuracy: 0.8473 - val_loss: 0.4030 - val_accuracy: 0.8521\n",
      "Epoch 6/50\n",
      "625/625 [==============================] - 1s 2ms/step - loss: 0.4067 - accuracy: 0.8515 - val_loss: 0.3954 - val_accuracy: 0.8530\n",
      "Epoch 7/50\n",
      "625/625 [==============================] - 1s 2ms/step - loss: 0.3940 - accuracy: 0.8560 - val_loss: 0.3875 - val_accuracy: 0.8557\n",
      "Epoch 8/50\n",
      "625/625 [==============================] - 1s 2ms/step - loss: 0.3882 - accuracy: 0.8585 - val_loss: 0.3875 - val_accuracy: 0.8580\n",
      "Epoch 9/50\n",
      "625/625 [==============================] - 1s 2ms/step - loss: 0.3814 - accuracy: 0.8615 - val_loss: 0.3826 - val_accuracy: 0.8592\n",
      "Epoch 10/50\n",
      "625/625 [==============================] - 1s 2ms/step - loss: 0.3765 - accuracy: 0.8635 - val_loss: 0.3837 - val_accuracy: 0.8595\n",
      "Epoch 11/50\n",
      "625/625 [==============================] - 1s 2ms/step - loss: 0.3716 - accuracy: 0.8655 - val_loss: 0.3770 - val_accuracy: 0.8589\n",
      "Epoch 12/50\n",
      "625/625 [==============================] - 1s 2ms/step - loss: 0.3709 - accuracy: 0.8648 - val_loss: 0.3696 - val_accuracy: 0.8628\n",
      "Epoch 13/50\n",
      "625/625 [==============================] - 1s 2ms/step - loss: 0.3632 - accuracy: 0.8687 - val_loss: 0.3653 - val_accuracy: 0.8634\n",
      "Epoch 14/50\n",
      "625/625 [==============================] - 1s 2ms/step - loss: 0.3589 - accuracy: 0.8702 - val_loss: 0.3647 - val_accuracy: 0.8708\n",
      "Epoch 15/50\n",
      "625/625 [==============================] - 1s 2ms/step - loss: 0.3572 - accuracy: 0.8704 - val_loss: 0.3521 - val_accuracy: 0.8706\n",
      "Epoch 16/50\n",
      "625/625 [==============================] - 1s 2ms/step - loss: 0.3525 - accuracy: 0.8714 - val_loss: 0.3573 - val_accuracy: 0.8719\n",
      "Epoch 17/50\n",
      "625/625 [==============================] - 1s 2ms/step - loss: 0.3494 - accuracy: 0.8730 - val_loss: 0.3433 - val_accuracy: 0.8738\n",
      "Epoch 18/50\n",
      "625/625 [==============================] - 1s 2ms/step - loss: 0.3458 - accuracy: 0.8747 - val_loss: 0.3447 - val_accuracy: 0.8741\n",
      "Epoch 19/50\n",
      "625/625 [==============================] - 1s 2ms/step - loss: 0.3447 - accuracy: 0.8743 - val_loss: 0.3419 - val_accuracy: 0.8763\n",
      "Epoch 20/50\n",
      "625/625 [==============================] - 1s 2ms/step - loss: 0.3424 - accuracy: 0.8755 - val_loss: 0.3428 - val_accuracy: 0.8764\n",
      "Epoch 21/50\n",
      "625/625 [==============================] - 1s 2ms/step - loss: 0.3389 - accuracy: 0.8761 - val_loss: 0.3526 - val_accuracy: 0.8720\n",
      "Epoch 22/50\n",
      "625/625 [==============================] - 1s 2ms/step - loss: 0.3362 - accuracy: 0.8772 - val_loss: 0.3440 - val_accuracy: 0.8756\n",
      "Epoch 23/50\n",
      "625/625 [==============================] - 1s 2ms/step - loss: 0.3318 - accuracy: 0.8796 - val_loss: 0.3323 - val_accuracy: 0.8806\n",
      "Epoch 24/50\n",
      "625/625 [==============================] - 1s 2ms/step - loss: 0.3312 - accuracy: 0.8793 - val_loss: 0.3296 - val_accuracy: 0.8782\n",
      "Epoch 25/50\n",
      "625/625 [==============================] - 1s 2ms/step - loss: 0.3281 - accuracy: 0.8806 - val_loss: 0.3336 - val_accuracy: 0.8787\n",
      "Epoch 26/50\n",
      "625/625 [==============================] - 1s 2ms/step - loss: 0.3268 - accuracy: 0.8805 - val_loss: 0.3613 - val_accuracy: 0.8688\n",
      "Epoch 27/50\n",
      "625/625 [==============================] - 1s 2ms/step - loss: 0.3271 - accuracy: 0.8798 - val_loss: 0.3349 - val_accuracy: 0.8744\n",
      "Epoch 28/50\n",
      "625/625 [==============================] - 1s 2ms/step - loss: 0.3247 - accuracy: 0.8816 - val_loss: 0.3271 - val_accuracy: 0.8769\n",
      "Epoch 29/50\n",
      "625/625 [==============================] - 1s 2ms/step - loss: 0.3192 - accuracy: 0.8839 - val_loss: 0.3266 - val_accuracy: 0.8814\n",
      "Epoch 30/50\n",
      "625/625 [==============================] - 1s 2ms/step - loss: 0.3200 - accuracy: 0.8834 - val_loss: 0.3325 - val_accuracy: 0.8784\n",
      "Epoch 31/50\n",
      "625/625 [==============================] - 1s 2ms/step - loss: 0.3175 - accuracy: 0.8836 - val_loss: 0.3222 - val_accuracy: 0.8839\n",
      "Epoch 32/50\n",
      "625/625 [==============================] - 1s 2ms/step - loss: 0.3150 - accuracy: 0.8847 - val_loss: 0.3328 - val_accuracy: 0.8813\n",
      "Epoch 33/50\n",
      "625/625 [==============================] - 1s 2ms/step - loss: 0.3135 - accuracy: 0.8855 - val_loss: 0.3249 - val_accuracy: 0.8818\n",
      "Epoch 34/50\n",
      "625/625 [==============================] - 1s 2ms/step - loss: 0.3120 - accuracy: 0.8849 - val_loss: 0.3285 - val_accuracy: 0.8803\n",
      "Epoch 35/50\n",
      "625/625 [==============================] - 1s 2ms/step - loss: 0.3353 - accuracy: 0.8851 - val_loss: 0.3281 - val_accuracy: 0.8785\n",
      "Epoch 36/50\n",
      "625/625 [==============================] - 1s 2ms/step - loss: 0.3105 - accuracy: 0.8865 - val_loss: 0.3258 - val_accuracy: 0.8802\n",
      "Epoch 37/50\n",
      "625/625 [==============================] - 1s 2ms/step - loss: 0.3068 - accuracy: 0.8882 - val_loss: 0.3251 - val_accuracy: 0.8819\n",
      "Epoch 38/50\n",
      "625/625 [==============================] - 1s 2ms/step - loss: 0.3080 - accuracy: 0.8882 - val_loss: 0.3119 - val_accuracy: 0.8866\n",
      "Epoch 39/50\n",
      "625/625 [==============================] - 1s 2ms/step - loss: 0.3065 - accuracy: 0.8877 - val_loss: 0.3337 - val_accuracy: 0.8770\n",
      "Epoch 40/50\n",
      "625/625 [==============================] - 1s 2ms/step - loss: 0.3030 - accuracy: 0.8891 - val_loss: 0.3270 - val_accuracy: 0.8844\n",
      "Epoch 41/50\n",
      "625/625 [==============================] - 1s 2ms/step - loss: 0.3019 - accuracy: 0.8899 - val_loss: 0.3128 - val_accuracy: 0.8838\n",
      "Epoch 42/50\n",
      "625/625 [==============================] - 1s 2ms/step - loss: 0.3011 - accuracy: 0.8894 - val_loss: 0.3192 - val_accuracy: 0.8831\n",
      "Epoch 43/50\n",
      "625/625 [==============================] - 1s 2ms/step - loss: 0.2989 - accuracy: 0.8912 - val_loss: 0.3148 - val_accuracy: 0.8862\n",
      "Epoch 44/50\n",
      "625/625 [==============================] - 1s 2ms/step - loss: 0.3002 - accuracy: 0.8903 - val_loss: 0.3223 - val_accuracy: 0.8785\n",
      "Epoch 45/50\n",
      "625/625 [==============================] - 1s 2ms/step - loss: 0.2988 - accuracy: 0.8907 - val_loss: 0.3168 - val_accuracy: 0.8848\n",
      "Epoch 46/50\n",
      "625/625 [==============================] - 1s 2ms/step - loss: 0.2956 - accuracy: 0.8914 - val_loss: 0.3158 - val_accuracy: 0.8870\n",
      "Epoch 47/50\n",
      "625/625 [==============================] - 1s 2ms/step - loss: 0.2957 - accuracy: 0.8920 - val_loss: 0.3160 - val_accuracy: 0.8876\n",
      "Epoch 48/50\n",
      "625/625 [==============================] - 1s 2ms/step - loss: 0.2947 - accuracy: 0.8929 - val_loss: 0.3179 - val_accuracy: 0.8836\n",
      "Epoch 49/50\n",
      "625/625 [==============================] - 1s 2ms/step - loss: 0.2921 - accuracy: 0.8925 - val_loss: 0.3163 - val_accuracy: 0.8846\n",
      "Epoch 50/50\n",
      "625/625 [==============================] - 1s 2ms/step - loss: 0.2918 - accuracy: 0.8937 - val_loss: 0.3211 - val_accuracy: 0.8853\n",
      "313/313 [==============================] - 0s 733us/step - loss: 0.3211 - accuracy: 0.8853\n",
      "Accuracy: 0.8852999806404114 , Elapsed time: 62.423312187194824\n"
     ]
    }
   ],
   "source": [
    "t = time.time(); t_total = 0    \n",
    "deep_layers = 3\n",
    "num_units = 200\n",
    "learning_rate = 1e-3\n",
    "epochs = 50\n",
    "\n",
    "my_callbacks = [tf.keras.callbacks.EarlyStopping(\n",
    "                               monitor='val_loss', mode='min',\n",
    "                               min_delta=0, \n",
    "                               patience=40,\n",
    "                               verbose=1,\n",
    "                               restore_best_weights=1)]\n",
    "    \n",
    "\n",
    "model2 = tf.keras.Sequential()\n",
    "model2.add(tf.keras.layers.InputLayer(int(X_train.shape[1],)))\n",
    "model2.add(Dense(num_units, input_shape=(int(X_train.shape[1]),)))\n",
    "    \n",
    "for i in range(deep_layers):        \n",
    "    model2.add(Dense(num_units, activation='relu'))\n",
    "model2.add(Dense(3, activation=tf.nn.softmax))\n",
    "    \n",
    "optimizer = tf.keras.optimizers.Adam(learning_rate=learning_rate, beta_1=0.9, beta_2=0.999, epsilon=1e-3)\n",
    "model2.compile(optimizer=optimizer, loss='categorical_crossentropy', metrics=[\"accuracy\"])\n",
    "train2 = model2.fit(X_train, Y_train, epochs=epochs, validation_data=(X_val, Y_val),\n",
    "                    callbacks=my_callbacks, batch_size=128, shuffle=1, verbose=1)\n",
    "    \n",
    "loss, score = model2.evaluate(X_val, Y_val)    \n",
    "t = time.time()-t\n",
    "print(\"Accuracy:\", score, \", Elapsed time:\", t)"
   ]
  },
  {
   "cell_type": "code",
   "execution_count": 28,
   "metadata": {},
   "outputs": [
    {
     "name": "stdout",
     "output_type": "stream",
     "text": [
      "313/313 [==============================] - 0s 625us/step\n"
     ]
    },
    {
     "data": {
      "image/png": "[encoded data removed]",
      "text/plain": [
       "<Figure size 360x360 with 1 Axes>"
      ]
     },
     "metadata": {
      "needs_background": "light"
     },
     "output_type": "display_data"
    }
   ],
   "source": [
    "X_test_inverse = scaler.inverse_transform(X_test)\n",
    "labels=['Star','Galaxy','QSO']\n",
    "porcentaje = True\n",
    "\n",
    "# titles.append(f\"Confusion matrix model\")\n",
    "# plot_cm(Y_test, model1.predict(X_test), labels, porcentaje=porcentaje)\n",
    "fig = plt.figure(figsize=(5,5))\n",
    "ax = fig.add_subplot(111)\n",
    "\n",
    "y_pred = model2.predict(X_test)\n",
    "y_test=np.argmax(Y_test, axis=1)\n",
    "y_pred=np.argmax(y_pred, axis=1)\n",
    "plot_cm(Y_test, y_pred, labels=labels, porcentaje=False, ax=ax)\n",
    "plt.xlabel(\"Predicted label\", fontsize=15)\n",
    "plt.ylabel(\"True label\", fontsize=15)\n",
    "plt.title(\"Genetic algorithm\", fontsize=15)\n",
    "plt.savefig(\"classification_genetic_cm.png\")"
   ]
  },
  {
   "cell_type": "code",
   "execution_count": 29,
   "metadata": {},
   "outputs": [
    {
     "data": {
      "text/plain": [
       "0.3178901970386505"
      ]
     },
     "execution_count": 29,
     "metadata": {},
     "output_type": "execute_result"
    },
    {
     "data": {
      "image/png": "[encoded data removed]",
      "text/plain": [
       "<Figure size 432x432 with 1 Axes>"
      ]
     },
     "metadata": {
      "needs_background": "light"
     },
     "output_type": "display_data"
    }
   ],
   "source": [
    "fig = plt.figure(figsize=(6,6))\n",
    "ax = fig.add_subplot(111)\n",
    "plt.plot(train2.history['loss'], label='Training')\n",
    "plt.plot(train2.history['val_loss'], label='Validation')\n",
    "# plt.ylim(0.25, 0.65)\n",
    "ax.yaxis.set_major_formatter(FormatStrFormatter('%.2f'))\n",
    "plt.ylabel('Loss function', fontsize=14)\n",
    "plt.xlabel('Epochs', fontsize=14)\n",
    "plt.legend(loc='upper right', fontsize=14)\n",
    "plt.title(\"Genetic algorithm\", fontsize=14)\n",
    "plt.savefig(\"classification_genetic_loss.png\")\n",
    "np.min(train1.history['loss'])"
   ]
  },
  {
   "cell_type": "code",
   "execution_count": 30,
   "metadata": {},
   "outputs": [],
   "source": [
    "model2.save(\"models/classification_genetic.h5\")"
   ]
  },
  {
   "cell_type": "code",
   "execution_count": 31,
   "metadata": {},
   "outputs": [
    {
     "name": "stdout",
     "output_type": "stream",
     "text": [
      "epochs 50\n"
     ]
    }
   ],
   "source": [
    "print(\"epochs\", len(train2.history['loss']))"
   ]
  },
  {
   "cell_type": "code",
   "execution_count": 32,
   "metadata": {},
   "outputs": [
    {
     "name": "stdout",
     "output_type": "stream",
     "text": [
      "Accuracy: 0.885\n",
      "Precision: 0.8850139408864727\n",
      "F1: 0.8842966544844368\n"
     ]
    }
   ],
   "source": [
    "# other metrics\n",
    "am = accuracy_score(y_test, y_pred)\n",
    "pm = precision_score(y_test, y_pred, average='weighted')\n",
    "# rm = roc_auc_score(y_test, y_pred,multi_class='ovr')\n",
    "fm = f1_score(y_test, y_pred, average='weighted')\n",
    "\n",
    "print(\"Accuracy:\", am)\n",
    "print(\"Precision:\", pm)\n",
    "print(\"F1:\", fm)"
   ]
  },
  {
   "cell_type": "code",
   "execution_count": 46,
   "metadata": {},
   "outputs": [
    {
     "data": {
      "text/plain": [
       "0.3178901970386505"
      ]
     },
     "execution_count": 46,
     "metadata": {},
     "output_type": "execute_result"
    },
    {
     "data": {
      "image/png": "[encoded data removed]",
      "text/plain": [
       "<Figure size 432x432 with 1 Axes>"
      ]
     },
     "metadata": {
      "needs_background": "light"
     },
     "output_type": "display_data"
    }
   ],
   "source": [
    "# All loss\n",
    "\n",
    "fig = plt.figure(figsize=(6,6))\n",
    "ax = fig.add_subplot(111)\n",
    "plt.plot(train1.history['loss'], label='Grid Training', color='blue')\n",
    "plt.plot(train1.history['val_loss'], label='Grid Validation', color='blue', linestyle='dashed')\n",
    "plt.plot(train2.history['loss'], label='Genetic Training', color='green')\n",
    "plt.plot(train2.history['val_loss'], label='Genetic Validation', color='green', linestyle='dashed')\n",
    "# plt.ylim(0.25, 0.65)\n",
    "ax.yaxis.set_major_formatter(FormatStrFormatter('%.2f'))\n",
    "plt.ylabel('Loss function', fontsize=14)\n",
    "plt.xlabel('Epochs', fontsize=14)\n",
    "plt.legend(loc='upper right', fontsize=14)\n",
    "# plt.title(\"Genetic algorithm\", fontsize=14)\n",
    "plt.savefig(\"classification_loss.png\")\n",
    "np.min(train1.history['loss'])"
   ]
  },
  {
   "cell_type": "code",
   "execution_count": null,
   "metadata": {},
   "outputs": [],
   "source": []
  }
 ],
 "metadata": {
  "colab": {
   "name": "Stellar_Classifier.ipynb",
   "provenance": []
  },
  "kernelspec": {
   "display_name": "Python 3",
   "language": "python",
   "name": "python3"
  },
  "language_info": {
   "codemirror_mode": {
    "name": "ipython",
    "version": 3
   },
   "file_extension": ".py",
   "mimetype": "text/x-python",
   "name": "python",
   "nbconvert_exporter": "python",
   "pygments_lexer": "ipython3",
   "version": "3.8.10"
  },
  "latex_envs": {
   "LaTeX_envs_menu_present": true,
   "autoclose": false,
   "autocomplete": false,
   "bibliofile": "biblio.bib",
   "cite_by": "apalike",
   "current_citInitial": 1,
   "eqLabelWithNumbers": true,
   "eqNumInitial": 1,
   "hotkeys": {
    "equation": "Ctrl-E",
    "itemize": "Ctrl-I"
   },
   "labels_anchors": false,
   "latex_user_defs": false,
   "report_style_numbering": true,
   "user_envs_cfg": true
  },
  "notify_time": "5",
  "varInspector": {
   "cols": {
    "lenName": 16,
    "lenType": 16,
    "lenVar": 40
   },
   "kernels_config": {
    "python": {
     "delete_cmd_postfix": "",
     "delete_cmd_prefix": "del ",
     "library": "var_list.py",
     "varRefreshCmd": "print(var_dic_list())"
    },
    "r": {
     "delete_cmd_postfix": ") ",
     "delete_cmd_prefix": "rm(",
     "library": "var_list.r",
     "varRefreshCmd": "cat(var_dic_list()) "
    }
   },
   "types_to_exclude": [
    "module",
    "function",
    "builtin_function_or_method",
    "instance",
    "_Feature"
   ],
   "window_display": false
  }
 },
 "nbformat": 4,
 "nbformat_minor": 1
}
