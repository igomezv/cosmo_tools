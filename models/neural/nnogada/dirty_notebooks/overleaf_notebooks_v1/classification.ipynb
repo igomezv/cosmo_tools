{
 "cells": [
  {
   "cell_type": "code",
   "execution_count": 1,
   "metadata": {
    "id": "ItxP3RKqqmzb"
   },
   "outputs": [],
   "source": [
    "import numpy as np\n",
    "import pandas as pd\n",
    "import matplotlib as mpl\n",
    "import matplotlib.pyplot as plt\n",
    "import time, os\n",
    "import random\n",
    "import seaborn as sns\n",
    "\n",
    "import tensorflow as tf\n",
    "from tensorflow import keras\n",
    "from tensorflow.keras.layers import Input, Dense, LeakyReLU\n",
    "from tensorflow.keras.utils import to_categorical\n",
    "from tensorboard.plugins.hparams import api as hp\n",
    "\n",
    "from tensorflow.keras import activations\n",
    "from tensorflow.keras.losses import CategoricalCrossentropy\n",
    "from tensorflow.keras.models import Model\n",
    "\n",
    "from sklearn.metrics import accuracy_score, confusion_matrix, precision_score, roc_auc_score, f1_score\n",
    "from sklearn.preprocessing import StandardScaler\n",
    "from sklearn.model_selection import train_test_split as split\n",
    "from scipy.stats import bernoulli\n",
    "\n",
    "from matplotlib.ticker import FormatStrFormatter"
   ]
  },
  {
   "cell_type": "code",
   "execution_count": 2,
   "metadata": {
    "id": "tQnsPJKYqmzu"
   },
   "outputs": [],
   "source": [
    "np.random.seed(0)\n",
    "scaler = StandardScaler()"
   ]
  },
  {
   "cell_type": "markdown",
   "metadata": {
    "id": "YKypMarmqmzy"
   },
   "source": [
    "### Conjunto de datos: SDSS DR17"
   ]
  },
  {
   "cell_type": "code",
   "execution_count": 3,
   "metadata": {
    "colab": {
     "base_uri": "https://localhost:8080/",
     "height": 206
    },
    "id": "xGCn9Krpqmz3",
    "outputId": "c49c7769-0973-4d7a-98f7-4b5e985545ac"
   },
   "outputs": [
    {
     "data": {
      "text/html": [
       "<div>\n",
       "<style scoped>\n",
       "    .dataframe tbody tr th:only-of-type {\n",
       "        vertical-align: middle;\n",
       "    }\n",
       "\n",
       "    .dataframe tbody tr th {\n",
       "        vertical-align: top;\n",
       "    }\n",
       "\n",
       "    .dataframe thead th {\n",
       "        text-align: right;\n",
       "    }\n",
       "</style>\n",
       "<table border=\"1\" class=\"dataframe\">\n",
       "  <thead>\n",
       "    <tr style=\"text-align: right;\">\n",
       "      <th></th>\n",
       "      <th>alpha</th>\n",
       "      <th>delta</th>\n",
       "      <th>u</th>\n",
       "      <th>g</th>\n",
       "      <th>r</th>\n",
       "      <th>i</th>\n",
       "      <th>z</th>\n",
       "      <th>class</th>\n",
       "    </tr>\n",
       "  </thead>\n",
       "  <tbody>\n",
       "    <tr>\n",
       "      <th>0</th>\n",
       "      <td>135.689107</td>\n",
       "      <td>32.494632</td>\n",
       "      <td>23.87882</td>\n",
       "      <td>22.27530</td>\n",
       "      <td>20.39501</td>\n",
       "      <td>19.16573</td>\n",
       "      <td>18.79371</td>\n",
       "      <td>GALAXY</td>\n",
       "    </tr>\n",
       "    <tr>\n",
       "      <th>1</th>\n",
       "      <td>144.826101</td>\n",
       "      <td>31.274185</td>\n",
       "      <td>24.77759</td>\n",
       "      <td>22.83188</td>\n",
       "      <td>22.58444</td>\n",
       "      <td>21.16812</td>\n",
       "      <td>21.61427</td>\n",
       "      <td>GALAXY</td>\n",
       "    </tr>\n",
       "    <tr>\n",
       "      <th>2</th>\n",
       "      <td>142.188790</td>\n",
       "      <td>35.582444</td>\n",
       "      <td>25.26307</td>\n",
       "      <td>22.66389</td>\n",
       "      <td>20.60976</td>\n",
       "      <td>19.34857</td>\n",
       "      <td>18.94827</td>\n",
       "      <td>GALAXY</td>\n",
       "    </tr>\n",
       "    <tr>\n",
       "      <th>3</th>\n",
       "      <td>338.741038</td>\n",
       "      <td>-0.402828</td>\n",
       "      <td>22.13682</td>\n",
       "      <td>23.77656</td>\n",
       "      <td>21.61162</td>\n",
       "      <td>20.50454</td>\n",
       "      <td>19.25010</td>\n",
       "      <td>GALAXY</td>\n",
       "    </tr>\n",
       "    <tr>\n",
       "      <th>4</th>\n",
       "      <td>345.282593</td>\n",
       "      <td>21.183866</td>\n",
       "      <td>19.43718</td>\n",
       "      <td>17.58028</td>\n",
       "      <td>16.49747</td>\n",
       "      <td>15.97711</td>\n",
       "      <td>15.54461</td>\n",
       "      <td>GALAXY</td>\n",
       "    </tr>\n",
       "  </tbody>\n",
       "</table>\n",
       "</div>"
      ],
      "text/plain": [
       "        alpha      delta         u         g         r         i         z  \\\n",
       "0  135.689107  32.494632  23.87882  22.27530  20.39501  19.16573  18.79371   \n",
       "1  144.826101  31.274185  24.77759  22.83188  22.58444  21.16812  21.61427   \n",
       "2  142.188790  35.582444  25.26307  22.66389  20.60976  19.34857  18.94827   \n",
       "3  338.741038  -0.402828  22.13682  23.77656  21.61162  20.50454  19.25010   \n",
       "4  345.282593  21.183866  19.43718  17.58028  16.49747  15.97711  15.54461   \n",
       "\n",
       "    class  \n",
       "0  GALAXY  \n",
       "1  GALAXY  \n",
       "2  GALAXY  \n",
       "3  GALAXY  \n",
       "4  GALAXY  "
      ]
     },
     "execution_count": 3,
     "metadata": {},
     "output_type": "execute_result"
    }
   ],
   "source": [
    "url = \"https://raw.githubusercontent.com/igomezv/nnogada/main/data/star_classification.csv\"\n",
    "data = pd.read_csv(url)\n",
    "cols = ['alpha','delta','u','g','r','i','z','class']\n",
    "data = data[cols]\n",
    "data.head()"
   ]
  },
  {
   "cell_type": "markdown",
   "metadata": {
    "id": "6XosYBBPqmz8"
   },
   "source": [
    "Se cambian las clases a vectores con números enteros\n",
    "\n",
    "$$ \\text{GALAXY}: \\begin{pmatrix}1\\\\0\\\\0\\end{pmatrix},\\quad \\text{STAR}: \\begin{pmatrix}0\\\\1\\\\0\\end{pmatrix},\\quad \\text{QSO}:\\begin{pmatrix}0\\\\0\\\\1\\end{pmatrix} $$"
   ]
  },
  {
   "cell_type": "code",
   "execution_count": 4,
   "metadata": {
    "colab": {
     "base_uri": "https://localhost:8080/"
    },
    "id": "ukwjanYVqmz_",
    "outputId": "5cbffba3-3e30-4986-f950-21cb64c87047"
   },
   "outputs": [
    {
     "name": "stdout",
     "output_type": "stream",
     "text": [
      "        alpha      delta         u         g         r         i         z  \\\n",
      "0  135.689107  32.494632  23.87882  22.27530  20.39501  19.16573  18.79371   \n",
      "1  144.826101  31.274185  24.77759  22.83188  22.58444  21.16812  21.61427   \n",
      "2  142.188790  35.582444  25.26307  22.66389  20.60976  19.34857  18.94827   \n",
      "3  338.741038  -0.402828  22.13682  23.77656  21.61162  20.50454  19.25010   \n",
      "4  345.282593  21.183866  19.43718  17.58028  16.49747  15.97711  15.54461   \n",
      "\n",
      "   class  \n",
      "0      0  \n",
      "1      0  \n",
      "2      0  \n",
      "3      0  \n",
      "4      0  \n"
     ]
    }
   ],
   "source": [
    "data[\"class\"]=[0 if i == \"GALAXY\" else 1 if i == \"STAR\" else 2 for i in data[\"class\"]]\n",
    "print(data.head())\n",
    "data = data.to_numpy()"
   ]
  },
  {
   "cell_type": "code",
   "execution_count": 5,
   "metadata": {
    "id": "gspwez8Uqm0Q"
   },
   "outputs": [],
   "source": [
    "# Divide data into X and Y and implement hot_ones in Y\n",
    "def prepare_dataset(data):\n",
    "    X, Y = np.empty((0)), np.empty((0))\n",
    "    X = data[:,0:7]\n",
    "    Y = data[:,7]\n",
    "    Y = to_categorical(Y, num_classes=3)\n",
    "    return X, Y"
   ]
  },
  {
   "cell_type": "code",
   "execution_count": 6,
   "metadata": {
    "id": "vaLXQeaMqm0S"
   },
   "outputs": [],
   "source": [
    "# Split dataset into train, validation and test sets\n",
    "X,Y = prepare_dataset(data)\n",
    "\n",
    "# Defines ratios, w.r.t. whole dataset.\n",
    "ratio_train = 0.8\n",
    "ratio_val = 0.1\n",
    "ratio_test = 0.1\n",
    "\n",
    "# Produces test split.\n",
    "x_, X_test, y_, Y_test = split(X, Y, test_size = ratio_test, random_state=0)\n",
    "\n",
    "# Adjusts val ratio, w.r.t. remaining dataset.\n",
    "ratio_remaining = 1 - ratio_test\n",
    "ratio_val_adjusted = ratio_val / ratio_remaining\n",
    "\n",
    "# Produces train and val splits.\n",
    "X_train, X_val, Y_train, Y_val = split(x_, y_, test_size=ratio_val_adjusted, random_state=0)\n",
    "\n",
    "# Normalize and scale the input sets.\n",
    "scaler.fit(X)\n",
    "X_train = scaler.transform(X_train)\n",
    "X_test  = scaler.transform(X_test)\n",
    "X_val   = scaler.transform(X_val)"
   ]
  },
  {
   "cell_type": "markdown",
   "metadata": {
    "id": "ZLyZeQ7rqm0X"
   },
   "source": [
    "### Arquitectura del modelo proveniente de la malla de hiperparámetros"
   ]
  },
  {
   "cell_type": "code",
   "execution_count": 7,
   "metadata": {
    "id": "dSDGtnhRqm0Z",
    "scrolled": true
   },
   "outputs": [
    {
     "name": "stdout",
     "output_type": "stream",
     "text": [
      "Epoch 1/50\n",
      "625/625 [==============================] - 2s 2ms/step - loss: 0.6297 - accuracy: 0.7480 - val_loss: 0.5234 - val_accuracy: 0.7967\n",
      "Epoch 2/50\n",
      "625/625 [==============================] - 1s 2ms/step - loss: 0.5165 - accuracy: 0.8036 - val_loss: 0.4845 - val_accuracy: 0.8134\n",
      "Epoch 3/50\n",
      "625/625 [==============================] - 1s 2ms/step - loss: 0.4789 - accuracy: 0.8228 - val_loss: 0.4475 - val_accuracy: 0.8330\n",
      "Epoch 4/50\n",
      "625/625 [==============================] - 1s 2ms/step - loss: 0.4309 - accuracy: 0.8424 - val_loss: 0.4088 - val_accuracy: 0.8501\n",
      "Epoch 5/50\n",
      "625/625 [==============================] - 1s 2ms/step - loss: 0.4092 - accuracy: 0.8511 - val_loss: 0.4028 - val_accuracy: 0.8527\n",
      "Epoch 6/50\n",
      "625/625 [==============================] - 1s 2ms/step - loss: 0.3983 - accuracy: 0.8544 - val_loss: 0.3952 - val_accuracy: 0.8583\n",
      "Epoch 7/50\n",
      "625/625 [==============================] - 1s 2ms/step - loss: 0.3881 - accuracy: 0.8601 - val_loss: 0.3904 - val_accuracy: 0.8532\n",
      "Epoch 8/50\n",
      "625/625 [==============================] - 1s 2ms/step - loss: 0.3814 - accuracy: 0.8607 - val_loss: 0.3760 - val_accuracy: 0.8640\n",
      "Epoch 9/50\n",
      "625/625 [==============================] - 1s 2ms/step - loss: 0.3770 - accuracy: 0.8635 - val_loss: 0.3652 - val_accuracy: 0.8685\n",
      "Epoch 10/50\n",
      "625/625 [==============================] - 1s 2ms/step - loss: 0.3712 - accuracy: 0.8654 - val_loss: 0.3590 - val_accuracy: 0.8676\n",
      "Epoch 11/50\n",
      "625/625 [==============================] - 1s 2ms/step - loss: 0.3679 - accuracy: 0.8668 - val_loss: 0.3528 - val_accuracy: 0.8696\n",
      "Epoch 12/50\n",
      "625/625 [==============================] - 1s 2ms/step - loss: 0.3618 - accuracy: 0.8696 - val_loss: 0.3564 - val_accuracy: 0.8684\n",
      "Epoch 13/50\n",
      "625/625 [==============================] - 1s 2ms/step - loss: 0.3583 - accuracy: 0.8706 - val_loss: 0.3659 - val_accuracy: 0.8660\n",
      "Epoch 14/50\n",
      "625/625 [==============================] - 1s 2ms/step - loss: 0.3557 - accuracy: 0.8711 - val_loss: 0.3700 - val_accuracy: 0.8645\n",
      "Epoch 15/50\n",
      "625/625 [==============================] - 1s 2ms/step - loss: 0.3511 - accuracy: 0.8729 - val_loss: 0.3524 - val_accuracy: 0.8680\n",
      "Epoch 16/50\n",
      "625/625 [==============================] - 1s 2ms/step - loss: 0.3474 - accuracy: 0.8733 - val_loss: 0.3484 - val_accuracy: 0.8719\n",
      "Epoch 17/50\n",
      "625/625 [==============================] - 1s 2ms/step - loss: 0.3442 - accuracy: 0.8743 - val_loss: 0.3541 - val_accuracy: 0.8736\n",
      "Epoch 18/50\n",
      "625/625 [==============================] - 1s 2ms/step - loss: 0.3412 - accuracy: 0.8761 - val_loss: 0.3395 - val_accuracy: 0.8796\n",
      "Epoch 19/50\n",
      "625/625 [==============================] - 1s 2ms/step - loss: 0.3369 - accuracy: 0.8772 - val_loss: 0.3403 - val_accuracy: 0.8762\n",
      "Epoch 20/50\n",
      "625/625 [==============================] - 1s 2ms/step - loss: 0.3361 - accuracy: 0.8770 - val_loss: 0.3490 - val_accuracy: 0.8727\n",
      "Epoch 21/50\n",
      "625/625 [==============================] - 1s 2ms/step - loss: 0.3327 - accuracy: 0.8789 - val_loss: 0.3430 - val_accuracy: 0.8758\n",
      "Epoch 22/50\n",
      "625/625 [==============================] - 1s 2ms/step - loss: 0.3312 - accuracy: 0.8792 - val_loss: 0.3467 - val_accuracy: 0.8700\n",
      "Epoch 23/50\n",
      "625/625 [==============================] - 1s 2ms/step - loss: 0.3263 - accuracy: 0.8804 - val_loss: 0.3346 - val_accuracy: 0.8784\n",
      "Epoch 24/50\n",
      "625/625 [==============================] - 1s 2ms/step - loss: 0.3251 - accuracy: 0.8809 - val_loss: 0.3240 - val_accuracy: 0.8762\n",
      "Epoch 25/50\n",
      "625/625 [==============================] - 1s 2ms/step - loss: 0.3229 - accuracy: 0.8816 - val_loss: 0.3572 - val_accuracy: 0.8688\n",
      "Epoch 26/50\n",
      "625/625 [==============================] - 1s 2ms/step - loss: 0.3213 - accuracy: 0.8826 - val_loss: 0.3332 - val_accuracy: 0.8802\n",
      "Epoch 27/50\n",
      "625/625 [==============================] - 1s 2ms/step - loss: 0.3180 - accuracy: 0.8831 - val_loss: 0.3290 - val_accuracy: 0.8790\n",
      "Epoch 28/50\n",
      "625/625 [==============================] - 1s 2ms/step - loss: 0.3166 - accuracy: 0.8830 - val_loss: 0.3336 - val_accuracy: 0.8765\n",
      "Epoch 29/50\n",
      "625/625 [==============================] - 1s 2ms/step - loss: 0.3143 - accuracy: 0.8845 - val_loss: 0.3284 - val_accuracy: 0.8781\n",
      "Epoch 30/50\n",
      "625/625 [==============================] - 1s 2ms/step - loss: 0.3656 - accuracy: 0.8840 - val_loss: 0.3249 - val_accuracy: 0.8787\n",
      "Epoch 31/50\n",
      "625/625 [==============================] - 1s 2ms/step - loss: 0.3153 - accuracy: 0.8850 - val_loss: 0.3386 - val_accuracy: 0.8755\n",
      "Epoch 32/50\n",
      "625/625 [==============================] - 1s 2ms/step - loss: 0.3106 - accuracy: 0.8862 - val_loss: 0.3249 - val_accuracy: 0.8788\n",
      "Epoch 33/50\n",
      "625/625 [==============================] - 1s 2ms/step - loss: 0.3102 - accuracy: 0.8865 - val_loss: 0.3139 - val_accuracy: 0.8858\n",
      "Epoch 34/50\n",
      "625/625 [==============================] - 1s 2ms/step - loss: 0.3081 - accuracy: 0.8865 - val_loss: 0.3279 - val_accuracy: 0.8798\n",
      "Epoch 35/50\n",
      "625/625 [==============================] - 1s 2ms/step - loss: 0.3045 - accuracy: 0.8882 - val_loss: 0.3242 - val_accuracy: 0.8802\n",
      "Epoch 36/50\n",
      "625/625 [==============================] - 1s 2ms/step - loss: 0.3042 - accuracy: 0.8884 - val_loss: 0.3162 - val_accuracy: 0.8861\n",
      "Epoch 37/50\n",
      "625/625 [==============================] - 1s 2ms/step - loss: 0.3006 - accuracy: 0.8895 - val_loss: 0.3361 - val_accuracy: 0.8775\n",
      "Epoch 38/50\n",
      "625/625 [==============================] - 1s 2ms/step - loss: 0.2996 - accuracy: 0.8901 - val_loss: 0.3199 - val_accuracy: 0.8831\n",
      "Epoch 39/50\n",
      "625/625 [==============================] - 1s 2ms/step - loss: 0.3006 - accuracy: 0.8903 - val_loss: 0.3244 - val_accuracy: 0.8808\n",
      "Epoch 40/50\n",
      "625/625 [==============================] - 1s 2ms/step - loss: 0.2964 - accuracy: 0.8911 - val_loss: 0.3204 - val_accuracy: 0.8840\n",
      "Epoch 41/50\n",
      "625/625 [==============================] - 1s 2ms/step - loss: 0.2988 - accuracy: 0.8902 - val_loss: 0.3173 - val_accuracy: 0.8838\n",
      "Epoch 42/50\n",
      "625/625 [==============================] - 1s 2ms/step - loss: 0.2947 - accuracy: 0.8931 - val_loss: 0.3149 - val_accuracy: 0.8850\n",
      "Epoch 43/50\n",
      "625/625 [==============================] - 1s 2ms/step - loss: 0.2956 - accuracy: 0.8916 - val_loss: 0.3355 - val_accuracy: 0.8737\n",
      "Epoch 44/50\n",
      "625/625 [==============================] - 1s 2ms/step - loss: 0.2911 - accuracy: 0.8931 - val_loss: 0.3180 - val_accuracy: 0.8833\n",
      "Epoch 45/50\n",
      "625/625 [==============================] - 1s 2ms/step - loss: 0.2902 - accuracy: 0.8937 - val_loss: 0.3082 - val_accuracy: 0.8889\n",
      "Epoch 46/50\n",
      "625/625 [==============================] - 1s 2ms/step - loss: 0.2871 - accuracy: 0.8954 - val_loss: 0.3318 - val_accuracy: 0.8794\n",
      "Epoch 47/50\n",
      "625/625 [==============================] - 1s 2ms/step - loss: 0.2868 - accuracy: 0.8946 - val_loss: 0.3148 - val_accuracy: 0.8873\n",
      "Epoch 48/50\n",
      "625/625 [==============================] - 1s 2ms/step - loss: 0.2861 - accuracy: 0.8945 - val_loss: 0.3370 - val_accuracy: 0.8785\n",
      "Epoch 49/50\n",
      "625/625 [==============================] - 1s 2ms/step - loss: 0.2871 - accuracy: 0.8939 - val_loss: 0.3190 - val_accuracy: 0.8845\n",
      "Epoch 50/50\n",
      "625/625 [==============================] - 1s 2ms/step - loss: 0.2858 - accuracy: 0.8944 - val_loss: 0.3124 - val_accuracy: 0.8863\n",
      "313/313 [==============================] - 0s 734us/step - loss: 0.3124 - accuracy: 0.8863\n",
      "Accuracy: 0.8863000273704529 , Elapsed time: 68.29334092140198\n"
     ]
    }
   ],
   "source": [
    "t = time.time(); t_total = 0    \n",
    "deep_layers = 4\n",
    "num_units = 200\n",
    "learning_rate = 1e-3\n",
    "epochs = 50\n",
    "\n",
    "my_callbacks = [tf.keras.callbacks.EarlyStopping(\n",
    "                               monitor='val_loss', mode='min',\n",
    "                               min_delta=0, \n",
    "                               patience=40,\n",
    "                               verbose=1,\n",
    "                               restore_best_weights=1)]\n",
    "    \n",
    "\n",
    "model1 = tf.keras.Sequential()\n",
    "model1.add(tf.keras.layers.InputLayer(int(X_train.shape[1],)))\n",
    "model1.add(Dense(num_units, input_shape=(int(X_train.shape[1]),)))\n",
    "    \n",
    "for i in range(deep_layers):        \n",
    "    model1.add(Dense(num_units, activation='relu'))\n",
    "model1.add(Dense(3, activation=tf.nn.softmax))\n",
    "    \n",
    "optimizer = tf.keras.optimizers.Adam(learning_rate=learning_rate, beta_1=0.9, beta_2=0.999, epsilon=1e-3)\n",
    "model1.compile(optimizer=optimizer, loss='categorical_crossentropy', metrics=[\"accuracy\"])\n",
    "train1 = model1.fit(X_train, Y_train, epochs=epochs, validation_data=(X_val, Y_val),\n",
    "                    callbacks=my_callbacks, batch_size=128, shuffle=1, verbose=1)\n",
    "    \n",
    "loss, score = model1.evaluate(X_val, Y_val)    \n",
    "t = time.time()-t\n",
    "print(\"Accuracy:\", score, \", Elapsed time:\", t)"
   ]
  },
  {
   "cell_type": "code",
   "execution_count": 8,
   "metadata": {
    "id": "0RXuYHipq8t3"
   },
   "outputs": [],
   "source": [
    "def plot_cm(Y_test, Y_pred, labels, porcentaje=False, cbar=False, ax=None):\n",
    "    matrix = confusion_matrix(Y_test.argmax(axis=1), Y_pred)   \n",
    "    #Aquí se divide si queremos en porcentaje o números\n",
    "    if porcentaje==False: \n",
    "        ax = sns.heatmap(matrix, annot=True, cmap=\"OrRd\", cbar=cbar, cbar_kws={'label': 'scale'}, ax=ax)\n",
    "#         ax.yaxis.set_major_formatter(FormatStrFormatter('%.4f'))\n",
    "    if porcentaje==True:\n",
    "        m=np.zeros(matrix.shape)\n",
    "        for j in range(0,matrix.shape[1]):\n",
    "            m[:,j]=matrix[:,j]/np.sum(matrix[:,j])*100\n",
    "            \n",
    "        ax = sns.heatmap(m, annot=True,cmap='OrRd', cbar=cbar, cbar_kws={'label': 'scale'}, ax=ax)\n",
    " \n",
    "    ax.set_xticklabels(labels)\n",
    "    ax.set_yticklabels(labels)\n",
    " \n",
    "    # ax.set(xlabel=\"True label\", ylabel=\"Predicted label\")\n",
    "\n",
    "    return ax"
   ]
  },
  {
   "cell_type": "code",
   "execution_count": 9,
   "metadata": {
    "colab": {
     "base_uri": "https://localhost:8080/",
     "height": 336
    },
    "id": "8ySBn5bTqm0v",
    "outputId": "cc9fae88-d6b0-4f4f-8908-d98a908dba35"
   },
   "outputs": [
    {
     "name": "stdout",
     "output_type": "stream",
     "text": [
      "313/313 [==============================] - 0s 653us/step\n"
     ]
    },
    {
     "data": {
      "image/png": "[encoded data removed]",
      "text/plain": [
       "<Figure size 360x360 with 1 Axes>"
      ]
     },
     "metadata": {
      "needs_background": "light"
     },
     "output_type": "display_data"
    }
   ],
   "source": [
    "X_test_inverse = scaler.inverse_transform(X_test)\n",
    "labels=['Star','Galaxy','QSO']\n",
    "porcentaje = True\n",
    "\n",
    "# titles.append(f\"Confusion matrix model\")\n",
    "# plot_cm(Y_test, model1.predict(X_test), labels, porcentaje=porcentaje)\n",
    "fig = plt.figure(figsize=(5,5))\n",
    "ax = fig.add_subplot(111)\n",
    "\n",
    "y_pred = model1.predict(X_test)\n",
    "y_test=np.argmax(Y_test, axis=1)\n",
    "y_pred=np.argmax(y_pred, axis=1)\n",
    "plot_cm(Y_test, y_pred, labels=labels, porcentaje=False, ax=ax)\n",
    "plt.title(\"Hyperparameter grid\", fontsize=15)\n",
    "plt.xlabel(\"Predicted label\", fontsize=15)\n",
    "plt.ylabel(\"True label\", fontsize=15)\n",
    "plt.savefig(\"classification_grid_cm.png\")"
   ]
  },
  {
   "cell_type": "code",
   "execution_count": 10,
   "metadata": {},
   "outputs": [
    {
     "data": {
      "text/plain": [
       "0.28584256768226624"
      ]
     },
     "execution_count": 10,
     "metadata": {},
     "output_type": "execute_result"
    },
    {
     "data": {
      "image/png": "[encoded data removed]",
      "text/plain": [
       "<Figure size 432x432 with 1 Axes>"
      ]
     },
     "metadata": {
      "needs_background": "light"
     },
     "output_type": "display_data"
    }
   ],
   "source": [
    "fig = plt.figure(figsize=(6,6))\n",
    "ax = fig.add_subplot(111)\n",
    "plt.plot(train1.history['loss'], label='Training')\n",
    "plt.plot(train1.history['val_loss'], label='Validation')\n",
    "# plt.ylim(0.25, 0.65)\n",
    "ax.yaxis.set_major_formatter(FormatStrFormatter('%.2f'))\n",
    "plt.title(\"Hyperparameter grid\", fontsize=14)\n",
    "plt.ylabel('Loss function', fontsize=14)\n",
    "plt.xlabel('Epochs', fontsize=14)\n",
    "plt.legend(loc='upper right', fontsize=14)\n",
    "plt.savefig(\"classification_grid_loss.png\")\n",
    "np.min(train1.history['loss'])"
   ]
  },
  {
   "cell_type": "code",
   "execution_count": 11,
   "metadata": {},
   "outputs": [],
   "source": [
    "model1.save(\"models/classification_grid.h5\")"
   ]
  },
  {
   "cell_type": "code",
   "execution_count": 12,
   "metadata": {},
   "outputs": [
    {
     "name": "stdout",
     "output_type": "stream",
     "text": [
      "epochs 50\n"
     ]
    }
   ],
   "source": [
    "print(\"epochs\", len(train1.history['loss']))"
   ]
  },
  {
   "cell_type": "code",
   "execution_count": 13,
   "metadata": {},
   "outputs": [
    {
     "name": "stdout",
     "output_type": "stream",
     "text": [
      "Accuracy: 0.8879\n",
      "Precision: 0.8869359847358017\n",
      "F1: 0.8872894233625509\n"
     ]
    }
   ],
   "source": [
    "# other metrics\n",
    "am = accuracy_score(y_test, y_pred)\n",
    "pm = precision_score(y_test, y_pred, average='weighted')\n",
    "# rm = roc_auc_score(y_test, y_pred,multi_class='ovr')\n",
    "fm = f1_score(y_test, y_pred, average='weighted')\n",
    "\n",
    "print(\"Accuracy:\", am)\n",
    "print(\"Precision:\", pm)\n",
    "print(\"F1:\", fm)"
   ]
  },
  {
   "cell_type": "markdown",
   "metadata": {},
   "source": [
    "### Arquitectura del modelo proveniente del algoritmo genéticos (mismo número de evaluaciones que con la malla)"
   ]
  },
  {
   "cell_type": "code",
   "execution_count": null,
   "metadata": {},
   "outputs": [
    {
     "name": "stdout",
     "output_type": "stream",
     "text": [
      "Epoch 1/50\n",
      "625/625 [==============================] - 2s 3ms/step - loss: 0.6432 - accuracy: 0.7394 - val_loss: 0.5329 - val_accuracy: 0.7921\n",
      "Epoch 2/50\n",
      "625/625 [==============================] - 1s 2ms/step - loss: 0.5152 - accuracy: 0.8025 - val_loss: 0.4978 - val_accuracy: 0.8084\n",
      "Epoch 3/50\n",
      "625/625 [==============================] - 1s 2ms/step - loss: 0.4815 - accuracy: 0.8199 - val_loss: 0.4548 - val_accuracy: 0.8341\n",
      "Epoch 4/50\n",
      "625/625 [==============================] - 1s 2ms/step - loss: 0.4426 - accuracy: 0.8369 - val_loss: 0.4286 - val_accuracy: 0.8387\n",
      "Epoch 5/50\n",
      "625/625 [==============================] - 1s 2ms/step - loss: 0.4163 - accuracy: 0.8468 - val_loss: 0.3995 - val_accuracy: 0.8547\n",
      "Epoch 6/50\n",
      "625/625 [==============================] - 1s 2ms/step - loss: 0.4014 - accuracy: 0.8529 - val_loss: 0.3899 - val_accuracy: 0.8570\n",
      "Epoch 7/50\n",
      "625/625 [==============================] - 1s 2ms/step - loss: 0.3937 - accuracy: 0.8567 - val_loss: 0.3872 - val_accuracy: 0.8548\n",
      "Epoch 8/50\n",
      "625/625 [==============================] - 1s 2ms/step - loss: 0.3900 - accuracy: 0.8594 - val_loss: 0.3904 - val_accuracy: 0.8580\n",
      "Epoch 9/50\n",
      "625/625 [==============================] - 1s 2ms/step - loss: 0.3838 - accuracy: 0.8610 - val_loss: 0.3995 - val_accuracy: 0.8516\n",
      "Epoch 10/50\n",
      "323/625 [==============>...............] - ETA: 0s - loss: 0.3799 - accuracy: 0.8621"
     ]
    }
   ],
   "source": [
    "t = time.time(); t_total = 0    \n",
    "deep_layers = 6\n",
    "num_units = 100\n",
    "learning_rate = 1e-3\n",
    "epochs = 50\n",
    "\n",
    "my_callbacks = [tf.keras.callbacks.EarlyStopping(\n",
    "                               monitor='val_loss', mode='min',\n",
    "                               min_delta=0, \n",
    "                               patience=40,\n",
    "                               verbose=1,\n",
    "                               restore_best_weights=1)]\n",
    "    \n",
    "\n",
    "model2 = tf.keras.Sequential()\n",
    "model2.add(tf.keras.layers.InputLayer(int(X_train.shape[1],)))\n",
    "model2.add(Dense(num_units, input_shape=(int(X_train.shape[1]),)))\n",
    "    \n",
    "for i in range(deep_layers):        \n",
    "    model2.add(Dense(num_units, activation='relu'))\n",
    "model2.add(Dense(3, activation=tf.nn.softmax))\n",
    "    \n",
    "optimizer = tf.keras.optimizers.Adam(learning_rate=learning_rate, beta_1=0.9, beta_2=0.999, epsilon=1e-3)\n",
    "model2.compile(optimizer=optimizer, loss='categorical_crossentropy', metrics=[\"accuracy\"])\n",
    "train2 = model2.fit(X_train, Y_train, epochs=epochs, validation_data=(X_val, Y_val),\n",
    "                    callbacks=my_callbacks, batch_size=128, shuffle=1, verbose=1)\n",
    "    \n",
    "loss, score = model2.evaluate(X_val, Y_val)    \n",
    "t = time.time()-t\n",
    "print(\"Accuracy:\", score, \", Elapsed time:\", t)"
   ]
  },
  {
   "cell_type": "code",
   "execution_count": null,
   "metadata": {},
   "outputs": [],
   "source": [
    "X_test_inverse = scaler.inverse_transform(X_test)\n",
    "labels=['Star','Galaxy','QSO']\n",
    "porcentaje = True\n",
    "\n",
    "# titles.append(f\"Confusion matrix model\")\n",
    "# plot_cm(Y_test, model1.predict(X_test), labels, porcentaje=porcentaje)\n",
    "fig = plt.figure(figsize=(5,5))\n",
    "ax = fig.add_subplot(111)\n",
    "\n",
    "y_pred = model2.predict(X_test)\n",
    "y_test=np.argmax(Y_test, axis=1)\n",
    "y_pred=np.argmax(y_pred, axis=1)\n",
    "plot_cm(Y_test, y_pred, labels=labels, porcentaje=False, ax=ax)\n",
    "plt.xlabel(\"Predicted label\", fontsize=15)\n",
    "plt.ylabel(\"True label\", fontsize=15)\n",
    "plt.title(\"Genetic algorithm\", fontsize=15)\n",
    "plt.savefig(\"classification_genetic_cm.png\")"
   ]
  },
  {
   "cell_type": "code",
   "execution_count": null,
   "metadata": {},
   "outputs": [],
   "source": [
    "fig = plt.figure(figsize=(6,6))\n",
    "ax = fig.add_subplot(111)\n",
    "plt.plot(train2.history['loss'], label='Training')\n",
    "plt.plot(train2.history['val_loss'], label='Validation')\n",
    "# plt.ylim(0.25, 0.65)\n",
    "ax.yaxis.set_major_formatter(FormatStrFormatter('%.2f'))\n",
    "plt.ylabel('Loss function', fontsize=14)\n",
    "plt.xlabel('Epochs', fontsize=14)\n",
    "plt.legend(loc='upper right', fontsize=14)\n",
    "plt.title(\"Genetic algorithm\", fontsize=14)\n",
    "plt.savefig(\"classification_genetic_loss.png\")"
   ]
  },
  {
   "cell_type": "code",
   "execution_count": null,
   "metadata": {},
   "outputs": [],
   "source": [
    "model2.save(\"models/classification_genetic.h5\")"
   ]
  },
  {
   "cell_type": "code",
   "execution_count": null,
   "metadata": {},
   "outputs": [],
   "source": [
    "print(\"epochs\", len(train2.history['loss']))"
   ]
  },
  {
   "cell_type": "code",
   "execution_count": null,
   "metadata": {},
   "outputs": [],
   "source": [
    "# other metrics\n",
    "am = accuracy_score(y_test, y_pred)\n",
    "pm = precision_score(y_test, y_pred, average='weighted')\n",
    "# rm = roc_auc_score(y_test, y_pred,multi_class='ovr')\n",
    "fm = f1_score(y_test, y_pred, average='weighted')\n",
    "\n",
    "print(\"Accuracy:\", am)\n",
    "print(\"Precision:\", pm)\n",
    "print(\"F1:\", fm)"
   ]
  },
  {
   "cell_type": "code",
   "execution_count": null,
   "metadata": {},
   "outputs": [],
   "source": []
  }
 ],
 "metadata": {
  "colab": {
   "name": "Stellar_Classifier.ipynb",
   "provenance": []
  },
  "kernelspec": {
   "display_name": "Python 3",
   "language": "python",
   "name": "python3"
  },
  "language_info": {
   "codemirror_mode": {
    "name": "ipython",
    "version": 3
   },
   "file_extension": ".py",
   "mimetype": "text/x-python",
   "name": "python",
   "nbconvert_exporter": "python",
   "pygments_lexer": "ipython3",
   "version": "3.8.10"
  },
  "latex_envs": {
   "LaTeX_envs_menu_present": true,
   "autoclose": false,
   "autocomplete": false,
   "bibliofile": "biblio.bib",
   "cite_by": "apalike",
   "current_citInitial": 1,
   "eqLabelWithNumbers": true,
   "eqNumInitial": 1,
   "hotkeys": {
    "equation": "Ctrl-E",
    "itemize": "Ctrl-I"
   },
   "labels_anchors": false,
   "latex_user_defs": false,
   "report_style_numbering": true,
   "user_envs_cfg": true
  },
  "notify_time": "5",
  "varInspector": {
   "cols": {
    "lenName": 16,
    "lenType": 16,
    "lenVar": 40
   },
   "kernels_config": {
    "python": {
     "delete_cmd_postfix": "",
     "delete_cmd_prefix": "del ",
     "library": "var_list.py",
     "varRefreshCmd": "print(var_dic_list())"
    },
    "r": {
     "delete_cmd_postfix": ") ",
     "delete_cmd_prefix": "rm(",
     "library": "var_list.r",
     "varRefreshCmd": "cat(var_dic_list()) "
    }
   },
   "types_to_exclude": [
    "module",
    "function",
    "builtin_function_or_method",
    "instance",
    "_Feature"
   ],
   "window_display": false
  }
 },
 "nbformat": 4,
 "nbformat_minor": 1
}
