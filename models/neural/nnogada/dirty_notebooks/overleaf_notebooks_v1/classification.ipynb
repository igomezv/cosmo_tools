{
 "cells": [
  {
   "cell_type": "code",
   "execution_count": 1,
   "metadata": {
    "id": "ItxP3RKqqmzb"
   },
   "outputs": [],
   "source": [
    "import numpy as np\n",
    "import pandas as pd\n",
    "import matplotlib as mpl\n",
    "import matplotlib.pyplot as plt\n",
    "import time, os\n",
    "import random\n",
    "import seaborn as sns\n",
    "\n",
    "import tensorflow as tf\n",
    "from tensorflow import keras\n",
    "from tensorflow.keras.layers import Input, Dense, LeakyReLU\n",
    "from tensorflow.keras.utils import to_categorical\n",
    "from tensorboard.plugins.hparams import api as hp\n",
    "\n",
    "from tensorflow.keras import activations\n",
    "from tensorflow.keras.losses import CategoricalCrossentropy\n",
    "from tensorflow.keras.models import Model\n",
    "\n",
    "from sklearn.metrics import accuracy_score, confusion_matrix, precision_score, roc_auc_score, f1_score\n",
    "from sklearn.preprocessing import StandardScaler\n",
    "from sklearn.model_selection import train_test_split as split\n",
    "from scipy.stats import bernoulli\n",
    "\n",
    "from matplotlib.ticker import FormatStrFormatter"
   ]
  },
  {
   "cell_type": "code",
   "execution_count": 2,
   "metadata": {
    "id": "tQnsPJKYqmzu"
   },
   "outputs": [],
   "source": [
    "np.random.seed(0)\n",
    "scaler = StandardScaler()"
   ]
  },
  {
   "cell_type": "markdown",
   "metadata": {
    "id": "YKypMarmqmzy"
   },
   "source": [
    "### Conjunto de datos: SDSS DR17"
   ]
  },
  {
   "cell_type": "code",
   "execution_count": 3,
   "metadata": {
    "colab": {
     "base_uri": "https://localhost:8080/",
     "height": 206
    },
    "id": "xGCn9Krpqmz3",
    "outputId": "c49c7769-0973-4d7a-98f7-4b5e985545ac"
   },
   "outputs": [
    {
     "data": {
      "text/html": [
       "<div>\n",
       "<style scoped>\n",
       "    .dataframe tbody tr th:only-of-type {\n",
       "        vertical-align: middle;\n",
       "    }\n",
       "\n",
       "    .dataframe tbody tr th {\n",
       "        vertical-align: top;\n",
       "    }\n",
       "\n",
       "    .dataframe thead th {\n",
       "        text-align: right;\n",
       "    }\n",
       "</style>\n",
       "<table border=\"1\" class=\"dataframe\">\n",
       "  <thead>\n",
       "    <tr style=\"text-align: right;\">\n",
       "      <th></th>\n",
       "      <th>alpha</th>\n",
       "      <th>delta</th>\n",
       "      <th>u</th>\n",
       "      <th>g</th>\n",
       "      <th>r</th>\n",
       "      <th>i</th>\n",
       "      <th>z</th>\n",
       "      <th>class</th>\n",
       "    </tr>\n",
       "  </thead>\n",
       "  <tbody>\n",
       "    <tr>\n",
       "      <th>0</th>\n",
       "      <td>135.689107</td>\n",
       "      <td>32.494632</td>\n",
       "      <td>23.87882</td>\n",
       "      <td>22.27530</td>\n",
       "      <td>20.39501</td>\n",
       "      <td>19.16573</td>\n",
       "      <td>18.79371</td>\n",
       "      <td>GALAXY</td>\n",
       "    </tr>\n",
       "    <tr>\n",
       "      <th>1</th>\n",
       "      <td>144.826101</td>\n",
       "      <td>31.274185</td>\n",
       "      <td>24.77759</td>\n",
       "      <td>22.83188</td>\n",
       "      <td>22.58444</td>\n",
       "      <td>21.16812</td>\n",
       "      <td>21.61427</td>\n",
       "      <td>GALAXY</td>\n",
       "    </tr>\n",
       "    <tr>\n",
       "      <th>2</th>\n",
       "      <td>142.188790</td>\n",
       "      <td>35.582444</td>\n",
       "      <td>25.26307</td>\n",
       "      <td>22.66389</td>\n",
       "      <td>20.60976</td>\n",
       "      <td>19.34857</td>\n",
       "      <td>18.94827</td>\n",
       "      <td>GALAXY</td>\n",
       "    </tr>\n",
       "    <tr>\n",
       "      <th>3</th>\n",
       "      <td>338.741038</td>\n",
       "      <td>-0.402828</td>\n",
       "      <td>22.13682</td>\n",
       "      <td>23.77656</td>\n",
       "      <td>21.61162</td>\n",
       "      <td>20.50454</td>\n",
       "      <td>19.25010</td>\n",
       "      <td>GALAXY</td>\n",
       "    </tr>\n",
       "    <tr>\n",
       "      <th>4</th>\n",
       "      <td>345.282593</td>\n",
       "      <td>21.183866</td>\n",
       "      <td>19.43718</td>\n",
       "      <td>17.58028</td>\n",
       "      <td>16.49747</td>\n",
       "      <td>15.97711</td>\n",
       "      <td>15.54461</td>\n",
       "      <td>GALAXY</td>\n",
       "    </tr>\n",
       "  </tbody>\n",
       "</table>\n",
       "</div>"
      ],
      "text/plain": [
       "        alpha      delta         u         g         r         i         z  \\\n",
       "0  135.689107  32.494632  23.87882  22.27530  20.39501  19.16573  18.79371   \n",
       "1  144.826101  31.274185  24.77759  22.83188  22.58444  21.16812  21.61427   \n",
       "2  142.188790  35.582444  25.26307  22.66389  20.60976  19.34857  18.94827   \n",
       "3  338.741038  -0.402828  22.13682  23.77656  21.61162  20.50454  19.25010   \n",
       "4  345.282593  21.183866  19.43718  17.58028  16.49747  15.97711  15.54461   \n",
       "\n",
       "    class  \n",
       "0  GALAXY  \n",
       "1  GALAXY  \n",
       "2  GALAXY  \n",
       "3  GALAXY  \n",
       "4  GALAXY  "
      ]
     },
     "execution_count": 3,
     "metadata": {},
     "output_type": "execute_result"
    }
   ],
   "source": [
    "url = \"https://raw.githubusercontent.com/igomezv/nnogada/main/data/star_classification.csv\"\n",
    "data = pd.read_csv(url)\n",
    "cols = ['alpha','delta','u','g','r','i','z','class']\n",
    "data = data[cols]\n",
    "data.head()"
   ]
  },
  {
   "cell_type": "markdown",
   "metadata": {
    "id": "6XosYBBPqmz8"
   },
   "source": [
    "Se cambian las clases a vectores con números enteros\n",
    "\n",
    "$$ \\text{GALAXY}: \\begin{pmatrix}1\\\\0\\\\0\\end{pmatrix},\\quad \\text{STAR}: \\begin{pmatrix}0\\\\1\\\\0\\end{pmatrix},\\quad \\text{QSO}:\\begin{pmatrix}0\\\\0\\\\1\\end{pmatrix} $$"
   ]
  },
  {
   "cell_type": "code",
   "execution_count": 4,
   "metadata": {
    "colab": {
     "base_uri": "https://localhost:8080/"
    },
    "id": "ukwjanYVqmz_",
    "outputId": "5cbffba3-3e30-4986-f950-21cb64c87047"
   },
   "outputs": [
    {
     "name": "stdout",
     "output_type": "stream",
     "text": [
      "        alpha      delta         u         g         r         i         z  \\\n",
      "0  135.689107  32.494632  23.87882  22.27530  20.39501  19.16573  18.79371   \n",
      "1  144.826101  31.274185  24.77759  22.83188  22.58444  21.16812  21.61427   \n",
      "2  142.188790  35.582444  25.26307  22.66389  20.60976  19.34857  18.94827   \n",
      "3  338.741038  -0.402828  22.13682  23.77656  21.61162  20.50454  19.25010   \n",
      "4  345.282593  21.183866  19.43718  17.58028  16.49747  15.97711  15.54461   \n",
      "\n",
      "   class  \n",
      "0      0  \n",
      "1      0  \n",
      "2      0  \n",
      "3      0  \n",
      "4      0  \n"
     ]
    }
   ],
   "source": [
    "data[\"class\"]=[0 if i == \"GALAXY\" else 1 if i == \"STAR\" else 2 for i in data[\"class\"]]\n",
    "print(data.head())\n",
    "data = data.to_numpy()"
   ]
  },
  {
   "cell_type": "code",
   "execution_count": 5,
   "metadata": {
    "id": "gspwez8Uqm0Q"
   },
   "outputs": [],
   "source": [
    "# Divide data into X and Y and implement hot_ones in Y\n",
    "def prepare_dataset(data):\n",
    "    X, Y = np.empty((0)), np.empty((0))\n",
    "    X = data[:,0:7]\n",
    "    Y = data[:,7]\n",
    "    Y = to_categorical(Y, num_classes=3)\n",
    "    return X, Y"
   ]
  },
  {
   "cell_type": "code",
   "execution_count": 6,
   "metadata": {
    "id": "vaLXQeaMqm0S"
   },
   "outputs": [],
   "source": [
    "# Split dataset into train, validation and test sets\n",
    "X,Y = prepare_dataset(data)\n",
    "\n",
    "# Defines ratios, w.r.t. whole dataset.\n",
    "ratio_train = 0.8\n",
    "ratio_val = 0.1\n",
    "ratio_test = 0.1\n",
    "\n",
    "# Produces test split.\n",
    "x_, X_test, y_, Y_test = split(X, Y, test_size = ratio_test, random_state=0)\n",
    "\n",
    "# Adjusts val ratio, w.r.t. remaining dataset.\n",
    "ratio_remaining = 1 - ratio_test\n",
    "ratio_val_adjusted = ratio_val / ratio_remaining\n",
    "\n",
    "# Produces train and val splits.\n",
    "X_train, X_val, Y_train, Y_val = split(x_, y_, test_size=ratio_val_adjusted, random_state=0)\n",
    "\n",
    "# Normalize and scale the input sets.\n",
    "scaler.fit(X)\n",
    "X_train = scaler.transform(X_train)\n",
    "X_test  = scaler.transform(X_test)\n",
    "X_val   = scaler.transform(X_val)"
   ]
  },
  {
   "cell_type": "markdown",
   "metadata": {
    "id": "ZLyZeQ7rqm0X"
   },
   "source": [
    "### Arquitectura del modelo proveniente de la malla de hiperparámetros"
   ]
  },
  {
   "cell_type": "code",
   "execution_count": 7,
   "metadata": {
    "id": "dSDGtnhRqm0Z",
    "scrolled": true
   },
   "outputs": [
    {
     "name": "stdout",
     "output_type": "stream",
     "text": [
      "Epoch 1/50\n",
      "625/625 [==============================] - 2s 2ms/step - loss: 0.6529 - accuracy: 0.7412 - val_loss: 0.5555 - val_accuracy: 0.7839\n",
      "Epoch 2/50\n",
      "625/625 [==============================] - 1s 2ms/step - loss: 0.5388 - accuracy: 0.7989 - val_loss: 0.5039 - val_accuracy: 0.8058\n",
      "Epoch 3/50\n",
      "625/625 [==============================] - 1s 2ms/step - loss: 0.4987 - accuracy: 0.8135 - val_loss: 0.4871 - val_accuracy: 0.8146\n",
      "Epoch 4/50\n",
      "625/625 [==============================] - 1s 2ms/step - loss: 0.4783 - accuracy: 0.8255 - val_loss: 0.4724 - val_accuracy: 0.8260\n",
      "Epoch 5/50\n",
      "625/625 [==============================] - 1s 2ms/step - loss: 0.4538 - accuracy: 0.8356 - val_loss: 0.4430 - val_accuracy: 0.8359\n",
      "Epoch 6/50\n",
      "625/625 [==============================] - 1s 2ms/step - loss: 0.4316 - accuracy: 0.8436 - val_loss: 0.4130 - val_accuracy: 0.8533\n",
      "Epoch 7/50\n",
      "625/625 [==============================] - 1s 2ms/step - loss: 0.4132 - accuracy: 0.8502 - val_loss: 0.4185 - val_accuracy: 0.8491\n",
      "Epoch 8/50\n",
      "625/625 [==============================] - 1s 2ms/step - loss: 0.4007 - accuracy: 0.8551 - val_loss: 0.3972 - val_accuracy: 0.8516\n",
      "Epoch 9/50\n",
      "625/625 [==============================] - 1s 2ms/step - loss: 0.3906 - accuracy: 0.8589 - val_loss: 0.3819 - val_accuracy: 0.8612\n",
      "Epoch 10/50\n",
      "625/625 [==============================] - 1s 2ms/step - loss: 0.3879 - accuracy: 0.8591 - val_loss: 0.3784 - val_accuracy: 0.8608\n",
      "Epoch 11/50\n",
      "625/625 [==============================] - 1s 2ms/step - loss: 0.3808 - accuracy: 0.8629 - val_loss: 0.3728 - val_accuracy: 0.8649\n",
      "Epoch 12/50\n",
      "625/625 [==============================] - 1s 2ms/step - loss: 0.3810 - accuracy: 0.8622 - val_loss: 0.3767 - val_accuracy: 0.8610\n",
      "Epoch 13/50\n",
      "625/625 [==============================] - 1s 2ms/step - loss: 0.3759 - accuracy: 0.8641 - val_loss: 0.3830 - val_accuracy: 0.8621\n",
      "Epoch 14/50\n",
      "625/625 [==============================] - 1s 2ms/step - loss: 0.3699 - accuracy: 0.8669 - val_loss: 0.3636 - val_accuracy: 0.8672\n",
      "Epoch 15/50\n",
      "625/625 [==============================] - 1s 2ms/step - loss: 0.3675 - accuracy: 0.8677 - val_loss: 0.3724 - val_accuracy: 0.8634\n",
      "Epoch 16/50\n",
      "625/625 [==============================] - 1s 2ms/step - loss: 0.3647 - accuracy: 0.8687 - val_loss: 0.3768 - val_accuracy: 0.8598\n",
      "Epoch 17/50\n",
      "625/625 [==============================] - 1s 2ms/step - loss: 0.3621 - accuracy: 0.8691 - val_loss: 0.3596 - val_accuracy: 0.8679\n",
      "Epoch 18/50\n",
      "625/625 [==============================] - 1s 2ms/step - loss: 0.3600 - accuracy: 0.8697 - val_loss: 0.3717 - val_accuracy: 0.8611\n",
      "Epoch 19/50\n",
      "625/625 [==============================] - 1s 2ms/step - loss: 0.3579 - accuracy: 0.8712 - val_loss: 0.3685 - val_accuracy: 0.8672\n",
      "Epoch 20/50\n",
      "625/625 [==============================] - 1s 2ms/step - loss: 0.3550 - accuracy: 0.8719 - val_loss: 0.3715 - val_accuracy: 0.8662\n",
      "Epoch 21/50\n",
      "625/625 [==============================] - 1s 2ms/step - loss: 0.3540 - accuracy: 0.8724 - val_loss: 0.3663 - val_accuracy: 0.8650\n",
      "Epoch 22/50\n",
      "625/625 [==============================] - 1s 2ms/step - loss: 0.3513 - accuracy: 0.8734 - val_loss: 0.3614 - val_accuracy: 0.8700\n",
      "Epoch 23/50\n",
      "625/625 [==============================] - 1s 2ms/step - loss: 0.3492 - accuracy: 0.8740 - val_loss: 0.3495 - val_accuracy: 0.8753\n",
      "Epoch 24/50\n",
      "625/625 [==============================] - 1s 2ms/step - loss: 0.3476 - accuracy: 0.8744 - val_loss: 0.3526 - val_accuracy: 0.8719\n",
      "Epoch 25/50\n",
      "625/625 [==============================] - 1s 2ms/step - loss: 0.3448 - accuracy: 0.8752 - val_loss: 0.3640 - val_accuracy: 0.8659\n",
      "Epoch 26/50\n",
      "625/625 [==============================] - 1s 2ms/step - loss: 0.3430 - accuracy: 0.8763 - val_loss: 0.3458 - val_accuracy: 0.8730\n",
      "Epoch 27/50\n",
      "625/625 [==============================] - 1s 2ms/step - loss: 0.3422 - accuracy: 0.8761 - val_loss: 0.3557 - val_accuracy: 0.8701\n",
      "Epoch 28/50\n",
      "625/625 [==============================] - 1s 2ms/step - loss: 0.3413 - accuracy: 0.8766 - val_loss: 0.3500 - val_accuracy: 0.8718\n",
      "Epoch 29/50\n",
      "625/625 [==============================] - 1s 2ms/step - loss: 0.3383 - accuracy: 0.8778 - val_loss: 0.3442 - val_accuracy: 0.8758\n",
      "Epoch 30/50\n",
      "625/625 [==============================] - 1s 2ms/step - loss: 0.3369 - accuracy: 0.8778 - val_loss: 0.3382 - val_accuracy: 0.8780\n",
      "Epoch 31/50\n",
      "625/625 [==============================] - 1s 2ms/step - loss: 0.3374 - accuracy: 0.8774 - val_loss: 0.3355 - val_accuracy: 0.8757\n",
      "Epoch 32/50\n",
      "625/625 [==============================] - 1s 2ms/step - loss: 0.3365 - accuracy: 0.8773 - val_loss: 0.3443 - val_accuracy: 0.8730\n",
      "Epoch 33/50\n",
      "625/625 [==============================] - 1s 2ms/step - loss: 0.3352 - accuracy: 0.8786 - val_loss: 0.3420 - val_accuracy: 0.8772\n",
      "Epoch 34/50\n",
      "625/625 [==============================] - 1s 2ms/step - loss: 0.3317 - accuracy: 0.8796 - val_loss: 0.3443 - val_accuracy: 0.8762\n",
      "Epoch 35/50\n",
      "625/625 [==============================] - 1s 2ms/step - loss: 0.3303 - accuracy: 0.8805 - val_loss: 0.3405 - val_accuracy: 0.8790\n",
      "Epoch 36/50\n",
      "625/625 [==============================] - 1s 2ms/step - loss: 0.3298 - accuracy: 0.8802 - val_loss: 0.3334 - val_accuracy: 0.8790\n",
      "Epoch 37/50\n",
      "625/625 [==============================] - 1s 2ms/step - loss: 0.3284 - accuracy: 0.8806 - val_loss: 0.3322 - val_accuracy: 0.8787\n",
      "Epoch 38/50\n",
      "625/625 [==============================] - 1s 2ms/step - loss: 0.3290 - accuracy: 0.8805 - val_loss: 0.3380 - val_accuracy: 0.8760\n",
      "Epoch 39/50\n",
      "625/625 [==============================] - 1s 2ms/step - loss: 0.3245 - accuracy: 0.8820 - val_loss: 0.3336 - val_accuracy: 0.8780\n",
      "Epoch 40/50\n",
      "625/625 [==============================] - 1s 2ms/step - loss: 0.3250 - accuracy: 0.8826 - val_loss: 0.3363 - val_accuracy: 0.8777\n",
      "Epoch 41/50\n",
      "625/625 [==============================] - 1s 2ms/step - loss: 0.3246 - accuracy: 0.8817 - val_loss: 0.3328 - val_accuracy: 0.8817\n",
      "Epoch 42/50\n",
      "625/625 [==============================] - 1s 2ms/step - loss: 0.3225 - accuracy: 0.8833 - val_loss: 0.3910 - val_accuracy: 0.8576\n",
      "Epoch 43/50\n",
      "625/625 [==============================] - 1s 2ms/step - loss: 0.3226 - accuracy: 0.8828 - val_loss: 0.3462 - val_accuracy: 0.8720\n",
      "Epoch 44/50\n",
      "625/625 [==============================] - 1s 2ms/step - loss: 0.3203 - accuracy: 0.8834 - val_loss: 0.3324 - val_accuracy: 0.8785\n",
      "Epoch 45/50\n",
      "625/625 [==============================] - 1s 2ms/step - loss: 0.3203 - accuracy: 0.8833 - val_loss: 0.3641 - val_accuracy: 0.8658\n",
      "Epoch 46/50\n",
      "625/625 [==============================] - 1s 2ms/step - loss: 0.3196 - accuracy: 0.8835 - val_loss: 0.3275 - val_accuracy: 0.8806\n",
      "Epoch 47/50\n",
      "625/625 [==============================] - 1s 2ms/step - loss: 0.3176 - accuracy: 0.8840 - val_loss: 0.3275 - val_accuracy: 0.8810\n",
      "Epoch 48/50\n",
      "625/625 [==============================] - 1s 2ms/step - loss: 0.3189 - accuracy: 0.8841 - val_loss: 0.3365 - val_accuracy: 0.8768\n",
      "Epoch 49/50\n",
      "625/625 [==============================] - 1s 2ms/step - loss: 0.3166 - accuracy: 0.8852 - val_loss: 0.3280 - val_accuracy: 0.8795\n",
      "Epoch 50/50\n",
      "625/625 [==============================] - 1s 2ms/step - loss: 0.3152 - accuracy: 0.8848 - val_loss: 0.3264 - val_accuracy: 0.8790\n",
      "313/313 [==============================] - 0s 814us/step - loss: 0.3264 - accuracy: 0.8790\n",
      "Accuracy: 0.8790000081062317 , Elapsed time: 51.26599740982056\n"
     ]
    }
   ],
   "source": [
    "t = time.time(); t_total = 0    \n",
    "deep_layers = 2\n",
    "num_units = 150\n",
    "learning_rate = 1e-3\n",
    "epochs = 50\n",
    "\n",
    "my_callbacks = [tf.keras.callbacks.EarlyStopping(\n",
    "                               monitor='val_loss', mode='min',\n",
    "                               min_delta=0, \n",
    "                               patience=50,\n",
    "                               verbose=1,\n",
    "                               restore_best_weights=False)]\n",
    "    \n",
    "\n",
    "model1 = tf.keras.Sequential()\n",
    "model1.add(tf.keras.layers.InputLayer(int(X_train.shape[1],)))\n",
    "model1.add(Dense(num_units, input_shape=(int(X_train.shape[1]),)))\n",
    "    \n",
    "for i in range(deep_layers):        \n",
    "    model1.add(Dense(num_units, activation='relu'))\n",
    "model1.add(Dense(3, activation=tf.nn.softmax))\n",
    "    \n",
    "optimizer = tf.keras.optimizers.Adam(learning_rate=learning_rate, beta_1=0.9, beta_2=0.999, epsilon=1e-3)\n",
    "model1.compile(optimizer=optimizer, loss='categorical_crossentropy', metrics=[\"accuracy\"])\n",
    "train1 = model1.fit(X_train, Y_train, epochs=epochs, validation_data=(X_val, Y_val),\n",
    "                    callbacks=my_callbacks, batch_size=128, shuffle=1, verbose=1)\n",
    "    \n",
    "loss, score = model1.evaluate(X_val, Y_val)    \n",
    "t = time.time()-t\n",
    "print(\"Accuracy:\", score, \", Elapsed time:\", t)"
   ]
  },
  {
   "cell_type": "code",
   "execution_count": 8,
   "metadata": {
    "id": "0RXuYHipq8t3"
   },
   "outputs": [],
   "source": [
    "def plot_cm(Y_test, Y_pred, labels, porcentaje=False, cbar=False, ax=None):\n",
    "    matrix = confusion_matrix(Y_test.argmax(axis=1), Y_pred)   \n",
    "    #Aquí se divide si queremos en porcentaje o números\n",
    "    if porcentaje==False: \n",
    "        ax = sns.heatmap(matrix, annot=True, cmap=\"OrRd\", cbar=cbar, cbar_kws={'label': 'scale'}, ax=ax)\n",
    "#         ax.yaxis.set_major_formatter(FormatStrFormatter('%.4f'))\n",
    "    if porcentaje==True:\n",
    "        m=np.zeros(matrix.shape)\n",
    "        for j in range(0,matrix.shape[1]):\n",
    "            m[:,j]=matrix[:,j]/np.sum(matrix[:,j])*100\n",
    "            \n",
    "        ax = sns.heatmap(m, annot=True,cmap='OrRd', cbar=cbar, cbar_kws={'label': 'scale'}, ax=ax)\n",
    " \n",
    "    ax.set_xticklabels(labels)\n",
    "    ax.set_yticklabels(labels)\n",
    " \n",
    "    # ax.set(xlabel=\"True label\", ylabel=\"Predicted label\")\n",
    "\n",
    "    return ax"
   ]
  },
  {
   "cell_type": "code",
   "execution_count": 9,
   "metadata": {
    "colab": {
     "base_uri": "https://localhost:8080/",
     "height": 336
    },
    "id": "8ySBn5bTqm0v",
    "outputId": "cc9fae88-d6b0-4f4f-8908-d98a908dba35"
   },
   "outputs": [
    {
     "name": "stdout",
     "output_type": "stream",
     "text": [
      "313/313 [==============================] - 0s 683us/step\n"
     ]
    },
    {
     "data": {
      "image/png": "[encoded data removed]",
      "text/plain": [
       "<Figure size 360x360 with 1 Axes>"
      ]
     },
     "metadata": {
      "needs_background": "light"
     },
     "output_type": "display_data"
    }
   ],
   "source": [
    "X_test_inverse = scaler.inverse_transform(X_test)\n",
    "labels=['Star','Galaxy','QSO']\n",
    "porcentaje = True\n",
    "\n",
    "# titles.append(f\"Confusion matrix model\")\n",
    "# plot_cm(Y_test, model1.predict(X_test), labels, porcentaje=porcentaje)\n",
    "fig = plt.figure(figsize=(5,5))\n",
    "ax = fig.add_subplot(111)\n",
    "\n",
    "y_pred = model1.predict(X_test)\n",
    "y_test=np.argmax(Y_test, axis=1)\n",
    "y_pred=np.argmax(y_pred, axis=1)\n",
    "plot_cm(Y_test, y_pred, labels=labels, porcentaje=False, ax=ax)\n",
    "plt.title(\"Hyperparameter grid\", fontsize=15)\n",
    "plt.xlabel(\"Predicted label\", fontsize=15)\n",
    "plt.ylabel(\"True label\", fontsize=15)\n",
    "plt.savefig(\"classification_grid_cm.png\")"
   ]
  },
  {
   "cell_type": "code",
   "execution_count": 10,
   "metadata": {},
   "outputs": [
    {
     "data": {
      "text/plain": [
       "0.31520628929138184"
      ]
     },
     "execution_count": 10,
     "metadata": {},
     "output_type": "execute_result"
    },
    {
     "data": {
      "image/png": "[encoded data removed]",
      "text/plain": [
       "<Figure size 432x432 with 1 Axes>"
      ]
     },
     "metadata": {
      "needs_background": "light"
     },
     "output_type": "display_data"
    }
   ],
   "source": [
    "fig = plt.figure(figsize=(6,6))\n",
    "ax = fig.add_subplot(111)\n",
    "plt.plot(train1.history['loss'], label='Training')\n",
    "plt.plot(train1.history['val_loss'], label='Validation')\n",
    "# plt.ylim(0.25, 0.65)\n",
    "ax.yaxis.set_major_formatter(FormatStrFormatter('%.2f'))\n",
    "plt.title(\"Hyperparameter grid\", fontsize=14)\n",
    "plt.ylabel('Loss function', fontsize=14)\n",
    "plt.xlabel('Epochs', fontsize=14)\n",
    "plt.legend(loc='upper right', fontsize=14)\n",
    "plt.savefig(\"classification_grid_loss.png\")\n",
    "np.min(train1.history['loss'])"
   ]
  },
  {
   "cell_type": "code",
   "execution_count": 11,
   "metadata": {},
   "outputs": [],
   "source": [
    "model1.save(\"models/classification_grid.h5\")"
   ]
  },
  {
   "cell_type": "code",
   "execution_count": 12,
   "metadata": {},
   "outputs": [
    {
     "name": "stdout",
     "output_type": "stream",
     "text": [
      "epochs 50\n"
     ]
    }
   ],
   "source": [
    "print(\"epochs\", len(train1.history['loss']))"
   ]
  },
  {
   "cell_type": "code",
   "execution_count": 13,
   "metadata": {},
   "outputs": [
    {
     "name": "stdout",
     "output_type": "stream",
     "text": [
      "Accuracy: 0.8808\n",
      "Precision: 0.8796150281706269\n",
      "F1: 0.8798671292992071\n"
     ]
    }
   ],
   "source": [
    "# other metrics\n",
    "am = accuracy_score(y_test, y_pred)\n",
    "pm = precision_score(y_test, y_pred, average='weighted')\n",
    "# rm = roc_auc_score(y_test, y_pred,multi_class='ovr')\n",
    "fm = f1_score(y_test, y_pred, average='weighted')\n",
    "\n",
    "print(\"Accuracy:\", am)\n",
    "print(\"Precision:\", pm)\n",
    "print(\"F1:\", fm)"
   ]
  },
  {
   "cell_type": "markdown",
   "metadata": {},
   "source": [
    "### Arquitectura del modelo proveniente del algoritmo genéticos (mismo número de evaluaciones que con la malla)"
   ]
  },
  {
   "cell_type": "code",
   "execution_count": 14,
   "metadata": {},
   "outputs": [
    {
     "name": "stdout",
     "output_type": "stream",
     "text": [
      "Epoch 1/50\n",
      "625/625 [==============================] - 1s 2ms/step - loss: 0.6413 - accuracy: 0.7429 - val_loss: 0.5145 - val_accuracy: 0.8043\n",
      "Epoch 2/50\n",
      "625/625 [==============================] - 1s 1ms/step - loss: 0.5125 - accuracy: 0.8052 - val_loss: 0.5131 - val_accuracy: 0.7985\n",
      "Epoch 3/50\n",
      "625/625 [==============================] - 1s 1ms/step - loss: 0.4945 - accuracy: 0.8164 - val_loss: 0.4828 - val_accuracy: 0.8163\n",
      "Epoch 4/50\n",
      "625/625 [==============================] - 1s 1ms/step - loss: 0.4631 - accuracy: 0.8282 - val_loss: 0.4531 - val_accuracy: 0.8329\n",
      "Epoch 5/50\n",
      "625/625 [==============================] - 1s 1ms/step - loss: 0.4453 - accuracy: 0.8372 - val_loss: 0.4252 - val_accuracy: 0.8433\n",
      "Epoch 6/50\n",
      "625/625 [==============================] - 1s 1ms/step - loss: 0.4175 - accuracy: 0.8483 - val_loss: 0.4100 - val_accuracy: 0.8472\n",
      "Epoch 7/50\n",
      "625/625 [==============================] - 1s 1ms/step - loss: 0.4042 - accuracy: 0.8532 - val_loss: 0.3950 - val_accuracy: 0.8561\n",
      "Epoch 8/50\n",
      "625/625 [==============================] - 1s 1ms/step - loss: 0.3969 - accuracy: 0.8555 - val_loss: 0.3895 - val_accuracy: 0.8613\n",
      "Epoch 9/50\n",
      "625/625 [==============================] - 1s 1ms/step - loss: 0.3893 - accuracy: 0.8581 - val_loss: 0.3807 - val_accuracy: 0.8618\n",
      "Epoch 10/50\n",
      "625/625 [==============================] - 1s 1ms/step - loss: 0.3871 - accuracy: 0.8597 - val_loss: 0.3774 - val_accuracy: 0.8614\n",
      "Epoch 11/50\n",
      "625/625 [==============================] - 1s 1ms/step - loss: 0.3828 - accuracy: 0.8615 - val_loss: 0.3917 - val_accuracy: 0.8555\n",
      "Epoch 12/50\n",
      "625/625 [==============================] - 1s 1ms/step - loss: 0.3823 - accuracy: 0.8614 - val_loss: 0.3764 - val_accuracy: 0.8658\n",
      "Epoch 13/50\n",
      "625/625 [==============================] - 1s 1ms/step - loss: 0.3761 - accuracy: 0.8646 - val_loss: 0.4121 - val_accuracy: 0.8437\n",
      "Epoch 14/50\n",
      "625/625 [==============================] - 1s 1ms/step - loss: 0.3781 - accuracy: 0.8630 - val_loss: 0.3721 - val_accuracy: 0.8616\n",
      "Epoch 15/50\n",
      "625/625 [==============================] - 1s 1ms/step - loss: 0.3736 - accuracy: 0.8646 - val_loss: 0.3829 - val_accuracy: 0.8603\n",
      "Epoch 16/50\n",
      "625/625 [==============================] - 1s 1ms/step - loss: 0.3713 - accuracy: 0.8655 - val_loss: 0.3830 - val_accuracy: 0.8573\n",
      "Epoch 17/50\n",
      "625/625 [==============================] - 1s 1ms/step - loss: 0.3677 - accuracy: 0.8667 - val_loss: 0.3769 - val_accuracy: 0.8640\n",
      "Epoch 18/50\n",
      "625/625 [==============================] - 1s 1ms/step - loss: 0.3639 - accuracy: 0.8678 - val_loss: 0.3651 - val_accuracy: 0.8658\n",
      "Epoch 19/50\n",
      "625/625 [==============================] - 1s 1ms/step - loss: 0.3638 - accuracy: 0.8680 - val_loss: 0.3739 - val_accuracy: 0.8609\n",
      "Epoch 20/50\n",
      "625/625 [==============================] - 1s 1ms/step - loss: 0.3618 - accuracy: 0.8685 - val_loss: 0.3576 - val_accuracy: 0.8683\n",
      "Epoch 21/50\n",
      "625/625 [==============================] - 1s 1ms/step - loss: 0.3584 - accuracy: 0.8700 - val_loss: 0.3558 - val_accuracy: 0.8695\n",
      "Epoch 22/50\n",
      "625/625 [==============================] - 1s 1ms/step - loss: 0.3583 - accuracy: 0.8702 - val_loss: 0.3602 - val_accuracy: 0.8696\n",
      "Epoch 23/50\n",
      "625/625 [==============================] - 1s 1ms/step - loss: 0.3549 - accuracy: 0.8716 - val_loss: 0.3734 - val_accuracy: 0.8644\n",
      "Epoch 24/50\n",
      "625/625 [==============================] - 1s 1ms/step - loss: 0.3558 - accuracy: 0.8710 - val_loss: 0.3530 - val_accuracy: 0.8706\n",
      "Epoch 25/50\n",
      "625/625 [==============================] - 1s 1ms/step - loss: 0.3519 - accuracy: 0.8726 - val_loss: 0.3497 - val_accuracy: 0.8714\n",
      "Epoch 26/50\n",
      "625/625 [==============================] - 1s 1ms/step - loss: 0.3509 - accuracy: 0.8726 - val_loss: 0.3536 - val_accuracy: 0.8725\n",
      "Epoch 27/50\n",
      "625/625 [==============================] - 1s 1ms/step - loss: 0.3497 - accuracy: 0.8723 - val_loss: 0.3509 - val_accuracy: 0.8705\n",
      "Epoch 28/50\n",
      "625/625 [==============================] - 1s 1ms/step - loss: 0.3467 - accuracy: 0.8742 - val_loss: 0.3514 - val_accuracy: 0.8723\n",
      "Epoch 29/50\n",
      "625/625 [==============================] - 1s 1ms/step - loss: 0.3460 - accuracy: 0.8741 - val_loss: 0.3481 - val_accuracy: 0.8746\n",
      "Epoch 30/50\n",
      "625/625 [==============================] - 1s 1ms/step - loss: 0.3445 - accuracy: 0.8746 - val_loss: 0.3467 - val_accuracy: 0.8730\n",
      "Epoch 31/50\n",
      "625/625 [==============================] - 1s 1ms/step - loss: 0.3451 - accuracy: 0.8740 - val_loss: 0.3435 - val_accuracy: 0.8736\n",
      "Epoch 32/50\n",
      "625/625 [==============================] - 1s 1ms/step - loss: 0.3425 - accuracy: 0.8765 - val_loss: 0.3425 - val_accuracy: 0.8761\n",
      "Epoch 33/50\n",
      "625/625 [==============================] - 1s 1ms/step - loss: 0.3416 - accuracy: 0.8753 - val_loss: 0.3437 - val_accuracy: 0.8739\n",
      "Epoch 34/50\n",
      "625/625 [==============================] - 1s 1ms/step - loss: 0.3383 - accuracy: 0.8764 - val_loss: 0.3491 - val_accuracy: 0.8709\n",
      "Epoch 35/50\n",
      "625/625 [==============================] - 1s 1ms/step - loss: 0.3381 - accuracy: 0.8765 - val_loss: 0.3456 - val_accuracy: 0.8737\n",
      "Epoch 36/50\n",
      "625/625 [==============================] - 1s 1ms/step - loss: 0.3355 - accuracy: 0.8782 - val_loss: 0.3388 - val_accuracy: 0.8751\n",
      "Epoch 37/50\n",
      "625/625 [==============================] - 1s 1ms/step - loss: 0.3356 - accuracy: 0.8776 - val_loss: 0.3388 - val_accuracy: 0.8745\n",
      "Epoch 38/50\n",
      "625/625 [==============================] - 1s 1ms/step - loss: 0.3322 - accuracy: 0.8787 - val_loss: 0.3413 - val_accuracy: 0.8735\n",
      "Epoch 39/50\n",
      "625/625 [==============================] - 1s 1ms/step - loss: 0.3340 - accuracy: 0.8782 - val_loss: 0.3460 - val_accuracy: 0.8702\n",
      "Epoch 40/50\n",
      "625/625 [==============================] - 1s 1ms/step - loss: 0.3304 - accuracy: 0.8795 - val_loss: 0.3334 - val_accuracy: 0.8792\n",
      "Epoch 41/50\n",
      "625/625 [==============================] - 1s 1ms/step - loss: 0.3290 - accuracy: 0.8798 - val_loss: 0.3309 - val_accuracy: 0.8803\n",
      "Epoch 42/50\n",
      "625/625 [==============================] - 1s 1ms/step - loss: 0.3300 - accuracy: 0.8800 - val_loss: 0.3338 - val_accuracy: 0.8763\n",
      "Epoch 43/50\n",
      "625/625 [==============================] - 1s 1ms/step - loss: 0.3265 - accuracy: 0.8800 - val_loss: 0.3278 - val_accuracy: 0.8807\n",
      "Epoch 44/50\n",
      "625/625 [==============================] - 1s 1ms/step - loss: 0.3259 - accuracy: 0.8809 - val_loss: 0.3334 - val_accuracy: 0.8801\n",
      "Epoch 45/50\n",
      "625/625 [==============================] - 1s 1ms/step - loss: 0.3245 - accuracy: 0.8811 - val_loss: 0.3441 - val_accuracy: 0.8765\n",
      "Epoch 46/50\n",
      "625/625 [==============================] - 1s 1ms/step - loss: 0.3244 - accuracy: 0.8813 - val_loss: 0.3404 - val_accuracy: 0.8753\n",
      "Epoch 47/50\n",
      "625/625 [==============================] - 1s 1ms/step - loss: 0.3212 - accuracy: 0.8832 - val_loss: 0.3256 - val_accuracy: 0.8811\n",
      "Epoch 48/50\n",
      "625/625 [==============================] - 1s 1ms/step - loss: 0.3213 - accuracy: 0.8821 - val_loss: 0.3282 - val_accuracy: 0.8792\n",
      "Epoch 49/50\n",
      "625/625 [==============================] - 1s 1ms/step - loss: 0.3191 - accuracy: 0.8827 - val_loss: 0.3261 - val_accuracy: 0.8789\n",
      "Epoch 50/50\n",
      "625/625 [==============================] - 1s 1ms/step - loss: 0.3190 - accuracy: 0.8819 - val_loss: 0.3342 - val_accuracy: 0.8793\n",
      "313/313 [==============================] - 0s 828us/step - loss: 0.3342 - accuracy: 0.8793\n",
      "Accuracy: 0.8792999982833862 , Elapsed time: 47.17642045021057\n"
     ]
    }
   ],
   "source": [
    "t = time.time(); t_total = 0    \n",
    "deep_layers = 4\n",
    "num_units = 50\n",
    "learning_rate = 1e-3\n",
    "\n",
    "\n",
    "modela = tf.keras.Sequential()\n",
    "modela.add(tf.keras.layers.InputLayer(int(X_train.shape[1],)))\n",
    "modela.add(Dense(num_units, input_shape=(int(X_train.shape[1]),)))\n",
    "    \n",
    "for i in range(deep_layers):        \n",
    "    modela.add(Dense(num_units, activation='relu'))\n",
    "modela.add(Dense(3, activation=tf.nn.softmax))\n",
    "    \n",
    "optimizer = tf.keras.optimizers.Adam(learning_rate=learning_rate, beta_1=0.9, beta_2=0.999, epsilon=1e-3)\n",
    "modela.compile(optimizer=optimizer, loss='categorical_crossentropy', metrics=[\"accuracy\"])\n",
    "traina = modela.fit(X_train, Y_train, epochs=epochs, validation_data=(X_val, Y_val),\n",
    "                    callbacks=my_callbacks, batch_size=128, shuffle=1, verbose=1)\n",
    "    \n",
    "lossa, scorea = modela.evaluate(X_val, Y_val)    \n",
    "t = time.time()-t\n",
    "print(\"Accuracy:\", scorea, \", Elapsed time:\", t)"
   ]
  },
  {
   "cell_type": "code",
   "execution_count": 15,
   "metadata": {},
   "outputs": [
    {
     "name": "stdout",
     "output_type": "stream",
     "text": [
      "Epoch 1/50\n",
      "625/625 [==============================] - 2s 2ms/step - loss: 0.6377 - accuracy: 0.7470 - val_loss: 0.5341 - val_accuracy: 0.7920\n",
      "Epoch 2/50\n",
      "625/625 [==============================] - 1s 2ms/step - loss: 0.5177 - accuracy: 0.8048 - val_loss: 0.4900 - val_accuracy: 0.8107\n",
      "Epoch 3/50\n",
      "625/625 [==============================] - 1s 2ms/step - loss: 0.4743 - accuracy: 0.8231 - val_loss: 0.4491 - val_accuracy: 0.8317\n",
      "Epoch 4/50\n",
      "625/625 [==============================] - 1s 2ms/step - loss: 0.4326 - accuracy: 0.8419 - val_loss: 0.4012 - val_accuracy: 0.8537\n",
      "Epoch 5/50\n",
      "625/625 [==============================] - 1s 2ms/step - loss: 0.4064 - accuracy: 0.8513 - val_loss: 0.3986 - val_accuracy: 0.8544\n",
      "Epoch 6/50\n",
      "625/625 [==============================] - 1s 2ms/step - loss: 0.3979 - accuracy: 0.8551 - val_loss: 0.3997 - val_accuracy: 0.8520\n",
      "Epoch 7/50\n",
      "625/625 [==============================] - 1s 2ms/step - loss: 0.3893 - accuracy: 0.8590 - val_loss: 0.4170 - val_accuracy: 0.8470\n",
      "Epoch 8/50\n",
      "625/625 [==============================] - 1s 2ms/step - loss: 0.3844 - accuracy: 0.8606 - val_loss: 0.3929 - val_accuracy: 0.8563\n",
      "Epoch 9/50\n",
      "625/625 [==============================] - 1s 2ms/step - loss: 0.3783 - accuracy: 0.8626 - val_loss: 0.3724 - val_accuracy: 0.8630\n",
      "Epoch 10/50\n",
      "625/625 [==============================] - 1s 2ms/step - loss: 0.3732 - accuracy: 0.8655 - val_loss: 0.3677 - val_accuracy: 0.8655\n",
      "Epoch 11/50\n",
      "625/625 [==============================] - 1s 2ms/step - loss: 0.3716 - accuracy: 0.8654 - val_loss: 0.3667 - val_accuracy: 0.8652\n",
      "Epoch 12/50\n",
      "625/625 [==============================] - 1s 2ms/step - loss: 0.3648 - accuracy: 0.8684 - val_loss: 0.3666 - val_accuracy: 0.8646\n",
      "Epoch 13/50\n",
      "625/625 [==============================] - 1s 2ms/step - loss: 0.3630 - accuracy: 0.8675 - val_loss: 0.3711 - val_accuracy: 0.8623\n",
      "Epoch 14/50\n",
      "625/625 [==============================] - 1s 2ms/step - loss: 0.3614 - accuracy: 0.8688 - val_loss: 0.3601 - val_accuracy: 0.8683\n",
      "Epoch 15/50\n",
      "625/625 [==============================] - 1s 2ms/step - loss: 0.3571 - accuracy: 0.8700 - val_loss: 0.3626 - val_accuracy: 0.8660\n",
      "Epoch 16/50\n",
      "625/625 [==============================] - 1s 2ms/step - loss: 0.3545 - accuracy: 0.8712 - val_loss: 0.3616 - val_accuracy: 0.8687\n",
      "Epoch 17/50\n",
      "625/625 [==============================] - 1s 2ms/step - loss: 0.3529 - accuracy: 0.8717 - val_loss: 0.3542 - val_accuracy: 0.8711\n",
      "Epoch 18/50\n",
      "625/625 [==============================] - 1s 2ms/step - loss: 0.3510 - accuracy: 0.8735 - val_loss: 0.3660 - val_accuracy: 0.8653\n",
      "Epoch 19/50\n",
      "625/625 [==============================] - 1s 2ms/step - loss: 0.3470 - accuracy: 0.8742 - val_loss: 0.3559 - val_accuracy: 0.8689\n",
      "Epoch 20/50\n",
      "625/625 [==============================] - 1s 2ms/step - loss: 0.3449 - accuracy: 0.8748 - val_loss: 0.3399 - val_accuracy: 0.8759\n",
      "Epoch 21/50\n",
      "625/625 [==============================] - 1s 2ms/step - loss: 0.3420 - accuracy: 0.8755 - val_loss: 0.3414 - val_accuracy: 0.8756\n",
      "Epoch 22/50\n",
      "625/625 [==============================] - 1s 2ms/step - loss: 0.3404 - accuracy: 0.8761 - val_loss: 0.3453 - val_accuracy: 0.8730\n",
      "Epoch 23/50\n",
      "625/625 [==============================] - 1s 2ms/step - loss: 0.3399 - accuracy: 0.8770 - val_loss: 0.3445 - val_accuracy: 0.8742\n",
      "Epoch 24/50\n",
      "625/625 [==============================] - 1s 2ms/step - loss: 0.3361 - accuracy: 0.8780 - val_loss: 0.3594 - val_accuracy: 0.8740\n",
      "Epoch 25/50\n",
      "625/625 [==============================] - 1s 2ms/step - loss: 0.3337 - accuracy: 0.8784 - val_loss: 0.3409 - val_accuracy: 0.8722\n",
      "Epoch 26/50\n",
      "625/625 [==============================] - 1s 2ms/step - loss: 0.3320 - accuracy: 0.8784 - val_loss: 0.3370 - val_accuracy: 0.8761\n",
      "Epoch 27/50\n",
      "625/625 [==============================] - 1s 2ms/step - loss: 0.3296 - accuracy: 0.8794 - val_loss: 0.3464 - val_accuracy: 0.8702\n",
      "Epoch 28/50\n",
      "625/625 [==============================] - 1s 2ms/step - loss: 0.3280 - accuracy: 0.8803 - val_loss: 0.3369 - val_accuracy: 0.8769\n",
      "Epoch 29/50\n",
      "625/625 [==============================] - 1s 2ms/step - loss: 0.3260 - accuracy: 0.8819 - val_loss: 0.3386 - val_accuracy: 0.8745\n",
      "Epoch 30/50\n",
      "625/625 [==============================] - 1s 2ms/step - loss: 0.3254 - accuracy: 0.8803 - val_loss: 0.3320 - val_accuracy: 0.8803\n",
      "Epoch 31/50\n",
      "625/625 [==============================] - 1s 2ms/step - loss: 0.3229 - accuracy: 0.8810 - val_loss: 0.3475 - val_accuracy: 0.8730\n",
      "Epoch 32/50\n",
      "625/625 [==============================] - 1s 2ms/step - loss: 0.3233 - accuracy: 0.8816 - val_loss: 0.3301 - val_accuracy: 0.8811\n",
      "Epoch 33/50\n",
      "625/625 [==============================] - 1s 2ms/step - loss: 0.3187 - accuracy: 0.8826 - val_loss: 0.3245 - val_accuracy: 0.8827\n",
      "Epoch 34/50\n",
      "625/625 [==============================] - 1s 2ms/step - loss: 0.3172 - accuracy: 0.8842 - val_loss: 0.3289 - val_accuracy: 0.8825\n",
      "Epoch 35/50\n",
      "625/625 [==============================] - 1s 2ms/step - loss: 0.3175 - accuracy: 0.8839 - val_loss: 0.3211 - val_accuracy: 0.8812\n",
      "Epoch 36/50\n",
      "625/625 [==============================] - 1s 2ms/step - loss: 0.3160 - accuracy: 0.8843 - val_loss: 0.3357 - val_accuracy: 0.8772\n",
      "Epoch 37/50\n",
      "625/625 [==============================] - 1s 2ms/step - loss: 0.3133 - accuracy: 0.8855 - val_loss: 0.3206 - val_accuracy: 0.8797\n",
      "Epoch 38/50\n",
      "625/625 [==============================] - 1s 2ms/step - loss: 0.3133 - accuracy: 0.8847 - val_loss: 0.3254 - val_accuracy: 0.8806\n",
      "Epoch 39/50\n",
      "625/625 [==============================] - 1s 2ms/step - loss: 0.3142 - accuracy: 0.8835 - val_loss: 0.3218 - val_accuracy: 0.8819\n",
      "Epoch 40/50\n",
      "625/625 [==============================] - 1s 2ms/step - loss: 0.3097 - accuracy: 0.8865 - val_loss: 0.3321 - val_accuracy: 0.8778\n",
      "Epoch 41/50\n",
      "625/625 [==============================] - 1s 2ms/step - loss: 0.3082 - accuracy: 0.8877 - val_loss: 0.3138 - val_accuracy: 0.8836\n",
      "Epoch 42/50\n",
      "625/625 [==============================] - 1s 2ms/step - loss: 0.3079 - accuracy: 0.8869 - val_loss: 0.3261 - val_accuracy: 0.8797\n",
      "Epoch 43/50\n",
      "625/625 [==============================] - 1s 2ms/step - loss: 0.3069 - accuracy: 0.8875 - val_loss: 0.3287 - val_accuracy: 0.8771\n",
      "Epoch 44/50\n",
      "625/625 [==============================] - 1s 2ms/step - loss: 0.3032 - accuracy: 0.8888 - val_loss: 0.3186 - val_accuracy: 0.8843\n",
      "Epoch 45/50\n",
      "625/625 [==============================] - 1s 2ms/step - loss: 0.3021 - accuracy: 0.8890 - val_loss: 0.3249 - val_accuracy: 0.8821\n",
      "Epoch 46/50\n",
      "625/625 [==============================] - 1s 2ms/step - loss: 0.3020 - accuracy: 0.8898 - val_loss: 0.3166 - val_accuracy: 0.8838\n",
      "Epoch 47/50\n",
      "625/625 [==============================] - 1s 2ms/step - loss: 0.3023 - accuracy: 0.8897 - val_loss: 0.3141 - val_accuracy: 0.8856\n",
      "Epoch 48/50\n",
      "625/625 [==============================] - 1s 2ms/step - loss: 0.2996 - accuracy: 0.8904 - val_loss: 0.3197 - val_accuracy: 0.8831\n",
      "Epoch 49/50\n",
      "625/625 [==============================] - 1s 2ms/step - loss: 0.2995 - accuracy: 0.8908 - val_loss: 0.3196 - val_accuracy: 0.8827\n",
      "Epoch 50/50\n",
      "625/625 [==============================] - 1s 2ms/step - loss: 0.2982 - accuracy: 0.8908 - val_loss: 0.3206 - val_accuracy: 0.8815\n",
      "313/313 [==============================] - 0s 820us/step - loss: 0.3206 - accuracy: 0.8815\n",
      "Accuracy: 0.8815000057220459 , Elapsed time: 57.7132248878479\n"
     ]
    }
   ],
   "source": [
    "t = time.time(); t_total = 0    \n",
    "deep_layers = 4\n",
    "num_units = 100\n",
    "learning_rate = 1e-3\n",
    "    \n",
    "\n",
    "modelb = tf.keras.Sequential()\n",
    "modelb.add(tf.keras.layers.InputLayer(int(X_train.shape[1],)))\n",
    "modelb.add(Dense(num_units, input_shape=(int(X_train.shape[1]),)))\n",
    "    \n",
    "for i in range(deep_layers):        \n",
    "    modelb.add(Dense(num_units, activation='relu'))\n",
    "modelb.add(Dense(3, activation=tf.nn.softmax))\n",
    "    \n",
    "optimizer = tf.keras.optimizers.Adam(learning_rate=learning_rate, beta_1=0.9, beta_2=0.999, epsilon=1e-3)\n",
    "modelb.compile(optimizer=optimizer, loss='categorical_crossentropy', metrics=[\"accuracy\"])\n",
    "trainb = modelb.fit(X_train, Y_train, epochs=epochs, validation_data=(X_val, Y_val),\n",
    "                    callbacks=my_callbacks, batch_size=128, shuffle=1, verbose=1)\n",
    "    \n",
    "lossb, scoreb = modelb.evaluate(X_val, Y_val)    \n",
    "t = time.time()-t\n",
    "print(\"Accuracy:\", scoreb, \", Elapsed time:\", t)"
   ]
  },
  {
   "cell_type": "code",
   "execution_count": 16,
   "metadata": {},
   "outputs": [
    {
     "name": "stdout",
     "output_type": "stream",
     "text": [
      "Epoch 1/50\n",
      "625/625 [==============================] - 2s 2ms/step - loss: 0.6328 - accuracy: 0.7506 - val_loss: 0.5321 - val_accuracy: 0.7979\n",
      "Epoch 2/50\n",
      "625/625 [==============================] - 1s 2ms/step - loss: 0.5173 - accuracy: 0.8020 - val_loss: 0.5101 - val_accuracy: 0.8028\n",
      "Epoch 3/50\n",
      "625/625 [==============================] - 1s 2ms/step - loss: 0.5273 - accuracy: 0.8217 - val_loss: 0.4856 - val_accuracy: 0.8148\n",
      "Epoch 4/50\n",
      "625/625 [==============================] - 1s 2ms/step - loss: 0.4446 - accuracy: 0.8362 - val_loss: 0.4248 - val_accuracy: 0.8450\n",
      "Epoch 5/50\n",
      "625/625 [==============================] - 1s 2ms/step - loss: 0.4176 - accuracy: 0.8467 - val_loss: 0.3975 - val_accuracy: 0.8502\n",
      "Epoch 6/50\n",
      "625/625 [==============================] - 1s 2ms/step - loss: 0.4113 - accuracy: 0.8537 - val_loss: 0.3989 - val_accuracy: 0.8557\n",
      "Epoch 7/50\n",
      "625/625 [==============================] - 1s 2ms/step - loss: 0.3980 - accuracy: 0.8547 - val_loss: 0.4082 - val_accuracy: 0.8500\n",
      "Epoch 8/50\n",
      "625/625 [==============================] - 1s 2ms/step - loss: 0.3859 - accuracy: 0.8601 - val_loss: 0.3752 - val_accuracy: 0.8657\n",
      "Epoch 9/50\n",
      "625/625 [==============================] - 1s 2ms/step - loss: 0.3833 - accuracy: 0.8603 - val_loss: 0.3810 - val_accuracy: 0.8614\n",
      "Epoch 10/50\n",
      "625/625 [==============================] - 1s 2ms/step - loss: 0.3782 - accuracy: 0.8625 - val_loss: 0.3705 - val_accuracy: 0.8653\n",
      "Epoch 11/50\n",
      "625/625 [==============================] - 1s 2ms/step - loss: 0.3741 - accuracy: 0.8645 - val_loss: 0.3601 - val_accuracy: 0.8679\n",
      "Epoch 12/50\n",
      "625/625 [==============================] - 1s 2ms/step - loss: 0.3693 - accuracy: 0.8663 - val_loss: 0.3722 - val_accuracy: 0.8651\n",
      "Epoch 13/50\n",
      "625/625 [==============================] - 1s 2ms/step - loss: 0.3641 - accuracy: 0.8682 - val_loss: 0.3612 - val_accuracy: 0.8681\n",
      "Epoch 14/50\n",
      "625/625 [==============================] - 1s 2ms/step - loss: 0.3604 - accuracy: 0.8698 - val_loss: 0.3582 - val_accuracy: 0.8705\n",
      "Epoch 15/50\n",
      "625/625 [==============================] - 1s 2ms/step - loss: 0.3575 - accuracy: 0.8699 - val_loss: 0.3573 - val_accuracy: 0.8686\n",
      "Epoch 16/50\n",
      "625/625 [==============================] - 1s 2ms/step - loss: 0.3552 - accuracy: 0.8708 - val_loss: 0.3499 - val_accuracy: 0.8729\n",
      "Epoch 17/50\n",
      "625/625 [==============================] - 1s 2ms/step - loss: 0.3520 - accuracy: 0.8726 - val_loss: 0.3489 - val_accuracy: 0.8704\n",
      "Epoch 18/50\n",
      "625/625 [==============================] - 1s 2ms/step - loss: 0.3454 - accuracy: 0.8748 - val_loss: 0.3664 - val_accuracy: 0.8684\n",
      "Epoch 19/50\n",
      "625/625 [==============================] - 1s 2ms/step - loss: 0.3450 - accuracy: 0.8752 - val_loss: 0.3645 - val_accuracy: 0.8664\n",
      "Epoch 20/50\n",
      "625/625 [==============================] - 1s 2ms/step - loss: 0.3436 - accuracy: 0.8740 - val_loss: 0.3530 - val_accuracy: 0.8699\n",
      "Epoch 21/50\n",
      "625/625 [==============================] - 1s 2ms/step - loss: 0.3406 - accuracy: 0.8766 - val_loss: 0.3436 - val_accuracy: 0.8728\n",
      "Epoch 22/50\n",
      "625/625 [==============================] - 1s 2ms/step - loss: 0.3357 - accuracy: 0.8783 - val_loss: 0.3383 - val_accuracy: 0.8756\n",
      "Epoch 23/50\n",
      "625/625 [==============================] - 1s 2ms/step - loss: 0.3348 - accuracy: 0.8780 - val_loss: 0.3360 - val_accuracy: 0.8760\n",
      "Epoch 24/50\n",
      "625/625 [==============================] - 1s 2ms/step - loss: 0.3337 - accuracy: 0.8784 - val_loss: 0.3426 - val_accuracy: 0.8721\n",
      "Epoch 25/50\n",
      "625/625 [==============================] - 1s 2ms/step - loss: 0.3305 - accuracy: 0.8796 - val_loss: 0.3330 - val_accuracy: 0.8758\n",
      "Epoch 26/50\n",
      "625/625 [==============================] - 1s 2ms/step - loss: 0.3285 - accuracy: 0.8803 - val_loss: 0.3375 - val_accuracy: 0.8722\n",
      "Epoch 27/50\n",
      "625/625 [==============================] - 1s 2ms/step - loss: 0.3267 - accuracy: 0.8813 - val_loss: 0.3534 - val_accuracy: 0.8691\n",
      "Epoch 28/50\n",
      "625/625 [==============================] - 1s 2ms/step - loss: 0.3250 - accuracy: 0.8820 - val_loss: 0.3473 - val_accuracy: 0.8742\n",
      "Epoch 29/50\n",
      "625/625 [==============================] - 1s 2ms/step - loss: 0.3215 - accuracy: 0.8823 - val_loss: 0.3392 - val_accuracy: 0.8727\n",
      "Epoch 30/50\n",
      "625/625 [==============================] - 1s 2ms/step - loss: 0.3181 - accuracy: 0.8834 - val_loss: 0.3229 - val_accuracy: 0.8803\n",
      "Epoch 31/50\n",
      "625/625 [==============================] - 1s 2ms/step - loss: 0.3188 - accuracy: 0.8825 - val_loss: 0.3335 - val_accuracy: 0.8780\n",
      "Epoch 32/50\n",
      "625/625 [==============================] - 1s 2ms/step - loss: 0.3160 - accuracy: 0.8853 - val_loss: 0.3247 - val_accuracy: 0.8814\n",
      "Epoch 33/50\n",
      "625/625 [==============================] - 1s 2ms/step - loss: 0.3144 - accuracy: 0.8852 - val_loss: 0.3262 - val_accuracy: 0.8789\n",
      "Epoch 34/50\n",
      "625/625 [==============================] - 1s 2ms/step - loss: 0.3137 - accuracy: 0.8853 - val_loss: 0.3344 - val_accuracy: 0.8828\n",
      "Epoch 35/50\n",
      "625/625 [==============================] - 1s 2ms/step - loss: 0.3101 - accuracy: 0.8867 - val_loss: 0.3274 - val_accuracy: 0.8811\n",
      "Epoch 36/50\n",
      "625/625 [==============================] - 1s 2ms/step - loss: 0.3072 - accuracy: 0.8875 - val_loss: 0.3207 - val_accuracy: 0.8821\n",
      "Epoch 37/50\n",
      "625/625 [==============================] - 1s 2ms/step - loss: 0.3072 - accuracy: 0.8880 - val_loss: 0.3224 - val_accuracy: 0.8831\n",
      "Epoch 38/50\n",
      "625/625 [==============================] - 1s 2ms/step - loss: 0.3082 - accuracy: 0.8867 - val_loss: 0.3228 - val_accuracy: 0.8826\n",
      "Epoch 39/50\n",
      "625/625 [==============================] - 1s 2ms/step - loss: 0.3050 - accuracy: 0.8883 - val_loss: 0.3175 - val_accuracy: 0.8829\n",
      "Epoch 40/50\n",
      "625/625 [==============================] - 1s 2ms/step - loss: 0.3049 - accuracy: 0.8893 - val_loss: 0.3322 - val_accuracy: 0.8784\n",
      "Epoch 41/50\n",
      "625/625 [==============================] - 1s 2ms/step - loss: 0.3015 - accuracy: 0.8907 - val_loss: 0.3213 - val_accuracy: 0.8816\n",
      "Epoch 42/50\n",
      "625/625 [==============================] - 1s 2ms/step - loss: 0.3004 - accuracy: 0.8913 - val_loss: 0.3394 - val_accuracy: 0.8836\n",
      "Epoch 43/50\n",
      "625/625 [==============================] - 1s 2ms/step - loss: 0.3008 - accuracy: 0.8902 - val_loss: 0.3223 - val_accuracy: 0.8794\n",
      "Epoch 44/50\n",
      "625/625 [==============================] - 1s 2ms/step - loss: 0.2961 - accuracy: 0.8915 - val_loss: 0.3160 - val_accuracy: 0.8858\n",
      "Epoch 45/50\n",
      "625/625 [==============================] - 1s 2ms/step - loss: 0.2951 - accuracy: 0.8923 - val_loss: 0.3121 - val_accuracy: 0.8877\n",
      "Epoch 46/50\n",
      "625/625 [==============================] - 1s 2ms/step - loss: 0.2959 - accuracy: 0.8917 - val_loss: 0.3271 - val_accuracy: 0.8787\n",
      "Epoch 47/50\n",
      "625/625 [==============================] - 1s 2ms/step - loss: 0.2936 - accuracy: 0.8925 - val_loss: 0.3230 - val_accuracy: 0.8860\n",
      "Epoch 48/50\n",
      "625/625 [==============================] - 1s 2ms/step - loss: 0.2940 - accuracy: 0.8925 - val_loss: 0.3311 - val_accuracy: 0.8791\n",
      "Epoch 49/50\n",
      "625/625 [==============================] - 1s 2ms/step - loss: 0.2931 - accuracy: 0.8932 - val_loss: 0.3349 - val_accuracy: 0.8778\n",
      "Epoch 50/50\n",
      "625/625 [==============================] - 1s 2ms/step - loss: 0.3173 - accuracy: 0.8927 - val_loss: 0.3203 - val_accuracy: 0.8841\n",
      "313/313 [==============================] - 0s 902us/step - loss: 0.3203 - accuracy: 0.8841\n",
      "Accuracy: 0.8841000199317932 , Elapsed time: 65.91751909255981\n"
     ]
    }
   ],
   "source": [
    "t = time.time(); t_total = 0    \n",
    "deep_layers = 3\n",
    "num_units = 200\n",
    "learning_rate = 1e-3\n",
    "    \n",
    "\n",
    "modelc = tf.keras.Sequential()\n",
    "modelc.add(tf.keras.layers.InputLayer(int(X_train.shape[1],)))\n",
    "modelc.add(Dense(num_units, input_shape=(int(X_train.shape[1]),)))\n",
    "    \n",
    "for i in range(deep_layers):        \n",
    "    modelc.add(Dense(num_units, activation='relu'))\n",
    "modelc.add(Dense(3, activation=tf.nn.softmax))\n",
    "    \n",
    "optimizer = tf.keras.optimizers.Adam(learning_rate=learning_rate, beta_1=0.9, beta_2=0.999, epsilon=1e-3)\n",
    "modelc.compile(optimizer=optimizer, loss='categorical_crossentropy', metrics=[\"accuracy\"])\n",
    "trainc = modelc.fit(X_train, Y_train, epochs=epochs, validation_data=(X_val, Y_val),\n",
    "                    callbacks=my_callbacks, batch_size=128, shuffle=1, verbose=1)\n",
    "    \n",
    "lossc, scorec = modelc.evaluate(X_val, Y_val)    \n",
    "t = time.time()-t\n",
    "print(\"Accuracy:\", scorec, \", Elapsed time:\", t)"
   ]
  },
  {
   "cell_type": "code",
   "execution_count": 17,
   "metadata": {},
   "outputs": [
    {
     "name": "stdout",
     "output_type": "stream",
     "text": [
      "313/313 [==============================] - 0s 692us/step\n",
      "Accuracy: 0.8804\n",
      "Precision: 0.8797310104657292\n",
      "F1: 0.8782104612389061\n"
     ]
    },
    {
     "data": {
      "text/plain": [
       "(0.326357364654541,\n",
       " 0.33424609899520874,\n",
       " 0.3206388056278229,\n",
       " 0.32028716802597046)"
      ]
     },
     "execution_count": 17,
     "metadata": {},
     "output_type": "execute_result"
    },
    {
     "data": {
      "image/png": "[encoded data removed]",
      "text/plain": [
       "<Figure size 360x360 with 1 Axes>"
      ]
     },
     "metadata": {
      "needs_background": "light"
     },
     "output_type": "display_data"
    }
   ],
   "source": [
    "model = modela\n",
    "X_test_inverse = scaler.inverse_transform(X_test)\n",
    "labels=['Star','Galaxy','QSO']\n",
    "porcentaje = True\n",
    "\n",
    "# titles.append(f\"Confusion matrix model\")\n",
    "# plot_cm(Y_test, model1.predict(X_test), labels, porcentaje=porcentaje)\n",
    "fig = plt.figure(figsize=(5,5))\n",
    "ax = fig.add_subplot(111)\n",
    "\n",
    "y_pred = model.predict(X_test)\n",
    "y_test=np.argmax(Y_test, axis=1)\n",
    "y_pred=np.argmax(y_pred, axis=1)\n",
    "plot_cm(Y_test, y_pred, labels=labels, porcentaje=False, ax=ax)\n",
    "plt.xlabel(\"Predicted label\", fontsize=15)\n",
    "plt.ylabel(\"True label\", fontsize=15)\n",
    "# plt.title(\"Genetic algorithm C\", fontsize=15)\n",
    "# plt.savefig(\"classification_genetic_cm.png\")\n",
    "\n",
    "# other metrics\n",
    "am = accuracy_score(y_test, y_pred)\n",
    "pm = precision_score(y_test, y_pred, average='weighted')\n",
    "# rm = roc_auc_score(y_test, y_pred,multi_class='ovr')\n",
    "fm = f1_score(y_test, y_pred, average='weighted')\n",
    "\n",
    "print(\"Accuracy:\", am)\n",
    "print(\"Precision:\", pm)\n",
    "print(\"F1:\", fm)\n",
    "loss, lossa, lossb, lossc"
   ]
  },
  {
   "cell_type": "code",
   "execution_count": 18,
   "metadata": {},
   "outputs": [
    {
     "data": {
      "text/plain": [
       "0.31520628929138184"
      ]
     },
     "execution_count": 18,
     "metadata": {},
     "output_type": "execute_result"
    },
    {
     "data": {
      "image/png": "[encoded data removed]",
      "text/plain": [
       "<Figure size 432x432 with 1 Axes>"
      ]
     },
     "metadata": {
      "needs_background": "light"
     },
     "output_type": "display_data"
    }
   ],
   "source": [
    "fig = plt.figure(figsize=(6,6))\n",
    "ax = fig.add_subplot(111)\n",
    "plt.plot(trainc.history['loss'], label='Training')\n",
    "plt.plot(trainc.history['val_loss'], label='Validation')\n",
    "# plt.ylim(0.25, 0.65)\n",
    "ax.yaxis.set_major_formatter(FormatStrFormatter('%.2f'))\n",
    "plt.ylabel('Loss function', fontsize=14)\n",
    "plt.xlabel('Epochs', fontsize=14)\n",
    "plt.legend(loc='upper right', fontsize=14)\n",
    "plt.title(\"Genetic algorithm\", fontsize=14)\n",
    "plt.savefig(\"classification_genetic_loss.png\")\n",
    "np.min(train1.history['loss'])"
   ]
  },
  {
   "cell_type": "code",
   "execution_count": 19,
   "metadata": {},
   "outputs": [],
   "source": [
    "modelc.save(\"models/classification_genetic.h5\")"
   ]
  },
  {
   "cell_type": "code",
   "execution_count": 20,
   "metadata": {},
   "outputs": [
    {
     "name": "stdout",
     "output_type": "stream",
     "text": [
      "epochs 50\n"
     ]
    }
   ],
   "source": [
    "print(\"epochs\", len(trainc.history['loss']))"
   ]
  },
  {
   "cell_type": "code",
   "execution_count": 21,
   "metadata": {},
   "outputs": [
    {
     "data": {
      "text/plain": [
       "0.31520628929138184"
      ]
     },
     "execution_count": 21,
     "metadata": {},
     "output_type": "execute_result"
    },
    {
     "data": {
      "image/png": "[encoded data removed]",
      "text/plain": [
       "<Figure size 432x432 with 1 Axes>"
      ]
     },
     "metadata": {
      "needs_background": "light"
     },
     "output_type": "display_data"
    }
   ],
   "source": [
    "# All loss\n",
    "\n",
    "fig = plt.figure(figsize=(6,6))\n",
    "ax = fig.add_subplot(111)\n",
    "plt.plot(train1.history['loss'], label='Grid Training', color='blue')\n",
    "plt.plot(train1.history['val_loss'], label='Grid Validation', color='blue', linestyle='dashed')\n",
    "plt.plot(traina.history['loss'], label='Genetic A Training', color='green')\n",
    "plt.plot(traina.history['val_loss'], label='Genetic A Validation', color='green', linestyle='dashed')\n",
    "plt.plot(trainb.history['loss'], label='Genetic B Training', color='red')\n",
    "plt.plot(trainb.history['val_loss'], label='Genetic B Validation', color='red', linestyle='dashed')\n",
    "plt.plot(trainc.history['loss'], label='Genetic C Training', color='black')\n",
    "plt.plot(trainc.history['val_loss'], label='Genetic C Validation', color='black', linestyle='dashed')\n",
    "# plt.ylim(0.25, 0.65)\n",
    "ax.yaxis.set_major_formatter(FormatStrFormatter('%.2f'))\n",
    "plt.ylabel('Loss function', fontsize=14)\n",
    "plt.xlabel('Epochs', fontsize=14)\n",
    "plt.legend(loc='upper right', fontsize=12)\n",
    "# plt.title(\"Genetic algorithm\", fontsize=14)\n",
    "plt.savefig(\"classification_loss.png\")\n",
    "np.min(train1.history['loss'])"
   ]
  },
  {
   "cell_type": "code",
   "execution_count": null,
   "metadata": {},
   "outputs": [],
   "source": []
  }
 ],
 "metadata": {
  "colab": {
   "name": "Stellar_Classifier.ipynb",
   "provenance": []
  },
  "kernelspec": {
   "display_name": "Python 3",
   "language": "python",
   "name": "python3"
  },
  "language_info": {
   "codemirror_mode": {
    "name": "ipython",
    "version": 3
   },
   "file_extension": ".py",
   "mimetype": "text/x-python",
   "name": "python",
   "nbconvert_exporter": "python",
   "pygments_lexer": "ipython3",
   "version": "3.8.10"
  },
  "latex_envs": {
   "LaTeX_envs_menu_present": true,
   "autoclose": false,
   "autocomplete": false,
   "bibliofile": "biblio.bib",
   "cite_by": "apalike",
   "current_citInitial": 1,
   "eqLabelWithNumbers": true,
   "eqNumInitial": 1,
   "hotkeys": {
    "equation": "Ctrl-E",
    "itemize": "Ctrl-I"
   },
   "labels_anchors": false,
   "latex_user_defs": false,
   "report_style_numbering": true,
   "user_envs_cfg": true
  },
  "notify_time": "5",
  "varInspector": {
   "cols": {
    "lenName": 16,
    "lenType": 16,
    "lenVar": 40
   },
   "kernels_config": {
    "python": {
     "delete_cmd_postfix": "",
     "delete_cmd_prefix": "del ",
     "library": "var_list.py",
     "varRefreshCmd": "print(var_dic_list())"
    },
    "r": {
     "delete_cmd_postfix": ") ",
     "delete_cmd_prefix": "rm(",
     "library": "var_list.r",
     "varRefreshCmd": "cat(var_dic_list()) "
    }
   },
   "types_to_exclude": [
    "module",
    "function",
    "builtin_function_or_method",
    "instance",
    "_Feature"
   ],
   "window_display": false
  }
 },
 "nbformat": 4,
 "nbformat_minor": 1
}
