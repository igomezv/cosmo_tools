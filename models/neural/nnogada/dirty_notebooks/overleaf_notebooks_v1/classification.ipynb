{
 "cells": [
  {
   "cell_type": "code",
   "execution_count": 1,
   "metadata": {
    "id": "ItxP3RKqqmzb"
   },
   "outputs": [],
   "source": [
    "import numpy as np\n",
    "import pandas as pd\n",
    "import matplotlib as mpl\n",
    "import matplotlib.pyplot as plt\n",
    "import time, os\n",
    "import random\n",
    "import seaborn as sns\n",
    "\n",
    "import tensorflow as tf\n",
    "from tensorflow import keras\n",
    "from tensorflow.keras.layers import Input, Dense, LeakyReLU\n",
    "from tensorflow.keras.utils import to_categorical\n",
    "from tensorboard.plugins.hparams import api as hp\n",
    "\n",
    "from tensorflow.keras import activations\n",
    "from tensorflow.keras.losses import CategoricalCrossentropy\n",
    "from tensorflow.keras.models import Model\n",
    "\n",
    "from sklearn.metrics import accuracy_score, confusion_matrix, precision_score, roc_auc_score, f1_score\n",
    "from sklearn.preprocessing import StandardScaler\n",
    "from sklearn.model_selection import train_test_split as split\n",
    "from scipy.stats import bernoulli\n",
    "\n",
    "from matplotlib.ticker import FormatStrFormatter"
   ]
  },
  {
   "cell_type": "code",
   "execution_count": 2,
   "metadata": {
    "id": "tQnsPJKYqmzu"
   },
   "outputs": [],
   "source": [
    "np.random.seed(0)\n",
    "scaler = StandardScaler()"
   ]
  },
  {
   "cell_type": "markdown",
   "metadata": {
    "id": "YKypMarmqmzy"
   },
   "source": [
    "### Conjunto de datos: SDSS DR17"
   ]
  },
  {
   "cell_type": "code",
   "execution_count": 3,
   "metadata": {
    "colab": {
     "base_uri": "https://localhost:8080/",
     "height": 206
    },
    "id": "xGCn9Krpqmz3",
    "outputId": "c49c7769-0973-4d7a-98f7-4b5e985545ac"
   },
   "outputs": [
    {
     "data": {
      "text/html": [
       "<div>\n",
       "<style scoped>\n",
       "    .dataframe tbody tr th:only-of-type {\n",
       "        vertical-align: middle;\n",
       "    }\n",
       "\n",
       "    .dataframe tbody tr th {\n",
       "        vertical-align: top;\n",
       "    }\n",
       "\n",
       "    .dataframe thead th {\n",
       "        text-align: right;\n",
       "    }\n",
       "</style>\n",
       "<table border=\"1\" class=\"dataframe\">\n",
       "  <thead>\n",
       "    <tr style=\"text-align: right;\">\n",
       "      <th></th>\n",
       "      <th>alpha</th>\n",
       "      <th>delta</th>\n",
       "      <th>u</th>\n",
       "      <th>g</th>\n",
       "      <th>r</th>\n",
       "      <th>i</th>\n",
       "      <th>z</th>\n",
       "      <th>class</th>\n",
       "    </tr>\n",
       "  </thead>\n",
       "  <tbody>\n",
       "    <tr>\n",
       "      <th>0</th>\n",
       "      <td>135.689107</td>\n",
       "      <td>32.494632</td>\n",
       "      <td>23.87882</td>\n",
       "      <td>22.27530</td>\n",
       "      <td>20.39501</td>\n",
       "      <td>19.16573</td>\n",
       "      <td>18.79371</td>\n",
       "      <td>GALAXY</td>\n",
       "    </tr>\n",
       "    <tr>\n",
       "      <th>1</th>\n",
       "      <td>144.826101</td>\n",
       "      <td>31.274185</td>\n",
       "      <td>24.77759</td>\n",
       "      <td>22.83188</td>\n",
       "      <td>22.58444</td>\n",
       "      <td>21.16812</td>\n",
       "      <td>21.61427</td>\n",
       "      <td>GALAXY</td>\n",
       "    </tr>\n",
       "    <tr>\n",
       "      <th>2</th>\n",
       "      <td>142.188790</td>\n",
       "      <td>35.582444</td>\n",
       "      <td>25.26307</td>\n",
       "      <td>22.66389</td>\n",
       "      <td>20.60976</td>\n",
       "      <td>19.34857</td>\n",
       "      <td>18.94827</td>\n",
       "      <td>GALAXY</td>\n",
       "    </tr>\n",
       "    <tr>\n",
       "      <th>3</th>\n",
       "      <td>338.741038</td>\n",
       "      <td>-0.402828</td>\n",
       "      <td>22.13682</td>\n",
       "      <td>23.77656</td>\n",
       "      <td>21.61162</td>\n",
       "      <td>20.50454</td>\n",
       "      <td>19.25010</td>\n",
       "      <td>GALAXY</td>\n",
       "    </tr>\n",
       "    <tr>\n",
       "      <th>4</th>\n",
       "      <td>345.282593</td>\n",
       "      <td>21.183866</td>\n",
       "      <td>19.43718</td>\n",
       "      <td>17.58028</td>\n",
       "      <td>16.49747</td>\n",
       "      <td>15.97711</td>\n",
       "      <td>15.54461</td>\n",
       "      <td>GALAXY</td>\n",
       "    </tr>\n",
       "  </tbody>\n",
       "</table>\n",
       "</div>"
      ],
      "text/plain": [
       "        alpha      delta         u         g         r         i         z  \\\n",
       "0  135.689107  32.494632  23.87882  22.27530  20.39501  19.16573  18.79371   \n",
       "1  144.826101  31.274185  24.77759  22.83188  22.58444  21.16812  21.61427   \n",
       "2  142.188790  35.582444  25.26307  22.66389  20.60976  19.34857  18.94827   \n",
       "3  338.741038  -0.402828  22.13682  23.77656  21.61162  20.50454  19.25010   \n",
       "4  345.282593  21.183866  19.43718  17.58028  16.49747  15.97711  15.54461   \n",
       "\n",
       "    class  \n",
       "0  GALAXY  \n",
       "1  GALAXY  \n",
       "2  GALAXY  \n",
       "3  GALAXY  \n",
       "4  GALAXY  "
      ]
     },
     "execution_count": 3,
     "metadata": {},
     "output_type": "execute_result"
    }
   ],
   "source": [
    "url = \"https://raw.githubusercontent.com/igomezv/nnogada/main/data/star_classification.csv\"\n",
    "data = pd.read_csv(url)\n",
    "cols = ['alpha','delta','u','g','r','i','z','class']\n",
    "data = data[cols]\n",
    "data.head()"
   ]
  },
  {
   "cell_type": "markdown",
   "metadata": {
    "id": "6XosYBBPqmz8"
   },
   "source": [
    "Se cambian las clases a vectores con números enteros\n",
    "\n",
    "$$ \\text{GALAXY}: \\begin{pmatrix}1\\\\0\\\\0\\end{pmatrix},\\quad \\text{STAR}: \\begin{pmatrix}0\\\\1\\\\0\\end{pmatrix},\\quad \\text{QSO}:\\begin{pmatrix}0\\\\0\\\\1\\end{pmatrix} $$"
   ]
  },
  {
   "cell_type": "code",
   "execution_count": 4,
   "metadata": {
    "colab": {
     "base_uri": "https://localhost:8080/"
    },
    "id": "ukwjanYVqmz_",
    "outputId": "5cbffba3-3e30-4986-f950-21cb64c87047"
   },
   "outputs": [
    {
     "name": "stdout",
     "output_type": "stream",
     "text": [
      "        alpha      delta         u         g         r         i         z  \\\n",
      "0  135.689107  32.494632  23.87882  22.27530  20.39501  19.16573  18.79371   \n",
      "1  144.826101  31.274185  24.77759  22.83188  22.58444  21.16812  21.61427   \n",
      "2  142.188790  35.582444  25.26307  22.66389  20.60976  19.34857  18.94827   \n",
      "3  338.741038  -0.402828  22.13682  23.77656  21.61162  20.50454  19.25010   \n",
      "4  345.282593  21.183866  19.43718  17.58028  16.49747  15.97711  15.54461   \n",
      "\n",
      "   class  \n",
      "0      0  \n",
      "1      0  \n",
      "2      0  \n",
      "3      0  \n",
      "4      0  \n"
     ]
    }
   ],
   "source": [
    "data[\"class\"]=[0 if i == \"GALAXY\" else 1 if i == \"STAR\" else 2 for i in data[\"class\"]]\n",
    "print(data.head())\n",
    "data = data.to_numpy()"
   ]
  },
  {
   "cell_type": "code",
   "execution_count": 5,
   "metadata": {
    "id": "gspwez8Uqm0Q"
   },
   "outputs": [],
   "source": [
    "# Divide data into X and Y and implement hot_ones in Y\n",
    "def prepare_dataset(data):\n",
    "    X, Y = np.empty((0)), np.empty((0))\n",
    "    X = data[:,0:7]\n",
    "    Y = data[:,7]\n",
    "    Y = to_categorical(Y, num_classes=3)\n",
    "    return X, Y"
   ]
  },
  {
   "cell_type": "code",
   "execution_count": 6,
   "metadata": {
    "id": "vaLXQeaMqm0S"
   },
   "outputs": [],
   "source": [
    "# Split dataset into train, validation and test sets\n",
    "X,Y = prepare_dataset(data)\n",
    "\n",
    "# Defines ratios, w.r.t. whole dataset.\n",
    "ratio_train = 0.8\n",
    "ratio_val = 0.1\n",
    "ratio_test = 0.1\n",
    "\n",
    "# Produces test split.\n",
    "x_, X_test, y_, Y_test = split(X, Y, test_size = ratio_test, random_state=0)\n",
    "\n",
    "# Adjusts val ratio, w.r.t. remaining dataset.\n",
    "ratio_remaining = 1 - ratio_test\n",
    "ratio_val_adjusted = ratio_val / ratio_remaining\n",
    "\n",
    "# Produces train and val splits.\n",
    "X_train, X_val, Y_train, Y_val = split(x_, y_, test_size=ratio_val_adjusted, random_state=0)\n",
    "\n",
    "# Normalize and scale the input sets.\n",
    "scaler.fit(X)\n",
    "X_train = scaler.transform(X_train)\n",
    "X_test  = scaler.transform(X_test)\n",
    "X_val   = scaler.transform(X_val)"
   ]
  },
  {
   "cell_type": "markdown",
   "metadata": {
    "id": "ZLyZeQ7rqm0X"
   },
   "source": [
    "### Arquitectura del modelo proveniente de la malla de hiperparámetros"
   ]
  },
  {
   "cell_type": "code",
   "execution_count": 45,
   "metadata": {
    "id": "dSDGtnhRqm0Z",
    "scrolled": true
   },
   "outputs": [
    {
     "name": "stdout",
     "output_type": "stream",
     "text": [
      "Epoch 1/50\n",
      "625/625 [==============================] - 1s 2ms/step - loss: 0.6475 - accuracy: 0.7425 - val_loss: 0.5472 - val_accuracy: 0.7877\n",
      "Epoch 2/50\n",
      "625/625 [==============================] - 1s 1ms/step - loss: 0.5206 - accuracy: 0.8023 - val_loss: 0.5096 - val_accuracy: 0.8034\n",
      "Epoch 3/50\n",
      "625/625 [==============================] - 1s 1ms/step - loss: 0.4868 - accuracy: 0.8168 - val_loss: 0.4571 - val_accuracy: 0.8274\n",
      "Epoch 4/50\n",
      "625/625 [==============================] - 1s 1ms/step - loss: 0.4639 - accuracy: 0.8306 - val_loss: 0.4339 - val_accuracy: 0.8387\n",
      "Epoch 5/50\n",
      "625/625 [==============================] - 1s 1ms/step - loss: 0.4274 - accuracy: 0.8431 - val_loss: 0.4087 - val_accuracy: 0.8483\n",
      "Epoch 6/50\n",
      "625/625 [==============================] - 1s 1ms/step - loss: 0.4081 - accuracy: 0.8500 - val_loss: 0.3908 - val_accuracy: 0.8575\n",
      "Epoch 7/50\n",
      "625/625 [==============================] - 1s 1ms/step - loss: 0.3984 - accuracy: 0.8551 - val_loss: 0.3870 - val_accuracy: 0.8581\n",
      "Epoch 8/50\n",
      "625/625 [==============================] - 1s 1ms/step - loss: 0.3925 - accuracy: 0.8562 - val_loss: 0.3958 - val_accuracy: 0.8521\n",
      "Epoch 9/50\n",
      "625/625 [==============================] - 1s 1ms/step - loss: 0.3854 - accuracy: 0.8604 - val_loss: 0.3734 - val_accuracy: 0.8633\n",
      "Epoch 10/50\n",
      "625/625 [==============================] - 1s 1ms/step - loss: 0.3811 - accuracy: 0.8617 - val_loss: 0.3838 - val_accuracy: 0.8614\n",
      "Epoch 11/50\n",
      "625/625 [==============================] - 1s 2ms/step - loss: 0.3782 - accuracy: 0.8633 - val_loss: 0.3719 - val_accuracy: 0.8638\n",
      "Epoch 12/50\n",
      "625/625 [==============================] - 1s 1ms/step - loss: 0.3743 - accuracy: 0.8646 - val_loss: 0.3771 - val_accuracy: 0.8585\n",
      "Epoch 13/50\n",
      "625/625 [==============================] - 1s 2ms/step - loss: 0.3723 - accuracy: 0.8657 - val_loss: 0.3740 - val_accuracy: 0.8625\n",
      "Epoch 14/50\n",
      "625/625 [==============================] - 1s 1ms/step - loss: 0.3683 - accuracy: 0.8673 - val_loss: 0.3618 - val_accuracy: 0.8691\n",
      "Epoch 15/50\n",
      "625/625 [==============================] - 1s 1ms/step - loss: 0.3644 - accuracy: 0.8684 - val_loss: 0.3608 - val_accuracy: 0.8686\n",
      "Epoch 16/50\n",
      "625/625 [==============================] - 1s 1ms/step - loss: 0.3629 - accuracy: 0.8686 - val_loss: 0.3567 - val_accuracy: 0.8679\n",
      "Epoch 17/50\n",
      "625/625 [==============================] - 1s 1ms/step - loss: 0.3587 - accuracy: 0.8706 - val_loss: 0.3538 - val_accuracy: 0.8695\n",
      "Epoch 18/50\n",
      "625/625 [==============================] - 1s 1ms/step - loss: 0.3557 - accuracy: 0.8718 - val_loss: 0.3514 - val_accuracy: 0.8729\n",
      "Epoch 19/50\n",
      "625/625 [==============================] - 1s 1ms/step - loss: 0.3553 - accuracy: 0.8721 - val_loss: 0.3542 - val_accuracy: 0.8692\n",
      "Epoch 20/50\n",
      "625/625 [==============================] - 1s 1ms/step - loss: 0.3517 - accuracy: 0.8733 - val_loss: 0.3471 - val_accuracy: 0.8743\n",
      "Epoch 21/50\n",
      "625/625 [==============================] - 1s 1ms/step - loss: 0.3478 - accuracy: 0.8733 - val_loss: 0.3515 - val_accuracy: 0.8718\n",
      "Epoch 22/50\n",
      "625/625 [==============================] - 1s 1ms/step - loss: 0.3465 - accuracy: 0.8744 - val_loss: 0.3453 - val_accuracy: 0.8756\n",
      "Epoch 23/50\n",
      "625/625 [==============================] - 1s 1ms/step - loss: 0.3433 - accuracy: 0.8759 - val_loss: 0.3423 - val_accuracy: 0.8756\n",
      "Epoch 24/50\n",
      "625/625 [==============================] - 1s 1ms/step - loss: 0.3406 - accuracy: 0.8768 - val_loss: 0.3563 - val_accuracy: 0.8716\n",
      "Epoch 25/50\n",
      "625/625 [==============================] - 1s 1ms/step - loss: 0.3411 - accuracy: 0.8760 - val_loss: 0.3356 - val_accuracy: 0.8772\n",
      "Epoch 26/50\n",
      "625/625 [==============================] - 1s 1ms/step - loss: 0.3383 - accuracy: 0.8771 - val_loss: 0.3404 - val_accuracy: 0.8758\n",
      "Epoch 27/50\n",
      "625/625 [==============================] - 1s 1ms/step - loss: 0.3353 - accuracy: 0.8783 - val_loss: 0.3355 - val_accuracy: 0.8779\n",
      "Epoch 28/50\n",
      "625/625 [==============================] - 1s 1ms/step - loss: 0.3334 - accuracy: 0.8788 - val_loss: 0.3468 - val_accuracy: 0.8747\n",
      "Epoch 29/50\n",
      "625/625 [==============================] - 1s 1ms/step - loss: 0.3316 - accuracy: 0.8797 - val_loss: 0.3335 - val_accuracy: 0.8804\n",
      "Epoch 30/50\n",
      "625/625 [==============================] - 1s 1ms/step - loss: 0.3293 - accuracy: 0.8806 - val_loss: 0.3467 - val_accuracy: 0.8732\n",
      "Epoch 31/50\n",
      "625/625 [==============================] - 1s 1ms/step - loss: 0.3284 - accuracy: 0.8807 - val_loss: 0.3302 - val_accuracy: 0.8781\n",
      "Epoch 32/50\n",
      "625/625 [==============================] - 1s 1ms/step - loss: 0.3284 - accuracy: 0.8810 - val_loss: 0.3326 - val_accuracy: 0.8782\n",
      "Epoch 33/50\n",
      "625/625 [==============================] - 1s 1ms/step - loss: 0.3263 - accuracy: 0.8815 - val_loss: 0.3274 - val_accuracy: 0.8821\n",
      "Epoch 34/50\n",
      "625/625 [==============================] - 1s 1ms/step - loss: 0.3252 - accuracy: 0.8814 - val_loss: 0.3498 - val_accuracy: 0.8724\n",
      "Epoch 35/50\n",
      "625/625 [==============================] - 1s 1ms/step - loss: 0.3226 - accuracy: 0.8821 - val_loss: 0.3291 - val_accuracy: 0.8825\n",
      "Epoch 36/50\n",
      "625/625 [==============================] - 1s 1ms/step - loss: 0.3221 - accuracy: 0.8833 - val_loss: 0.3329 - val_accuracy: 0.8808\n",
      "Epoch 37/50\n",
      "625/625 [==============================] - 1s 1ms/step - loss: 0.3210 - accuracy: 0.8829 - val_loss: 0.3310 - val_accuracy: 0.8797\n",
      "Epoch 38/50\n",
      "625/625 [==============================] - 1s 1ms/step - loss: 0.3194 - accuracy: 0.8830 - val_loss: 0.3313 - val_accuracy: 0.8774\n",
      "Epoch 39/50\n",
      "625/625 [==============================] - 1s 1ms/step - loss: 0.3171 - accuracy: 0.8845 - val_loss: 0.3396 - val_accuracy: 0.8785\n",
      "Epoch 40/50\n",
      "625/625 [==============================] - 1s 1ms/step - loss: 0.3164 - accuracy: 0.8851 - val_loss: 0.3286 - val_accuracy: 0.8798\n",
      "Epoch 41/50\n",
      "625/625 [==============================] - 1s 1ms/step - loss: 0.3163 - accuracy: 0.8849 - val_loss: 0.3253 - val_accuracy: 0.8783\n",
      "Epoch 42/50\n",
      "625/625 [==============================] - 1s 1ms/step - loss: 0.3133 - accuracy: 0.8861 - val_loss: 0.3257 - val_accuracy: 0.8834\n",
      "Epoch 43/50\n",
      "625/625 [==============================] - 1s 1ms/step - loss: 0.3114 - accuracy: 0.8862 - val_loss: 0.3250 - val_accuracy: 0.8799\n",
      "Epoch 44/50\n",
      "625/625 [==============================] - 1s 1ms/step - loss: 0.3105 - accuracy: 0.8868 - val_loss: 0.3361 - val_accuracy: 0.8745\n",
      "Epoch 45/50\n",
      "625/625 [==============================] - 1s 1ms/step - loss: 0.3097 - accuracy: 0.8878 - val_loss: 0.3213 - val_accuracy: 0.8811\n",
      "Epoch 46/50\n",
      "625/625 [==============================] - 1s 1ms/step - loss: 0.3104 - accuracy: 0.8872 - val_loss: 0.3214 - val_accuracy: 0.8815\n",
      "Epoch 47/50\n",
      "625/625 [==============================] - 1s 1ms/step - loss: 0.3087 - accuracy: 0.8870 - val_loss: 0.3242 - val_accuracy: 0.8810\n",
      "Epoch 48/50\n",
      "625/625 [==============================] - 1s 1ms/step - loss: 0.3073 - accuracy: 0.8882 - val_loss: 0.3169 - val_accuracy: 0.8823\n",
      "Epoch 49/50\n",
      "625/625 [==============================] - 1s 1ms/step - loss: 0.3053 - accuracy: 0.8889 - val_loss: 0.3178 - val_accuracy: 0.8847\n",
      "Epoch 50/50\n",
      "625/625 [==============================] - 1s 1ms/step - loss: 0.3041 - accuracy: 0.8890 - val_loss: 0.3176 - val_accuracy: 0.8832\n",
      "313/313 [==============================] - 0s 655us/step - loss: 0.3176 - accuracy: 0.8832\n",
      "Accuracy: 0.8831999897956848 , Elapsed time: 46.76966714859009\n"
     ]
    }
   ],
   "source": [
    "t = time.time(); t_total = 0    \n",
    "deep_layers = 3\n",
    "num_units = 100\n",
    "learning_rate = 1e-3\n",
    "batch_size = 128\n",
    "epochs = 50\n",
    "\n",
    "my_callbacks = [tf.keras.callbacks.EarlyStopping(\n",
    "                               monitor='val_loss', mode='min',\n",
    "                               min_delta=0, \n",
    "                               patience=50,\n",
    "                               verbose=1,\n",
    "                               restore_best_weights=True)]\n",
    "    \n",
    "\n",
    "model1 = tf.keras.Sequential()\n",
    "model1.add(tf.keras.layers.InputLayer(int(X_train.shape[1],)))\n",
    "model1.add(Dense(num_units, input_shape=(int(X_train.shape[1]),)))\n",
    "    \n",
    "for i in range(deep_layers):        \n",
    "    model1.add(Dense(num_units, activation='relu'))\n",
    "model1.add(Dense(3, activation=tf.nn.softmax))\n",
    "    \n",
    "optimizer = tf.keras.optimizers.Adam(learning_rate=learning_rate, beta_1=0.9, beta_2=0.999, epsilon=1e-3)\n",
    "model1.compile(optimizer=optimizer, loss='categorical_crossentropy', metrics=[\"accuracy\"])\n",
    "train1 = model1.fit(X_train, Y_train, epochs=epochs, validation_data=(X_val, Y_val),\n",
    "                    callbacks=my_callbacks, batch_size=batch_size, shuffle=1, verbose=1)\n",
    "    \n",
    "loss1, score1 = model1.evaluate(X_val, Y_val)    \n",
    "t = time.time()-t\n",
    "print(\"Accuracy:\", score1, \", Elapsed time:\", t)"
   ]
  },
  {
   "cell_type": "code",
   "execution_count": 46,
   "metadata": {
    "id": "0RXuYHipq8t3"
   },
   "outputs": [],
   "source": [
    "def plot_cm(Y_test, Y_pred, labels, porcentaje=False, cbar=False, ax=None):\n",
    "    matrix = confusion_matrix(Y_test.argmax(axis=1), Y_pred)   \n",
    "    #Aquí se divide si queremos en porcentaje o números\n",
    "    if porcentaje==False: \n",
    "        ax = sns.heatmap(matrix, annot=True, cmap=\"OrRd\", cbar=cbar, cbar_kws={'label': 'scale'}, ax=ax)\n",
    "#         ax.yaxis.set_major_formatter(FormatStrFormatter('%.4f'))\n",
    "    if porcentaje==True:\n",
    "        m=np.zeros(matrix.shape)\n",
    "        for j in range(0,matrix.shape[1]):\n",
    "            m[:,j]=matrix[:,j]/np.sum(matrix[:,j])*100\n",
    "            \n",
    "        ax = sns.heatmap(m, annot=True,cmap='OrRd', cbar=cbar, cbar_kws={'label': 'scale'}, ax=ax)\n",
    " \n",
    "    ax.set_xticklabels(labels)\n",
    "    ax.set_yticklabels(labels)\n",
    " \n",
    "    # ax.set(xlabel=\"True label\", ylabel=\"Predicted label\")\n",
    "\n",
    "    return ax"
   ]
  },
  {
   "cell_type": "code",
   "execution_count": 54,
   "metadata": {
    "colab": {
     "base_uri": "https://localhost:8080/",
     "height": 336
    },
    "id": "8ySBn5bTqm0v",
    "outputId": "cc9fae88-d6b0-4f4f-8908-d98a908dba35"
   },
   "outputs": [
    {
     "name": "stdout",
     "output_type": "stream",
     "text": [
      "313/313 [==============================] - 0s 568us/step\n"
     ]
    },
    {
     "data": {
      "image/png": "[encoded data removed]",
      "text/plain": [
       "<Figure size 360x360 with 1 Axes>"
      ]
     },
     "metadata": {
      "needs_background": "light"
     },
     "output_type": "display_data"
    }
   ],
   "source": [
    "X_test_inverse = scaler.inverse_transform(X_test)\n",
    "labels=['Star','Galaxy','QSO']\n",
    "porcentaje = True\n",
    "\n",
    "# titles.append(f\"Confusion matrix model\")\n",
    "# plot_cm(Y_test, model1.predict(X_test), labels, porcentaje=porcentaje)\n",
    "fig = plt.figure(figsize=(5,5))\n",
    "ax = fig.add_subplot(111)\n",
    "\n",
    "y_pred = model1.predict(X_test)\n",
    "y_test=np.argmax(Y_test, axis=1)\n",
    "y_pred=np.argmax(y_pred, axis=1)\n",
    "plot_cm(Y_test, y_pred, labels=labels, porcentaje=False, ax=ax)\n",
    "plt.title(\"Hyperparameter grid\", fontsize=15)\n",
    "plt.xlabel(\"Predicted label\", fontsize=15)\n",
    "plt.ylabel(\"True label\", fontsize=15)\n",
    "plt.savefig(\"classification_grid_cm.png\")"
   ]
  },
  {
   "cell_type": "code",
   "execution_count": 48,
   "metadata": {},
   "outputs": [
    {
     "data": {
      "text/plain": [
       "0.30414897203445435"
      ]
     },
     "execution_count": 48,
     "metadata": {},
     "output_type": "execute_result"
    },
    {
     "data": {
      "image/png": "[encoded data removed]",
      "text/plain": [
       "<Figure size 432x432 with 1 Axes>"
      ]
     },
     "metadata": {
      "needs_background": "light"
     },
     "output_type": "display_data"
    }
   ],
   "source": [
    "fig = plt.figure(figsize=(6,6))\n",
    "ax = fig.add_subplot(111)\n",
    "plt.plot(train1.history['loss'], label='Training')\n",
    "plt.plot(train1.history['val_loss'], label='Validation')\n",
    "# plt.ylim(0.25, 0.65)\n",
    "ax.yaxis.set_major_formatter(FormatStrFormatter('%.2f'))\n",
    "plt.title(\"Hyperparameter grid\", fontsize=14)\n",
    "plt.ylabel('Loss function', fontsize=14)\n",
    "plt.xlabel('Epochs', fontsize=14)\n",
    "plt.legend(loc='upper right', fontsize=14)\n",
    "plt.savefig(\"classification_grid_loss.png\")\n",
    "np.min(train1.history['loss'])"
   ]
  },
  {
   "cell_type": "code",
   "execution_count": 49,
   "metadata": {},
   "outputs": [],
   "source": [
    "model1.save(\"models/classification_grid.h5\")"
   ]
  },
  {
   "cell_type": "code",
   "execution_count": 50,
   "metadata": {},
   "outputs": [
    {
     "name": "stdout",
     "output_type": "stream",
     "text": [
      "epochs 50\n"
     ]
    }
   ],
   "source": [
    "print(\"epochs\", len(train1.history['loss']))"
   ]
  },
  {
   "cell_type": "code",
   "execution_count": 51,
   "metadata": {},
   "outputs": [
    {
     "name": "stdout",
     "output_type": "stream",
     "text": [
      "Accuracy: 0.8836\n",
      "Precision: 0.8816140713221906\n",
      "F1: 0.8816617391024034\n"
     ]
    }
   ],
   "source": [
    "# other metrics\n",
    "am = accuracy_score(y_test, y_pred)\n",
    "pm = precision_score(y_test, y_pred, average='weighted')\n",
    "# rm = roc_auc_score(y_test, y_pred,multi_class='ovr')\n",
    "fm = f1_score(y_test, y_pred, average='weighted')\n",
    "\n",
    "print(\"Accuracy:\", am)\n",
    "print(\"Precision:\", pm)\n",
    "print(\"F1:\", fm)"
   ]
  },
  {
   "cell_type": "markdown",
   "metadata": {},
   "source": [
    "### Arquitectura del modelo proveniente del algoritmo genéticos (mismo número de evaluaciones que con la malla)"
   ]
  },
  {
   "cell_type": "code",
   "execution_count": 52,
   "metadata": {},
   "outputs": [
    {
     "name": "stdout",
     "output_type": "stream",
     "text": [
      "Epoch 1/50\n",
      "313/313 [==============================] - 1s 3ms/step - loss: 0.7020 - accuracy: 0.7153 - val_loss: 0.5443 - val_accuracy: 0.7895\n",
      "Epoch 2/50\n",
      "313/313 [==============================] - 1s 3ms/step - loss: 0.5345 - accuracy: 0.7974 - val_loss: 0.5271 - val_accuracy: 0.7979\n",
      "Epoch 3/50\n",
      "313/313 [==============================] - 1s 3ms/step - loss: 0.5089 - accuracy: 0.8077 - val_loss: 0.5145 - val_accuracy: 0.8010\n",
      "Epoch 4/50\n",
      "313/313 [==============================] - 1s 3ms/step - loss: 0.4886 - accuracy: 0.8184 - val_loss: 0.4649 - val_accuracy: 0.8240\n",
      "Epoch 5/50\n",
      "313/313 [==============================] - 1s 2ms/step - loss: 0.4646 - accuracy: 0.8290 - val_loss: 0.4438 - val_accuracy: 0.8377\n",
      "Epoch 6/50\n",
      "313/313 [==============================] - 1s 2ms/step - loss: 0.4380 - accuracy: 0.8399 - val_loss: 0.4247 - val_accuracy: 0.8414\n",
      "Epoch 7/50\n",
      "313/313 [==============================] - 1s 3ms/step - loss: 0.4114 - accuracy: 0.8504 - val_loss: 0.3992 - val_accuracy: 0.8528\n",
      "Epoch 8/50\n",
      "313/313 [==============================] - 1s 3ms/step - loss: 0.3998 - accuracy: 0.8543 - val_loss: 0.4122 - val_accuracy: 0.8478\n",
      "Epoch 9/50\n",
      "313/313 [==============================] - 1s 2ms/step - loss: 0.3955 - accuracy: 0.8565 - val_loss: 0.3965 - val_accuracy: 0.8530\n",
      "Epoch 10/50\n",
      "313/313 [==============================] - 1s 2ms/step - loss: 0.3848 - accuracy: 0.8597 - val_loss: 0.4069 - val_accuracy: 0.8476\n",
      "Epoch 11/50\n",
      "313/313 [==============================] - 1s 2ms/step - loss: 0.3815 - accuracy: 0.8616 - val_loss: 0.3731 - val_accuracy: 0.8643\n",
      "Epoch 12/50\n",
      "313/313 [==============================] - 1s 2ms/step - loss: 0.3752 - accuracy: 0.8645 - val_loss: 0.3967 - val_accuracy: 0.8498\n",
      "Epoch 13/50\n",
      "313/313 [==============================] - 1s 2ms/step - loss: 0.3726 - accuracy: 0.8645 - val_loss: 0.3772 - val_accuracy: 0.8584\n",
      "Epoch 14/50\n",
      "313/313 [==============================] - 1s 2ms/step - loss: 0.3671 - accuracy: 0.8670 - val_loss: 0.3665 - val_accuracy: 0.8695\n",
      "Epoch 15/50\n",
      "313/313 [==============================] - 1s 2ms/step - loss: 0.3634 - accuracy: 0.8685 - val_loss: 0.3551 - val_accuracy: 0.8710\n",
      "Epoch 16/50\n",
      "313/313 [==============================] - 1s 3ms/step - loss: 0.3580 - accuracy: 0.8702 - val_loss: 0.3536 - val_accuracy: 0.8698\n",
      "Epoch 17/50\n",
      "313/313 [==============================] - 1s 2ms/step - loss: 0.3579 - accuracy: 0.8706 - val_loss: 0.3549 - val_accuracy: 0.8707\n",
      "Epoch 18/50\n",
      "313/313 [==============================] - 1s 2ms/step - loss: 0.3580 - accuracy: 0.8704 - val_loss: 0.3603 - val_accuracy: 0.8663\n",
      "Epoch 19/50\n",
      "313/313 [==============================] - 1s 2ms/step - loss: 0.3546 - accuracy: 0.8711 - val_loss: 0.3690 - val_accuracy: 0.8632\n",
      "Epoch 20/50\n",
      "313/313 [==============================] - 1s 2ms/step - loss: 0.3512 - accuracy: 0.8718 - val_loss: 0.3484 - val_accuracy: 0.8707\n",
      "Epoch 21/50\n",
      "313/313 [==============================] - 1s 2ms/step - loss: 0.3485 - accuracy: 0.8745 - val_loss: 0.3802 - val_accuracy: 0.8625\n",
      "Epoch 22/50\n",
      "313/313 [==============================] - 1s 2ms/step - loss: 0.3465 - accuracy: 0.8745 - val_loss: 0.3653 - val_accuracy: 0.8673\n",
      "Epoch 23/50\n",
      "313/313 [==============================] - 1s 2ms/step - loss: 0.3457 - accuracy: 0.8750 - val_loss: 0.3459 - val_accuracy: 0.8748\n",
      "Epoch 24/50\n",
      "313/313 [==============================] - 1s 2ms/step - loss: 0.3404 - accuracy: 0.8763 - val_loss: 0.3428 - val_accuracy: 0.8784\n",
      "Epoch 25/50\n",
      "313/313 [==============================] - 1s 2ms/step - loss: 0.3419 - accuracy: 0.8762 - val_loss: 0.3460 - val_accuracy: 0.8713\n",
      "Epoch 26/50\n",
      "313/313 [==============================] - 1s 2ms/step - loss: 0.3401 - accuracy: 0.8761 - val_loss: 0.3424 - val_accuracy: 0.8774\n",
      "Epoch 27/50\n",
      "313/313 [==============================] - 1s 2ms/step - loss: 0.3380 - accuracy: 0.8769 - val_loss: 0.3396 - val_accuracy: 0.8766\n",
      "Epoch 28/50\n",
      "313/313 [==============================] - 1s 2ms/step - loss: 0.3367 - accuracy: 0.8780 - val_loss: 0.3410 - val_accuracy: 0.8750\n",
      "Epoch 29/50\n",
      "313/313 [==============================] - 1s 3ms/step - loss: 0.3359 - accuracy: 0.8774 - val_loss: 0.3353 - val_accuracy: 0.8765\n",
      "Epoch 30/50\n",
      "313/313 [==============================] - 1s 2ms/step - loss: 0.3317 - accuracy: 0.8799 - val_loss: 0.3395 - val_accuracy: 0.8750\n",
      "Epoch 31/50\n",
      "313/313 [==============================] - 1s 2ms/step - loss: 0.3316 - accuracy: 0.8792 - val_loss: 0.3348 - val_accuracy: 0.8778\n",
      "Epoch 32/50\n",
      "313/313 [==============================] - 1s 2ms/step - loss: 0.3293 - accuracy: 0.8802 - val_loss: 0.3434 - val_accuracy: 0.8720\n",
      "Epoch 33/50\n",
      "313/313 [==============================] - 1s 2ms/step - loss: 0.3273 - accuracy: 0.8809 - val_loss: 0.3346 - val_accuracy: 0.8762\n",
      "Epoch 34/50\n",
      "313/313 [==============================] - 1s 2ms/step - loss: 0.3277 - accuracy: 0.8810 - val_loss: 0.3348 - val_accuracy: 0.8785\n",
      "Epoch 35/50\n",
      "313/313 [==============================] - 1s 2ms/step - loss: 0.3254 - accuracy: 0.8802 - val_loss: 0.3317 - val_accuracy: 0.8783\n",
      "Epoch 36/50\n",
      "313/313 [==============================] - 1s 2ms/step - loss: 0.3241 - accuracy: 0.8822 - val_loss: 0.3348 - val_accuracy: 0.8781\n",
      "Epoch 37/50\n",
      "313/313 [==============================] - 1s 2ms/step - loss: 0.3216 - accuracy: 0.8829 - val_loss: 0.3395 - val_accuracy: 0.8774\n",
      "Epoch 38/50\n",
      "313/313 [==============================] - 1s 2ms/step - loss: 0.3218 - accuracy: 0.8832 - val_loss: 0.3333 - val_accuracy: 0.8792\n",
      "Epoch 39/50\n",
      "313/313 [==============================] - 1s 2ms/step - loss: 0.3219 - accuracy: 0.8828 - val_loss: 0.3399 - val_accuracy: 0.8738\n",
      "Epoch 40/50\n",
      "313/313 [==============================] - 1s 2ms/step - loss: 0.3179 - accuracy: 0.8835 - val_loss: 0.3307 - val_accuracy: 0.8808\n",
      "Epoch 41/50\n",
      "313/313 [==============================] - 1s 2ms/step - loss: 0.3175 - accuracy: 0.8841 - val_loss: 0.3296 - val_accuracy: 0.8798\n",
      "Epoch 42/50\n",
      "313/313 [==============================] - 1s 3ms/step - loss: 0.3171 - accuracy: 0.8837 - val_loss: 0.3269 - val_accuracy: 0.8799\n",
      "Epoch 43/50\n",
      "313/313 [==============================] - 1s 2ms/step - loss: 0.3149 - accuracy: 0.8849 - val_loss: 0.3414 - val_accuracy: 0.8758\n",
      "Epoch 44/50\n",
      "313/313 [==============================] - 1s 3ms/step - loss: 0.3149 - accuracy: 0.8855 - val_loss: 0.3293 - val_accuracy: 0.8832\n",
      "Epoch 45/50\n",
      "313/313 [==============================] - 1s 3ms/step - loss: 0.3123 - accuracy: 0.8859 - val_loss: 0.3262 - val_accuracy: 0.8797\n",
      "Epoch 46/50\n",
      "313/313 [==============================] - 1s 2ms/step - loss: 0.3125 - accuracy: 0.8857 - val_loss: 0.3323 - val_accuracy: 0.8803\n",
      "Epoch 47/50\n",
      "313/313 [==============================] - 1s 2ms/step - loss: 0.3100 - accuracy: 0.8865 - val_loss: 0.3280 - val_accuracy: 0.8818\n",
      "Epoch 48/50\n",
      "313/313 [==============================] - 1s 3ms/step - loss: 0.3088 - accuracy: 0.8880 - val_loss: 0.3310 - val_accuracy: 0.8808\n",
      "Epoch 49/50\n",
      "313/313 [==============================] - 1s 2ms/step - loss: 0.3090 - accuracy: 0.8865 - val_loss: 0.3243 - val_accuracy: 0.8828\n",
      "Epoch 50/50\n",
      "313/313 [==============================] - 1s 2ms/step - loss: 0.3067 - accuracy: 0.8871 - val_loss: 0.3193 - val_accuracy: 0.8858\n",
      "313/313 [==============================] - 0s 711us/step - loss: 0.3193 - accuracy: 0.8858\n",
      "Accuracy: 0.8858000040054321 , Elapsed time: 39.45869588851929\n"
     ]
    }
   ],
   "source": [
    "t = time.time(); t_total = 0    \n",
    "deep_layers = 3\n",
    "num_units = 200\n",
    "learning_rate = 0.001\n",
    "batch_size = 256\n",
    "\n",
    "\n",
    "modela = tf.keras.Sequential()\n",
    "modela.add(tf.keras.layers.InputLayer(int(X_train.shape[1],)))\n",
    "modela.add(Dense(num_units, input_shape=(int(X_train.shape[1]),)))\n",
    "    \n",
    "for i in range(deep_layers):        \n",
    "    modela.add(Dense(num_units, activation='relu'))\n",
    "modela.add(Dense(3, activation=tf.nn.softmax))\n",
    "    \n",
    "optimizer = tf.keras.optimizers.Adam(learning_rate=learning_rate, beta_1=0.9, beta_2=0.999, epsilon=1e-3)\n",
    "modela.compile(optimizer=optimizer, loss='categorical_crossentropy', metrics=[\"accuracy\"])\n",
    "traina = modela.fit(X_train, Y_train, epochs=epochs, validation_data=(X_val, Y_val),\n",
    "                    callbacks=my_callbacks, batch_size=batch_size, shuffle=1, verbose=1)\n",
    "    \n",
    "lossa, scorea = modela.evaluate(X_val, Y_val)    \n",
    "t = time.time()-t\n",
    "print(\"Accuracy:\", scorea, \", Elapsed time:\", t)"
   ]
  },
  {
   "cell_type": "code",
   "execution_count": 15,
   "metadata": {},
   "outputs": [
    {
     "name": "stdout",
     "output_type": "stream",
     "text": [
      "Epoch 1/50\n",
      "313/313 [==============================] - 1s 3ms/step - loss: 0.6900 - accuracy: 0.7159 - val_loss: 0.5356 - val_accuracy: 0.7921\n",
      "Epoch 2/50\n",
      "313/313 [==============================] - 1s 3ms/step - loss: 0.5300 - accuracy: 0.7984 - val_loss: 0.5150 - val_accuracy: 0.8004\n",
      "Epoch 3/50\n",
      "313/313 [==============================] - 1s 3ms/step - loss: 0.5033 - accuracy: 0.8083 - val_loss: 0.4774 - val_accuracy: 0.8171\n",
      "Epoch 4/50\n",
      "313/313 [==============================] - 1s 3ms/step - loss: 0.4721 - accuracy: 0.8242 - val_loss: 0.4518 - val_accuracy: 0.8297\n",
      "Epoch 5/50\n",
      "313/313 [==============================] - 1s 3ms/step - loss: 0.4368 - accuracy: 0.8398 - val_loss: 0.4155 - val_accuracy: 0.8489\n",
      "Epoch 6/50\n",
      "313/313 [==============================] - 1s 3ms/step - loss: 0.4384 - accuracy: 0.8469 - val_loss: 0.4196 - val_accuracy: 0.8519\n",
      "Epoch 7/50\n",
      "313/313 [==============================] - 1s 3ms/step - loss: 0.4101 - accuracy: 0.8512 - val_loss: 0.3919 - val_accuracy: 0.8556\n",
      "Epoch 8/50\n",
      "313/313 [==============================] - 1s 3ms/step - loss: 0.3970 - accuracy: 0.8551 - val_loss: 0.4121 - val_accuracy: 0.8440\n",
      "Epoch 9/50\n",
      "313/313 [==============================] - 1s 3ms/step - loss: 0.3872 - accuracy: 0.8592 - val_loss: 0.3783 - val_accuracy: 0.8614\n",
      "Epoch 10/50\n",
      "313/313 [==============================] - 1s 3ms/step - loss: 0.3815 - accuracy: 0.8618 - val_loss: 0.3888 - val_accuracy: 0.8578\n",
      "Epoch 11/50\n",
      "313/313 [==============================] - 1s 3ms/step - loss: 0.3828 - accuracy: 0.8605 - val_loss: 0.3731 - val_accuracy: 0.8638\n",
      "Epoch 12/50\n",
      "313/313 [==============================] - 1s 3ms/step - loss: 0.3760 - accuracy: 0.8632 - val_loss: 0.3894 - val_accuracy: 0.8580\n",
      "Epoch 13/50\n",
      "313/313 [==============================] - 1s 3ms/step - loss: 0.3692 - accuracy: 0.8663 - val_loss: 0.3614 - val_accuracy: 0.8669\n",
      "Epoch 14/50\n",
      "313/313 [==============================] - 1s 3ms/step - loss: 0.3658 - accuracy: 0.8675 - val_loss: 0.3751 - val_accuracy: 0.8628\n",
      "Epoch 15/50\n",
      "313/313 [==============================] - 1s 3ms/step - loss: 0.3628 - accuracy: 0.8692 - val_loss: 0.3620 - val_accuracy: 0.8680\n",
      "Epoch 16/50\n",
      "313/313 [==============================] - 1s 3ms/step - loss: 0.3599 - accuracy: 0.8696 - val_loss: 0.3543 - val_accuracy: 0.8724\n",
      "Epoch 17/50\n",
      "313/313 [==============================] - 1s 3ms/step - loss: 0.3605 - accuracy: 0.8688 - val_loss: 0.3650 - val_accuracy: 0.8648\n",
      "Epoch 18/50\n",
      "313/313 [==============================] - 1s 3ms/step - loss: 0.3601 - accuracy: 0.8697 - val_loss: 0.3721 - val_accuracy: 0.8623\n",
      "Epoch 19/50\n",
      "313/313 [==============================] - 1s 3ms/step - loss: 0.3530 - accuracy: 0.8720 - val_loss: 0.3527 - val_accuracy: 0.8710\n",
      "Epoch 20/50\n",
      "313/313 [==============================] - 1s 3ms/step - loss: 0.3547 - accuracy: 0.8714 - val_loss: 0.3668 - val_accuracy: 0.8628\n",
      "Epoch 21/50\n",
      "313/313 [==============================] - 1s 3ms/step - loss: 0.3509 - accuracy: 0.8721 - val_loss: 0.3526 - val_accuracy: 0.8721\n",
      "Epoch 22/50\n",
      "313/313 [==============================] - 1s 3ms/step - loss: 0.3460 - accuracy: 0.8742 - val_loss: 0.3562 - val_accuracy: 0.8700\n",
      "Epoch 23/50\n",
      "313/313 [==============================] - 1s 3ms/step - loss: 0.3451 - accuracy: 0.8746 - val_loss: 0.3525 - val_accuracy: 0.8705\n",
      "Epoch 24/50\n",
      "313/313 [==============================] - 1s 3ms/step - loss: 0.3423 - accuracy: 0.8755 - val_loss: 0.3493 - val_accuracy: 0.8694\n",
      "Epoch 25/50\n",
      "313/313 [==============================] - 1s 3ms/step - loss: 0.3410 - accuracy: 0.8759 - val_loss: 0.3450 - val_accuracy: 0.8763\n",
      "Epoch 26/50\n",
      "313/313 [==============================] - 1s 3ms/step - loss: 0.3361 - accuracy: 0.8779 - val_loss: 0.3350 - val_accuracy: 0.8774\n",
      "Epoch 27/50\n",
      "313/313 [==============================] - 1s 3ms/step - loss: 0.3348 - accuracy: 0.8781 - val_loss: 0.3316 - val_accuracy: 0.8808\n",
      "Epoch 28/50\n",
      "313/313 [==============================] - 1s 3ms/step - loss: 0.3338 - accuracy: 0.8782 - val_loss: 0.3413 - val_accuracy: 0.8777\n",
      "Epoch 29/50\n",
      "313/313 [==============================] - 1s 3ms/step - loss: 0.3304 - accuracy: 0.8801 - val_loss: 0.3374 - val_accuracy: 0.8762\n",
      "Epoch 30/50\n",
      "313/313 [==============================] - 1s 3ms/step - loss: 0.3329 - accuracy: 0.8791 - val_loss: 0.3587 - val_accuracy: 0.8660\n",
      "Epoch 31/50\n",
      "313/313 [==============================] - 1s 3ms/step - loss: 0.3312 - accuracy: 0.8791 - val_loss: 0.3386 - val_accuracy: 0.8735\n",
      "Epoch 32/50\n",
      "313/313 [==============================] - 1s 3ms/step - loss: 0.3261 - accuracy: 0.8812 - val_loss: 0.3322 - val_accuracy: 0.8796\n",
      "Epoch 33/50\n",
      "313/313 [==============================] - 1s 3ms/step - loss: 0.3241 - accuracy: 0.8820 - val_loss: 0.3419 - val_accuracy: 0.8743\n",
      "Epoch 34/50\n",
      "313/313 [==============================] - 1s 3ms/step - loss: 0.3227 - accuracy: 0.8829 - val_loss: 0.3370 - val_accuracy: 0.8760\n",
      "Epoch 35/50\n",
      "313/313 [==============================] - 1s 3ms/step - loss: 0.3215 - accuracy: 0.8825 - val_loss: 0.3337 - val_accuracy: 0.8780\n",
      "Epoch 36/50\n",
      "313/313 [==============================] - 1s 3ms/step - loss: 0.3211 - accuracy: 0.8832 - val_loss: 0.3334 - val_accuracy: 0.8782\n",
      "Epoch 37/50\n",
      "313/313 [==============================] - 1s 3ms/step - loss: 0.3184 - accuracy: 0.8838 - val_loss: 0.3670 - val_accuracy: 0.8605\n",
      "Epoch 38/50\n",
      "313/313 [==============================] - 1s 3ms/step - loss: 0.3177 - accuracy: 0.8829 - val_loss: 0.3202 - val_accuracy: 0.8813\n",
      "Epoch 39/50\n",
      "313/313 [==============================] - 1s 3ms/step - loss: 0.3145 - accuracy: 0.8842 - val_loss: 0.3242 - val_accuracy: 0.8819\n",
      "Epoch 40/50\n",
      "313/313 [==============================] - 1s 3ms/step - loss: 0.3125 - accuracy: 0.8860 - val_loss: 0.3303 - val_accuracy: 0.8784\n",
      "Epoch 41/50\n",
      "313/313 [==============================] - 1s 3ms/step - loss: 0.3310 - accuracy: 0.8837 - val_loss: 0.3511 - val_accuracy: 0.8685\n",
      "Epoch 42/50\n",
      "313/313 [==============================] - 1s 3ms/step - loss: 0.3150 - accuracy: 0.8843 - val_loss: 0.3304 - val_accuracy: 0.8798\n",
      "Epoch 43/50\n",
      "313/313 [==============================] - 1s 3ms/step - loss: 0.3159 - accuracy: 0.8845 - val_loss: 0.3263 - val_accuracy: 0.8801\n",
      "Epoch 44/50\n",
      "313/313 [==============================] - 1s 3ms/step - loss: 0.3089 - accuracy: 0.8871 - val_loss: 0.3182 - val_accuracy: 0.8842\n",
      "Epoch 45/50\n",
      "313/313 [==============================] - 1s 3ms/step - loss: 0.3077 - accuracy: 0.8873 - val_loss: 0.3186 - val_accuracy: 0.8825\n",
      "Epoch 46/50\n",
      "313/313 [==============================] - 1s 3ms/step - loss: 0.3046 - accuracy: 0.8884 - val_loss: 0.3162 - val_accuracy: 0.8848\n",
      "Epoch 47/50\n",
      "313/313 [==============================] - 1s 3ms/step - loss: 0.3066 - accuracy: 0.8877 - val_loss: 0.3177 - val_accuracy: 0.8822\n",
      "Epoch 48/50\n",
      "313/313 [==============================] - 1s 3ms/step - loss: 0.3033 - accuracy: 0.8894 - val_loss: 0.3248 - val_accuracy: 0.8824\n",
      "Epoch 49/50\n",
      "313/313 [==============================] - 1s 3ms/step - loss: 0.3017 - accuracy: 0.8893 - val_loss: 0.3171 - val_accuracy: 0.8848\n",
      "Epoch 50/50\n",
      "313/313 [==============================] - 1s 3ms/step - loss: 0.2987 - accuracy: 0.8914 - val_loss: 0.3112 - val_accuracy: 0.8862\n",
      "313/313 [==============================] - 0s 735us/step - loss: 0.3112 - accuracy: 0.8862\n",
      "Accuracy: 0.8862000107765198 , Elapsed time: 46.49307298660278\n"
     ]
    }
   ],
   "source": [
    "t = time.time(); t_total = 0    \n",
    "deep_layers = 4\n",
    "num_units = 200\n",
    "learning_rate = 1e-3\n",
    "batch_size = 256\n",
    "    \n",
    "\n",
    "modelb = tf.keras.Sequential()\n",
    "modelb.add(tf.keras.layers.InputLayer(int(X_train.shape[1],)))\n",
    "modelb.add(Dense(num_units, input_shape=(int(X_train.shape[1]),)))\n",
    "    \n",
    "for i in range(deep_layers):        \n",
    "    modelb.add(Dense(num_units, activation='relu'))\n",
    "modelb.add(Dense(3, activation=tf.nn.softmax))\n",
    "    \n",
    "optimizer = tf.keras.optimizers.Adam(learning_rate=learning_rate, beta_1=0.9, beta_2=0.999, epsilon=1e-3)\n",
    "modelb.compile(optimizer=optimizer, loss='categorical_crossentropy', metrics=[\"accuracy\"])\n",
    "trainb = modelb.fit(X_train, Y_train, epochs=epochs, validation_data=(X_val, Y_val),\n",
    "                    callbacks=my_callbacks, batch_size=batch_size, shuffle=1, verbose=1)\n",
    "    \n",
    "lossb, scoreb = modelb.evaluate(X_val, Y_val)    \n",
    "t = time.time()-t\n",
    "print(\"Accuracy:\", scoreb, \", Elapsed time:\", t)"
   ]
  },
  {
   "cell_type": "code",
   "execution_count": 16,
   "metadata": {},
   "outputs": [
    {
     "name": "stdout",
     "output_type": "stream",
     "text": [
      "Epoch 1/50\n",
      "625/625 [==============================] - 2s 2ms/step - loss: 0.6314 - accuracy: 0.7510 - val_loss: 0.5284 - val_accuracy: 0.7972\n",
      "Epoch 2/50\n",
      "625/625 [==============================] - 1s 2ms/step - loss: 0.5339 - accuracy: 0.8076 - val_loss: 0.4732 - val_accuracy: 0.8232\n",
      "Epoch 3/50\n",
      "625/625 [==============================] - 1s 2ms/step - loss: 0.4736 - accuracy: 0.8241 - val_loss: 0.4641 - val_accuracy: 0.8217\n",
      "Epoch 4/50\n",
      "625/625 [==============================] - 1s 2ms/step - loss: 0.4458 - accuracy: 0.8373 - val_loss: 0.4265 - val_accuracy: 0.8426\n",
      "Epoch 5/50\n",
      "625/625 [==============================] - 1s 2ms/step - loss: 0.4134 - accuracy: 0.8476 - val_loss: 0.4141 - val_accuracy: 0.8482\n",
      "Epoch 6/50\n",
      "625/625 [==============================] - 1s 2ms/step - loss: 0.3983 - accuracy: 0.8537 - val_loss: 0.3762 - val_accuracy: 0.8630\n",
      "Epoch 7/50\n",
      "625/625 [==============================] - 1s 2ms/step - loss: 0.3905 - accuracy: 0.8578 - val_loss: 0.3740 - val_accuracy: 0.8645\n",
      "Epoch 8/50\n",
      "625/625 [==============================] - 1s 2ms/step - loss: 0.3848 - accuracy: 0.8598 - val_loss: 0.3822 - val_accuracy: 0.8627\n",
      "Epoch 9/50\n",
      "625/625 [==============================] - 1s 2ms/step - loss: 0.3794 - accuracy: 0.8619 - val_loss: 0.3658 - val_accuracy: 0.8660\n",
      "Epoch 10/50\n",
      "625/625 [==============================] - 1s 2ms/step - loss: 0.3725 - accuracy: 0.8647 - val_loss: 0.3618 - val_accuracy: 0.8688\n",
      "Epoch 11/50\n",
      "625/625 [==============================] - 1s 2ms/step - loss: 0.3709 - accuracy: 0.8656 - val_loss: 0.3859 - val_accuracy: 0.8546\n",
      "Epoch 12/50\n",
      "625/625 [==============================] - 1s 2ms/step - loss: 0.3644 - accuracy: 0.8678 - val_loss: 0.3581 - val_accuracy: 0.8713\n",
      "Epoch 13/50\n",
      "625/625 [==============================] - 1s 2ms/step - loss: 0.3637 - accuracy: 0.8677 - val_loss: 0.3779 - val_accuracy: 0.8579\n",
      "Epoch 14/50\n",
      "625/625 [==============================] - 1s 2ms/step - loss: 0.3572 - accuracy: 0.8704 - val_loss: 0.3717 - val_accuracy: 0.8687\n",
      "Epoch 15/50\n",
      "625/625 [==============================] - 1s 2ms/step - loss: 0.3510 - accuracy: 0.8730 - val_loss: 0.3647 - val_accuracy: 0.8673\n",
      "Epoch 16/50\n",
      "625/625 [==============================] - 1s 2ms/step - loss: 0.3491 - accuracy: 0.8729 - val_loss: 0.3521 - val_accuracy: 0.8733\n",
      "Epoch 17/50\n",
      "625/625 [==============================] - 1s 2ms/step - loss: 0.3483 - accuracy: 0.8739 - val_loss: 0.3540 - val_accuracy: 0.8714\n",
      "Epoch 18/50\n",
      "625/625 [==============================] - 1s 2ms/step - loss: 0.3448 - accuracy: 0.8751 - val_loss: 0.3419 - val_accuracy: 0.8749\n",
      "Epoch 19/50\n",
      "625/625 [==============================] - 1s 2ms/step - loss: 0.3423 - accuracy: 0.8746 - val_loss: 0.3524 - val_accuracy: 0.8729\n",
      "Epoch 20/50\n",
      "625/625 [==============================] - 1s 2ms/step - loss: 0.3398 - accuracy: 0.8759 - val_loss: 0.3443 - val_accuracy: 0.8745\n",
      "Epoch 21/50\n",
      "625/625 [==============================] - 1s 2ms/step - loss: 0.3374 - accuracy: 0.8759 - val_loss: 0.3691 - val_accuracy: 0.8615\n",
      "Epoch 22/50\n",
      "625/625 [==============================] - 1s 2ms/step - loss: 0.3355 - accuracy: 0.8772 - val_loss: 0.3347 - val_accuracy: 0.8775\n",
      "Epoch 23/50\n",
      "625/625 [==============================] - 1s 2ms/step - loss: 0.3326 - accuracy: 0.8786 - val_loss: 0.3335 - val_accuracy: 0.8793\n",
      "Epoch 24/50\n",
      "625/625 [==============================] - 1s 2ms/step - loss: 0.3282 - accuracy: 0.8802 - val_loss: 0.3545 - val_accuracy: 0.8710\n",
      "Epoch 25/50\n",
      "625/625 [==============================] - 1s 2ms/step - loss: 0.3281 - accuracy: 0.8796 - val_loss: 0.3266 - val_accuracy: 0.8823\n",
      "Epoch 26/50\n",
      "625/625 [==============================] - 1s 2ms/step - loss: 0.3243 - accuracy: 0.8817 - val_loss: 0.3792 - val_accuracy: 0.8586\n",
      "Epoch 27/50\n",
      "625/625 [==============================] - 1s 2ms/step - loss: 0.3243 - accuracy: 0.8821 - val_loss: 0.3377 - val_accuracy: 0.8747\n",
      "Epoch 28/50\n",
      "625/625 [==============================] - 1s 2ms/step - loss: 0.3234 - accuracy: 0.8812 - val_loss: 0.3317 - val_accuracy: 0.8788\n",
      "Epoch 29/50\n",
      "625/625 [==============================] - 1s 2ms/step - loss: 0.3184 - accuracy: 0.8848 - val_loss: 0.3243 - val_accuracy: 0.8817\n",
      "Epoch 30/50\n",
      "625/625 [==============================] - 1s 2ms/step - loss: 0.3174 - accuracy: 0.8835 - val_loss: 0.3194 - val_accuracy: 0.8842\n",
      "Epoch 31/50\n",
      "625/625 [==============================] - 1s 2ms/step - loss: 0.3142 - accuracy: 0.8849 - val_loss: 0.3550 - val_accuracy: 0.8710\n",
      "Epoch 32/50\n",
      "625/625 [==============================] - 1s 2ms/step - loss: 0.3139 - accuracy: 0.8860 - val_loss: 0.3257 - val_accuracy: 0.8787\n",
      "Epoch 33/50\n",
      "625/625 [==============================] - 1s 2ms/step - loss: 0.3120 - accuracy: 0.8865 - val_loss: 0.3192 - val_accuracy: 0.8839\n",
      "Epoch 34/50\n",
      "625/625 [==============================] - 1s 2ms/step - loss: 0.3117 - accuracy: 0.8858 - val_loss: 0.3246 - val_accuracy: 0.8820\n",
      "Epoch 35/50\n",
      "625/625 [==============================] - 1s 2ms/step - loss: 0.3079 - accuracy: 0.8877 - val_loss: 0.3243 - val_accuracy: 0.8808\n",
      "Epoch 36/50\n",
      "625/625 [==============================] - 1s 2ms/step - loss: 0.3074 - accuracy: 0.8872 - val_loss: 0.3244 - val_accuracy: 0.8800\n",
      "Epoch 37/50\n",
      "625/625 [==============================] - 1s 2ms/step - loss: 0.3056 - accuracy: 0.8881 - val_loss: 0.3131 - val_accuracy: 0.8860\n",
      "Epoch 38/50\n",
      "625/625 [==============================] - 1s 2ms/step - loss: 0.3033 - accuracy: 0.8889 - val_loss: 0.3217 - val_accuracy: 0.8823\n",
      "Epoch 39/50\n",
      "625/625 [==============================] - 1s 2ms/step - loss: 0.3017 - accuracy: 0.8889 - val_loss: 0.3136 - val_accuracy: 0.8867\n",
      "Epoch 40/50\n",
      "625/625 [==============================] - 1s 2ms/step - loss: 0.3000 - accuracy: 0.8903 - val_loss: 0.3357 - val_accuracy: 0.8759\n",
      "Epoch 41/50\n",
      "625/625 [==============================] - 1s 2ms/step - loss: 0.3000 - accuracy: 0.8908 - val_loss: 0.3123 - val_accuracy: 0.8858\n",
      "Epoch 42/50\n",
      "625/625 [==============================] - 1s 2ms/step - loss: 0.2997 - accuracy: 0.8906 - val_loss: 0.3311 - val_accuracy: 0.8791\n",
      "Epoch 43/50\n",
      "625/625 [==============================] - 1s 2ms/step - loss: 0.2955 - accuracy: 0.8923 - val_loss: 0.3099 - val_accuracy: 0.8864\n",
      "Epoch 44/50\n",
      "625/625 [==============================] - 1s 2ms/step - loss: 0.2963 - accuracy: 0.8921 - val_loss: 0.3098 - val_accuracy: 0.8882\n",
      "Epoch 45/50\n",
      "625/625 [==============================] - 1s 2ms/step - loss: 0.2937 - accuracy: 0.8923 - val_loss: 0.3268 - val_accuracy: 0.8842\n",
      "Epoch 46/50\n",
      "625/625 [==============================] - 1s 2ms/step - loss: 0.2940 - accuracy: 0.8921 - val_loss: 0.3141 - val_accuracy: 0.8854\n",
      "Epoch 47/50\n",
      "625/625 [==============================] - 1s 2ms/step - loss: 0.2919 - accuracy: 0.8937 - val_loss: 0.3179 - val_accuracy: 0.8842\n",
      "Epoch 48/50\n",
      "625/625 [==============================] - 1s 2ms/step - loss: 0.2900 - accuracy: 0.8939 - val_loss: 0.3145 - val_accuracy: 0.8858\n",
      "Epoch 49/50\n",
      "625/625 [==============================] - 1s 2ms/step - loss: 0.2909 - accuracy: 0.8934 - val_loss: 0.3245 - val_accuracy: 0.8801\n",
      "Epoch 50/50\n",
      "625/625 [==============================] - 1s 2ms/step - loss: 0.2897 - accuracy: 0.8942 - val_loss: 0.3106 - val_accuracy: 0.8871\n",
      "313/313 [==============================] - 0s 738us/step - loss: 0.3106 - accuracy: 0.8871\n",
      "Accuracy: 0.8870999813079834 , Elapsed time: 62.753673791885376\n"
     ]
    }
   ],
   "source": [
    "t = time.time(); t_total = 0    \n",
    "deep_layers = 3\n",
    "num_units = 200\n",
    "learning_rate = 1e-3\n",
    "batch_size = 128\n",
    "    \n",
    "\n",
    "modelc = tf.keras.Sequential()\n",
    "modelc.add(tf.keras.layers.InputLayer(int(X_train.shape[1],)))\n",
    "modelc.add(Dense(num_units, input_shape=(int(X_train.shape[1]),)))\n",
    "    \n",
    "for i in range(deep_layers):        \n",
    "    modelc.add(Dense(num_units, activation='relu'))\n",
    "modelc.add(Dense(3, activation=tf.nn.softmax))\n",
    "    \n",
    "optimizer = tf.keras.optimizers.Adam(learning_rate=learning_rate, beta_1=0.9, beta_2=0.999, epsilon=1e-3)\n",
    "modelc.compile(optimizer=optimizer, loss='categorical_crossentropy', metrics=[\"accuracy\"])\n",
    "trainc = modelc.fit(X_train, Y_train, epochs=epochs, validation_data=(X_val, Y_val),\n",
    "                    callbacks=my_callbacks, batch_size=batch_size, shuffle=1, verbose=1)\n",
    "    \n",
    "lossc, scorec = modelc.evaluate(X_val, Y_val)    \n",
    "t = time.time()-t\n",
    "print(\"Accuracy:\", scorec, \", Elapsed time:\", t)"
   ]
  },
  {
   "cell_type": "code",
   "execution_count": 53,
   "metadata": {},
   "outputs": [
    {
     "name": "stdout",
     "output_type": "stream",
     "text": [
      "313/313 [==============================] - 0s 624us/step\n",
      "Accuracy: 0.8865\n",
      "Precision: 0.8858837990990646\n",
      "F1: 0.8858325878884318\n"
     ]
    },
    {
     "data": {
      "text/plain": [
       "(0.30414897203445435,\n",
       " 0.30665507912635803,\n",
       " 0.2986975312232971,\n",
       " 0.289667546749115)"
      ]
     },
     "execution_count": 53,
     "metadata": {},
     "output_type": "execute_result"
    },
    {
     "data": {
      "image/png": "[encoded data removed]",
      "text/plain": [
       "<Figure size 360x360 with 1 Axes>"
      ]
     },
     "metadata": {
      "needs_background": "light"
     },
     "output_type": "display_data"
    }
   ],
   "source": [
    "model = modela\n",
    "X_test_inverse = scaler.inverse_transform(X_test)\n",
    "labels=['Star','Galaxy','QSO']\n",
    "porcentaje = True\n",
    "\n",
    "# titles.append(f\"Confusion matrix model\")\n",
    "# plot_cm(Y_test, model1.predict(X_test), labels, porcentaje=porcentaje)\n",
    "fig = plt.figure(figsize=(5,5))\n",
    "ax = fig.add_subplot(111)\n",
    "\n",
    "y_pred = model.predict(X_test)\n",
    "y_test=np.argmax(Y_test, axis=1)\n",
    "y_pred=np.argmax(y_pred, axis=1)\n",
    "plot_cm(Y_test, y_pred, labels=labels, porcentaje=False, ax=ax)\n",
    "plt.xlabel(\"Predicted label\", fontsize=15)\n",
    "plt.ylabel(\"True label\", fontsize=15)\n",
    "plt.title(\"Genetic algorithm C\", fontsize=15)\n",
    "plt.savefig(\"classification_genetic_cm.png\")\n",
    "\n",
    "# other metrics\n",
    "am = accuracy_score(y_test, y_pred)\n",
    "pm = precision_score(y_test, y_pred, average='weighted')\n",
    "# rm = roc_auc_score(y_test, y_pred,multi_class='ovr')\n",
    "fm = f1_score(y_test, y_pred, average='weighted')\n",
    "\n",
    "print(\"Accuracy:\", am)\n",
    "print(\"Precision:\", pm)\n",
    "print(\"F1:\", fm)\n",
    "np.min(train1.history['loss']), np.min(traina.history['loss']), np.min(trainb.history['loss']), np.min(trainc.history['loss'])"
   ]
  },
  {
   "cell_type": "code",
   "execution_count": 18,
   "metadata": {},
   "outputs": [
    {
     "data": {
      "text/plain": [
       "0.30717769265174866"
      ]
     },
     "execution_count": 18,
     "metadata": {},
     "output_type": "execute_result"
    },
    {
     "data": {
      "image/png": "[encoded data removed]",
      "text/plain": [
       "<Figure size 432x432 with 1 Axes>"
      ]
     },
     "metadata": {
      "needs_background": "light"
     },
     "output_type": "display_data"
    }
   ],
   "source": [
    "fig = plt.figure(figsize=(6,6))\n",
    "ax = fig.add_subplot(111)\n",
    "plt.plot(trainc.history['loss'], label='Training')\n",
    "plt.plot(trainc.history['val_loss'], label='Validation')\n",
    "# plt.ylim(0.25, 0.65)\n",
    "ax.yaxis.set_major_formatter(FormatStrFormatter('%.2f'))\n",
    "plt.ylabel('Loss function', fontsize=14)\n",
    "plt.xlabel('Epochs', fontsize=14)\n",
    "plt.legend(loc='upper right', fontsize=14)\n",
    "plt.title(\"Genetic algorithm\", fontsize=14)\n",
    "plt.savefig(\"classification_genetic_loss.png\")\n",
    "np.min(train1.history['loss'])"
   ]
  },
  {
   "cell_type": "code",
   "execution_count": 19,
   "metadata": {},
   "outputs": [],
   "source": [
    "modelc.save(\"models/classification_genetic.h5\")"
   ]
  },
  {
   "cell_type": "code",
   "execution_count": 20,
   "metadata": {},
   "outputs": [
    {
     "name": "stdout",
     "output_type": "stream",
     "text": [
      "epochs 50\n"
     ]
    }
   ],
   "source": [
    "print(\"epochs\", len(trainc.history['loss']))"
   ]
  },
  {
   "cell_type": "code",
   "execution_count": 55,
   "metadata": {},
   "outputs": [
    {
     "data": {
      "text/plain": [
       "0.30414897203445435"
      ]
     },
     "execution_count": 55,
     "metadata": {},
     "output_type": "execute_result"
    },
    {
     "data": {
      "image/png": "[encoded data removed]",
      "text/plain": [
       "<Figure size 432x432 with 1 Axes>"
      ]
     },
     "metadata": {
      "needs_background": "light"
     },
     "output_type": "display_data"
    }
   ],
   "source": [
    "# All loss\n",
    "\n",
    "fig = plt.figure(figsize=(6,6))\n",
    "ax = fig.add_subplot(111)\n",
    "plt.plot(train1.history['loss'], label='Grid Training', color='blue')\n",
    "plt.plot(train1.history['val_loss'], label='Grid Validation', color='blue', linestyle='dashed')\n",
    "plt.plot(traina.history['loss'], label='Genetic A Training', color='green')\n",
    "plt.plot(traina.history['val_loss'], label='Genetic A Validation', color='green', linestyle='dashed')\n",
    "plt.plot(trainb.history['loss'], label='Genetic B Training', color='red')\n",
    "plt.plot(trainb.history['val_loss'], label='Genetic B Validation', color='red', linestyle='dashed')\n",
    "plt.plot(trainc.history['loss'], label='Genetic C Training', color='black')\n",
    "plt.plot(trainc.history['val_loss'], label='Genetic C Validation', color='black', linestyle='dashed')\n",
    "plt.ylim(0.28, 0.8)\n",
    "ax.yaxis.set_major_formatter(FormatStrFormatter('%.2f'))\n",
    "plt.ylabel('Loss function', fontsize=14)\n",
    "plt.xlabel('Epochs', fontsize=14)\n",
    "plt.legend(loc='upper right', fontsize=12)\n",
    "# plt.title(\"Genetic algorithm\", fontsize=14)\n",
    "plt.savefig(\"classification_loss.png\")\n",
    "np.min(train1.history['loss'])"
   ]
  },
  {
   "cell_type": "code",
   "execution_count": null,
   "metadata": {},
   "outputs": [],
   "source": []
  }
 ],
 "metadata": {
  "colab": {
   "name": "Stellar_Classifier.ipynb",
   "provenance": []
  },
  "kernelspec": {
   "display_name": "Python 3",
   "language": "python",
   "name": "python3"
  },
  "language_info": {
   "codemirror_mode": {
    "name": "ipython",
    "version": 3
   },
   "file_extension": ".py",
   "mimetype": "text/x-python",
   "name": "python",
   "nbconvert_exporter": "python",
   "pygments_lexer": "ipython3",
   "version": "3.8.10"
  },
  "latex_envs": {
   "LaTeX_envs_menu_present": true,
   "autoclose": false,
   "autocomplete": false,
   "bibliofile": "biblio.bib",
   "cite_by": "apalike",
   "current_citInitial": 1,
   "eqLabelWithNumbers": true,
   "eqNumInitial": 1,
   "hotkeys": {
    "equation": "Ctrl-E",
    "itemize": "Ctrl-I"
   },
   "labels_anchors": false,
   "latex_user_defs": false,
   "report_style_numbering": true,
   "user_envs_cfg": true
  },
  "notify_time": "5",
  "varInspector": {
   "cols": {
    "lenName": 16,
    "lenType": 16,
    "lenVar": 40
   },
   "kernels_config": {
    "python": {
     "delete_cmd_postfix": "",
     "delete_cmd_prefix": "del ",
     "library": "var_list.py",
     "varRefreshCmd": "print(var_dic_list())"
    },
    "r": {
     "delete_cmd_postfix": ") ",
     "delete_cmd_prefix": "rm(",
     "library": "var_list.r",
     "varRefreshCmd": "cat(var_dic_list()) "
    }
   },
   "types_to_exclude": [
    "module",
    "function",
    "builtin_function_or_method",
    "instance",
    "_Feature"
   ],
   "window_display": false
  }
 },
 "nbformat": 4,
 "nbformat_minor": 1
}
