{
 "cells": [
  {
   "cell_type": "code",
   "execution_count": 1,
   "metadata": {},
   "outputs": [
    {
     "name": "stderr",
     "output_type": "stream",
     "text": [
      "2022-12-20 14:15:44.981470: I tensorflow/core/platform/cpu_feature_guard.cc:193] This TensorFlow binary is optimized with oneAPI Deep Neural Network Library (oneDNN) to use the following CPU instructions in performance-critical operations:  AVX2 FMA\n",
      "To enable them in other operations, rebuild TensorFlow with the appropriate compiler flags.\n",
      "2022-12-20 14:15:45.064159: W tensorflow/compiler/xla/stream_executor/platform/default/dso_loader.cc:64] Could not load dynamic library 'libcudart.so.11.0'; dlerror: libcudart.so.11.0: cannot open shared object file: No such file or directory\n",
      "2022-12-20 14:15:45.064175: I tensorflow/compiler/xla/stream_executor/cuda/cudart_stub.cc:29] Ignore above cudart dlerror if you do not have a GPU set up on your machine.\n",
      "2022-12-20 14:15:45.602586: W tensorflow/compiler/xla/stream_executor/platform/default/dso_loader.cc:64] Could not load dynamic library 'libnvinfer.so.7'; dlerror: libnvinfer.so.7: cannot open shared object file: No such file or directory\n",
      "2022-12-20 14:15:45.602670: W tensorflow/compiler/xla/stream_executor/platform/default/dso_loader.cc:64] Could not load dynamic library 'libnvinfer_plugin.so.7'; dlerror: libnvinfer_plugin.so.7: cannot open shared object file: No such file or directory\n",
      "2022-12-20 14:15:45.602676: W tensorflow/compiler/tf2tensorrt/utils/py_utils.cc:38] TF-TRT Warning: Cannot dlopen some TensorRT libraries. If you would like to use Nvidia GPU with TensorRT, please make sure the missing libraries mentioned above are installed properly.\n"
     ]
    }
   ],
   "source": [
    "import numpy as np\n",
    "import pandas as pd\n",
    "import time, os\n",
    "\n",
    "import tensorflow as tf\n",
    "from tensorflow import keras\n",
    "from tensorflow.keras.layers import Input, Dense\n",
    "from tensorflow.keras.utils import to_categorical\n",
    "from tensorboard.plugins.hparams import api as hp\n",
    "\n",
    "from tensorflow.keras.losses import CategoricalCrossentropy\n",
    "from tensorflow.keras.models import Model\n",
    "\n",
    "from sklearn.preprocessing import StandardScaler, MinMaxScaler\n",
    "from sklearn.model_selection import train_test_split as split\n",
    "from sklearn.metrics import r2_score, explained_variance_score, mean_absolute_error\n",
    "\n",
    "import random\n",
    "from math import floor\n",
    "from tensorflow.keras import models\n",
    "from tensorflow.keras import layers\n",
    "from tensorflow.keras import optimizers\n",
    "from scipy.integrate import odeint\n",
    "import scipy\n",
    "import pandas as pd\n",
    "import matplotlib.pyplot as plt\n",
    "np.random.seed(0)"
   ]
  },
  {
   "cell_type": "code",
   "execution_count": 2,
   "metadata": {},
   "outputs": [
    {
     "data": {
      "text/html": [
       "<div>\n",
       "<style scoped>\n",
       "    .dataframe tbody tr th:only-of-type {\n",
       "        vertical-align: middle;\n",
       "    }\n",
       "\n",
       "    .dataframe tbody tr th {\n",
       "        vertical-align: top;\n",
       "    }\n",
       "\n",
       "    .dataframe thead th {\n",
       "        text-align: right;\n",
       "    }\n",
       "</style>\n",
       "<table border=\"1\" class=\"dataframe\">\n",
       "  <thead>\n",
       "    <tr style=\"text-align: right;\">\n",
       "      <th></th>\n",
       "      <th>zcmb</th>\n",
       "      <th>mb</th>\n",
       "      <th>dmb</th>\n",
       "      <th>errors</th>\n",
       "    </tr>\n",
       "  </thead>\n",
       "  <tbody>\n",
       "    <tr>\n",
       "      <th>0</th>\n",
       "      <td>0.503084</td>\n",
       "      <td>23.001698</td>\n",
       "      <td>0.088031</td>\n",
       "      <td>0.120219</td>\n",
       "    </tr>\n",
       "    <tr>\n",
       "      <th>1</th>\n",
       "      <td>0.580724</td>\n",
       "      <td>23.573937</td>\n",
       "      <td>0.090132</td>\n",
       "      <td>0.121435</td>\n",
       "    </tr>\n",
       "    <tr>\n",
       "      <th>2</th>\n",
       "      <td>0.494795</td>\n",
       "      <td>22.960139</td>\n",
       "      <td>0.088110</td>\n",
       "      <td>0.089552</td>\n",
       "    </tr>\n",
       "    <tr>\n",
       "      <th>3</th>\n",
       "      <td>0.345928</td>\n",
       "      <td>22.398137</td>\n",
       "      <td>0.087263</td>\n",
       "      <td>0.119729</td>\n",
       "    </tr>\n",
       "    <tr>\n",
       "      <th>4</th>\n",
       "      <td>0.677662</td>\n",
       "      <td>24.078115</td>\n",
       "      <td>0.098356</td>\n",
       "      <td>0.100088</td>\n",
       "    </tr>\n",
       "    <tr>\n",
       "      <th>...</th>\n",
       "      <td>...</td>\n",
       "      <td>...</td>\n",
       "      <td>...</td>\n",
       "      <td>...</td>\n",
       "    </tr>\n",
       "    <tr>\n",
       "      <th>735</th>\n",
       "      <td>0.027064</td>\n",
       "      <td>16.504006</td>\n",
       "      <td>0.141685</td>\n",
       "      <td>0.185894</td>\n",
       "    </tr>\n",
       "    <tr>\n",
       "      <th>736</th>\n",
       "      <td>0.025468</td>\n",
       "      <td>15.797848</td>\n",
       "      <td>0.143429</td>\n",
       "      <td>0.193666</td>\n",
       "    </tr>\n",
       "    <tr>\n",
       "      <th>737</th>\n",
       "      <td>0.023810</td>\n",
       "      <td>15.895501</td>\n",
       "      <td>0.144315</td>\n",
       "      <td>0.184957</td>\n",
       "    </tr>\n",
       "    <tr>\n",
       "      <th>738</th>\n",
       "      <td>0.023867</td>\n",
       "      <td>16.068268</td>\n",
       "      <td>0.144350</td>\n",
       "      <td>0.175960</td>\n",
       "    </tr>\n",
       "    <tr>\n",
       "      <th>739</th>\n",
       "      <td>0.022068</td>\n",
       "      <td>15.718540</td>\n",
       "      <td>0.144685</td>\n",
       "      <td>0.160803</td>\n",
       "    </tr>\n",
       "  </tbody>\n",
       "</table>\n",
       "<p>740 rows × 4 columns</p>\n",
       "</div>"
      ],
      "text/plain": [
       "         zcmb         mb       dmb    errors\n",
       "0    0.503084  23.001698  0.088031  0.120219\n",
       "1    0.580724  23.573937  0.090132  0.121435\n",
       "2    0.494795  22.960139  0.088110  0.089552\n",
       "3    0.345928  22.398137  0.087263  0.119729\n",
       "4    0.677662  24.078115  0.098356  0.100088\n",
       "..        ...        ...       ...       ...\n",
       "735  0.027064  16.504006  0.141685  0.185894\n",
       "736  0.025468  15.797848  0.143429  0.193666\n",
       "737  0.023810  15.895501  0.144315  0.184957\n",
       "738  0.023867  16.068268  0.144350  0.175960\n",
       "739  0.022068  15.718540  0.144685  0.160803\n",
       "\n",
       "[740 rows x 4 columns]"
      ]
     },
     "execution_count": 2,
     "metadata": {},
     "output_type": "execute_result"
    }
   ],
   "source": [
    "url = 'https://raw.githubusercontent.com/igomezv/nnogada/main/data/jla.csv'\n",
    "df=pd.read_csv(url)\n",
    "N = len(df.values)\n",
    "randomize = np.random.permutation(N)\n",
    "data = df.values[randomize]\n",
    "N = len(df.values)\n",
    "z = data[:,0] \n",
    "y = data[:,1:3] ### coge el resto de variables a predecir \n",
    "y[:,1] = y[:,1]**2+data[:,2]\n",
    "np.shape(y)\n",
    "df"
   ]
  },
  {
   "cell_type": "code",
   "execution_count": 3,
   "metadata": {},
   "outputs": [],
   "source": [
    "dmag =df[\"dmb\"]\n",
    "\n",
    "df2=df['errors']+df['dmb']**2"
   ]
  },
  {
   "cell_type": "code",
   "execution_count": 4,
   "metadata": {},
   "outputs": [],
   "source": [
    "scalerz = StandardScaler()\n",
    "scalerz.fit(z.reshape(-1,1))\n",
    "z = scalerz.transform(z.reshape(-1,1))"
   ]
  },
  {
   "cell_type": "code",
   "execution_count": 5,
   "metadata": {},
   "outputs": [
    {
     "data": {
      "text/plain": [
       "((555, 1), (185, 1), (555, 2), (185, 2))"
      ]
     },
     "execution_count": 5,
     "metadata": {},
     "output_type": "execute_result"
    }
   ],
   "source": [
    "### Modificar para incluir phanteon como test\n",
    "split = 0.75\n",
    "ntrain = int(split * len(z))\n",
    "indx = [ntrain]\n",
    "X_train, X_test = np.split(z, indx)\n",
    "Y_train, Y_test = np.split(y, indx)\n",
    "np.shape(X_train), np.shape(X_test), Y_train.shape, Y_test.shape"
   ]
  },
  {
   "cell_type": "code",
   "execution_count": 6,
   "metadata": {},
   "outputs": [],
   "source": [
    "# loss -> val_loss\n",
    "callbacks = [tf.keras.callbacks.EarlyStopping(monitor='val_loss', mode='min',\n",
    "                                   min_delta=0.0,\n",
    "                                   patience=200,\n",
    "                                   restore_best_weights=True, verbose=False)\n",
    "                                   ]\n",
    "\n",
    "n_cols = 1"
   ]
  },
  {
   "cell_type": "code",
   "execution_count": 7,
   "metadata": {},
   "outputs": [],
   "source": [
    "epochs=200"
   ]
  },
  {
   "cell_type": "code",
   "execution_count": 8,
   "metadata": {},
   "outputs": [],
   "source": [
    "def train_test_model(hparams):    \n",
    "    \n",
    "    # Train LSTM model and predict on validation set\n",
    "    model = tf.keras.Sequential()\n",
    "    model.add(Dense(int(X_train.shape[1])))\n",
    "    \n",
    "    for i in range(hparams['HP_LAYERS']):        \n",
    "        model.add(Dense(hparams['HP_NUM_UNITS'], activation='relu'))\n",
    "    model.add(Dense(2, activation='linear'))\n",
    "     \n",
    "    optimizer = tf.keras.optimizers.Adam(learning_rate=hparams['HP_LEARNING'], beta_1=0.9, beta_2=0.999, epsilon=1e-3)\n",
    "    model.compile(\n",
    "            optimizer=optimizer,\n",
    "            loss='mse', \n",
    "            metrics=['mean_squared_error'])\n",
    "    \n",
    "    # Run with 1 epoch to speed things up for demo purposes\n",
    "\n",
    "    train = model.fit(X_train, Y_train, epochs=epochs, validation_data=(X_test, Y_test),\n",
    "              callbacks=callbacks, batch_size=hparams['HP_BATCHSIZE'], shuffle=False, verbose=False)\n",
    "\n",
    "    _, loss = model.evaluate(X_test, Y_test)\n",
    "    \n",
    "    return model, loss, train.history"
   ]
  },
  {
   "cell_type": "markdown",
   "metadata": {},
   "source": [
    "# Genetic results\n",
    "\n",
    "## B\n",
    "\n",
    "### P_mutation = 0.2, P_crossover = 0.5"
   ]
  },
  {
   "cell_type": "code",
   "execution_count": 9,
   "metadata": {},
   "outputs": [],
   "source": [
    "# 3\t200\t0.0001\t4\n",
    "hparams_gena1 = {'HP_LAYERS': 3, 'HP_NUM_UNITS': 200, 'HP_BATCHSIZE': 4, 'HP_LEARNING':0.0001}\n",
    "# 4\t50\t0.0001\t4\n",
    "hparams_gena2 = {'HP_LAYERS': 4, 'HP_NUM_UNITS': 50, 'HP_BATCHSIZE': 4, 'HP_LEARNING':0.0001}\n",
    "# 1\t100\t0.001\t4\n",
    "hparams_gena3 = {'HP_LAYERS': 1, 'HP_NUM_UNITS': 100, 'HP_BATCHSIZE': 4, 'HP_LEARNING':0.001}\n",
    "# 1\t100\t0.001\t4\n",
    "hparams_gena4 = {'HP_LAYERS': 1, 'HP_NUM_UNITS': 100, 'HP_BATCHSIZE': 4, 'HP_LEARNING':0.001}\n",
    "# 3\t100\t0.0001\t4\n",
    "hparams_gena5 = {'HP_LAYERS': 3, 'HP_NUM_UNITS': 100, 'HP_BATCHSIZE': 4, 'HP_LEARNING':0.0001}\n",
    "# 1\t100\t0.001\t4\n",
    "hparams_gena6 = {'HP_LAYERS': 1, 'HP_NUM_UNITS': 100, 'HP_BATCHSIZE': 4, 'HP_LEARNING':0.001}\n",
    "# 3\t100\t0.0001\t4\n",
    "hparams_gena7 = {'HP_LAYERS': 3, 'HP_NUM_UNITS': 100, 'HP_BATCHSIZE': 4, 'HP_LEARNING':0.0001}\n",
    "# 3 \t100 \t0.0001 \t4\n",
    "hparams_gena8 = {'HP_LAYERS': 3, 'HP_NUM_UNITS': 100, 'HP_BATCHSIZE': 4, 'HP_LEARNING':0.0001}\n",
    "# 1\t100\t0.001\t4\n",
    "hparams_gena9 = {'HP_LAYERS': 1, 'HP_NUM_UNITS': 100, 'HP_BATCHSIZE': 4, 'HP_LEARNING':0.001}\n",
    "# 4\t100\t0.0001\t4\n",
    "hparams_gena10 = {'HP_LAYERS': 4,'HP_NUM_UNITS': 100, 'HP_BATCHSIZE': 4, 'HP_LEARNING':0.0001}"
   ]
  },
  {
   "cell_type": "code",
   "execution_count": 15,
   "metadata": {},
   "outputs": [
    {
     "name": "stdout",
     "output_type": "stream",
     "text": [
      "6/6 [==============================] - 0s 1ms/step - loss: 0.0313 - mean_squared_error: 0.0313\n",
      "6/6 [==============================] - 0s 760us/step\n",
      "6/6 [==============================] - 0s 921us/step - loss: 0.0320 - mean_squared_error: 0.0320\n",
      "6/6 [==============================] - 0s 922us/step\n",
      "6/6 [==============================] - 0s 811us/step - loss: 0.0331 - mean_squared_error: 0.0331\n",
      "6/6 [==============================] - 0s 729us/step\n",
      "6/6 [==============================] - 0s 873us/step - loss: 0.0328 - mean_squared_error: 0.0328\n",
      "6/6 [==============================] - 0s 671us/step\n",
      "6/6 [==============================] - 0s 800us/step - loss: 0.0330 - mean_squared_error: 0.0330\n",
      "6/6 [==============================] - 0s 823us/step\n",
      "6/6 [==============================] - 0s 1ms/step - loss: 0.0322 - mean_squared_error: 0.0322\n",
      "6/6 [==============================] - 0s 704us/step\n",
      "6/6 [==============================] - 0s 891us/step - loss: 0.0318 - mean_squared_error: 0.0318\n",
      "6/6 [==============================] - 0s 747us/step\n",
      "6/6 [==============================] - 0s 954us/step - loss: 0.0338 - mean_squared_error: 0.0338\n",
      "6/6 [==============================] - 0s 765us/step\n",
      "6/6 [==============================] - 0s 829us/step - loss: 0.0347 - mean_squared_error: 0.0347\n",
      "6/6 [==============================] - 0s 749us/step\n",
      "6/6 [==============================] - 0s 946us/step - loss: 0.0326 - mean_squared_error: 0.0326\n",
      "6/6 [==============================] - 0s 772us/step\n",
      "Run 1: 0.0313\t0.0996\t0.6414\n",
      "Run 2: 0.0320\t0.0997\t0.6893\n",
      "Run 3: 0.0331\t0.1016\t0.6060\n",
      "Run 4: 0.0328\t0.1028\t0.4797\n",
      "Run 5: 0.0330\t0.1027\t0.6823\n",
      "Run 6: 0.0322\t0.1021\t0.4873\n",
      "Run 7: 0.0318\t0.1000\t0.6242\n",
      "Run 8: 0.0338\t0.1024\t0.6372\n",
      "Run 9: 0.0347\t0.1027\t0.6965\n",
      "Run 10: 0.0326\t0.1047\t0.6929\n"
     ]
    }
   ],
   "source": [
    "models_gena = []\n",
    "mse_gena = []\n",
    "mae_gena = []\n",
    "r2_gena = []\n",
    "histories_gena = []\n",
    "hparams_gena = [hparams_gena1, hparams_gena2, hparams_gena3,hparams_gena4,hparams_gena5,hparams_gena6,hparams_gena7,\n",
    "                hparams_gena8,hparams_gena9, hparams_gena10]\n",
    "\n",
    "for i in range(10):\n",
    "    model, loss_test, history = train_test_model(hparams_gena[i])\n",
    "    models_gena.append(model)\n",
    "    mse_gena.append(loss_test)\n",
    "    histories_gena.append(history)\n",
    "    y = model.predict(X_test)\n",
    "    r2_gena.append(r2_score(y, Y_test))\n",
    "    mae_gena.append(mean_absolute_error(y, Y_test))\n",
    "    \n",
    "for i in range(10):\n",
    "    print(\"Run {}: {:.4f}\\t{:.4f}\\t{:.4f}\".format(i+1, mse_gena[i], mae_gena[i], r2_gena[i]))"
   ]
  },
  {
   "cell_type": "code",
   "execution_count": null,
   "metadata": {},
   "outputs": [],
   "source": []
  }
 ],
 "metadata": {
  "kernelspec": {
   "display_name": "Python 3 (ipykernel)",
   "language": "python",
   "name": "python3"
  },
  "language_info": {
   "codemirror_mode": {
    "name": "ipython",
    "version": 3
   },
   "file_extension": ".py",
   "mimetype": "text/x-python",
   "name": "python",
   "nbconvert_exporter": "python",
   "pygments_lexer": "ipython3",
   "version": "3.10.6"
  }
 },
 "nbformat": 4,
 "nbformat_minor": 2
}
