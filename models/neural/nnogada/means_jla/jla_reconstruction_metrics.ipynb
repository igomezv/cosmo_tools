{
 "cells": [
  {
   "cell_type": "code",
   "execution_count": 1,
   "id": "6fa308ee",
   "metadata": {},
   "outputs": [
    {
     "name": "stderr",
     "output_type": "stream",
     "text": [
      "2022-12-09 21:34:09.397547: I tensorflow/core/platform/cpu_feature_guard.cc:193] This TensorFlow binary is optimized with oneAPI Deep Neural Network Library (oneDNN) to use the following CPU instructions in performance-critical operations:  AVX2 FMA\n",
      "To enable them in other operations, rebuild TensorFlow with the appropriate compiler flags.\n",
      "2022-12-09 21:34:09.478282: W tensorflow/compiler/xla/stream_executor/platform/default/dso_loader.cc:64] Could not load dynamic library 'libcudart.so.11.0'; dlerror: libcudart.so.11.0: cannot open shared object file: No such file or directory\n",
      "2022-12-09 21:34:09.478300: I tensorflow/compiler/xla/stream_executor/cuda/cudart_stub.cc:29] Ignore above cudart dlerror if you do not have a GPU set up on your machine.\n",
      "2022-12-09 21:34:10.050315: W tensorflow/compiler/xla/stream_executor/platform/default/dso_loader.cc:64] Could not load dynamic library 'libnvinfer.so.7'; dlerror: libnvinfer.so.7: cannot open shared object file: No such file or directory\n",
      "2022-12-09 21:34:10.050404: W tensorflow/compiler/xla/stream_executor/platform/default/dso_loader.cc:64] Could not load dynamic library 'libnvinfer_plugin.so.7'; dlerror: libnvinfer_plugin.so.7: cannot open shared object file: No such file or directory\n",
      "2022-12-09 21:34:10.050411: W tensorflow/compiler/tf2tensorrt/utils/py_utils.cc:38] TF-TRT Warning: Cannot dlopen some TensorRT libraries. If you would like to use Nvidia GPU with TensorRT, please make sure the missing libraries mentioned above are installed properly.\n"
     ]
    }
   ],
   "source": [
    "import numpy as np\n",
    "import pandas as pd\n",
    "\n",
    "from sklearn.preprocessing import StandardScaler, MinMaxScaler\n",
    "from sklearn.model_selection import train_test_split as split\n",
    "from sklearn.metrics import r2_score, explained_variance_score, mean_absolute_error\n",
    "import random\n",
    "from tensorflow.keras.models import load_model\n",
    "import scipy\n",
    "import matplotlib.pyplot as plt\n",
    "np.random.seed(0)"
   ]
  },
  {
   "cell_type": "code",
   "execution_count": 2,
   "id": "4f57a2c7",
   "metadata": {},
   "outputs": [
    {
     "data": {
      "text/html": [
       "<div>\n",
       "<style scoped>\n",
       "    .dataframe tbody tr th:only-of-type {\n",
       "        vertical-align: middle;\n",
       "    }\n",
       "\n",
       "    .dataframe tbody tr th {\n",
       "        vertical-align: top;\n",
       "    }\n",
       "\n",
       "    .dataframe thead th {\n",
       "        text-align: right;\n",
       "    }\n",
       "</style>\n",
       "<table border=\"1\" class=\"dataframe\">\n",
       "  <thead>\n",
       "    <tr style=\"text-align: right;\">\n",
       "      <th></th>\n",
       "      <th>zcmb</th>\n",
       "      <th>mb</th>\n",
       "      <th>dmb</th>\n",
       "      <th>errors</th>\n",
       "    </tr>\n",
       "  </thead>\n",
       "  <tbody>\n",
       "    <tr>\n",
       "      <th>0</th>\n",
       "      <td>0.503084</td>\n",
       "      <td>23.001698</td>\n",
       "      <td>0.088031</td>\n",
       "      <td>0.120219</td>\n",
       "    </tr>\n",
       "    <tr>\n",
       "      <th>1</th>\n",
       "      <td>0.580724</td>\n",
       "      <td>23.573937</td>\n",
       "      <td>0.090132</td>\n",
       "      <td>0.121435</td>\n",
       "    </tr>\n",
       "    <tr>\n",
       "      <th>2</th>\n",
       "      <td>0.494795</td>\n",
       "      <td>22.960139</td>\n",
       "      <td>0.088110</td>\n",
       "      <td>0.089552</td>\n",
       "    </tr>\n",
       "    <tr>\n",
       "      <th>3</th>\n",
       "      <td>0.345928</td>\n",
       "      <td>22.398137</td>\n",
       "      <td>0.087263</td>\n",
       "      <td>0.119729</td>\n",
       "    </tr>\n",
       "    <tr>\n",
       "      <th>4</th>\n",
       "      <td>0.677662</td>\n",
       "      <td>24.078115</td>\n",
       "      <td>0.098356</td>\n",
       "      <td>0.100088</td>\n",
       "    </tr>\n",
       "    <tr>\n",
       "      <th>...</th>\n",
       "      <td>...</td>\n",
       "      <td>...</td>\n",
       "      <td>...</td>\n",
       "      <td>...</td>\n",
       "    </tr>\n",
       "    <tr>\n",
       "      <th>735</th>\n",
       "      <td>0.027064</td>\n",
       "      <td>16.504006</td>\n",
       "      <td>0.141685</td>\n",
       "      <td>0.185894</td>\n",
       "    </tr>\n",
       "    <tr>\n",
       "      <th>736</th>\n",
       "      <td>0.025468</td>\n",
       "      <td>15.797848</td>\n",
       "      <td>0.143429</td>\n",
       "      <td>0.193666</td>\n",
       "    </tr>\n",
       "    <tr>\n",
       "      <th>737</th>\n",
       "      <td>0.023810</td>\n",
       "      <td>15.895501</td>\n",
       "      <td>0.144315</td>\n",
       "      <td>0.184957</td>\n",
       "    </tr>\n",
       "    <tr>\n",
       "      <th>738</th>\n",
       "      <td>0.023867</td>\n",
       "      <td>16.068268</td>\n",
       "      <td>0.144350</td>\n",
       "      <td>0.175960</td>\n",
       "    </tr>\n",
       "    <tr>\n",
       "      <th>739</th>\n",
       "      <td>0.022068</td>\n",
       "      <td>15.718540</td>\n",
       "      <td>0.144685</td>\n",
       "      <td>0.160803</td>\n",
       "    </tr>\n",
       "  </tbody>\n",
       "</table>\n",
       "<p>740 rows × 4 columns</p>\n",
       "</div>"
      ],
      "text/plain": [
       "         zcmb         mb       dmb    errors\n",
       "0    0.503084  23.001698  0.088031  0.120219\n",
       "1    0.580724  23.573937  0.090132  0.121435\n",
       "2    0.494795  22.960139  0.088110  0.089552\n",
       "3    0.345928  22.398137  0.087263  0.119729\n",
       "4    0.677662  24.078115  0.098356  0.100088\n",
       "..        ...        ...       ...       ...\n",
       "735  0.027064  16.504006  0.141685  0.185894\n",
       "736  0.025468  15.797848  0.143429  0.193666\n",
       "737  0.023810  15.895501  0.144315  0.184957\n",
       "738  0.023867  16.068268  0.144350  0.175960\n",
       "739  0.022068  15.718540  0.144685  0.160803\n",
       "\n",
       "[740 rows x 4 columns]"
      ]
     },
     "execution_count": 2,
     "metadata": {},
     "output_type": "execute_result"
    }
   ],
   "source": [
    "url = 'https://raw.githubusercontent.com/igomezv/nnogada/main/data/jla.csv'\n",
    "df=pd.read_csv(url)\n",
    "N = len(df.values)\n",
    "randomize = np.random.permutation(N)\n",
    "data = df.values[randomize]\n",
    "N = len(df.values)\n",
    "z = data[:,0] \n",
    "y = data[:,1:3] ### coge el resto de variables a predecir \n",
    "y[:,1] = y[:,1]**2+data[:,2]\n",
    "np.shape(y)\n",
    "df"
   ]
  },
  {
   "cell_type": "code",
   "execution_count": 3,
   "id": "4551b007",
   "metadata": {},
   "outputs": [],
   "source": [
    "dmag =df[\"dmb\"]\n",
    "\n",
    "df2=df['errors']+df['dmb']**2"
   ]
  },
  {
   "cell_type": "code",
   "execution_count": 4,
   "id": "9b526dfd",
   "metadata": {},
   "outputs": [],
   "source": [
    "scalerz = StandardScaler()\n",
    "scalerz.fit(z.reshape(-1,1))\n",
    "z = scalerz.transform(z.reshape(-1,1))"
   ]
  },
  {
   "cell_type": "code",
   "execution_count": 5,
   "id": "af3f869f",
   "metadata": {},
   "outputs": [
    {
     "data": {
      "text/plain": [
       "((555, 1), (185, 1), (555, 2), (185, 2))"
      ]
     },
     "execution_count": 5,
     "metadata": {},
     "output_type": "execute_result"
    }
   ],
   "source": [
    "### Modificar para incluir phanteon como test\n",
    "split = 0.75\n",
    "ntrain = int(split * len(z))\n",
    "indx = [ntrain]\n",
    "X_train, X_test = np.split(z, indx)\n",
    "Y_train, Y_test = np.split(y, indx)\n",
    "np.shape(X_train), np.shape(X_test), Y_train.shape, Y_test.shape"
   ]
  },
  {
   "cell_type": "code",
   "execution_count": 6,
   "id": "61437a51",
   "metadata": {},
   "outputs": [
    {
     "name": "stderr",
     "output_type": "stream",
     "text": [
      "2022-12-09 21:34:11.232921: I tensorflow/compiler/xla/stream_executor/cuda/cuda_gpu_executor.cc:981] successful NUMA node read from SysFS had negative value (-1), but there must be at least one NUMA node, so returning NUMA node zero\n",
      "2022-12-09 21:34:11.233107: W tensorflow/compiler/xla/stream_executor/platform/default/dso_loader.cc:64] Could not load dynamic library 'libcudart.so.11.0'; dlerror: libcudart.so.11.0: cannot open shared object file: No such file or directory\n",
      "2022-12-09 21:34:11.233174: W tensorflow/compiler/xla/stream_executor/platform/default/dso_loader.cc:64] Could not load dynamic library 'libcublas.so.11'; dlerror: libcublas.so.11: cannot open shared object file: No such file or directory\n",
      "2022-12-09 21:34:11.233234: W tensorflow/compiler/xla/stream_executor/platform/default/dso_loader.cc:64] Could not load dynamic library 'libcublasLt.so.11'; dlerror: libcublasLt.so.11: cannot open shared object file: No such file or directory\n",
      "2022-12-09 21:34:11.233294: W tensorflow/compiler/xla/stream_executor/platform/default/dso_loader.cc:64] Could not load dynamic library 'libcufft.so.10'; dlerror: libcufft.so.10: cannot open shared object file: No such file or directory\n",
      "2022-12-09 21:34:11.233351: W tensorflow/compiler/xla/stream_executor/platform/default/dso_loader.cc:64] Could not load dynamic library 'libcurand.so.10'; dlerror: libcurand.so.10: cannot open shared object file: No such file or directory\n",
      "2022-12-09 21:34:11.233408: W tensorflow/compiler/xla/stream_executor/platform/default/dso_loader.cc:64] Could not load dynamic library 'libcusolver.so.11'; dlerror: libcusolver.so.11: cannot open shared object file: No such file or directory\n",
      "2022-12-09 21:34:11.233466: W tensorflow/compiler/xla/stream_executor/platform/default/dso_loader.cc:64] Could not load dynamic library 'libcusparse.so.11'; dlerror: libcusparse.so.11: cannot open shared object file: No such file or directory\n",
      "2022-12-09 21:34:11.233523: W tensorflow/compiler/xla/stream_executor/platform/default/dso_loader.cc:64] Could not load dynamic library 'libcudnn.so.8'; dlerror: libcudnn.so.8: cannot open shared object file: No such file or directory\n",
      "2022-12-09 21:34:11.233529: W tensorflow/core/common_runtime/gpu/gpu_device.cc:1934] Cannot dlopen some GPU libraries. Please make sure the missing libraries mentioned above are installed properly if you would like to use GPU. Follow the guide at https://www.tensorflow.org/install/gpu for how to download and setup the required libraries for your platform.\n",
      "Skipping registering GPU devices...\n",
      "2022-12-09 21:34:11.233798: I tensorflow/core/platform/cpu_feature_guard.cc:193] This TensorFlow binary is optimized with oneAPI Deep Neural Network Library (oneDNN) to use the following CPU instructions in performance-critical operations:  AVX2 FMA\n",
      "To enable them in other operations, rebuild TensorFlow with the appropriate compiler flags.\n"
     ]
    }
   ],
   "source": [
    "model1 = load_model(\"models/model_jla_grid.h5\")\n",
    "model_gena = load_model(\"models/modela_jla_genetic.h5\")\n",
    "model_genb = load_model(\"models/modelb_jla_genetic.h5\")\n",
    "model_genc = load_model(\"models/modelc_jla_genetic.h5\")"
   ]
  },
  {
   "cell_type": "code",
   "execution_count": 7,
   "id": "38d9ec8f",
   "metadata": {},
   "outputs": [
    {
     "name": "stdout",
     "output_type": "stream",
     "text": [
      "32/32 [==============================] - 0s 695us/step\n",
      "32/32 [==============================] - 0s 691us/step\n",
      "32/32 [==============================] - 0s 619us/step\n",
      "32/32 [==============================] - 0s 731us/step\n"
     ]
    }
   ],
   "source": [
    "# ranz = np.random.uniform(0, 2, size=10000)\n",
    "ranz = np.linspace(np.min(df['zcmb']), np.max(df['zcmb']), 1000)\n",
    "r = scalerz.transform(ranz.reshape(-1, 1))\n",
    "pred_random_gena = model_gena.predict(r)\n",
    "pred_random_genb = model_genb.predict(r)\n",
    "pred_random_genc = model_genc.predict(r)\n",
    "rr = scalerz.inverse_transform(r.reshape(-1,1))\n",
    "pred_random_grid = model1.predict(r)"
   ]
  },
  {
   "cell_type": "code",
   "execution_count": 8,
   "id": "a9093c40",
   "metadata": {},
   "outputs": [
    {
     "name": "stdout",
     "output_type": "stream",
     "text": [
      "6/6 [==============================] - 0s 786us/step\n",
      "6/6 [==============================] - 0s 761us/step\n",
      "6/6 [==============================] - 0s 744us/step\n",
      "6/6 [==============================] - 0s 690us/step\n"
     ]
    }
   ],
   "source": [
    "y1 = model1.predict(X_test)\n",
    "ya = model_gena.predict(X_test)\n",
    "yb = model_genb.predict(X_test)\n",
    "yc = model_genc.predict(X_test)"
   ]
  },
  {
   "cell_type": "code",
   "execution_count": 10,
   "id": "d7b29a3a",
   "metadata": {},
   "outputs": [
    {
     "data": {
      "text/plain": [
       "(0.36396486222373603,\n",
       " 0.6927487706262881,\n",
       " 0.7264085317799915,\n",
       " 0.6162283748464275)"
      ]
     },
     "execution_count": 10,
     "metadata": {},
     "output_type": "execute_result"
    }
   ],
   "source": [
    "r1 = r2_score(y1, Y_test)\n",
    "r2 = r2_score(ya, Y_test)\n",
    "r3 = r2_score(yb, Y_test)\n",
    "r4 = r2_score(yc, Y_test)\n",
    "r1, r2, r3, r4"
   ]
  },
  {
   "cell_type": "code",
   "execution_count": 11,
   "id": "1dcf7b49",
   "metadata": {},
   "outputs": [
    {
     "data": {
      "text/plain": [
       "(0.11921155338078253,\n",
       " 0.10146906916845636,\n",
       " 0.10715060130821545,\n",
       " 0.10084156245679599)"
      ]
     },
     "execution_count": 11,
     "metadata": {},
     "output_type": "execute_result"
    }
   ],
   "source": [
    "mae1 = mean_absolute_error(y1, Y_test)\n",
    "mae2 = mean_absolute_error(ya, Y_test)\n",
    "mae3 = mean_absolute_error(yb, Y_test)\n",
    "mae4 = mean_absolute_error(yc, Y_test)\n",
    "\n",
    "mae1, mae2, mae3, mae4"
   ]
  },
  {
   "cell_type": "code",
   "execution_count": null,
   "id": "134d5d93",
   "metadata": {},
   "outputs": [],
   "source": []
  }
 ],
 "metadata": {
  "kernelspec": {
   "display_name": "Python 3 (ipykernel)",
   "language": "python",
   "name": "python3"
  },
  "language_info": {
   "codemirror_mode": {
    "name": "ipython",
    "version": 3
   },
   "file_extension": ".py",
   "mimetype": "text/x-python",
   "name": "python",
   "nbconvert_exporter": "python",
   "pygments_lexer": "ipython3",
   "version": "3.10.6"
  }
 },
 "nbformat": 4,
 "nbformat_minor": 5
}
