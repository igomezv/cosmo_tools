{
 "cells": [
  {
   "cell_type": "markdown",
   "metadata": {},
   "source": [
    "### Random Forests and Photo-zs\n",
    "\n",
    "In this notebook, we use Random Forests to estimate photometric redshifts starting from observations of galaxy magnitudes in six different photometric bands (u, g, r, i, z, y). It is adapted from a notebook written for Chapter 6 of the book.\n",
    "\n",
    "Essentially, we try to reproduce/improve upon the results of [this paper](https://arxiv.org/abs/1903.08174), for which the data are public and available [here](http://d-scholarship.pitt.edu/36064/).\n",
    "\n",
    "Author: Viviana Acquaviva"
   ]
  },
  {
   "cell_type": "code",
   "execution_count": 1,
   "metadata": {},
   "outputs": [],
   "source": [
    "import numpy as np\n",
    "import pandas as pd\n",
    "import matplotlib\n",
    "import matplotlib.pyplot as plt\n",
    "pd.set_option('display.max_columns', 100)\n",
    "pd.set_option('display.max_rows', 100)\n",
    "pd.set_option('display.max_colwidth', 100)\n",
    "\n",
    "\n",
    "font = {'size'   : 16}\n",
    "matplotlib.rc('font', **font)\n",
    "matplotlib.rc('xtick', labelsize=14) \n",
    "matplotlib.rc('ytick', labelsize=14) \n",
    "matplotlib.rcParams.update({'figure.autolayout': False})\n",
    "matplotlib.rcParams['figure.dpi'] = 300"
   ]
  },
  {
   "cell_type": "code",
   "execution_count": 2,
   "metadata": {},
   "outputs": [],
   "source": [
    "from sklearn import metrics\n",
    "from sklearn.model_selection import cross_validate, KFold, cross_val_predict, GridSearchCV\n",
    "from sklearn.tree import DecisionTreeRegressor\n",
    "from sklearn.ensemble import RandomForestRegressor"
   ]
  },
  {
   "cell_type": "code",
   "execution_count": 3,
   "metadata": {},
   "outputs": [],
   "source": [
    "import astropy\n",
    "\n",
    "from astropy.io import fits\n",
    "\n",
    "#fits stands for Flexible Image Transport System; it's a format that allows one to store images and summary data"
   ]
  },
  {
   "cell_type": "markdown",
   "metadata": {},
   "source": [
    "Data import"
   ]
  },
  {
   "cell_type": "markdown",
   "metadata": {},
   "source": [
    "It's easiest IMO to read the data into a data frame using pandas:"
   ]
  },
  {
   "cell_type": "code",
   "execution_count": 4,
   "metadata": {},
   "outputs": [],
   "source": [
    "with fits.open('DEEP2_uniq_Terapix_Subaru_v1.fits') as data:\n",
    "    df = pd.DataFrame(np.array(data[1].data).byteswap().newbyteorder()) #see https://numpy.org/devdocs/user/basics.byteswapping.html#changing-byte-ordering"
   ]
  },
  {
   "cell_type": "code",
   "execution_count": 5,
   "metadata": {
    "scrolled": true
   },
   "outputs": [
    {
     "data": {
      "text/plain": [
       "Index(['objno_deep2', 'ra_deep2', 'dec_deep2', 'magb', 'magr', 'magi', 'pgal',\n",
       "       'sfd_ebv', 'class', 'subclass', 'objname', 'maskname', 'slitname',\n",
       "       'date', 'mjd', 'z_raw', 'zhelio', 'z_err', 'rchi2', 'dof', 'vdisp',\n",
       "       'vdisp_err', 'zquality', 'egsflags', 'comment', 'm_b', 'ub_0',\n",
       "       'ra_cfhtls', 'dec_cfhtls', 'u', 'g', 'r', 'i', 'i2', 'z', 'uerr',\n",
       "       'gerr', 'rerr', 'ierr', 'i2err', 'zerr', 'u_apercor', 'g_apercor',\n",
       "       'r_apercor', 'i_apercor', 'i2_apercor', 'z_apercor', 'uerr_aper',\n",
       "       'gerr_aper', 'rerr_aper', 'ierr_aper', 'i2err_aper', 'zerr_aper',\n",
       "       'uerr_apercor', 'gerr_apercor', 'rerr_apercor', 'ierr_apercor',\n",
       "       'i2err_apercor', 'zerr_apercor', 'r_radius_arcsec', 'u(sexflag)',\n",
       "       'g(sexflag)', 'r(sexflag)', 'i(sexflag)', 'i2(sexflag)', 'z(sexflag)',\n",
       "       'flag_cfhtls', 'cfhtls_source', 'ra_subaru', 'dec_subaru', 'y', 'yerr',\n",
       "       'y_apercor', 'yerr_aper', 'yerr_apercor', 'y(sexflag)',\n",
       "       'y_radius_arcsec', 'subaru_source'],\n",
       "      dtype='object')"
      ]
     },
     "execution_count": 5,
     "metadata": {},
     "output_type": "execute_result"
    }
   ],
   "source": [
    "df.columns"
   ]
  },
  {
   "cell_type": "code",
   "execution_count": 6,
   "metadata": {},
   "outputs": [
    {
     "data": {
      "text/html": [
       "<div>\n",
       "<style scoped>\n",
       "    .dataframe tbody tr th:only-of-type {\n",
       "        vertical-align: middle;\n",
       "    }\n",
       "\n",
       "    .dataframe tbody tr th {\n",
       "        vertical-align: top;\n",
       "    }\n",
       "\n",
       "    .dataframe thead th {\n",
       "        text-align: right;\n",
       "    }\n",
       "</style>\n",
       "<table border=\"1\" class=\"dataframe\">\n",
       "  <thead>\n",
       "    <tr style=\"text-align: right;\">\n",
       "      <th></th>\n",
       "      <th>objno_deep2</th>\n",
       "      <th>ra_deep2</th>\n",
       "      <th>dec_deep2</th>\n",
       "      <th>magb</th>\n",
       "      <th>magr</th>\n",
       "      <th>magi</th>\n",
       "      <th>pgal</th>\n",
       "      <th>sfd_ebv</th>\n",
       "      <th>class</th>\n",
       "      <th>subclass</th>\n",
       "      <th>objname</th>\n",
       "      <th>maskname</th>\n",
       "      <th>slitname</th>\n",
       "      <th>date</th>\n",
       "      <th>mjd</th>\n",
       "      <th>z_raw</th>\n",
       "      <th>zhelio</th>\n",
       "      <th>z_err</th>\n",
       "      <th>rchi2</th>\n",
       "      <th>dof</th>\n",
       "      <th>vdisp</th>\n",
       "      <th>vdisp_err</th>\n",
       "      <th>zquality</th>\n",
       "      <th>egsflags</th>\n",
       "      <th>comment</th>\n",
       "      <th>m_b</th>\n",
       "      <th>ub_0</th>\n",
       "      <th>ra_cfhtls</th>\n",
       "      <th>dec_cfhtls</th>\n",
       "      <th>u</th>\n",
       "      <th>g</th>\n",
       "      <th>r</th>\n",
       "      <th>i</th>\n",
       "      <th>i2</th>\n",
       "      <th>z</th>\n",
       "      <th>uerr</th>\n",
       "      <th>gerr</th>\n",
       "      <th>rerr</th>\n",
       "      <th>ierr</th>\n",
       "      <th>i2err</th>\n",
       "      <th>zerr</th>\n",
       "      <th>u_apercor</th>\n",
       "      <th>g_apercor</th>\n",
       "      <th>r_apercor</th>\n",
       "      <th>i_apercor</th>\n",
       "      <th>i2_apercor</th>\n",
       "      <th>z_apercor</th>\n",
       "      <th>uerr_aper</th>\n",
       "      <th>gerr_aper</th>\n",
       "      <th>rerr_aper</th>\n",
       "      <th>ierr_aper</th>\n",
       "      <th>i2err_aper</th>\n",
       "      <th>zerr_aper</th>\n",
       "      <th>uerr_apercor</th>\n",
       "      <th>gerr_apercor</th>\n",
       "      <th>rerr_apercor</th>\n",
       "      <th>ierr_apercor</th>\n",
       "      <th>i2err_apercor</th>\n",
       "      <th>zerr_apercor</th>\n",
       "      <th>r_radius_arcsec</th>\n",
       "      <th>u(sexflag)</th>\n",
       "      <th>g(sexflag)</th>\n",
       "      <th>r(sexflag)</th>\n",
       "      <th>i(sexflag)</th>\n",
       "      <th>i2(sexflag)</th>\n",
       "      <th>z(sexflag)</th>\n",
       "      <th>flag_cfhtls</th>\n",
       "      <th>cfhtls_source</th>\n",
       "      <th>ra_subaru</th>\n",
       "      <th>dec_subaru</th>\n",
       "      <th>y</th>\n",
       "      <th>yerr</th>\n",
       "      <th>y_apercor</th>\n",
       "      <th>yerr_aper</th>\n",
       "      <th>yerr_apercor</th>\n",
       "      <th>y(sexflag)</th>\n",
       "      <th>y_radius_arcsec</th>\n",
       "      <th>subaru_source</th>\n",
       "    </tr>\n",
       "  </thead>\n",
       "  <tbody>\n",
       "    <tr>\n",
       "      <th>0</th>\n",
       "      <td>11001673</td>\n",
       "      <td>213.868704</td>\n",
       "      <td>51.956445</td>\n",
       "      <td>23.487745</td>\n",
       "      <td>23.143082</td>\n",
       "      <td>22.582092</td>\n",
       "      <td>1.000000</td>\n",
       "      <td>0.010943</td>\n",
       "      <td>b''</td>\n",
       "      <td>b''</td>\n",
       "      <td>b'11001673'</td>\n",
       "      <td>b'1101'</td>\n",
       "      <td>b'000'</td>\n",
       "      <td>b'2003-05-06'</td>\n",
       "      <td>52765.457031</td>\n",
       "      <td>1.115297</td>\n",
       "      <td>1.115261</td>\n",
       "      <td>999.900024</td>\n",
       "      <td>0.630934</td>\n",
       "      <td>57.0</td>\n",
       "      <td>999.900024</td>\n",
       "      <td>999.900024</td>\n",
       "      <td>2</td>\n",
       "      <td>16777216</td>\n",
       "      <td>b'bext, bcol, possible OII'</td>\n",
       "      <td>-999.000000</td>\n",
       "      <td>-999.0000</td>\n",
       "      <td>213.868620</td>\n",
       "      <td>51.956434</td>\n",
       "      <td>23.529039</td>\n",
       "      <td>23.393115</td>\n",
       "      <td>23.148170</td>\n",
       "      <td>22.854212</td>\n",
       "      <td>-99.0</td>\n",
       "      <td>22.162377</td>\n",
       "      <td>0.0678</td>\n",
       "      <td>0.0400</td>\n",
       "      <td>0.0382</td>\n",
       "      <td>0.0678</td>\n",
       "      <td>-99.0</td>\n",
       "      <td>0.0623</td>\n",
       "      <td>23.543491</td>\n",
       "      <td>23.430495</td>\n",
       "      <td>23.100311</td>\n",
       "      <td>22.768970</td>\n",
       "      <td>-99.0</td>\n",
       "      <td>22.223810</td>\n",
       "      <td>0.0542</td>\n",
       "      <td>0.0323</td>\n",
       "      <td>0.0279</td>\n",
       "      <td>0.0466</td>\n",
       "      <td>-99.0</td>\n",
       "      <td>0.0536</td>\n",
       "      <td>0.039631</td>\n",
       "      <td>0.041359</td>\n",
       "      <td>0.039777</td>\n",
       "      <td>0.046863</td>\n",
       "      <td>-99.0</td>\n",
       "      <td>0.043833</td>\n",
       "      <td>0.581804</td>\n",
       "      <td>3</td>\n",
       "      <td>3</td>\n",
       "      <td>3</td>\n",
       "      <td>3</td>\n",
       "      <td>-99</td>\n",
       "      <td>3</td>\n",
       "      <td>0</td>\n",
       "      <td>1</td>\n",
       "      <td>213.868626</td>\n",
       "      <td>51.956443</td>\n",
       "      <td>21.869627</td>\n",
       "      <td>0.060918</td>\n",
       "      <td>21.926356</td>\n",
       "      <td>0.041955</td>\n",
       "      <td>0.141778</td>\n",
       "      <td>3.0</td>\n",
       "      <td>0.656514</td>\n",
       "      <td>1</td>\n",
       "    </tr>\n",
       "    <tr>\n",
       "      <th>1</th>\n",
       "      <td>11001699</td>\n",
       "      <td>213.810471</td>\n",
       "      <td>51.942316</td>\n",
       "      <td>22.067692</td>\n",
       "      <td>20.034674</td>\n",
       "      <td>19.545080</td>\n",
       "      <td>3.000000</td>\n",
       "      <td>0.011014</td>\n",
       "      <td>b'GALAXY'</td>\n",
       "      <td>b''</td>\n",
       "      <td>b'11001699'</td>\n",
       "      <td>b'1100'</td>\n",
       "      <td>b'7'</td>\n",
       "      <td>b'2003-05-03'</td>\n",
       "      <td>52762.441406</td>\n",
       "      <td>0.290641</td>\n",
       "      <td>0.290608</td>\n",
       "      <td>0.000043</td>\n",
       "      <td>1.178153</td>\n",
       "      <td>5901.0</td>\n",
       "      <td>166.334991</td>\n",
       "      <td>49.481255</td>\n",
       "      <td>4</td>\n",
       "      <td>16777216</td>\n",
       "      <td>b''</td>\n",
       "      <td>-19.228701</td>\n",
       "      <td>1.1295</td>\n",
       "      <td>213.810138</td>\n",
       "      <td>51.942348</td>\n",
       "      <td>30.123756</td>\n",
       "      <td>28.298480</td>\n",
       "      <td>18.540350</td>\n",
       "      <td>99.000000</td>\n",
       "      <td>-99.0</td>\n",
       "      <td>99.000000</td>\n",
       "      <td>0.0000</td>\n",
       "      <td>0.0000</td>\n",
       "      <td>0.0014</td>\n",
       "      <td>99.0000</td>\n",
       "      <td>-99.0</td>\n",
       "      <td>99.0000</td>\n",
       "      <td>30.848978</td>\n",
       "      <td>28.989668</td>\n",
       "      <td>19.027422</td>\n",
       "      <td>99.000000</td>\n",
       "      <td>-99.0</td>\n",
       "      <td>99.000000</td>\n",
       "      <td>0.0000</td>\n",
       "      <td>0.0000</td>\n",
       "      <td>0.0028</td>\n",
       "      <td>99.0000</td>\n",
       "      <td>-99.0</td>\n",
       "      <td>99.0000</td>\n",
       "      <td>0.029567</td>\n",
       "      <td>0.030353</td>\n",
       "      <td>0.027558</td>\n",
       "      <td>99.000000</td>\n",
       "      <td>-99.0</td>\n",
       "      <td>99.000000</td>\n",
       "      <td>0.824625</td>\n",
       "      <td>19</td>\n",
       "      <td>19</td>\n",
       "      <td>19</td>\n",
       "      <td>3</td>\n",
       "      <td>-99</td>\n",
       "      <td>3</td>\n",
       "      <td>244</td>\n",
       "      <td>1</td>\n",
       "      <td>213.810455</td>\n",
       "      <td>51.942321</td>\n",
       "      <td>18.757229</td>\n",
       "      <td>0.005813</td>\n",
       "      <td>18.811085</td>\n",
       "      <td>0.004386</td>\n",
       "      <td>0.050987</td>\n",
       "      <td>3.0</td>\n",
       "      <td>0.744269</td>\n",
       "      <td>1</td>\n",
       "    </tr>\n",
       "    <tr>\n",
       "      <th>2</th>\n",
       "      <td>11001770</td>\n",
       "      <td>213.848431</td>\n",
       "      <td>51.948876</td>\n",
       "      <td>24.144438</td>\n",
       "      <td>24.103180</td>\n",
       "      <td>24.020006</td>\n",
       "      <td>3.000000</td>\n",
       "      <td>0.010856</td>\n",
       "      <td>b'GALAXY'</td>\n",
       "      <td>b''</td>\n",
       "      <td>b'11001770'</td>\n",
       "      <td>b'1101'</td>\n",
       "      <td>b'003'</td>\n",
       "      <td>b'2003-05-06'</td>\n",
       "      <td>52765.457031</td>\n",
       "      <td>0.605779</td>\n",
       "      <td>0.605744</td>\n",
       "      <td>-5.000000</td>\n",
       "      <td>1.047260</td>\n",
       "      <td>5318.0</td>\n",
       "      <td>184.860001</td>\n",
       "      <td>195.000000</td>\n",
       "      <td>1</td>\n",
       "      <td>16777216</td>\n",
       "      <td>b''</td>\n",
       "      <td>-999.000000</td>\n",
       "      <td>-999.0000</td>\n",
       "      <td>213.848409</td>\n",
       "      <td>51.948865</td>\n",
       "      <td>24.294289</td>\n",
       "      <td>24.399293</td>\n",
       "      <td>24.413366</td>\n",
       "      <td>23.398456</td>\n",
       "      <td>-99.0</td>\n",
       "      <td>24.157690</td>\n",
       "      <td>0.1646</td>\n",
       "      <td>0.1383</td>\n",
       "      <td>0.2306</td>\n",
       "      <td>0.1867</td>\n",
       "      <td>-99.0</td>\n",
       "      <td>0.4558</td>\n",
       "      <td>24.324670</td>\n",
       "      <td>24.273606</td>\n",
       "      <td>24.150319</td>\n",
       "      <td>23.446252</td>\n",
       "      <td>-99.0</td>\n",
       "      <td>23.574236</td>\n",
       "      <td>0.1146</td>\n",
       "      <td>0.0870</td>\n",
       "      <td>0.1242</td>\n",
       "      <td>0.1309</td>\n",
       "      <td>-99.0</td>\n",
       "      <td>0.1793</td>\n",
       "      <td>0.111127</td>\n",
       "      <td>0.130134</td>\n",
       "      <td>0.123620</td>\n",
       "      <td>0.117813</td>\n",
       "      <td>-99.0</td>\n",
       "      <td>0.101059</td>\n",
       "      <td>0.728119</td>\n",
       "      <td>0</td>\n",
       "      <td>0</td>\n",
       "      <td>0</td>\n",
       "      <td>0</td>\n",
       "      <td>-99</td>\n",
       "      <td>0</td>\n",
       "      <td>0</td>\n",
       "      <td>1</td>\n",
       "      <td>-99.000000</td>\n",
       "      <td>-99.000000</td>\n",
       "      <td>-99.000000</td>\n",
       "      <td>-99.000000</td>\n",
       "      <td>-99.000000</td>\n",
       "      <td>-99.000000</td>\n",
       "      <td>-99.000000</td>\n",
       "      <td>-99.0</td>\n",
       "      <td>-99.000000</td>\n",
       "      <td>-99</td>\n",
       "    </tr>\n",
       "    <tr>\n",
       "      <th>3</th>\n",
       "      <td>11001800</td>\n",
       "      <td>213.831758</td>\n",
       "      <td>51.952548</td>\n",
       "      <td>25.336836</td>\n",
       "      <td>23.508480</td>\n",
       "      <td>23.081087</td>\n",
       "      <td>0.509809</td>\n",
       "      <td>0.010823</td>\n",
       "      <td>b'GALAXY'</td>\n",
       "      <td>b''</td>\n",
       "      <td>b'11001800'</td>\n",
       "      <td>b'1100'</td>\n",
       "      <td>b'004'</td>\n",
       "      <td>b'2003-05-03'</td>\n",
       "      <td>52762.441406</td>\n",
       "      <td>1.306830</td>\n",
       "      <td>1.306796</td>\n",
       "      <td>-5.000000</td>\n",
       "      <td>1.014062</td>\n",
       "      <td>5788.0</td>\n",
       "      <td>0.000000</td>\n",
       "      <td>0.000000</td>\n",
       "      <td>1</td>\n",
       "      <td>16777216</td>\n",
       "      <td>b''</td>\n",
       "      <td>-999.000000</td>\n",
       "      <td>-999.0000</td>\n",
       "      <td>213.831785</td>\n",
       "      <td>51.952539</td>\n",
       "      <td>26.363821</td>\n",
       "      <td>24.530998</td>\n",
       "      <td>23.559140</td>\n",
       "      <td>23.065110</td>\n",
       "      <td>-99.0</td>\n",
       "      <td>22.737333</td>\n",
       "      <td>0.9609</td>\n",
       "      <td>0.1344</td>\n",
       "      <td>0.0648</td>\n",
       "      <td>0.0997</td>\n",
       "      <td>-99.0</td>\n",
       "      <td>0.1110</td>\n",
       "      <td>99.000000</td>\n",
       "      <td>24.804309</td>\n",
       "      <td>23.636544</td>\n",
       "      <td>23.009222</td>\n",
       "      <td>-99.0</td>\n",
       "      <td>22.689591</td>\n",
       "      <td>99.0000</td>\n",
       "      <td>0.1077</td>\n",
       "      <td>0.0426</td>\n",
       "      <td>0.0568</td>\n",
       "      <td>-99.0</td>\n",
       "      <td>0.0661</td>\n",
       "      <td>99.000000</td>\n",
       "      <td>0.046521</td>\n",
       "      <td>0.041142</td>\n",
       "      <td>0.054297</td>\n",
       "      <td>-99.0</td>\n",
       "      <td>0.053818</td>\n",
       "      <td>0.549061</td>\n",
       "      <td>0</td>\n",
       "      <td>0</td>\n",
       "      <td>0</td>\n",
       "      <td>0</td>\n",
       "      <td>-99</td>\n",
       "      <td>0</td>\n",
       "      <td>0</td>\n",
       "      <td>1</td>\n",
       "      <td>213.831766</td>\n",
       "      <td>51.952544</td>\n",
       "      <td>22.404269</td>\n",
       "      <td>0.088970</td>\n",
       "      <td>22.535600</td>\n",
       "      <td>0.053497</td>\n",
       "      <td>0.094733</td>\n",
       "      <td>0.0</td>\n",
       "      <td>0.455820</td>\n",
       "      <td>1</td>\n",
       "    </tr>\n",
       "    <tr>\n",
       "      <th>4</th>\n",
       "      <td>11001860</td>\n",
       "      <td>213.832550</td>\n",
       "      <td>51.954174</td>\n",
       "      <td>24.382738</td>\n",
       "      <td>23.401484</td>\n",
       "      <td>22.572845</td>\n",
       "      <td>3.000000</td>\n",
       "      <td>0.010827</td>\n",
       "      <td>b'GALAXY'</td>\n",
       "      <td>b''</td>\n",
       "      <td>b'11001860'</td>\n",
       "      <td>b'1101'</td>\n",
       "      <td>b'10'</td>\n",
       "      <td>b'2003-05-06'</td>\n",
       "      <td>52765.457031</td>\n",
       "      <td>0.957705</td>\n",
       "      <td>0.957669</td>\n",
       "      <td>0.000099</td>\n",
       "      <td>1.039979</td>\n",
       "      <td>5952.0</td>\n",
       "      <td>109.394997</td>\n",
       "      <td>17.208755</td>\n",
       "      <td>4</td>\n",
       "      <td>16777216</td>\n",
       "      <td>b''</td>\n",
       "      <td>-20.083200</td>\n",
       "      <td>0.7524</td>\n",
       "      <td>213.832540</td>\n",
       "      <td>51.954167</td>\n",
       "      <td>24.571406</td>\n",
       "      <td>24.023086</td>\n",
       "      <td>23.493832</td>\n",
       "      <td>22.691404</td>\n",
       "      <td>-99.0</td>\n",
       "      <td>22.387428</td>\n",
       "      <td>0.1924</td>\n",
       "      <td>0.0874</td>\n",
       "      <td>0.0651</td>\n",
       "      <td>0.0715</td>\n",
       "      <td>-99.0</td>\n",
       "      <td>0.0850</td>\n",
       "      <td>24.362068</td>\n",
       "      <td>24.136913</td>\n",
       "      <td>23.490342</td>\n",
       "      <td>22.777181</td>\n",
       "      <td>-99.0</td>\n",
       "      <td>22.319676</td>\n",
       "      <td>0.1002</td>\n",
       "      <td>0.0615</td>\n",
       "      <td>0.0420</td>\n",
       "      <td>0.0473</td>\n",
       "      <td>-99.0</td>\n",
       "      <td>0.0508</td>\n",
       "      <td>0.050326</td>\n",
       "      <td>0.053198</td>\n",
       "      <td>0.052364</td>\n",
       "      <td>0.058492</td>\n",
       "      <td>-99.0</td>\n",
       "      <td>0.053587</td>\n",
       "      <td>0.595684</td>\n",
       "      <td>0</td>\n",
       "      <td>0</td>\n",
       "      <td>0</td>\n",
       "      <td>0</td>\n",
       "      <td>-99</td>\n",
       "      <td>0</td>\n",
       "      <td>0</td>\n",
       "      <td>1</td>\n",
       "      <td>213.832574</td>\n",
       "      <td>51.954175</td>\n",
       "      <td>22.242717</td>\n",
       "      <td>0.070760</td>\n",
       "      <td>22.100980</td>\n",
       "      <td>0.033256</td>\n",
       "      <td>0.073067</td>\n",
       "      <td>0.0</td>\n",
       "      <td>0.442022</td>\n",
       "      <td>1</td>\n",
       "    </tr>\n",
       "  </tbody>\n",
       "</table>\n",
       "</div>"
      ],
      "text/plain": [
       "   objno_deep2    ra_deep2  dec_deep2       magb       magr       magi  \\\n",
       "0     11001673  213.868704  51.956445  23.487745  23.143082  22.582092   \n",
       "1     11001699  213.810471  51.942316  22.067692  20.034674  19.545080   \n",
       "2     11001770  213.848431  51.948876  24.144438  24.103180  24.020006   \n",
       "3     11001800  213.831758  51.952548  25.336836  23.508480  23.081087   \n",
       "4     11001860  213.832550  51.954174  24.382738  23.401484  22.572845   \n",
       "\n",
       "       pgal   sfd_ebv      class subclass      objname maskname slitname  \\\n",
       "0  1.000000  0.010943        b''      b''  b'11001673'  b'1101'   b'000'   \n",
       "1  3.000000  0.011014  b'GALAXY'      b''  b'11001699'  b'1100'     b'7'   \n",
       "2  3.000000  0.010856  b'GALAXY'      b''  b'11001770'  b'1101'   b'003'   \n",
       "3  0.509809  0.010823  b'GALAXY'      b''  b'11001800'  b'1100'   b'004'   \n",
       "4  3.000000  0.010827  b'GALAXY'      b''  b'11001860'  b'1101'    b'10'   \n",
       "\n",
       "            date           mjd     z_raw    zhelio       z_err     rchi2  \\\n",
       "0  b'2003-05-06'  52765.457031  1.115297  1.115261  999.900024  0.630934   \n",
       "1  b'2003-05-03'  52762.441406  0.290641  0.290608    0.000043  1.178153   \n",
       "2  b'2003-05-06'  52765.457031  0.605779  0.605744   -5.000000  1.047260   \n",
       "3  b'2003-05-03'  52762.441406  1.306830  1.306796   -5.000000  1.014062   \n",
       "4  b'2003-05-06'  52765.457031  0.957705  0.957669    0.000099  1.039979   \n",
       "\n",
       "      dof       vdisp   vdisp_err  zquality  egsflags  \\\n",
       "0    57.0  999.900024  999.900024         2  16777216   \n",
       "1  5901.0  166.334991   49.481255         4  16777216   \n",
       "2  5318.0  184.860001  195.000000         1  16777216   \n",
       "3  5788.0    0.000000    0.000000         1  16777216   \n",
       "4  5952.0  109.394997   17.208755         4  16777216   \n",
       "\n",
       "                       comment         m_b      ub_0   ra_cfhtls  dec_cfhtls  \\\n",
       "0  b'bext, bcol, possible OII' -999.000000 -999.0000  213.868620   51.956434   \n",
       "1                          b''  -19.228701    1.1295  213.810138   51.942348   \n",
       "2                          b'' -999.000000 -999.0000  213.848409   51.948865   \n",
       "3                          b'' -999.000000 -999.0000  213.831785   51.952539   \n",
       "4                          b''  -20.083200    0.7524  213.832540   51.954167   \n",
       "\n",
       "           u          g          r          i    i2          z    uerr  \\\n",
       "0  23.529039  23.393115  23.148170  22.854212 -99.0  22.162377  0.0678   \n",
       "1  30.123756  28.298480  18.540350  99.000000 -99.0  99.000000  0.0000   \n",
       "2  24.294289  24.399293  24.413366  23.398456 -99.0  24.157690  0.1646   \n",
       "3  26.363821  24.530998  23.559140  23.065110 -99.0  22.737333  0.9609   \n",
       "4  24.571406  24.023086  23.493832  22.691404 -99.0  22.387428  0.1924   \n",
       "\n",
       "     gerr    rerr     ierr  i2err     zerr  u_apercor  g_apercor  r_apercor  \\\n",
       "0  0.0400  0.0382   0.0678  -99.0   0.0623  23.543491  23.430495  23.100311   \n",
       "1  0.0000  0.0014  99.0000  -99.0  99.0000  30.848978  28.989668  19.027422   \n",
       "2  0.1383  0.2306   0.1867  -99.0   0.4558  24.324670  24.273606  24.150319   \n",
       "3  0.1344  0.0648   0.0997  -99.0   0.1110  99.000000  24.804309  23.636544   \n",
       "4  0.0874  0.0651   0.0715  -99.0   0.0850  24.362068  24.136913  23.490342   \n",
       "\n",
       "   i_apercor  i2_apercor  z_apercor  uerr_aper  gerr_aper  rerr_aper  \\\n",
       "0  22.768970       -99.0  22.223810     0.0542     0.0323     0.0279   \n",
       "1  99.000000       -99.0  99.000000     0.0000     0.0000     0.0028   \n",
       "2  23.446252       -99.0  23.574236     0.1146     0.0870     0.1242   \n",
       "3  23.009222       -99.0  22.689591    99.0000     0.1077     0.0426   \n",
       "4  22.777181       -99.0  22.319676     0.1002     0.0615     0.0420   \n",
       "\n",
       "   ierr_aper  i2err_aper  zerr_aper  uerr_apercor  gerr_apercor  rerr_apercor  \\\n",
       "0     0.0466       -99.0     0.0536      0.039631      0.041359      0.039777   \n",
       "1    99.0000       -99.0    99.0000      0.029567      0.030353      0.027558   \n",
       "2     0.1309       -99.0     0.1793      0.111127      0.130134      0.123620   \n",
       "3     0.0568       -99.0     0.0661     99.000000      0.046521      0.041142   \n",
       "4     0.0473       -99.0     0.0508      0.050326      0.053198      0.052364   \n",
       "\n",
       "   ierr_apercor  i2err_apercor  zerr_apercor  r_radius_arcsec  u(sexflag)  \\\n",
       "0      0.046863          -99.0      0.043833         0.581804           3   \n",
       "1     99.000000          -99.0     99.000000         0.824625          19   \n",
       "2      0.117813          -99.0      0.101059         0.728119           0   \n",
       "3      0.054297          -99.0      0.053818         0.549061           0   \n",
       "4      0.058492          -99.0      0.053587         0.595684           0   \n",
       "\n",
       "   g(sexflag)  r(sexflag)  i(sexflag)  i2(sexflag)  z(sexflag)  flag_cfhtls  \\\n",
       "0           3           3           3          -99           3            0   \n",
       "1          19          19           3          -99           3          244   \n",
       "2           0           0           0          -99           0            0   \n",
       "3           0           0           0          -99           0            0   \n",
       "4           0           0           0          -99           0            0   \n",
       "\n",
       "   cfhtls_source   ra_subaru  dec_subaru          y       yerr  y_apercor  \\\n",
       "0              1  213.868626   51.956443  21.869627   0.060918  21.926356   \n",
       "1              1  213.810455   51.942321  18.757229   0.005813  18.811085   \n",
       "2              1  -99.000000  -99.000000 -99.000000 -99.000000 -99.000000   \n",
       "3              1  213.831766   51.952544  22.404269   0.088970  22.535600   \n",
       "4              1  213.832574   51.954175  22.242717   0.070760  22.100980   \n",
       "\n",
       "   yerr_aper  yerr_apercor  y(sexflag)  y_radius_arcsec  subaru_source  \n",
       "0   0.041955      0.141778         3.0         0.656514              1  \n",
       "1   0.004386      0.050987         3.0         0.744269              1  \n",
       "2 -99.000000    -99.000000       -99.0       -99.000000            -99  \n",
       "3   0.053497      0.094733         0.0         0.455820              1  \n",
       "4   0.033256      0.073067         0.0         0.442022              1  "
      ]
     },
     "execution_count": 6,
     "metadata": {},
     "output_type": "execute_result"
    }
   ],
   "source": [
    "df.head()"
   ]
  },
  {
   "cell_type": "code",
   "execution_count": 7,
   "metadata": {},
   "outputs": [
    {
     "data": {
      "text/plain": [
       "(23822, 78)"
      ]
     },
     "execution_count": 7,
     "metadata": {},
     "output_type": "execute_result"
    }
   ],
   "source": [
    "df.shape"
   ]
  },
  {
   "cell_type": "markdown",
   "metadata": {},
   "source": [
    "I can select the columns I want, corresponding to the brightness of the galaxies in the six bands of interest."
   ]
  },
  {
   "cell_type": "code",
   "execution_count": 8,
   "metadata": {},
   "outputs": [],
   "source": [
    "features = df[['u_apercor', 'g_apercor', 'r_apercor', 'i_apercor', 'z_apercor','y_apercor']]"
   ]
  },
  {
   "cell_type": "markdown",
   "metadata": {},
   "source": [
    "The target property is the redshift. For this catalog, spectroscopic (more precise) redshifts are available in the column below."
   ]
  },
  {
   "cell_type": "code",
   "execution_count": 9,
   "metadata": {},
   "outputs": [],
   "source": [
    "target = df['zhelio']"
   ]
  },
  {
   "cell_type": "code",
   "execution_count": 10,
   "metadata": {},
   "outputs": [
    {
     "data": {
      "text/html": [
       "<div>\n",
       "<style scoped>\n",
       "    .dataframe tbody tr th:only-of-type {\n",
       "        vertical-align: middle;\n",
       "    }\n",
       "\n",
       "    .dataframe tbody tr th {\n",
       "        vertical-align: top;\n",
       "    }\n",
       "\n",
       "    .dataframe thead th {\n",
       "        text-align: right;\n",
       "    }\n",
       "</style>\n",
       "<table border=\"1\" class=\"dataframe\">\n",
       "  <thead>\n",
       "    <tr style=\"text-align: right;\">\n",
       "      <th></th>\n",
       "      <th>u_apercor</th>\n",
       "      <th>g_apercor</th>\n",
       "      <th>r_apercor</th>\n",
       "      <th>i_apercor</th>\n",
       "      <th>z_apercor</th>\n",
       "      <th>y_apercor</th>\n",
       "    </tr>\n",
       "  </thead>\n",
       "  <tbody>\n",
       "    <tr>\n",
       "      <th>0</th>\n",
       "      <td>23.543491</td>\n",
       "      <td>23.430495</td>\n",
       "      <td>23.100311</td>\n",
       "      <td>22.768970</td>\n",
       "      <td>22.223810</td>\n",
       "      <td>21.926356</td>\n",
       "    </tr>\n",
       "    <tr>\n",
       "      <th>1</th>\n",
       "      <td>30.848978</td>\n",
       "      <td>28.989668</td>\n",
       "      <td>19.027422</td>\n",
       "      <td>99.000000</td>\n",
       "      <td>99.000000</td>\n",
       "      <td>18.811085</td>\n",
       "    </tr>\n",
       "    <tr>\n",
       "      <th>2</th>\n",
       "      <td>24.324670</td>\n",
       "      <td>24.273606</td>\n",
       "      <td>24.150319</td>\n",
       "      <td>23.446252</td>\n",
       "      <td>23.574236</td>\n",
       "      <td>-99.000000</td>\n",
       "    </tr>\n",
       "    <tr>\n",
       "      <th>3</th>\n",
       "      <td>99.000000</td>\n",
       "      <td>24.804309</td>\n",
       "      <td>23.636544</td>\n",
       "      <td>23.009222</td>\n",
       "      <td>22.689591</td>\n",
       "      <td>22.535600</td>\n",
       "    </tr>\n",
       "    <tr>\n",
       "      <th>4</th>\n",
       "      <td>24.362068</td>\n",
       "      <td>24.136913</td>\n",
       "      <td>23.490342</td>\n",
       "      <td>22.777181</td>\n",
       "      <td>22.319676</td>\n",
       "      <td>22.100980</td>\n",
       "    </tr>\n",
       "    <tr>\n",
       "      <th>5</th>\n",
       "      <td>23.552186</td>\n",
       "      <td>23.420734</td>\n",
       "      <td>23.010863</td>\n",
       "      <td>22.550723</td>\n",
       "      <td>22.277656</td>\n",
       "      <td>21.860866</td>\n",
       "    </tr>\n",
       "    <tr>\n",
       "      <th>6</th>\n",
       "      <td>23.983330</td>\n",
       "      <td>24.104438</td>\n",
       "      <td>23.461145</td>\n",
       "      <td>23.359428</td>\n",
       "      <td>22.929944</td>\n",
       "      <td>22.690175</td>\n",
       "    </tr>\n",
       "    <tr>\n",
       "      <th>7</th>\n",
       "      <td>24.665840</td>\n",
       "      <td>24.408938</td>\n",
       "      <td>23.544115</td>\n",
       "      <td>23.155140</td>\n",
       "      <td>22.706477</td>\n",
       "      <td>22.894691</td>\n",
       "    </tr>\n",
       "    <tr>\n",
       "      <th>8</th>\n",
       "      <td>23.518039</td>\n",
       "      <td>22.746858</td>\n",
       "      <td>21.571629</td>\n",
       "      <td>20.645176</td>\n",
       "      <td>20.428926</td>\n",
       "      <td>20.306110</td>\n",
       "    </tr>\n",
       "    <tr>\n",
       "      <th>9</th>\n",
       "      <td>22.755723</td>\n",
       "      <td>21.915841</td>\n",
       "      <td>21.393365</td>\n",
       "      <td>21.148952</td>\n",
       "      <td>21.052236</td>\n",
       "      <td>20.830114</td>\n",
       "    </tr>\n",
       "  </tbody>\n",
       "</table>\n",
       "</div>"
      ],
      "text/plain": [
       "   u_apercor  g_apercor  r_apercor  i_apercor  z_apercor  y_apercor\n",
       "0  23.543491  23.430495  23.100311  22.768970  22.223810  21.926356\n",
       "1  30.848978  28.989668  19.027422  99.000000  99.000000  18.811085\n",
       "2  24.324670  24.273606  24.150319  23.446252  23.574236 -99.000000\n",
       "3  99.000000  24.804309  23.636544  23.009222  22.689591  22.535600\n",
       "4  24.362068  24.136913  23.490342  22.777181  22.319676  22.100980\n",
       "5  23.552186  23.420734  23.010863  22.550723  22.277656  21.860866\n",
       "6  23.983330  24.104438  23.461145  23.359428  22.929944  22.690175\n",
       "7  24.665840  24.408938  23.544115  23.155140  22.706477  22.894691\n",
       "8  23.518039  22.746858  21.571629  20.645176  20.428926  20.306110\n",
       "9  22.755723  21.915841  21.393365  21.148952  21.052236  20.830114"
      ]
     },
     "execution_count": 10,
     "metadata": {},
     "output_type": "execute_result"
    }
   ],
   "source": [
    "features.head(10)"
   ]
  },
  {
   "cell_type": "code",
   "execution_count": 11,
   "metadata": {},
   "outputs": [
    {
     "data": {
      "text/plain": [
       "0    1.115261\n",
       "1    0.290608\n",
       "2    0.605744\n",
       "3    1.306796\n",
       "4    0.957669\n",
       "5    0.909043\n",
       "6    0.502974\n",
       "7    0.649839\n",
       "8    0.679440\n",
       "9    0.074078\n",
       "Name: zhelio, dtype: float32"
      ]
     },
     "execution_count": 11,
     "metadata": {},
     "output_type": "execute_result"
    }
   ],
   "source": [
    "target.head(10)"
   ]
  },
  {
   "cell_type": "markdown",
   "metadata": {},
   "source": [
    "### Ok, we are now ready to run our first Random Forest model!"
   ]
  },
  {
   "cell_type": "markdown",
   "metadata": {},
   "source": [
    "To get an idea of what we are shooting for, we can look at the figure of the paper.\n",
    "\n",
    " ![Performance of photometric redshift reconstruction](Photoz_RF_CFHTLS_Deep.png)"
   ]
  },
  {
   "cell_type": "markdown",
   "metadata": {},
   "source": [
    "In the figure above, $\\sigma_{NMAD}$ is the normalized median absolute deviation of the residual vector, and $\\eta$  is the fraction of outliers, defined as those objects for which (z_true - z_est)/(1+z_true) > 0.15.\n",
    "\n",
    "To be fair, we are working with DEEP2/3 data, so our range is slightly different."
   ]
  },
  {
   "cell_type": "code",
   "execution_count": 12,
   "metadata": {},
   "outputs": [],
   "source": [
    "model = RandomForestRegressor()"
   ]
  },
  {
   "cell_type": "code",
   "execution_count": 13,
   "metadata": {},
   "outputs": [
    {
     "data": {
      "text/plain": [
       "{'bootstrap': True,\n",
       " 'ccp_alpha': 0.0,\n",
       " 'criterion': 'squared_error',\n",
       " 'max_depth': None,\n",
       " 'max_features': 'auto',\n",
       " 'max_leaf_nodes': None,\n",
       " 'max_samples': None,\n",
       " 'min_impurity_decrease': 0.0,\n",
       " 'min_samples_leaf': 1,\n",
       " 'min_samples_split': 2,\n",
       " 'min_weight_fraction_leaf': 0.0,\n",
       " 'n_estimators': 100,\n",
       " 'n_jobs': None,\n",
       " 'oob_score': False,\n",
       " 'random_state': None,\n",
       " 'verbose': 0,\n",
       " 'warm_start': False}"
      ]
     },
     "execution_count": 13,
     "metadata": {},
     "output_type": "execute_result"
    }
   ],
   "source": [
    "model.get_params()"
   ]
  },
  {
   "cell_type": "markdown",
   "metadata": {},
   "source": [
    "Establish benchmark."
   ]
  },
  {
   "cell_type": "code",
   "execution_count": 14,
   "metadata": {},
   "outputs": [],
   "source": [
    "scores = cross_validate(model,features,target, \\\n",
    "    cv = KFold(n_splits=5, shuffle=True, random_state=10), \\\n",
    "                        return_train_score=True)"
   ]
  },
  {
   "cell_type": "code",
   "execution_count": 15,
   "metadata": {},
   "outputs": [
    {
     "data": {
      "text/plain": [
       "{'fit_time': array([7.13247013, 7.01094389, 7.09038115, 7.10218525, 7.03351092]),\n",
       " 'score_time': array([0.10808587, 0.09927416, 0.10528588, 0.09706378, 0.09519696]),\n",
       " 'test_score': array([0.296062  , 0.30999984, 0.31341871, 0.30217376, 0.315104  ]),\n",
       " 'train_score': array([0.87331378, 0.87873405, 0.87635354, 0.87868656, 0.87397642])}"
      ]
     },
     "execution_count": 15,
     "metadata": {},
     "output_type": "execute_result"
    }
   ],
   "source": [
    "scores"
   ]
  },
  {
   "cell_type": "markdown",
   "metadata": {},
   "source": [
    "Note - it takes a litle time! Also, the scores are the R2 score (also known as the coefficient of determination, essentially a measure of correlation between true and predicted scores) at this point."
   ]
  },
  {
   "cell_type": "code",
   "execution_count": 16,
   "metadata": {},
   "outputs": [
    {
     "data": {
      "text/plain": [
       "0.3073516628540308"
      ]
     },
     "execution_count": 16,
     "metadata": {},
     "output_type": "execute_result"
    }
   ],
   "source": [
    "np.mean(scores['test_score'])"
   ]
  },
  {
   "cell_type": "code",
   "execution_count": 17,
   "metadata": {},
   "outputs": [
    {
     "data": {
      "text/plain": [
       "0.8762128697808776"
      ]
     },
     "execution_count": 17,
     "metadata": {},
     "output_type": "execute_result"
    }
   ],
   "source": [
    "np.mean(scores['train_score'])"
   ]
  },
  {
   "cell_type": "markdown",
   "metadata": {},
   "source": [
    "Looks like we have a high variance (overfitting) issue! "
   ]
  },
  {
   "cell_type": "markdown",
   "metadata": {},
   "source": [
    "Let's also plot the predictions vs true values:"
   ]
  },
  {
   "cell_type": "code",
   "execution_count": 18,
   "metadata": {},
   "outputs": [],
   "source": [
    "ypred = cross_val_predict(model,features,target, \\\n",
    "        cv = KFold(n_splits=5, shuffle=True, random_state=10))"
   ]
  },
  {
   "cell_type": "code",
   "execution_count": 19,
   "metadata": {},
   "outputs": [
    {
     "data": {
      "text/plain": [
       "(0, 3)"
      ]
     },
     "execution_count": 19,
     "metadata": {},
     "output_type": "execute_result"
    },
    {
     "data": {
      "image/png": "[encoded data removed]",
      "text/plain": [
       "<Figure size 432x288 with 1 Axes>"
      ]
     },
     "metadata": {
      "needs_background": "light"
     },
     "output_type": "display_data"
    }
   ],
   "source": [
    "plt.scatter(target,ypred, s = 20, c = 'royalblue')\n",
    "plt.xlabel('True (spectroscopic) z', fontsize=14)\n",
    "plt.ylabel('Predicted z',fontsize=14)\n",
    "plt.axis('square')\n",
    "plt.xlim(0,3)\n",
    "plt.ylim(0,3)"
   ]
  },
  {
   "cell_type": "markdown",
   "metadata": {},
   "source": [
    "### Question: Does it look like the one of the paper?"
   ]
  },
  {
   "cell_type": "code",
   "execution_count": null,
   "metadata": {},
   "outputs": [],
   "source": [
    "\n",
    "\n",
    "\n",
    "\n",
    "\n"
   ]
  },
  {
   "cell_type": "markdown",
   "metadata": {},
   "source": [
    "For a fair comparison, we can calculate the outlier fraction, like in the paper:"
   ]
  },
  {
   "cell_type": "code",
   "execution_count": 20,
   "metadata": {},
   "outputs": [
    {
     "data": {
      "text/plain": [
       "0.2574091176223659"
      ]
     },
     "execution_count": 20,
     "metadata": {},
     "output_type": "execute_result"
    }
   ],
   "source": [
    "len(np.where(np.abs(target-ypred)>0.15*(1+target))[0])/len(target)"
   ]
  },
  {
   "cell_type": "markdown",
   "metadata": {},
   "source": [
    "And the normalized median absolute deviation, or NMAD:"
   ]
  },
  {
   "cell_type": "code",
   "execution_count": 21,
   "metadata": {},
   "outputs": [
    {
     "data": {
      "text/plain": [
       "0.07454620816448053"
      ]
     },
     "execution_count": 21,
     "metadata": {},
     "output_type": "execute_result"
    }
   ],
   "source": [
    "1.48*np.median(np.abs(target-ypred)/(1 + target)) \n",
    "#The 1.48 is there because for a Gaussian distribution, this becomes the standard deviation"
   ]
  },
  {
   "cell_type": "markdown",
   "metadata": {},
   "source": [
    "#### We have a pretty severe high variance issue; let's see if parameter optimization helps."
   ]
  },
  {
   "cell_type": "markdown",
   "metadata": {},
   "source": [
    "We can start by making the data set a bit smaller, as we have seen that timings were already challenging in simple k-fold CV."
   ]
  },
  {
   "cell_type": "code",
   "execution_count": 22,
   "metadata": {},
   "outputs": [],
   "source": [
    "np.random.seed(20)\n",
    "sel = np.random.choice(range(len(ypred)), 5000, replace = False) #sample without replacement"
   ]
  },
  {
   "cell_type": "code",
   "execution_count": 23,
   "metadata": {},
   "outputs": [
    {
     "data": {
      "text/plain": [
       "5000"
      ]
     },
     "execution_count": 23,
     "metadata": {},
     "output_type": "execute_result"
    }
   ],
   "source": [
    "len(np.unique(sel))"
   ]
  },
  {
   "cell_type": "markdown",
   "metadata": {},
   "source": [
    "And we create our new smaller data set."
   ]
  },
  {
   "cell_type": "code",
   "execution_count": 24,
   "metadata": {},
   "outputs": [],
   "source": [
    "seld = features.loc[sel,:]\n",
    "selt = target[sel]"
   ]
  },
  {
   "cell_type": "code",
   "execution_count": 25,
   "metadata": {},
   "outputs": [],
   "source": [
    "littlescores = cross_validate(model,seld,selt, cv = KFold(n_splits=5, shuffle=True, random_state=10), return_train_score=True)"
   ]
  },
  {
   "cell_type": "code",
   "execution_count": 26,
   "metadata": {},
   "outputs": [
    {
     "data": {
      "text/plain": [
       "(0.2776271514859994, 0.8763722033397615)"
      ]
     },
     "execution_count": 26,
     "metadata": {},
     "output_type": "execute_result"
    }
   ],
   "source": [
    "littlescores['test_score'].mean(), littlescores['train_score'].mean()"
   ]
  },
  {
   "cell_type": "markdown",
   "metadata": {},
   "source": [
    "Similar performance on training set ensures that size of data set is not a big issue and we can proceed with optimization."
   ]
  },
  {
   "cell_type": "markdown",
   "metadata": {},
   "source": [
    "The parameters that we can consider varying include:\n",
    "\n",
    "#### Tree Parameters\n",
    "\n",
    "-  The minimum number of instances in a leaf node;\n",
    "\n",
    "-  The minimum number of instances required to create a new split;\n",
    "\n",
    "- The maximum depth of tree;\n",
    "\n",
    "-  The criterion chosen to decide whether a split is worth making, expressed in terms of information gain;\n",
    "\n",
    "\n",
    "#### Randomization Parameters\n",
    "\n",
    "- The number of k < n features that are used to build trees.\n",
    "\n",
    "- The re-sampling (boostrap) of the data set (T or F).\n",
    "\n",
    "\n",
    "#### Forest Parameters\n",
    "\n",
    "The number of trees in the forest (n_estimators) can be adjusted, with the general understanding that more trees are better, but at some point performance will plateau, so one can find the trade-off between having more trees and lower runtime."
   ]
  },
  {
   "cell_type": "markdown",
   "metadata": {},
   "source": [
    "We can find them here:"
   ]
  },
  {
   "cell_type": "code",
   "execution_count": 27,
   "metadata": {},
   "outputs": [
    {
     "data": {
      "text/plain": [
       "{'bootstrap': True,\n",
       " 'ccp_alpha': 0.0,\n",
       " 'criterion': 'squared_error',\n",
       " 'max_depth': None,\n",
       " 'max_features': 'auto',\n",
       " 'max_leaf_nodes': None,\n",
       " 'max_samples': None,\n",
       " 'min_impurity_decrease': 0.0,\n",
       " 'min_samples_leaf': 1,\n",
       " 'min_samples_split': 2,\n",
       " 'min_weight_fraction_leaf': 0.0,\n",
       " 'n_estimators': 100,\n",
       " 'n_jobs': None,\n",
       " 'oob_score': False,\n",
       " 'random_state': None,\n",
       " 'verbose': 0,\n",
       " 'warm_start': False}"
      ]
     },
     "execution_count": 27,
     "metadata": {},
     "output_type": "execute_result"
    }
   ],
   "source": [
    "model.get_params()"
   ]
  },
  {
   "cell_type": "markdown",
   "metadata": {},
   "source": [
    "Let's discuss a possible set."
   ]
  },
  {
   "cell_type": "code",
   "execution_count": null,
   "metadata": {},
   "outputs": [],
   "source": [
    "try maxdepth not None; min_samples_split > 2; increase n_estimators; max_features\n",
    "\n",
    "\n",
    "\n",
    "\n",
    "\n",
    "\n",
    "\n",
    "\n",
    "\n",
    "\n",
    "\n"
   ]
  },
  {
   "cell_type": "markdown",
   "metadata": {},
   "source": [
    "The cell below creates a grid of parameters and runs a cross-validated model for every possible combination, and returns the best-performing model. It gets time-consuming quite fast."
   ]
  },
  {
   "cell_type": "code",
   "execution_count": 28,
   "metadata": {},
   "outputs": [
    {
     "name": "stdout",
     "output_type": "stream",
     "text": [
      "Fitting 5 folds for each of 36 candidates, totalling 180 fits\n"
     ]
    },
    {
     "name": "stderr",
     "output_type": "stream",
     "text": [
      "/usr/local/lib/python3.7/site-packages/joblib/externals/loky/process_executor.py:706: UserWarning: A worker stopped while some jobs were given to the executor. This can be caused by a too short worker timeout or by a memory leak.\n",
      "  \"timeout or by a memory leak.\", UserWarning\n"
     ]
    },
    {
     "name": "stdout",
     "output_type": "stream",
     "text": [
      "Best params, best score: 0.2938 {'max_depth': None, 'max_features': 4, 'min_samples_split': 10, 'n_estimators': 200}\n"
     ]
    }
   ],
   "source": [
    "#Takes a few minutes\n",
    "\n",
    "parameters = {'max_depth':[None, 3, 6], \\\n",
    "              'min_samples_split':[2, 10, 20], 'n_estimators':[100,200], 'max_features': ['auto',4]}\n",
    "\n",
    "nmodels = np.product([len(el) for el in parameters.values()])\n",
    "\n",
    "model = GridSearchCV(RandomForestRegressor(), parameters, \\\n",
    "                     cv = KFold(n_splits=5, shuffle=True), \\\n",
    "                     verbose = 2, n_jobs = 4, return_train_score=True)\n",
    "\n",
    "model.fit(seld,selt)\n",
    "\n",
    "print('Best params, best score:', \"{:.4f}\".format(model.best_score_), \\\n",
    "      model.best_params_)"
   ]
  },
  {
   "cell_type": "markdown",
   "metadata": {},
   "source": [
    "We can save the scores in a data frame and sort them by decreasing test scores (so our top performing model is first)."
   ]
  },
  {
   "cell_type": "code",
   "execution_count": 29,
   "metadata": {},
   "outputs": [],
   "source": [
    "scores = pd.DataFrame(model.cv_results_)\n",
    "\n",
    "scoresCV = scores[['params','mean_test_score','std_test_score','mean_train_score']].sort_values(by = 'mean_test_score', \\\n",
    "                                                    ascending = False)\n"
   ]
  },
  {
   "cell_type": "code",
   "execution_count": 30,
   "metadata": {},
   "outputs": [
    {
     "data": {
      "text/html": [
       "<div>\n",
       "<style scoped>\n",
       "    .dataframe tbody tr th:only-of-type {\n",
       "        vertical-align: middle;\n",
       "    }\n",
       "\n",
       "    .dataframe tbody tr th {\n",
       "        vertical-align: top;\n",
       "    }\n",
       "\n",
       "    .dataframe thead th {\n",
       "        text-align: right;\n",
       "    }\n",
       "</style>\n",
       "<table border=\"1\" class=\"dataframe\">\n",
       "  <thead>\n",
       "    <tr style=\"text-align: right;\">\n",
       "      <th></th>\n",
       "      <th>params</th>\n",
       "      <th>mean_test_score</th>\n",
       "      <th>std_test_score</th>\n",
       "      <th>mean_train_score</th>\n",
       "    </tr>\n",
       "  </thead>\n",
       "  <tbody>\n",
       "    <tr>\n",
       "      <th>9</th>\n",
       "      <td>{'max_depth': None, 'max_features': 4, 'min_samples_split': 10, 'n_estimators': 200}</td>\n",
       "      <td>0.293771</td>\n",
       "      <td>0.021616</td>\n",
       "      <td>0.752936</td>\n",
       "    </tr>\n",
       "    <tr>\n",
       "      <th>10</th>\n",
       "      <td>{'max_depth': None, 'max_features': 4, 'min_samples_split': 20, 'n_estimators': 100}</td>\n",
       "      <td>0.292644</td>\n",
       "      <td>0.016898</td>\n",
       "      <td>0.650346</td>\n",
       "    </tr>\n",
       "    <tr>\n",
       "      <th>11</th>\n",
       "      <td>{'max_depth': None, 'max_features': 4, 'min_samples_split': 20, 'n_estimators': 200}</td>\n",
       "      <td>0.292304</td>\n",
       "      <td>0.020333</td>\n",
       "      <td>0.651982</td>\n",
       "    </tr>\n",
       "    <tr>\n",
       "      <th>8</th>\n",
       "      <td>{'max_depth': None, 'max_features': 4, 'min_samples_split': 10, 'n_estimators': 100}</td>\n",
       "      <td>0.291224</td>\n",
       "      <td>0.019522</td>\n",
       "      <td>0.749815</td>\n",
       "    </tr>\n",
       "    <tr>\n",
       "      <th>2</th>\n",
       "      <td>{'max_depth': None, 'max_features': 'auto', 'min_samples_split': 10, 'n_estimators': 100}</td>\n",
       "      <td>0.287950</td>\n",
       "      <td>0.020264</td>\n",
       "      <td>0.762267</td>\n",
       "    </tr>\n",
       "    <tr>\n",
       "      <th>5</th>\n",
       "      <td>{'max_depth': None, 'max_features': 'auto', 'min_samples_split': 20, 'n_estimators': 200}</td>\n",
       "      <td>0.287812</td>\n",
       "      <td>0.018285</td>\n",
       "      <td>0.667054</td>\n",
       "    </tr>\n",
       "    <tr>\n",
       "      <th>3</th>\n",
       "      <td>{'max_depth': None, 'max_features': 'auto', 'min_samples_split': 10, 'n_estimators': 200}</td>\n",
       "      <td>0.286358</td>\n",
       "      <td>0.020594</td>\n",
       "      <td>0.764621</td>\n",
       "    </tr>\n",
       "    <tr>\n",
       "      <th>7</th>\n",
       "      <td>{'max_depth': None, 'max_features': 4, 'min_samples_split': 2, 'n_estimators': 200}</td>\n",
       "      <td>0.285769</td>\n",
       "      <td>0.024337</td>\n",
       "      <td>0.878648</td>\n",
       "    </tr>\n",
       "    <tr>\n",
       "      <th>4</th>\n",
       "      <td>{'max_depth': None, 'max_features': 'auto', 'min_samples_split': 20, 'n_estimators': 100}</td>\n",
       "      <td>0.285397</td>\n",
       "      <td>0.015890</td>\n",
       "      <td>0.666852</td>\n",
       "    </tr>\n",
       "    <tr>\n",
       "      <th>6</th>\n",
       "      <td>{'max_depth': None, 'max_features': 4, 'min_samples_split': 2, 'n_estimators': 100}</td>\n",
       "      <td>0.284373</td>\n",
       "      <td>0.022578</td>\n",
       "      <td>0.877237</td>\n",
       "    </tr>\n",
       "    <tr>\n",
       "      <th>1</th>\n",
       "      <td>{'max_depth': None, 'max_features': 'auto', 'min_samples_split': 2, 'n_estimators': 200}</td>\n",
       "      <td>0.280884</td>\n",
       "      <td>0.019119</td>\n",
       "      <td>0.878485</td>\n",
       "    </tr>\n",
       "    <tr>\n",
       "      <th>0</th>\n",
       "      <td>{'max_depth': None, 'max_features': 'auto', 'min_samples_split': 2, 'n_estimators': 100}</td>\n",
       "      <td>0.273241</td>\n",
       "      <td>0.029846</td>\n",
       "      <td>0.875218</td>\n",
       "    </tr>\n",
       "    <tr>\n",
       "      <th>27</th>\n",
       "      <td>{'max_depth': 6, 'max_features': 'auto', 'min_samples_split': 10, 'n_estimators': 200}</td>\n",
       "      <td>0.245667</td>\n",
       "      <td>0.010438</td>\n",
       "      <td>0.367268</td>\n",
       "    </tr>\n",
       "    <tr>\n",
       "      <th>25</th>\n",
       "      <td>{'max_depth': 6, 'max_features': 'auto', 'min_samples_split': 2, 'n_estimators': 200}</td>\n",
       "      <td>0.245618</td>\n",
       "      <td>0.010757</td>\n",
       "      <td>0.375185</td>\n",
       "    </tr>\n",
       "    <tr>\n",
       "      <th>26</th>\n",
       "      <td>{'max_depth': 6, 'max_features': 'auto', 'min_samples_split': 10, 'n_estimators': 100}</td>\n",
       "      <td>0.245543</td>\n",
       "      <td>0.011292</td>\n",
       "      <td>0.365391</td>\n",
       "    </tr>\n",
       "    <tr>\n",
       "      <th>24</th>\n",
       "      <td>{'max_depth': 6, 'max_features': 'auto', 'min_samples_split': 2, 'n_estimators': 100}</td>\n",
       "      <td>0.245112</td>\n",
       "      <td>0.009293</td>\n",
       "      <td>0.371607</td>\n",
       "    </tr>\n",
       "    <tr>\n",
       "      <th>29</th>\n",
       "      <td>{'max_depth': 6, 'max_features': 'auto', 'min_samples_split': 20, 'n_estimators': 200}</td>\n",
       "      <td>0.244821</td>\n",
       "      <td>0.010522</td>\n",
       "      <td>0.361290</td>\n",
       "    </tr>\n",
       "    <tr>\n",
       "      <th>28</th>\n",
       "      <td>{'max_depth': 6, 'max_features': 'auto', 'min_samples_split': 20, 'n_estimators': 100}</td>\n",
       "      <td>0.243453</td>\n",
       "      <td>0.011768</td>\n",
       "      <td>0.363155</td>\n",
       "    </tr>\n",
       "    <tr>\n",
       "      <th>32</th>\n",
       "      <td>{'max_depth': 6, 'max_features': 4, 'min_samples_split': 10, 'n_estimators': 100}</td>\n",
       "      <td>0.235754</td>\n",
       "      <td>0.010782</td>\n",
       "      <td>0.342039</td>\n",
       "    </tr>\n",
       "    <tr>\n",
       "      <th>30</th>\n",
       "      <td>{'max_depth': 6, 'max_features': 4, 'min_samples_split': 2, 'n_estimators': 100}</td>\n",
       "      <td>0.235482</td>\n",
       "      <td>0.009553</td>\n",
       "      <td>0.350478</td>\n",
       "    </tr>\n",
       "    <tr>\n",
       "      <th>33</th>\n",
       "      <td>{'max_depth': 6, 'max_features': 4, 'min_samples_split': 10, 'n_estimators': 200}</td>\n",
       "      <td>0.235435</td>\n",
       "      <td>0.012339</td>\n",
       "      <td>0.343289</td>\n",
       "    </tr>\n",
       "    <tr>\n",
       "      <th>35</th>\n",
       "      <td>{'max_depth': 6, 'max_features': 4, 'min_samples_split': 20, 'n_estimators': 200}</td>\n",
       "      <td>0.234941</td>\n",
       "      <td>0.011099</td>\n",
       "      <td>0.338128</td>\n",
       "    </tr>\n",
       "    <tr>\n",
       "      <th>31</th>\n",
       "      <td>{'max_depth': 6, 'max_features': 4, 'min_samples_split': 2, 'n_estimators': 200}</td>\n",
       "      <td>0.234808</td>\n",
       "      <td>0.011996</td>\n",
       "      <td>0.351485</td>\n",
       "    </tr>\n",
       "    <tr>\n",
       "      <th>34</th>\n",
       "      <td>{'max_depth': 6, 'max_features': 4, 'min_samples_split': 20, 'n_estimators': 100}</td>\n",
       "      <td>0.231842</td>\n",
       "      <td>0.012300</td>\n",
       "      <td>0.338124</td>\n",
       "    </tr>\n",
       "    <tr>\n",
       "      <th>13</th>\n",
       "      <td>{'max_depth': 3, 'max_features': 'auto', 'min_samples_split': 2, 'n_estimators': 200}</td>\n",
       "      <td>0.137566</td>\n",
       "      <td>0.007591</td>\n",
       "      <td>0.163533</td>\n",
       "    </tr>\n",
       "    <tr>\n",
       "      <th>12</th>\n",
       "      <td>{'max_depth': 3, 'max_features': 'auto', 'min_samples_split': 2, 'n_estimators': 100}</td>\n",
       "      <td>0.137112</td>\n",
       "      <td>0.007555</td>\n",
       "      <td>0.163696</td>\n",
       "    </tr>\n",
       "    <tr>\n",
       "      <th>14</th>\n",
       "      <td>{'max_depth': 3, 'max_features': 'auto', 'min_samples_split': 10, 'n_estimators': 100}</td>\n",
       "      <td>0.136631</td>\n",
       "      <td>0.007926</td>\n",
       "      <td>0.161993</td>\n",
       "    </tr>\n",
       "    <tr>\n",
       "      <th>17</th>\n",
       "      <td>{'max_depth': 3, 'max_features': 'auto', 'min_samples_split': 20, 'n_estimators': 200}</td>\n",
       "      <td>0.136630</td>\n",
       "      <td>0.007585</td>\n",
       "      <td>0.162199</td>\n",
       "    </tr>\n",
       "    <tr>\n",
       "      <th>16</th>\n",
       "      <td>{'max_depth': 3, 'max_features': 'auto', 'min_samples_split': 20, 'n_estimators': 100}</td>\n",
       "      <td>0.136443</td>\n",
       "      <td>0.007735</td>\n",
       "      <td>0.161742</td>\n",
       "    </tr>\n",
       "    <tr>\n",
       "      <th>15</th>\n",
       "      <td>{'max_depth': 3, 'max_features': 'auto', 'min_samples_split': 10, 'n_estimators': 200}</td>\n",
       "      <td>0.136418</td>\n",
       "      <td>0.007969</td>\n",
       "      <td>0.162335</td>\n",
       "    </tr>\n",
       "    <tr>\n",
       "      <th>21</th>\n",
       "      <td>{'max_depth': 3, 'max_features': 4, 'min_samples_split': 10, 'n_estimators': 200}</td>\n",
       "      <td>0.135519</td>\n",
       "      <td>0.006932</td>\n",
       "      <td>0.158587</td>\n",
       "    </tr>\n",
       "    <tr>\n",
       "      <th>18</th>\n",
       "      <td>{'max_depth': 3, 'max_features': 4, 'min_samples_split': 2, 'n_estimators': 100}</td>\n",
       "      <td>0.135459</td>\n",
       "      <td>0.006946</td>\n",
       "      <td>0.159578</td>\n",
       "    </tr>\n",
       "    <tr>\n",
       "      <th>20</th>\n",
       "      <td>{'max_depth': 3, 'max_features': 4, 'min_samples_split': 10, 'n_estimators': 100}</td>\n",
       "      <td>0.135240</td>\n",
       "      <td>0.006930</td>\n",
       "      <td>0.159752</td>\n",
       "    </tr>\n",
       "    <tr>\n",
       "      <th>22</th>\n",
       "      <td>{'max_depth': 3, 'max_features': 4, 'min_samples_split': 20, 'n_estimators': 100}</td>\n",
       "      <td>0.135219</td>\n",
       "      <td>0.007847</td>\n",
       "      <td>0.157811</td>\n",
       "    </tr>\n",
       "    <tr>\n",
       "      <th>19</th>\n",
       "      <td>{'max_depth': 3, 'max_features': 4, 'min_samples_split': 2, 'n_estimators': 200}</td>\n",
       "      <td>0.134886</td>\n",
       "      <td>0.008123</td>\n",
       "      <td>0.159902</td>\n",
       "    </tr>\n",
       "    <tr>\n",
       "      <th>23</th>\n",
       "      <td>{'max_depth': 3, 'max_features': 4, 'min_samples_split': 20, 'n_estimators': 200}</td>\n",
       "      <td>0.134681</td>\n",
       "      <td>0.006660</td>\n",
       "      <td>0.158063</td>\n",
       "    </tr>\n",
       "  </tbody>\n",
       "</table>\n",
       "</div>"
      ],
      "text/plain": [
       "                                                                                       params  \\\n",
       "9        {'max_depth': None, 'max_features': 4, 'min_samples_split': 10, 'n_estimators': 200}   \n",
       "10       {'max_depth': None, 'max_features': 4, 'min_samples_split': 20, 'n_estimators': 100}   \n",
       "11       {'max_depth': None, 'max_features': 4, 'min_samples_split': 20, 'n_estimators': 200}   \n",
       "8        {'max_depth': None, 'max_features': 4, 'min_samples_split': 10, 'n_estimators': 100}   \n",
       "2   {'max_depth': None, 'max_features': 'auto', 'min_samples_split': 10, 'n_estimators': 100}   \n",
       "5   {'max_depth': None, 'max_features': 'auto', 'min_samples_split': 20, 'n_estimators': 200}   \n",
       "3   {'max_depth': None, 'max_features': 'auto', 'min_samples_split': 10, 'n_estimators': 200}   \n",
       "7         {'max_depth': None, 'max_features': 4, 'min_samples_split': 2, 'n_estimators': 200}   \n",
       "4   {'max_depth': None, 'max_features': 'auto', 'min_samples_split': 20, 'n_estimators': 100}   \n",
       "6         {'max_depth': None, 'max_features': 4, 'min_samples_split': 2, 'n_estimators': 100}   \n",
       "1    {'max_depth': None, 'max_features': 'auto', 'min_samples_split': 2, 'n_estimators': 200}   \n",
       "0    {'max_depth': None, 'max_features': 'auto', 'min_samples_split': 2, 'n_estimators': 100}   \n",
       "27     {'max_depth': 6, 'max_features': 'auto', 'min_samples_split': 10, 'n_estimators': 200}   \n",
       "25      {'max_depth': 6, 'max_features': 'auto', 'min_samples_split': 2, 'n_estimators': 200}   \n",
       "26     {'max_depth': 6, 'max_features': 'auto', 'min_samples_split': 10, 'n_estimators': 100}   \n",
       "24      {'max_depth': 6, 'max_features': 'auto', 'min_samples_split': 2, 'n_estimators': 100}   \n",
       "29     {'max_depth': 6, 'max_features': 'auto', 'min_samples_split': 20, 'n_estimators': 200}   \n",
       "28     {'max_depth': 6, 'max_features': 'auto', 'min_samples_split': 20, 'n_estimators': 100}   \n",
       "32          {'max_depth': 6, 'max_features': 4, 'min_samples_split': 10, 'n_estimators': 100}   \n",
       "30           {'max_depth': 6, 'max_features': 4, 'min_samples_split': 2, 'n_estimators': 100}   \n",
       "33          {'max_depth': 6, 'max_features': 4, 'min_samples_split': 10, 'n_estimators': 200}   \n",
       "35          {'max_depth': 6, 'max_features': 4, 'min_samples_split': 20, 'n_estimators': 200}   \n",
       "31           {'max_depth': 6, 'max_features': 4, 'min_samples_split': 2, 'n_estimators': 200}   \n",
       "34          {'max_depth': 6, 'max_features': 4, 'min_samples_split': 20, 'n_estimators': 100}   \n",
       "13      {'max_depth': 3, 'max_features': 'auto', 'min_samples_split': 2, 'n_estimators': 200}   \n",
       "12      {'max_depth': 3, 'max_features': 'auto', 'min_samples_split': 2, 'n_estimators': 100}   \n",
       "14     {'max_depth': 3, 'max_features': 'auto', 'min_samples_split': 10, 'n_estimators': 100}   \n",
       "17     {'max_depth': 3, 'max_features': 'auto', 'min_samples_split': 20, 'n_estimators': 200}   \n",
       "16     {'max_depth': 3, 'max_features': 'auto', 'min_samples_split': 20, 'n_estimators': 100}   \n",
       "15     {'max_depth': 3, 'max_features': 'auto', 'min_samples_split': 10, 'n_estimators': 200}   \n",
       "21          {'max_depth': 3, 'max_features': 4, 'min_samples_split': 10, 'n_estimators': 200}   \n",
       "18           {'max_depth': 3, 'max_features': 4, 'min_samples_split': 2, 'n_estimators': 100}   \n",
       "20          {'max_depth': 3, 'max_features': 4, 'min_samples_split': 10, 'n_estimators': 100}   \n",
       "22          {'max_depth': 3, 'max_features': 4, 'min_samples_split': 20, 'n_estimators': 100}   \n",
       "19           {'max_depth': 3, 'max_features': 4, 'min_samples_split': 2, 'n_estimators': 200}   \n",
       "23          {'max_depth': 3, 'max_features': 4, 'min_samples_split': 20, 'n_estimators': 200}   \n",
       "\n",
       "    mean_test_score  std_test_score  mean_train_score  \n",
       "9          0.293771        0.021616          0.752936  \n",
       "10         0.292644        0.016898          0.650346  \n",
       "11         0.292304        0.020333          0.651982  \n",
       "8          0.291224        0.019522          0.749815  \n",
       "2          0.287950        0.020264          0.762267  \n",
       "5          0.287812        0.018285          0.667054  \n",
       "3          0.286358        0.020594          0.764621  \n",
       "7          0.285769        0.024337          0.878648  \n",
       "4          0.285397        0.015890          0.666852  \n",
       "6          0.284373        0.022578          0.877237  \n",
       "1          0.280884        0.019119          0.878485  \n",
       "0          0.273241        0.029846          0.875218  \n",
       "27         0.245667        0.010438          0.367268  \n",
       "25         0.245618        0.010757          0.375185  \n",
       "26         0.245543        0.011292          0.365391  \n",
       "24         0.245112        0.009293          0.371607  \n",
       "29         0.244821        0.010522          0.361290  \n",
       "28         0.243453        0.011768          0.363155  \n",
       "32         0.235754        0.010782          0.342039  \n",
       "30         0.235482        0.009553          0.350478  \n",
       "33         0.235435        0.012339          0.343289  \n",
       "35         0.234941        0.011099          0.338128  \n",
       "31         0.234808        0.011996          0.351485  \n",
       "34         0.231842        0.012300          0.338124  \n",
       "13         0.137566        0.007591          0.163533  \n",
       "12         0.137112        0.007555          0.163696  \n",
       "14         0.136631        0.007926          0.161993  \n",
       "17         0.136630        0.007585          0.162199  \n",
       "16         0.136443        0.007735          0.161742  \n",
       "15         0.136418        0.007969          0.162335  \n",
       "21         0.135519        0.006932          0.158587  \n",
       "18         0.135459        0.006946          0.159578  \n",
       "20         0.135240        0.006930          0.159752  \n",
       "22         0.135219        0.007847          0.157811  \n",
       "19         0.134886        0.008123          0.159902  \n",
       "23         0.134681        0.006660          0.158063  "
      ]
     },
     "execution_count": 30,
     "metadata": {},
     "output_type": "execute_result"
    }
   ],
   "source": [
    "scoresCV"
   ]
  },
  {
   "cell_type": "markdown",
   "metadata": {},
   "source": [
    "### And the verdict is...."
   ]
  },
  {
   "cell_type": "markdown",
   "metadata": {},
   "source": [
    "Our model is still performing poorly.\n",
    "\n",
    "\n",
    "\n",
    "\n",
    "\n",
    "\n",
    "\n",
    "\n",
    "\n",
    "\n",
    "\n",
    "\n",
    "\n",
    "\n",
    "\n",
    "\n",
    "\n",
    "\n"
   ]
  },
  {
   "cell_type": "markdown",
   "metadata": {},
   "source": [
    "### Challenge: can you use some of the things we learned, the paper, and your own knowledge (possibly) to match the paper's results?\n",
    "\n"
   ]
  },
  {
   "cell_type": "markdown",
   "metadata": {},
   "source": [
    "Ideas:\n",
    "\n",
    "- Feature engineering: from magnitudes to colors \n",
    "\n",
    "- Adding other features from data\n",
    "    \n",
    "- Decide what to do with missing data (99s and -99s)\n",
    "\n",
    "- Restrict the redshift range\n",
    "\n",
    "- (Check the paper for other ideas)\n",
    "\n",
    "? \n",
    "    "
   ]
  },
  {
   "cell_type": "markdown",
   "metadata": {},
   "source": [
    "### Time to look at data cleaning and/or imputing!"
   ]
  },
  {
   "cell_type": "markdown",
   "metadata": {},
   "source": [
    "We begin by selecting only objects where the zquality flag is >= 3 (as noted in Section 6 of the paper)."
   ]
  },
  {
   "cell_type": "code",
   "execution_count": 89,
   "metadata": {},
   "outputs": [],
   "source": [
    "mags = df[['u_apercor', 'g_apercor', 'r_apercor', 'i_apercor', 'z_apercor','y_apercor','zquality','cfhtls_source']]"
   ]
  },
  {
   "cell_type": "code",
   "execution_count": 90,
   "metadata": {},
   "outputs": [
    {
     "data": {
      "text/plain": [
       "(16857, 8)"
      ]
     },
     "execution_count": 90,
     "metadata": {},
     "output_type": "execute_result"
    }
   ],
   "source": [
    "mags = mags[mags['zquality'] >= 3]\n",
    "\n",
    "mags.shape"
   ]
  },
  {
   "cell_type": "markdown",
   "metadata": {},
   "source": [
    "This reduces the data set size by one third."
   ]
  },
  {
   "cell_type": "markdown",
   "metadata": {},
   "source": [
    "Next, we select only objects where all columns contain a measurement (we exclude the 99s and -99s). This was also done in the paper (first paragraph of page 10: Valid photometry in all six bands\n",
    "(ugrizY) is required). This reduced the size of the data set to half."
   ]
  },
  {
   "cell_type": "code",
   "execution_count": 91,
   "metadata": {},
   "outputs": [],
   "source": [
    "mags = mags[mags > -10].dropna()\n",
    "mags = mags[mags < 90].dropna()"
   ]
  },
  {
   "cell_type": "code",
   "execution_count": 92,
   "metadata": {},
   "outputs": [
    {
     "data": {
      "text/plain": [
       "(8508, 8)"
      ]
     },
     "execution_count": 92,
     "metadata": {},
     "output_type": "execute_result"
    }
   ],
   "source": [
    "mags.shape"
   ]
  },
  {
   "cell_type": "markdown",
   "metadata": {},
   "source": [
    "This would already be sufficient for good results. However, in figure we are looking at the paper (Fig. 6), only objects with deep cfhtls photometry are used:"
   ]
  },
  {
   "cell_type": "code",
   "execution_count": 93,
   "metadata": {},
   "outputs": [],
   "source": [
    "mags = mags[mags['cfhtls_source'] == 0]"
   ]
  },
  {
   "cell_type": "code",
   "execution_count": 94,
   "metadata": {},
   "outputs": [
    {
     "data": {
      "text/plain": [
       "(6307, 8)"
      ]
     },
     "execution_count": 94,
     "metadata": {},
     "output_type": "execute_result"
    }
   ],
   "source": [
    "mags.shape"
   ]
  },
  {
   "cell_type": "markdown",
   "metadata": {},
   "source": [
    "Our final set has 6,307 objects."
   ]
  },
  {
   "cell_type": "markdown",
   "metadata": {},
   "source": [
    "Finally, we engineer colors as features. In the paper, 5 colors and the i magnitude are used). However, we can improve more by building all the colors. We will run the two cases for comparison."
   ]
  },
  {
   "cell_type": "markdown",
   "metadata": {},
   "source": [
    "This cell (thanks to Michael Rashkovetskyi) builds all the colors."
   ]
  },
  {
   "cell_type": "code",
   "execution_count": 111,
   "metadata": {},
   "outputs": [],
   "source": [
    "params = ['u_apercor', 'g_apercor', 'r_apercor', 'i_apercor', 'z_apercor','y_apercor']\n",
    "features_ext = mags.copy()\n",
    "for i, name1 in enumerate(params):\n",
    "    for j, name2 in enumerate(params):\n",
    "        if i >=j: continue #build only one pair, avoid zero colors\n",
    "        features_ext[name1 + '-' + name2] = features[name1] - features[name2]"
   ]
  },
  {
   "cell_type": "code",
   "execution_count": 112,
   "metadata": {},
   "outputs": [
    {
     "data": {
      "text/html": [
       "<div>\n",
       "<style scoped>\n",
       "    .dataframe tbody tr th:only-of-type {\n",
       "        vertical-align: middle;\n",
       "    }\n",
       "\n",
       "    .dataframe tbody tr th {\n",
       "        vertical-align: top;\n",
       "    }\n",
       "\n",
       "    .dataframe thead th {\n",
       "        text-align: right;\n",
       "    }\n",
       "</style>\n",
       "<table border=\"1\" class=\"dataframe\">\n",
       "  <thead>\n",
       "    <tr style=\"text-align: right;\">\n",
       "      <th></th>\n",
       "      <th>u_apercor</th>\n",
       "      <th>g_apercor</th>\n",
       "      <th>r_apercor</th>\n",
       "      <th>i_apercor</th>\n",
       "      <th>z_apercor</th>\n",
       "      <th>y_apercor</th>\n",
       "      <th>zquality</th>\n",
       "      <th>cfhtls_source</th>\n",
       "      <th>u_apercor-g_apercor</th>\n",
       "      <th>u_apercor-r_apercor</th>\n",
       "      <th>u_apercor-i_apercor</th>\n",
       "      <th>u_apercor-z_apercor</th>\n",
       "      <th>u_apercor-y_apercor</th>\n",
       "      <th>g_apercor-r_apercor</th>\n",
       "      <th>g_apercor-i_apercor</th>\n",
       "      <th>g_apercor-z_apercor</th>\n",
       "      <th>g_apercor-y_apercor</th>\n",
       "      <th>r_apercor-i_apercor</th>\n",
       "      <th>r_apercor-z_apercor</th>\n",
       "      <th>r_apercor-y_apercor</th>\n",
       "      <th>i_apercor-z_apercor</th>\n",
       "      <th>i_apercor-y_apercor</th>\n",
       "      <th>z_apercor-y_apercor</th>\n",
       "    </tr>\n",
       "  </thead>\n",
       "  <tbody>\n",
       "    <tr>\n",
       "      <th>1251</th>\n",
       "      <td>24.244393</td>\n",
       "      <td>23.979583</td>\n",
       "      <td>23.522136</td>\n",
       "      <td>22.911041</td>\n",
       "      <td>22.525773</td>\n",
       "      <td>22.329098</td>\n",
       "      <td>4</td>\n",
       "      <td>0.0</td>\n",
       "      <td>0.264811</td>\n",
       "      <td>0.722258</td>\n",
       "      <td>1.333352</td>\n",
       "      <td>1.718620</td>\n",
       "      <td>1.915295</td>\n",
       "      <td>0.457447</td>\n",
       "      <td>1.068542</td>\n",
       "      <td>1.453810</td>\n",
       "      <td>1.650485</td>\n",
       "      <td>0.611094</td>\n",
       "      <td>0.996362</td>\n",
       "      <td>1.193037</td>\n",
       "      <td>0.385268</td>\n",
       "      <td>0.581943</td>\n",
       "      <td>0.196675</td>\n",
       "    </tr>\n",
       "    <tr>\n",
       "      <th>1253</th>\n",
       "      <td>24.489104</td>\n",
       "      <td>23.916151</td>\n",
       "      <td>22.923651</td>\n",
       "      <td>21.873752</td>\n",
       "      <td>21.306495</td>\n",
       "      <td>21.251440</td>\n",
       "      <td>4</td>\n",
       "      <td>0.0</td>\n",
       "      <td>0.572953</td>\n",
       "      <td>1.565453</td>\n",
       "      <td>2.615352</td>\n",
       "      <td>3.182610</td>\n",
       "      <td>3.237664</td>\n",
       "      <td>0.992500</td>\n",
       "      <td>2.042399</td>\n",
       "      <td>2.609656</td>\n",
       "      <td>2.664711</td>\n",
       "      <td>1.049899</td>\n",
       "      <td>1.617157</td>\n",
       "      <td>1.672212</td>\n",
       "      <td>0.567258</td>\n",
       "      <td>0.622312</td>\n",
       "      <td>0.055055</td>\n",
       "    </tr>\n",
       "    <tr>\n",
       "      <th>1261</th>\n",
       "      <td>24.873959</td>\n",
       "      <td>22.973893</td>\n",
       "      <td>21.465850</td>\n",
       "      <td>20.788420</td>\n",
       "      <td>20.462283</td>\n",
       "      <td>20.413696</td>\n",
       "      <td>3</td>\n",
       "      <td>0.0</td>\n",
       "      <td>1.900066</td>\n",
       "      <td>3.408108</td>\n",
       "      <td>4.085538</td>\n",
       "      <td>4.411676</td>\n",
       "      <td>4.460262</td>\n",
       "      <td>1.508042</td>\n",
       "      <td>2.185473</td>\n",
       "      <td>2.511610</td>\n",
       "      <td>2.560196</td>\n",
       "      <td>0.677430</td>\n",
       "      <td>1.003568</td>\n",
       "      <td>1.052154</td>\n",
       "      <td>0.326138</td>\n",
       "      <td>0.374724</td>\n",
       "      <td>0.048586</td>\n",
       "    </tr>\n",
       "    <tr>\n",
       "      <th>1271</th>\n",
       "      <td>24.529042</td>\n",
       "      <td>24.338631</td>\n",
       "      <td>23.891189</td>\n",
       "      <td>23.206102</td>\n",
       "      <td>22.989344</td>\n",
       "      <td>23.112382</td>\n",
       "      <td>4</td>\n",
       "      <td>0.0</td>\n",
       "      <td>0.190411</td>\n",
       "      <td>0.637853</td>\n",
       "      <td>1.322940</td>\n",
       "      <td>1.539698</td>\n",
       "      <td>1.416661</td>\n",
       "      <td>0.447442</td>\n",
       "      <td>1.132529</td>\n",
       "      <td>1.349287</td>\n",
       "      <td>1.226250</td>\n",
       "      <td>0.685087</td>\n",
       "      <td>0.901845</td>\n",
       "      <td>0.778808</td>\n",
       "      <td>0.216758</td>\n",
       "      <td>0.093721</td>\n",
       "      <td>-0.123037</td>\n",
       "    </tr>\n",
       "    <tr>\n",
       "      <th>1272</th>\n",
       "      <td>23.641180</td>\n",
       "      <td>23.387447</td>\n",
       "      <td>22.975301</td>\n",
       "      <td>22.235199</td>\n",
       "      <td>21.809658</td>\n",
       "      <td>21.559483</td>\n",
       "      <td>4</td>\n",
       "      <td>0.0</td>\n",
       "      <td>0.253733</td>\n",
       "      <td>0.665879</td>\n",
       "      <td>1.405981</td>\n",
       "      <td>1.831522</td>\n",
       "      <td>2.081697</td>\n",
       "      <td>0.412146</td>\n",
       "      <td>1.152248</td>\n",
       "      <td>1.577789</td>\n",
       "      <td>1.827964</td>\n",
       "      <td>0.740102</td>\n",
       "      <td>1.165643</td>\n",
       "      <td>1.415818</td>\n",
       "      <td>0.425541</td>\n",
       "      <td>0.675717</td>\n",
       "      <td>0.250175</td>\n",
       "    </tr>\n",
       "  </tbody>\n",
       "</table>\n",
       "</div>"
      ],
      "text/plain": [
       "      u_apercor  g_apercor  r_apercor  i_apercor  z_apercor  y_apercor  \\\n",
       "1251  24.244393  23.979583  23.522136  22.911041  22.525773  22.329098   \n",
       "1253  24.489104  23.916151  22.923651  21.873752  21.306495  21.251440   \n",
       "1261  24.873959  22.973893  21.465850  20.788420  20.462283  20.413696   \n",
       "1271  24.529042  24.338631  23.891189  23.206102  22.989344  23.112382   \n",
       "1272  23.641180  23.387447  22.975301  22.235199  21.809658  21.559483   \n",
       "\n",
       "      zquality  cfhtls_source  u_apercor-g_apercor  u_apercor-r_apercor  \\\n",
       "1251         4            0.0             0.264811             0.722258   \n",
       "1253         4            0.0             0.572953             1.565453   \n",
       "1261         3            0.0             1.900066             3.408108   \n",
       "1271         4            0.0             0.190411             0.637853   \n",
       "1272         4            0.0             0.253733             0.665879   \n",
       "\n",
       "      u_apercor-i_apercor  u_apercor-z_apercor  u_apercor-y_apercor  \\\n",
       "1251             1.333352             1.718620             1.915295   \n",
       "1253             2.615352             3.182610             3.237664   \n",
       "1261             4.085538             4.411676             4.460262   \n",
       "1271             1.322940             1.539698             1.416661   \n",
       "1272             1.405981             1.831522             2.081697   \n",
       "\n",
       "      g_apercor-r_apercor  g_apercor-i_apercor  g_apercor-z_apercor  \\\n",
       "1251             0.457447             1.068542             1.453810   \n",
       "1253             0.992500             2.042399             2.609656   \n",
       "1261             1.508042             2.185473             2.511610   \n",
       "1271             0.447442             1.132529             1.349287   \n",
       "1272             0.412146             1.152248             1.577789   \n",
       "\n",
       "      g_apercor-y_apercor  r_apercor-i_apercor  r_apercor-z_apercor  \\\n",
       "1251             1.650485             0.611094             0.996362   \n",
       "1253             2.664711             1.049899             1.617157   \n",
       "1261             2.560196             0.677430             1.003568   \n",
       "1271             1.226250             0.685087             0.901845   \n",
       "1272             1.827964             0.740102             1.165643   \n",
       "\n",
       "      r_apercor-y_apercor  i_apercor-z_apercor  i_apercor-y_apercor  \\\n",
       "1251             1.193037             0.385268             0.581943   \n",
       "1253             1.672212             0.567258             0.622312   \n",
       "1261             1.052154             0.326138             0.374724   \n",
       "1271             0.778808             0.216758             0.093721   \n",
       "1272             1.415818             0.425541             0.675717   \n",
       "\n",
       "      z_apercor-y_apercor  \n",
       "1251             0.196675  \n",
       "1253             0.055055  \n",
       "1261             0.048586  \n",
       "1271            -0.123037  \n",
       "1272             0.250175  "
      ]
     },
     "execution_count": 112,
     "metadata": {},
     "output_type": "execute_result"
    }
   ],
   "source": [
    "features_ext.head()"
   ]
  },
  {
   "cell_type": "markdown",
   "metadata": {},
   "source": [
    "We have now added 16 more features!"
   ]
  },
  {
   "cell_type": "markdown",
   "metadata": {},
   "source": [
    "We can re-index the target vector by matching the indices of the selected objects."
   ]
  },
  {
   "cell_type": "code",
   "execution_count": 100,
   "metadata": {},
   "outputs": [],
   "source": [
    "target = target[features_ext.index]"
   ]
  },
  {
   "cell_type": "markdown",
   "metadata": {},
   "source": [
    "Let's now run our benchmark model again. Let's start from the exact features of the paper."
   ]
  },
  {
   "cell_type": "code",
   "execution_count": 108,
   "metadata": {},
   "outputs": [],
   "source": [
    "model = RandomForestRegressor()"
   ]
  },
  {
   "cell_type": "code",
   "execution_count": 113,
   "metadata": {},
   "outputs": [],
   "source": [
    "#The five colors u − g, g − r, r − i, i − z, z − y and\n",
    "#-band magnitude are used as the input.\n",
    "\n",
    "features_paper = features_ext[['u_apercor-g_apercor','g_apercor-r_apercor', \\\n",
    "            'r_apercor-i_apercor','i_apercor-z_apercor','z_apercor-y_apercor','i_apercor']]"
   ]
  },
  {
   "cell_type": "code",
   "execution_count": 114,
   "metadata": {},
   "outputs": [],
   "source": [
    "scores = cross_validate(model, features_paper, target, cv = KFold(n_splits=5,shuffle=True),return_train_score=True)"
   ]
  },
  {
   "cell_type": "code",
   "execution_count": 115,
   "metadata": {},
   "outputs": [
    {
     "name": "stdout",
     "output_type": "stream",
     "text": [
      "0.8143781470556807 0.9716063430592918\n"
     ]
    }
   ],
   "source": [
    "print(scores['test_score'].mean(), scores['train_score'].mean())"
   ]
  },
  {
   "cell_type": "markdown",
   "metadata": {},
   "source": [
    "This is a very noticeable improvement! Let's also plot the true vs predicted redshifts, and calculate the outlier fraction and NMAD."
   ]
  },
  {
   "cell_type": "code",
   "execution_count": 116,
   "metadata": {},
   "outputs": [],
   "source": [
    "ypred = cross_val_predict(model,features_ext,target, \\\n",
    "        cv = KFold(n_splits=5, shuffle=True, random_state=10))"
   ]
  },
  {
   "cell_type": "code",
   "execution_count": 117,
   "metadata": {},
   "outputs": [
    {
     "data": {
      "text/plain": [
       "(0, 3)"
      ]
     },
     "execution_count": 117,
     "metadata": {},
     "output_type": "execute_result"
    },
    {
     "data": {
      "image/png": "[encoded data removed]",
      "text/plain": [
       "<Figure size 432x288 with 1 Axes>"
      ]
     },
     "metadata": {
      "needs_background": "light"
     },
     "output_type": "display_data"
    }
   ],
   "source": [
    "plt.scatter(target,ypred, s = 10, c = 'royalblue')\n",
    "plt.xlabel('True (spectroscopic) z', fontsize=14)\n",
    "plt.ylabel('Predicted z',fontsize=14)\n",
    "plt.axis('square')\n",
    "plt.xlim(0,3)\n",
    "plt.ylim(0,3)"
   ]
  },
  {
   "cell_type": "code",
   "execution_count": 118,
   "metadata": {},
   "outputs": [
    {
     "data": {
      "text/plain": [
       "0.036467417155541464"
      ]
     },
     "execution_count": 118,
     "metadata": {},
     "output_type": "execute_result"
    }
   ],
   "source": [
    "len(np.where(np.abs(target-ypred)>0.15*(1+target))[0])/len(target)"
   ]
  },
  {
   "cell_type": "markdown",
   "metadata": {},
   "source": [
    "And the normalized median absolute deviation, or NMAD:"
   ]
  },
  {
   "cell_type": "code",
   "execution_count": 119,
   "metadata": {},
   "outputs": [
    {
     "data": {
      "text/plain": [
       "0.01659259302277249"
      ]
     },
     "execution_count": 119,
     "metadata": {},
     "output_type": "execute_result"
    }
   ],
   "source": [
    "1.48*np.median(np.abs(target-ypred)/(1 + target)) \n",
    "#The 1.48 is there because for a Gaussian distribution, this becomes the standard deviation"
   ]
  },
  {
   "cell_type": "markdown",
   "metadata": {},
   "source": [
    "#### Yay! We have already matched (and in fact, improved on) the paper!"
   ]
  },
  {
   "cell_type": "markdown",
   "metadata": {},
   "source": [
    "We may want to run the param optimization again. "
   ]
  },
  {
   "cell_type": "code",
   "execution_count": 123,
   "metadata": {},
   "outputs": [
    {
     "name": "stdout",
     "output_type": "stream",
     "text": [
      "Fitting 5 folds for each of 81 candidates, totalling 405 fits\n"
     ]
    },
    {
     "name": "stderr",
     "output_type": "stream",
     "text": [
      "/usr/local/lib/python3.7/site-packages/joblib/externals/loky/process_executor.py:706: UserWarning: A worker stopped while some jobs were given to the executor. This can be caused by a too short worker timeout or by a memory leak.\n",
      "  \"timeout or by a memory leak.\", UserWarning\n"
     ]
    },
    {
     "name": "stdout",
     "output_type": "stream",
     "text": [
      "Best params, best score: 0.8112 {'max_depth': None, 'max_features': 2, 'min_samples_leaf': 1, 'n_estimators': 100}\n"
     ]
    }
   ],
   "source": [
    "parameters = {'max_depth':[3, 6, None], \\\n",
    "              'max_features':[2,4,None], 'n_estimators':[50,100,200], 'min_samples_leaf': [1,5,10]}\n",
    "nmodels = np.product([len(el) for el in parameters.values()])\n",
    "model = GridSearchCV(RandomForestRegressor(), parameters, cv = KFold(n_splits=5, shuffle=True), \\\n",
    "                     verbose = 2, n_jobs = 4, return_train_score=True)\n",
    "model.fit(features_paper, target)\n",
    "\n",
    "print('Best params, best score:', \"{:.4f}\".format(model.best_score_), \\\n",
    "      model.best_params_)"
   ]
  },
  {
   "cell_type": "code",
   "execution_count": 125,
   "metadata": {},
   "outputs": [],
   "source": [
    "bm = model.best_estimator_"
   ]
  },
  {
   "cell_type": "code",
   "execution_count": 126,
   "metadata": {},
   "outputs": [],
   "source": [
    "ypred = cross_val_predict(bm, features_paper,target, \\\n",
    "        cv = KFold(n_splits=5, shuffle=True, random_state=10))"
   ]
  },
  {
   "cell_type": "code",
   "execution_count": 127,
   "metadata": {},
   "outputs": [
    {
     "data": {
      "text/plain": [
       "(0, 2)"
      ]
     },
     "execution_count": 127,
     "metadata": {},
     "output_type": "execute_result"
    },
    {
     "data": {
      "image/png": "[encoded data removed]",
      "text/plain": [
       "<Figure size 432x288 with 1 Axes>"
      ]
     },
     "metadata": {
      "needs_background": "light"
     },
     "output_type": "display_data"
    }
   ],
   "source": [
    "plt.scatter(target,ypred, s = 10)\n",
    "plt.xlabel('True (spectroscopic) z', fontsize=14)\n",
    "plt.ylabel('Predicted z',fontsize=14)\n",
    "plt.axis('square')\n",
    "plt.xlim(0,2)\n",
    "plt.ylim(0,2)"
   ]
  },
  {
   "cell_type": "code",
   "execution_count": 128,
   "metadata": {},
   "outputs": [
    {
     "data": {
      "text/plain": [
       "0.03710163310607262"
      ]
     },
     "execution_count": 128,
     "metadata": {},
     "output_type": "execute_result"
    }
   ],
   "source": [
    "## OLF\n",
    "\n",
    "len(np.where(np.abs(target-ypred)>0.15*(1+target))[0])/len(target)"
   ]
  },
  {
   "cell_type": "markdown",
   "metadata": {},
   "source": [
    "And the normalized median absolute deviation, or NMAD:"
   ]
  },
  {
   "cell_type": "code",
   "execution_count": 129,
   "metadata": {},
   "outputs": [
    {
     "data": {
      "text/plain": [
       "0.01902204930915988"
      ]
     },
     "execution_count": 129,
     "metadata": {},
     "output_type": "execute_result"
    }
   ],
   "source": [
    "#NMAD\n",
    "\n",
    "1.48*np.median(np.abs(target-ypred)/(1 + target)) "
   ]
  },
  {
   "cell_type": "markdown",
   "metadata": {},
   "source": [
    "Note that (for my particular case; if the random seed is not fixed, you may get something different) while the R2 score for the \"best\" model is higher, the OLF and NMAD are actually a bit higher than our benchmark model, the one with default parameters. This is fine, but we could also define a custom scoring parameter to use in the \"GridSearchCV\" object, for example the NMAD, so that models are scored and sorted according to the lowest NMAD."
   ]
  },
  {
   "cell_type": "markdown",
   "metadata": {},
   "source": [
    "Finally, we can explore whether using the full set of colors can help us further improve. We begin by running a benchmark model on the full set of features."
   ]
  },
  {
   "cell_type": "code",
   "execution_count": 131,
   "metadata": {},
   "outputs": [],
   "source": [
    "model = RandomForestRegressor()"
   ]
  },
  {
   "cell_type": "code",
   "execution_count": 132,
   "metadata": {
    "scrolled": true
   },
   "outputs": [
    {
     "name": "stdout",
     "output_type": "stream",
     "text": [
      "0.803603153115825 0.9722250799987876\n"
     ]
    }
   ],
   "source": [
    "scores = cross_validate(model, features_ext, target, cv = KFold(n_splits=5,shuffle=True),return_train_score=True)\n",
    "\n",
    "print(scores['test_score'].mean(), scores['train_score'].mean())"
   ]
  },
  {
   "cell_type": "markdown",
   "metadata": {},
   "source": [
    "It looks like adding more features doesn't help the benchmark, but in general, optimization matters more for more complex models."
   ]
  },
  {
   "cell_type": "markdown",
   "metadata": {},
   "source": [
    "Let's take a look at the other metrics, and then run the optimization."
   ]
  },
  {
   "cell_type": "code",
   "execution_count": 134,
   "metadata": {},
   "outputs": [],
   "source": [
    "ypred = cross_val_predict(bm, features_ext,target, \\\n",
    "        cv = KFold(n_splits=5, shuffle=True, random_state=10))"
   ]
  },
  {
   "cell_type": "code",
   "execution_count": 135,
   "metadata": {},
   "outputs": [
    {
     "data": {
      "text/plain": [
       "0.03662597114317425"
      ]
     },
     "execution_count": 135,
     "metadata": {},
     "output_type": "execute_result"
    }
   ],
   "source": [
    "## OLF\n",
    "\n",
    "len(np.where(np.abs(target-ypred)>0.15*(1+target))[0])/len(target)"
   ]
  },
  {
   "cell_type": "markdown",
   "metadata": {},
   "source": [
    "And the normalized median absolute deviation, or NMAD:"
   ]
  },
  {
   "cell_type": "code",
   "execution_count": 136,
   "metadata": {},
   "outputs": [
    {
     "data": {
      "text/plain": [
       "0.022319697289802036"
      ]
     },
     "execution_count": 136,
     "metadata": {},
     "output_type": "execute_result"
    }
   ],
   "source": [
    "#NMAD\n",
    "\n",
    "1.48*np.median(np.abs(target-ypred)/(1 + target)) "
   ]
  },
  {
   "cell_type": "markdown",
   "metadata": {},
   "source": [
    "The NMAD is actually a bit larger for this model."
   ]
  },
  {
   "cell_type": "markdown",
   "metadata": {},
   "source": [
    "Finally, we can run the param optimization again, but it will take longer because we have more features."
   ]
  },
  {
   "cell_type": "code",
   "execution_count": 137,
   "metadata": {
    "scrolled": true
   },
   "outputs": [
    {
     "name": "stdout",
     "output_type": "stream",
     "text": [
      "Fitting 5 folds for each of 81 candidates, totalling 405 fits\n"
     ]
    },
    {
     "name": "stderr",
     "output_type": "stream",
     "text": [
      "/usr/local/lib/python3.7/site-packages/joblib/externals/loky/process_executor.py:706: UserWarning: A worker stopped while some jobs were given to the executor. This can be caused by a too short worker timeout or by a memory leak.\n",
      "  \"timeout or by a memory leak.\", UserWarning\n"
     ]
    },
    {
     "name": "stdout",
     "output_type": "stream",
     "text": [
      "Best params, best score: 0.8261 {'max_depth': None, 'max_features': 10, 'min_samples_leaf': 1, 'n_estimators': 100}\n"
     ]
    }
   ],
   "source": [
    "parameters = {'max_depth':[3, 6, None], \\\n",
    "              'max_features':['auto',10,None], 'n_estimators':[50,100,200], 'min_samples_leaf': [1,5,10]}\n",
    "nmodels = np.product([len(el) for el in parameters.values()])\n",
    "model = GridSearchCV(RandomForestRegressor(), parameters, cv = KFold(n_splits=5, shuffle=True), \\\n",
    "                     verbose = 2, n_jobs = 4, return_train_score=True)\n",
    "model.fit(features_ext, target)\n",
    "\n",
    "print('Best params, best score:', \"{:.4f}\".format(model.best_score_), \\\n",
    "      model.best_params_)"
   ]
  },
  {
   "cell_type": "markdown",
   "metadata": {},
   "source": [
    "The R2 score improves for the best model! Let's check what happens to the other metrics."
   ]
  },
  {
   "cell_type": "code",
   "execution_count": 138,
   "metadata": {},
   "outputs": [],
   "source": [
    "bm = model.best_estimator_"
   ]
  },
  {
   "cell_type": "code",
   "execution_count": 139,
   "metadata": {},
   "outputs": [],
   "source": [
    "ypred = cross_val_predict(bm, features_ext,target, \\\n",
    "        cv = KFold(n_splits=5, shuffle=True, random_state=10))"
   ]
  },
  {
   "cell_type": "code",
   "execution_count": 141,
   "metadata": {},
   "outputs": [
    {
     "data": {
      "text/plain": [
       "0.035674647217377516"
      ]
     },
     "execution_count": 141,
     "metadata": {},
     "output_type": "execute_result"
    }
   ],
   "source": [
    "## OLF\n",
    "\n",
    "len(np.where(np.abs(target-ypred)>0.15*(1+target))[0])/len(target)"
   ]
  },
  {
   "cell_type": "markdown",
   "metadata": {},
   "source": [
    "And the normalized median absolute deviation, or NMAD:"
   ]
  },
  {
   "cell_type": "code",
   "execution_count": 142,
   "metadata": {},
   "outputs": [
    {
     "data": {
      "text/plain": [
       "0.017264785172619874"
      ]
     },
     "execution_count": 142,
     "metadata": {},
     "output_type": "execute_result"
    }
   ],
   "source": [
    "#NMAD\n",
    "\n",
    "1.48*np.median(np.abs(target-ypred)/(1 + target)) "
   ]
  },
  {
   "cell_type": "markdown",
   "metadata": {},
   "source": [
    "These are also pretty good; better than the paper, and similar to what our simpler model with 5 colors + i magnitude can achieve."
   ]
  },
  {
   "cell_type": "markdown",
   "metadata": {},
   "source": [
    "There were other ideas proposed in the hack session that we didn't have time to explore: Data augmentation (e.g. creating additional samples by associating an error profile to each measurement and sampling from that, while keeping the redshifts fixed; dividing the data in bins in redshift)."
   ]
  },
  {
   "cell_type": "markdown",
   "metadata": {},
   "source": [
    "### Lessons learned"
   ]
  },
  {
   "cell_type": "markdown",
   "metadata": {},
   "source": [
    "Here are my takeaways from this exercise:\n",
    "\n",
    "Data cleaning and imputing >> model optimization \n",
    "\n",
    "Feature engineering and domain knowledge >> model optimization\n",
    "\n",
    "ML won't make us obsolete (yet)! But it's a fun way to explore hypotheses and test them with data."
   ]
  },
  {
   "cell_type": "code",
   "execution_count": null,
   "metadata": {},
   "outputs": [],
   "source": []
  }
 ],
 "metadata": {
  "kernelspec": {
   "display_name": "Python 3",
   "language": "python",
   "name": "python3"
  },
  "language_info": {
   "codemirror_mode": {
    "name": "ipython",
    "version": 3
   },
   "file_extension": ".py",
   "mimetype": "text/x-python",
   "name": "python",
   "nbconvert_exporter": "python",
   "pygments_lexer": "ipython3",
   "version": "3.7.3"
  }
 },
 "nbformat": 4,
 "nbformat_minor": 2
}
