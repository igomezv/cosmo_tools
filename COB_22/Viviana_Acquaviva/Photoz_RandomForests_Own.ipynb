{
 "cells": [
  {
   "cell_type": "markdown",
   "metadata": {},
   "source": [
    "### Random Forests and Photo-zs\n",
    "\n",
    "In this notebook, we use Random Forests to estimate photometric redshifts starting from observations of galaxy magnitudes in six different photometric bands (u, g, r, i, z, y). It is adapted from a notebook written for Chapter 6 of the book.\n",
    "\n",
    "Essentially, we try to reproduce/improve upon the results of [this paper](https://arxiv.org/abs/1903.08174), for which the data are public and available [here](http://d-scholarship.pitt.edu/36064/).\n",
    "\n",
    "Author: Viviana Acquaviva"
   ]
  },
  {
   "cell_type": "code",
   "execution_count": 1,
   "metadata": {},
   "outputs": [],
   "source": [
    "import numpy as np\n",
    "import pandas as pd\n",
    "import matplotlib\n",
    "import matplotlib.pyplot as plt\n",
    "pd.set_option('display.max_columns', 100)\n",
    "pd.set_option('display.max_rows', 100)\n",
    "pd.set_option('display.max_colwidth', 100)\n",
    "\n",
    "\n",
    "font = {'size'   : 16}\n",
    "matplotlib.rc('font', **font)\n",
    "matplotlib.rc('xtick', labelsize=14) \n",
    "matplotlib.rc('ytick', labelsize=14) \n",
    "matplotlib.rcParams.update({'figure.autolayout': False})\n",
    "matplotlib.rcParams['figure.dpi'] = 300"
   ]
  },
  {
   "cell_type": "code",
   "execution_count": 2,
   "metadata": {},
   "outputs": [],
   "source": [
    "from sklearn import metrics\n",
    "from sklearn.model_selection import cross_validate, KFold, cross_val_predict, GridSearchCV\n",
    "from sklearn.tree import DecisionTreeRegressor\n",
    "from sklearn.ensemble import RandomForestRegressor"
   ]
  },
  {
   "cell_type": "code",
   "execution_count": 3,
   "metadata": {},
   "outputs": [],
   "source": [
    "import astropy\n",
    "\n",
    "from astropy.io import fits\n",
    "\n",
    "#fits stands for Flexible Image Transport System; it's a format that allows one to store images and summary data"
   ]
  },
  {
   "cell_type": "markdown",
   "metadata": {},
   "source": [
    "Data import"
   ]
  },
  {
   "cell_type": "markdown",
   "metadata": {},
   "source": [
    "It's easiest IMO to read the data into a data frame using pandas:"
   ]
  },
  {
   "cell_type": "code",
   "execution_count": 4,
   "metadata": {},
   "outputs": [],
   "source": [
    "with fits.open('DEEP2_uniq_Terapix_Subaru_v1.fits') as data:\n",
    "    df = pd.DataFrame(np.array(data[1].data).byteswap().newbyteorder()) #see https://numpy.org/devdocs/user/basics.byteswapping.html#changing-byte-ordering"
   ]
  },
  {
   "cell_type": "code",
   "execution_count": 5,
   "metadata": {
    "scrolled": true
   },
   "outputs": [
    {
     "data": {
      "text/plain": [
       "Index(['objno_deep2', 'ra_deep2', 'dec_deep2', 'magb', 'magr', 'magi', 'pgal',\n",
       "       'sfd_ebv', 'class', 'subclass', 'objname', 'maskname', 'slitname',\n",
       "       'date', 'mjd', 'z_raw', 'zhelio', 'z_err', 'rchi2', 'dof', 'vdisp',\n",
       "       'vdisp_err', 'zquality', 'egsflags', 'comment', 'm_b', 'ub_0',\n",
       "       'ra_cfhtls', 'dec_cfhtls', 'u', 'g', 'r', 'i', 'i2', 'z', 'uerr',\n",
       "       'gerr', 'rerr', 'ierr', 'i2err', 'zerr', 'u_apercor', 'g_apercor',\n",
       "       'r_apercor', 'i_apercor', 'i2_apercor', 'z_apercor', 'uerr_aper',\n",
       "       'gerr_aper', 'rerr_aper', 'ierr_aper', 'i2err_aper', 'zerr_aper',\n",
       "       'uerr_apercor', 'gerr_apercor', 'rerr_apercor', 'ierr_apercor',\n",
       "       'i2err_apercor', 'zerr_apercor', 'r_radius_arcsec', 'u(sexflag)',\n",
       "       'g(sexflag)', 'r(sexflag)', 'i(sexflag)', 'i2(sexflag)', 'z(sexflag)',\n",
       "       'flag_cfhtls', 'cfhtls_source', 'ra_subaru', 'dec_subaru', 'y', 'yerr',\n",
       "       'y_apercor', 'yerr_aper', 'yerr_apercor', 'y(sexflag)',\n",
       "       'y_radius_arcsec', 'subaru_source'],\n",
       "      dtype='object')"
      ]
     },
     "execution_count": 5,
     "metadata": {},
     "output_type": "execute_result"
    }
   ],
   "source": [
    "df.columns"
   ]
  },
  {
   "cell_type": "code",
   "execution_count": 6,
   "metadata": {},
   "outputs": [
    {
     "data": {
      "text/html": [
       "<div>\n",
       "<style scoped>\n",
       "    .dataframe tbody tr th:only-of-type {\n",
       "        vertical-align: middle;\n",
       "    }\n",
       "\n",
       "    .dataframe tbody tr th {\n",
       "        vertical-align: top;\n",
       "    }\n",
       "\n",
       "    .dataframe thead th {\n",
       "        text-align: right;\n",
       "    }\n",
       "</style>\n",
       "<table border=\"1\" class=\"dataframe\">\n",
       "  <thead>\n",
       "    <tr style=\"text-align: right;\">\n",
       "      <th></th>\n",
       "      <th>objno_deep2</th>\n",
       "      <th>ra_deep2</th>\n",
       "      <th>dec_deep2</th>\n",
       "      <th>magb</th>\n",
       "      <th>magr</th>\n",
       "      <th>magi</th>\n",
       "      <th>pgal</th>\n",
       "      <th>sfd_ebv</th>\n",
       "      <th>class</th>\n",
       "      <th>subclass</th>\n",
       "      <th>objname</th>\n",
       "      <th>maskname</th>\n",
       "      <th>slitname</th>\n",
       "      <th>date</th>\n",
       "      <th>mjd</th>\n",
       "      <th>z_raw</th>\n",
       "      <th>zhelio</th>\n",
       "      <th>z_err</th>\n",
       "      <th>rchi2</th>\n",
       "      <th>dof</th>\n",
       "      <th>vdisp</th>\n",
       "      <th>vdisp_err</th>\n",
       "      <th>zquality</th>\n",
       "      <th>egsflags</th>\n",
       "      <th>comment</th>\n",
       "      <th>m_b</th>\n",
       "      <th>ub_0</th>\n",
       "      <th>ra_cfhtls</th>\n",
       "      <th>dec_cfhtls</th>\n",
       "      <th>u</th>\n",
       "      <th>g</th>\n",
       "      <th>r</th>\n",
       "      <th>i</th>\n",
       "      <th>i2</th>\n",
       "      <th>z</th>\n",
       "      <th>uerr</th>\n",
       "      <th>gerr</th>\n",
       "      <th>rerr</th>\n",
       "      <th>ierr</th>\n",
       "      <th>i2err</th>\n",
       "      <th>zerr</th>\n",
       "      <th>u_apercor</th>\n",
       "      <th>g_apercor</th>\n",
       "      <th>r_apercor</th>\n",
       "      <th>i_apercor</th>\n",
       "      <th>i2_apercor</th>\n",
       "      <th>z_apercor</th>\n",
       "      <th>uerr_aper</th>\n",
       "      <th>gerr_aper</th>\n",
       "      <th>rerr_aper</th>\n",
       "      <th>ierr_aper</th>\n",
       "      <th>i2err_aper</th>\n",
       "      <th>zerr_aper</th>\n",
       "      <th>uerr_apercor</th>\n",
       "      <th>gerr_apercor</th>\n",
       "      <th>rerr_apercor</th>\n",
       "      <th>ierr_apercor</th>\n",
       "      <th>i2err_apercor</th>\n",
       "      <th>zerr_apercor</th>\n",
       "      <th>r_radius_arcsec</th>\n",
       "      <th>u(sexflag)</th>\n",
       "      <th>g(sexflag)</th>\n",
       "      <th>r(sexflag)</th>\n",
       "      <th>i(sexflag)</th>\n",
       "      <th>i2(sexflag)</th>\n",
       "      <th>z(sexflag)</th>\n",
       "      <th>flag_cfhtls</th>\n",
       "      <th>cfhtls_source</th>\n",
       "      <th>ra_subaru</th>\n",
       "      <th>dec_subaru</th>\n",
       "      <th>y</th>\n",
       "      <th>yerr</th>\n",
       "      <th>y_apercor</th>\n",
       "      <th>yerr_aper</th>\n",
       "      <th>yerr_apercor</th>\n",
       "      <th>y(sexflag)</th>\n",
       "      <th>y_radius_arcsec</th>\n",
       "      <th>subaru_source</th>\n",
       "    </tr>\n",
       "  </thead>\n",
       "  <tbody>\n",
       "    <tr>\n",
       "      <th>0</th>\n",
       "      <td>11001673</td>\n",
       "      <td>213.868704</td>\n",
       "      <td>51.956445</td>\n",
       "      <td>23.487745</td>\n",
       "      <td>23.143082</td>\n",
       "      <td>22.582092</td>\n",
       "      <td>1.000000</td>\n",
       "      <td>0.010943</td>\n",
       "      <td>b''</td>\n",
       "      <td>b''</td>\n",
       "      <td>b'11001673'</td>\n",
       "      <td>b'1101'</td>\n",
       "      <td>b'000'</td>\n",
       "      <td>b'2003-05-06'</td>\n",
       "      <td>52765.457031</td>\n",
       "      <td>1.115297</td>\n",
       "      <td>1.115261</td>\n",
       "      <td>999.900024</td>\n",
       "      <td>0.630934</td>\n",
       "      <td>57.0</td>\n",
       "      <td>999.900024</td>\n",
       "      <td>999.900024</td>\n",
       "      <td>2</td>\n",
       "      <td>16777216</td>\n",
       "      <td>b'bext, bcol, possible OII'</td>\n",
       "      <td>-999.000000</td>\n",
       "      <td>-999.0000</td>\n",
       "      <td>213.868620</td>\n",
       "      <td>51.956434</td>\n",
       "      <td>23.529039</td>\n",
       "      <td>23.393115</td>\n",
       "      <td>23.148170</td>\n",
       "      <td>22.854212</td>\n",
       "      <td>-99.0</td>\n",
       "      <td>22.162377</td>\n",
       "      <td>0.0678</td>\n",
       "      <td>0.0400</td>\n",
       "      <td>0.0382</td>\n",
       "      <td>0.0678</td>\n",
       "      <td>-99.0</td>\n",
       "      <td>0.0623</td>\n",
       "      <td>23.543491</td>\n",
       "      <td>23.430495</td>\n",
       "      <td>23.100311</td>\n",
       "      <td>22.768970</td>\n",
       "      <td>-99.0</td>\n",
       "      <td>22.223810</td>\n",
       "      <td>0.0542</td>\n",
       "      <td>0.0323</td>\n",
       "      <td>0.0279</td>\n",
       "      <td>0.0466</td>\n",
       "      <td>-99.0</td>\n",
       "      <td>0.0536</td>\n",
       "      <td>0.039631</td>\n",
       "      <td>0.041359</td>\n",
       "      <td>0.039777</td>\n",
       "      <td>0.046863</td>\n",
       "      <td>-99.0</td>\n",
       "      <td>0.043833</td>\n",
       "      <td>0.581804</td>\n",
       "      <td>3</td>\n",
       "      <td>3</td>\n",
       "      <td>3</td>\n",
       "      <td>3</td>\n",
       "      <td>-99</td>\n",
       "      <td>3</td>\n",
       "      <td>0</td>\n",
       "      <td>1</td>\n",
       "      <td>213.868626</td>\n",
       "      <td>51.956443</td>\n",
       "      <td>21.869627</td>\n",
       "      <td>0.060918</td>\n",
       "      <td>21.926356</td>\n",
       "      <td>0.041955</td>\n",
       "      <td>0.141778</td>\n",
       "      <td>3.0</td>\n",
       "      <td>0.656514</td>\n",
       "      <td>1</td>\n",
       "    </tr>\n",
       "    <tr>\n",
       "      <th>1</th>\n",
       "      <td>11001699</td>\n",
       "      <td>213.810471</td>\n",
       "      <td>51.942316</td>\n",
       "      <td>22.067692</td>\n",
       "      <td>20.034674</td>\n",
       "      <td>19.545080</td>\n",
       "      <td>3.000000</td>\n",
       "      <td>0.011014</td>\n",
       "      <td>b'GALAXY'</td>\n",
       "      <td>b''</td>\n",
       "      <td>b'11001699'</td>\n",
       "      <td>b'1100'</td>\n",
       "      <td>b'7'</td>\n",
       "      <td>b'2003-05-03'</td>\n",
       "      <td>52762.441406</td>\n",
       "      <td>0.290641</td>\n",
       "      <td>0.290608</td>\n",
       "      <td>0.000043</td>\n",
       "      <td>1.178153</td>\n",
       "      <td>5901.0</td>\n",
       "      <td>166.334991</td>\n",
       "      <td>49.481255</td>\n",
       "      <td>4</td>\n",
       "      <td>16777216</td>\n",
       "      <td>b''</td>\n",
       "      <td>-19.228701</td>\n",
       "      <td>1.1295</td>\n",
       "      <td>213.810138</td>\n",
       "      <td>51.942348</td>\n",
       "      <td>30.123756</td>\n",
       "      <td>28.298480</td>\n",
       "      <td>18.540350</td>\n",
       "      <td>99.000000</td>\n",
       "      <td>-99.0</td>\n",
       "      <td>99.000000</td>\n",
       "      <td>0.0000</td>\n",
       "      <td>0.0000</td>\n",
       "      <td>0.0014</td>\n",
       "      <td>99.0000</td>\n",
       "      <td>-99.0</td>\n",
       "      <td>99.0000</td>\n",
       "      <td>30.848978</td>\n",
       "      <td>28.989668</td>\n",
       "      <td>19.027422</td>\n",
       "      <td>99.000000</td>\n",
       "      <td>-99.0</td>\n",
       "      <td>99.000000</td>\n",
       "      <td>0.0000</td>\n",
       "      <td>0.0000</td>\n",
       "      <td>0.0028</td>\n",
       "      <td>99.0000</td>\n",
       "      <td>-99.0</td>\n",
       "      <td>99.0000</td>\n",
       "      <td>0.029567</td>\n",
       "      <td>0.030353</td>\n",
       "      <td>0.027558</td>\n",
       "      <td>99.000000</td>\n",
       "      <td>-99.0</td>\n",
       "      <td>99.000000</td>\n",
       "      <td>0.824625</td>\n",
       "      <td>19</td>\n",
       "      <td>19</td>\n",
       "      <td>19</td>\n",
       "      <td>3</td>\n",
       "      <td>-99</td>\n",
       "      <td>3</td>\n",
       "      <td>244</td>\n",
       "      <td>1</td>\n",
       "      <td>213.810455</td>\n",
       "      <td>51.942321</td>\n",
       "      <td>18.757229</td>\n",
       "      <td>0.005813</td>\n",
       "      <td>18.811085</td>\n",
       "      <td>0.004386</td>\n",
       "      <td>0.050987</td>\n",
       "      <td>3.0</td>\n",
       "      <td>0.744269</td>\n",
       "      <td>1</td>\n",
       "    </tr>\n",
       "    <tr>\n",
       "      <th>2</th>\n",
       "      <td>11001770</td>\n",
       "      <td>213.848431</td>\n",
       "      <td>51.948876</td>\n",
       "      <td>24.144438</td>\n",
       "      <td>24.103180</td>\n",
       "      <td>24.020006</td>\n",
       "      <td>3.000000</td>\n",
       "      <td>0.010856</td>\n",
       "      <td>b'GALAXY'</td>\n",
       "      <td>b''</td>\n",
       "      <td>b'11001770'</td>\n",
       "      <td>b'1101'</td>\n",
       "      <td>b'003'</td>\n",
       "      <td>b'2003-05-06'</td>\n",
       "      <td>52765.457031</td>\n",
       "      <td>0.605779</td>\n",
       "      <td>0.605744</td>\n",
       "      <td>-5.000000</td>\n",
       "      <td>1.047260</td>\n",
       "      <td>5318.0</td>\n",
       "      <td>184.860001</td>\n",
       "      <td>195.000000</td>\n",
       "      <td>1</td>\n",
       "      <td>16777216</td>\n",
       "      <td>b''</td>\n",
       "      <td>-999.000000</td>\n",
       "      <td>-999.0000</td>\n",
       "      <td>213.848409</td>\n",
       "      <td>51.948865</td>\n",
       "      <td>24.294289</td>\n",
       "      <td>24.399293</td>\n",
       "      <td>24.413366</td>\n",
       "      <td>23.398456</td>\n",
       "      <td>-99.0</td>\n",
       "      <td>24.157690</td>\n",
       "      <td>0.1646</td>\n",
       "      <td>0.1383</td>\n",
       "      <td>0.2306</td>\n",
       "      <td>0.1867</td>\n",
       "      <td>-99.0</td>\n",
       "      <td>0.4558</td>\n",
       "      <td>24.324670</td>\n",
       "      <td>24.273606</td>\n",
       "      <td>24.150319</td>\n",
       "      <td>23.446252</td>\n",
       "      <td>-99.0</td>\n",
       "      <td>23.574236</td>\n",
       "      <td>0.1146</td>\n",
       "      <td>0.0870</td>\n",
       "      <td>0.1242</td>\n",
       "      <td>0.1309</td>\n",
       "      <td>-99.0</td>\n",
       "      <td>0.1793</td>\n",
       "      <td>0.111127</td>\n",
       "      <td>0.130134</td>\n",
       "      <td>0.123620</td>\n",
       "      <td>0.117813</td>\n",
       "      <td>-99.0</td>\n",
       "      <td>0.101059</td>\n",
       "      <td>0.728119</td>\n",
       "      <td>0</td>\n",
       "      <td>0</td>\n",
       "      <td>0</td>\n",
       "      <td>0</td>\n",
       "      <td>-99</td>\n",
       "      <td>0</td>\n",
       "      <td>0</td>\n",
       "      <td>1</td>\n",
       "      <td>-99.000000</td>\n",
       "      <td>-99.000000</td>\n",
       "      <td>-99.000000</td>\n",
       "      <td>-99.000000</td>\n",
       "      <td>-99.000000</td>\n",
       "      <td>-99.000000</td>\n",
       "      <td>-99.000000</td>\n",
       "      <td>-99.0</td>\n",
       "      <td>-99.000000</td>\n",
       "      <td>-99</td>\n",
       "    </tr>\n",
       "    <tr>\n",
       "      <th>3</th>\n",
       "      <td>11001800</td>\n",
       "      <td>213.831758</td>\n",
       "      <td>51.952548</td>\n",
       "      <td>25.336836</td>\n",
       "      <td>23.508480</td>\n",
       "      <td>23.081087</td>\n",
       "      <td>0.509809</td>\n",
       "      <td>0.010823</td>\n",
       "      <td>b'GALAXY'</td>\n",
       "      <td>b''</td>\n",
       "      <td>b'11001800'</td>\n",
       "      <td>b'1100'</td>\n",
       "      <td>b'004'</td>\n",
       "      <td>b'2003-05-03'</td>\n",
       "      <td>52762.441406</td>\n",
       "      <td>1.306830</td>\n",
       "      <td>1.306796</td>\n",
       "      <td>-5.000000</td>\n",
       "      <td>1.014062</td>\n",
       "      <td>5788.0</td>\n",
       "      <td>0.000000</td>\n",
       "      <td>0.000000</td>\n",
       "      <td>1</td>\n",
       "      <td>16777216</td>\n",
       "      <td>b''</td>\n",
       "      <td>-999.000000</td>\n",
       "      <td>-999.0000</td>\n",
       "      <td>213.831785</td>\n",
       "      <td>51.952539</td>\n",
       "      <td>26.363821</td>\n",
       "      <td>24.530998</td>\n",
       "      <td>23.559140</td>\n",
       "      <td>23.065110</td>\n",
       "      <td>-99.0</td>\n",
       "      <td>22.737333</td>\n",
       "      <td>0.9609</td>\n",
       "      <td>0.1344</td>\n",
       "      <td>0.0648</td>\n",
       "      <td>0.0997</td>\n",
       "      <td>-99.0</td>\n",
       "      <td>0.1110</td>\n",
       "      <td>99.000000</td>\n",
       "      <td>24.804309</td>\n",
       "      <td>23.636544</td>\n",
       "      <td>23.009222</td>\n",
       "      <td>-99.0</td>\n",
       "      <td>22.689591</td>\n",
       "      <td>99.0000</td>\n",
       "      <td>0.1077</td>\n",
       "      <td>0.0426</td>\n",
       "      <td>0.0568</td>\n",
       "      <td>-99.0</td>\n",
       "      <td>0.0661</td>\n",
       "      <td>99.000000</td>\n",
       "      <td>0.046521</td>\n",
       "      <td>0.041142</td>\n",
       "      <td>0.054297</td>\n",
       "      <td>-99.0</td>\n",
       "      <td>0.053818</td>\n",
       "      <td>0.549061</td>\n",
       "      <td>0</td>\n",
       "      <td>0</td>\n",
       "      <td>0</td>\n",
       "      <td>0</td>\n",
       "      <td>-99</td>\n",
       "      <td>0</td>\n",
       "      <td>0</td>\n",
       "      <td>1</td>\n",
       "      <td>213.831766</td>\n",
       "      <td>51.952544</td>\n",
       "      <td>22.404269</td>\n",
       "      <td>0.088970</td>\n",
       "      <td>22.535600</td>\n",
       "      <td>0.053497</td>\n",
       "      <td>0.094733</td>\n",
       "      <td>0.0</td>\n",
       "      <td>0.455820</td>\n",
       "      <td>1</td>\n",
       "    </tr>\n",
       "    <tr>\n",
       "      <th>4</th>\n",
       "      <td>11001860</td>\n",
       "      <td>213.832550</td>\n",
       "      <td>51.954174</td>\n",
       "      <td>24.382738</td>\n",
       "      <td>23.401484</td>\n",
       "      <td>22.572845</td>\n",
       "      <td>3.000000</td>\n",
       "      <td>0.010827</td>\n",
       "      <td>b'GALAXY'</td>\n",
       "      <td>b''</td>\n",
       "      <td>b'11001860'</td>\n",
       "      <td>b'1101'</td>\n",
       "      <td>b'10'</td>\n",
       "      <td>b'2003-05-06'</td>\n",
       "      <td>52765.457031</td>\n",
       "      <td>0.957705</td>\n",
       "      <td>0.957669</td>\n",
       "      <td>0.000099</td>\n",
       "      <td>1.039979</td>\n",
       "      <td>5952.0</td>\n",
       "      <td>109.394997</td>\n",
       "      <td>17.208755</td>\n",
       "      <td>4</td>\n",
       "      <td>16777216</td>\n",
       "      <td>b''</td>\n",
       "      <td>-20.083200</td>\n",
       "      <td>0.7524</td>\n",
       "      <td>213.832540</td>\n",
       "      <td>51.954167</td>\n",
       "      <td>24.571406</td>\n",
       "      <td>24.023086</td>\n",
       "      <td>23.493832</td>\n",
       "      <td>22.691404</td>\n",
       "      <td>-99.0</td>\n",
       "      <td>22.387428</td>\n",
       "      <td>0.1924</td>\n",
       "      <td>0.0874</td>\n",
       "      <td>0.0651</td>\n",
       "      <td>0.0715</td>\n",
       "      <td>-99.0</td>\n",
       "      <td>0.0850</td>\n",
       "      <td>24.362068</td>\n",
       "      <td>24.136913</td>\n",
       "      <td>23.490342</td>\n",
       "      <td>22.777181</td>\n",
       "      <td>-99.0</td>\n",
       "      <td>22.319676</td>\n",
       "      <td>0.1002</td>\n",
       "      <td>0.0615</td>\n",
       "      <td>0.0420</td>\n",
       "      <td>0.0473</td>\n",
       "      <td>-99.0</td>\n",
       "      <td>0.0508</td>\n",
       "      <td>0.050326</td>\n",
       "      <td>0.053198</td>\n",
       "      <td>0.052364</td>\n",
       "      <td>0.058492</td>\n",
       "      <td>-99.0</td>\n",
       "      <td>0.053587</td>\n",
       "      <td>0.595684</td>\n",
       "      <td>0</td>\n",
       "      <td>0</td>\n",
       "      <td>0</td>\n",
       "      <td>0</td>\n",
       "      <td>-99</td>\n",
       "      <td>0</td>\n",
       "      <td>0</td>\n",
       "      <td>1</td>\n",
       "      <td>213.832574</td>\n",
       "      <td>51.954175</td>\n",
       "      <td>22.242717</td>\n",
       "      <td>0.070760</td>\n",
       "      <td>22.100980</td>\n",
       "      <td>0.033256</td>\n",
       "      <td>0.073067</td>\n",
       "      <td>0.0</td>\n",
       "      <td>0.442022</td>\n",
       "      <td>1</td>\n",
       "    </tr>\n",
       "  </tbody>\n",
       "</table>\n",
       "</div>"
      ],
      "text/plain": [
       "   objno_deep2    ra_deep2  dec_deep2       magb       magr       magi  \\\n",
       "0     11001673  213.868704  51.956445  23.487745  23.143082  22.582092   \n",
       "1     11001699  213.810471  51.942316  22.067692  20.034674  19.545080   \n",
       "2     11001770  213.848431  51.948876  24.144438  24.103180  24.020006   \n",
       "3     11001800  213.831758  51.952548  25.336836  23.508480  23.081087   \n",
       "4     11001860  213.832550  51.954174  24.382738  23.401484  22.572845   \n",
       "\n",
       "       pgal   sfd_ebv      class subclass      objname maskname slitname  \\\n",
       "0  1.000000  0.010943        b''      b''  b'11001673'  b'1101'   b'000'   \n",
       "1  3.000000  0.011014  b'GALAXY'      b''  b'11001699'  b'1100'     b'7'   \n",
       "2  3.000000  0.010856  b'GALAXY'      b''  b'11001770'  b'1101'   b'003'   \n",
       "3  0.509809  0.010823  b'GALAXY'      b''  b'11001800'  b'1100'   b'004'   \n",
       "4  3.000000  0.010827  b'GALAXY'      b''  b'11001860'  b'1101'    b'10'   \n",
       "\n",
       "            date           mjd     z_raw    zhelio       z_err     rchi2  \\\n",
       "0  b'2003-05-06'  52765.457031  1.115297  1.115261  999.900024  0.630934   \n",
       "1  b'2003-05-03'  52762.441406  0.290641  0.290608    0.000043  1.178153   \n",
       "2  b'2003-05-06'  52765.457031  0.605779  0.605744   -5.000000  1.047260   \n",
       "3  b'2003-05-03'  52762.441406  1.306830  1.306796   -5.000000  1.014062   \n",
       "4  b'2003-05-06'  52765.457031  0.957705  0.957669    0.000099  1.039979   \n",
       "\n",
       "      dof       vdisp   vdisp_err  zquality  egsflags  \\\n",
       "0    57.0  999.900024  999.900024         2  16777216   \n",
       "1  5901.0  166.334991   49.481255         4  16777216   \n",
       "2  5318.0  184.860001  195.000000         1  16777216   \n",
       "3  5788.0    0.000000    0.000000         1  16777216   \n",
       "4  5952.0  109.394997   17.208755         4  16777216   \n",
       "\n",
       "                       comment         m_b      ub_0   ra_cfhtls  dec_cfhtls  \\\n",
       "0  b'bext, bcol, possible OII' -999.000000 -999.0000  213.868620   51.956434   \n",
       "1                          b''  -19.228701    1.1295  213.810138   51.942348   \n",
       "2                          b'' -999.000000 -999.0000  213.848409   51.948865   \n",
       "3                          b'' -999.000000 -999.0000  213.831785   51.952539   \n",
       "4                          b''  -20.083200    0.7524  213.832540   51.954167   \n",
       "\n",
       "           u          g          r          i    i2          z    uerr  \\\n",
       "0  23.529039  23.393115  23.148170  22.854212 -99.0  22.162377  0.0678   \n",
       "1  30.123756  28.298480  18.540350  99.000000 -99.0  99.000000  0.0000   \n",
       "2  24.294289  24.399293  24.413366  23.398456 -99.0  24.157690  0.1646   \n",
       "3  26.363821  24.530998  23.559140  23.065110 -99.0  22.737333  0.9609   \n",
       "4  24.571406  24.023086  23.493832  22.691404 -99.0  22.387428  0.1924   \n",
       "\n",
       "     gerr    rerr     ierr  i2err     zerr  u_apercor  g_apercor  r_apercor  \\\n",
       "0  0.0400  0.0382   0.0678  -99.0   0.0623  23.543491  23.430495  23.100311   \n",
       "1  0.0000  0.0014  99.0000  -99.0  99.0000  30.848978  28.989668  19.027422   \n",
       "2  0.1383  0.2306   0.1867  -99.0   0.4558  24.324670  24.273606  24.150319   \n",
       "3  0.1344  0.0648   0.0997  -99.0   0.1110  99.000000  24.804309  23.636544   \n",
       "4  0.0874  0.0651   0.0715  -99.0   0.0850  24.362068  24.136913  23.490342   \n",
       "\n",
       "   i_apercor  i2_apercor  z_apercor  uerr_aper  gerr_aper  rerr_aper  \\\n",
       "0  22.768970       -99.0  22.223810     0.0542     0.0323     0.0279   \n",
       "1  99.000000       -99.0  99.000000     0.0000     0.0000     0.0028   \n",
       "2  23.446252       -99.0  23.574236     0.1146     0.0870     0.1242   \n",
       "3  23.009222       -99.0  22.689591    99.0000     0.1077     0.0426   \n",
       "4  22.777181       -99.0  22.319676     0.1002     0.0615     0.0420   \n",
       "\n",
       "   ierr_aper  i2err_aper  zerr_aper  uerr_apercor  gerr_apercor  rerr_apercor  \\\n",
       "0     0.0466       -99.0     0.0536      0.039631      0.041359      0.039777   \n",
       "1    99.0000       -99.0    99.0000      0.029567      0.030353      0.027558   \n",
       "2     0.1309       -99.0     0.1793      0.111127      0.130134      0.123620   \n",
       "3     0.0568       -99.0     0.0661     99.000000      0.046521      0.041142   \n",
       "4     0.0473       -99.0     0.0508      0.050326      0.053198      0.052364   \n",
       "\n",
       "   ierr_apercor  i2err_apercor  zerr_apercor  r_radius_arcsec  u(sexflag)  \\\n",
       "0      0.046863          -99.0      0.043833         0.581804           3   \n",
       "1     99.000000          -99.0     99.000000         0.824625          19   \n",
       "2      0.117813          -99.0      0.101059         0.728119           0   \n",
       "3      0.054297          -99.0      0.053818         0.549061           0   \n",
       "4      0.058492          -99.0      0.053587         0.595684           0   \n",
       "\n",
       "   g(sexflag)  r(sexflag)  i(sexflag)  i2(sexflag)  z(sexflag)  flag_cfhtls  \\\n",
       "0           3           3           3          -99           3            0   \n",
       "1          19          19           3          -99           3          244   \n",
       "2           0           0           0          -99           0            0   \n",
       "3           0           0           0          -99           0            0   \n",
       "4           0           0           0          -99           0            0   \n",
       "\n",
       "   cfhtls_source   ra_subaru  dec_subaru          y       yerr  y_apercor  \\\n",
       "0              1  213.868626   51.956443  21.869627   0.060918  21.926356   \n",
       "1              1  213.810455   51.942321  18.757229   0.005813  18.811085   \n",
       "2              1  -99.000000  -99.000000 -99.000000 -99.000000 -99.000000   \n",
       "3              1  213.831766   51.952544  22.404269   0.088970  22.535600   \n",
       "4              1  213.832574   51.954175  22.242717   0.070760  22.100980   \n",
       "\n",
       "   yerr_aper  yerr_apercor  y(sexflag)  y_radius_arcsec  subaru_source  \n",
       "0   0.041955      0.141778         3.0         0.656514              1  \n",
       "1   0.004386      0.050987         3.0         0.744269              1  \n",
       "2 -99.000000    -99.000000       -99.0       -99.000000            -99  \n",
       "3   0.053497      0.094733         0.0         0.455820              1  \n",
       "4   0.033256      0.073067         0.0         0.442022              1  "
      ]
     },
     "execution_count": 6,
     "metadata": {},
     "output_type": "execute_result"
    }
   ],
   "source": [
    "df.head()"
   ]
  },
  {
   "cell_type": "code",
   "execution_count": 7,
   "metadata": {},
   "outputs": [
    {
     "data": {
      "text/plain": [
       "(23822, 78)"
      ]
     },
     "execution_count": 7,
     "metadata": {},
     "output_type": "execute_result"
    }
   ],
   "source": [
    "df.shape"
   ]
  },
  {
   "cell_type": "markdown",
   "metadata": {},
   "source": [
    "I can select the columns I want, corresponding to the brightness of the galaxies in the six bands of interest."
   ]
  },
  {
   "cell_type": "code",
   "execution_count": 8,
   "metadata": {},
   "outputs": [],
   "source": [
    "features = df[['u_apercor', 'g_apercor', 'r_apercor', 'i_apercor', 'z_apercor','y_apercor']]"
   ]
  },
  {
   "cell_type": "markdown",
   "metadata": {},
   "source": [
    "The target property is the redshift. For this catalog, spectroscopic (more precise) redshifts are available in the column below."
   ]
  },
  {
   "cell_type": "code",
   "execution_count": 9,
   "metadata": {},
   "outputs": [],
   "source": [
    "target = df['zhelio']"
   ]
  },
  {
   "cell_type": "code",
   "execution_count": 10,
   "metadata": {},
   "outputs": [
    {
     "data": {
      "text/html": [
       "<div>\n",
       "<style scoped>\n",
       "    .dataframe tbody tr th:only-of-type {\n",
       "        vertical-align: middle;\n",
       "    }\n",
       "\n",
       "    .dataframe tbody tr th {\n",
       "        vertical-align: top;\n",
       "    }\n",
       "\n",
       "    .dataframe thead th {\n",
       "        text-align: right;\n",
       "    }\n",
       "</style>\n",
       "<table border=\"1\" class=\"dataframe\">\n",
       "  <thead>\n",
       "    <tr style=\"text-align: right;\">\n",
       "      <th></th>\n",
       "      <th>u_apercor</th>\n",
       "      <th>g_apercor</th>\n",
       "      <th>r_apercor</th>\n",
       "      <th>i_apercor</th>\n",
       "      <th>z_apercor</th>\n",
       "      <th>y_apercor</th>\n",
       "    </tr>\n",
       "  </thead>\n",
       "  <tbody>\n",
       "    <tr>\n",
       "      <th>0</th>\n",
       "      <td>23.543491</td>\n",
       "      <td>23.430495</td>\n",
       "      <td>23.100311</td>\n",
       "      <td>22.768970</td>\n",
       "      <td>22.223810</td>\n",
       "      <td>21.926356</td>\n",
       "    </tr>\n",
       "    <tr>\n",
       "      <th>1</th>\n",
       "      <td>30.848978</td>\n",
       "      <td>28.989668</td>\n",
       "      <td>19.027422</td>\n",
       "      <td>99.000000</td>\n",
       "      <td>99.000000</td>\n",
       "      <td>18.811085</td>\n",
       "    </tr>\n",
       "    <tr>\n",
       "      <th>2</th>\n",
       "      <td>24.324670</td>\n",
       "      <td>24.273606</td>\n",
       "      <td>24.150319</td>\n",
       "      <td>23.446252</td>\n",
       "      <td>23.574236</td>\n",
       "      <td>-99.000000</td>\n",
       "    </tr>\n",
       "    <tr>\n",
       "      <th>3</th>\n",
       "      <td>99.000000</td>\n",
       "      <td>24.804309</td>\n",
       "      <td>23.636544</td>\n",
       "      <td>23.009222</td>\n",
       "      <td>22.689591</td>\n",
       "      <td>22.535600</td>\n",
       "    </tr>\n",
       "    <tr>\n",
       "      <th>4</th>\n",
       "      <td>24.362068</td>\n",
       "      <td>24.136913</td>\n",
       "      <td>23.490342</td>\n",
       "      <td>22.777181</td>\n",
       "      <td>22.319676</td>\n",
       "      <td>22.100980</td>\n",
       "    </tr>\n",
       "    <tr>\n",
       "      <th>5</th>\n",
       "      <td>23.552186</td>\n",
       "      <td>23.420734</td>\n",
       "      <td>23.010863</td>\n",
       "      <td>22.550723</td>\n",
       "      <td>22.277656</td>\n",
       "      <td>21.860866</td>\n",
       "    </tr>\n",
       "    <tr>\n",
       "      <th>6</th>\n",
       "      <td>23.983330</td>\n",
       "      <td>24.104438</td>\n",
       "      <td>23.461145</td>\n",
       "      <td>23.359428</td>\n",
       "      <td>22.929944</td>\n",
       "      <td>22.690175</td>\n",
       "    </tr>\n",
       "    <tr>\n",
       "      <th>7</th>\n",
       "      <td>24.665840</td>\n",
       "      <td>24.408938</td>\n",
       "      <td>23.544115</td>\n",
       "      <td>23.155140</td>\n",
       "      <td>22.706477</td>\n",
       "      <td>22.894691</td>\n",
       "    </tr>\n",
       "    <tr>\n",
       "      <th>8</th>\n",
       "      <td>23.518039</td>\n",
       "      <td>22.746858</td>\n",
       "      <td>21.571629</td>\n",
       "      <td>20.645176</td>\n",
       "      <td>20.428926</td>\n",
       "      <td>20.306110</td>\n",
       "    </tr>\n",
       "    <tr>\n",
       "      <th>9</th>\n",
       "      <td>22.755723</td>\n",
       "      <td>21.915841</td>\n",
       "      <td>21.393365</td>\n",
       "      <td>21.148952</td>\n",
       "      <td>21.052236</td>\n",
       "      <td>20.830114</td>\n",
       "    </tr>\n",
       "  </tbody>\n",
       "</table>\n",
       "</div>"
      ],
      "text/plain": [
       "   u_apercor  g_apercor  r_apercor  i_apercor  z_apercor  y_apercor\n",
       "0  23.543491  23.430495  23.100311  22.768970  22.223810  21.926356\n",
       "1  30.848978  28.989668  19.027422  99.000000  99.000000  18.811085\n",
       "2  24.324670  24.273606  24.150319  23.446252  23.574236 -99.000000\n",
       "3  99.000000  24.804309  23.636544  23.009222  22.689591  22.535600\n",
       "4  24.362068  24.136913  23.490342  22.777181  22.319676  22.100980\n",
       "5  23.552186  23.420734  23.010863  22.550723  22.277656  21.860866\n",
       "6  23.983330  24.104438  23.461145  23.359428  22.929944  22.690175\n",
       "7  24.665840  24.408938  23.544115  23.155140  22.706477  22.894691\n",
       "8  23.518039  22.746858  21.571629  20.645176  20.428926  20.306110\n",
       "9  22.755723  21.915841  21.393365  21.148952  21.052236  20.830114"
      ]
     },
     "execution_count": 10,
     "metadata": {},
     "output_type": "execute_result"
    }
   ],
   "source": [
    "features.head(10)"
   ]
  },
  {
   "cell_type": "code",
   "execution_count": 11,
   "metadata": {},
   "outputs": [
    {
     "data": {
      "text/plain": [
       "0    1.115261\n",
       "1    0.290608\n",
       "2    0.605744\n",
       "3    1.306796\n",
       "4    0.957669\n",
       "5    0.909043\n",
       "6    0.502974\n",
       "7    0.649839\n",
       "8    0.679440\n",
       "9    0.074078\n",
       "Name: zhelio, dtype: float32"
      ]
     },
     "execution_count": 11,
     "metadata": {},
     "output_type": "execute_result"
    }
   ],
   "source": [
    "target.head(10)"
   ]
  },
  {
   "cell_type": "markdown",
   "metadata": {},
   "source": [
    "### Ok, we are now ready to run our first Random Forest model!"
   ]
  },
  {
   "cell_type": "markdown",
   "metadata": {},
   "source": [
    "To get an idea of what we are shooting for, we can look at the figure of the paper.\n",
    "\n",
    " ![Performance of photometric redshift reconstruction](Photoz_RF_CFHTLS_Deep.png)"
   ]
  },
  {
   "cell_type": "markdown",
   "metadata": {},
   "source": [
    "In the figure above, $\\sigma_{NMAD}$ is the normalized median absolute deviation of the residual vector, and $\\eta$  is the fraction of outliers, defined as those objects for which (z_true - z_est)/(1+z_true) > 0.15.\n",
    "\n",
    "To be fair, we are working with DEEP2/3 data, so our range is slightly different."
   ]
  },
  {
   "cell_type": "code",
   "execution_count": 12,
   "metadata": {},
   "outputs": [],
   "source": [
    "model = RandomForestRegressor()"
   ]
  },
  {
   "cell_type": "code",
   "execution_count": 13,
   "metadata": {},
   "outputs": [
    {
     "data": {
      "text/plain": [
       "{'bootstrap': True,\n",
       " 'ccp_alpha': 0.0,\n",
       " 'criterion': 'squared_error',\n",
       " 'max_depth': None,\n",
       " 'max_features': 1.0,\n",
       " 'max_leaf_nodes': None,\n",
       " 'max_samples': None,\n",
       " 'min_impurity_decrease': 0.0,\n",
       " 'min_samples_leaf': 1,\n",
       " 'min_samples_split': 2,\n",
       " 'min_weight_fraction_leaf': 0.0,\n",
       " 'n_estimators': 100,\n",
       " 'n_jobs': None,\n",
       " 'oob_score': False,\n",
       " 'random_state': None,\n",
       " 'verbose': 0,\n",
       " 'warm_start': False}"
      ]
     },
     "execution_count": 13,
     "metadata": {},
     "output_type": "execute_result"
    }
   ],
   "source": [
    "model.get_params()"
   ]
  },
  {
   "cell_type": "markdown",
   "metadata": {},
   "source": [
    "Establish benchmark."
   ]
  },
  {
   "cell_type": "code",
   "execution_count": 14,
   "metadata": {},
   "outputs": [],
   "source": [
    "scores = cross_validate(model,features,target, \\\n",
    "    cv = KFold(n_splits=5, shuffle=True, random_state=10), \\\n",
    "                        return_train_score=True)"
   ]
  },
  {
   "cell_type": "code",
   "execution_count": 15,
   "metadata": {},
   "outputs": [
    {
     "data": {
      "text/plain": [
       "{'fit_time': array([7.44966626, 7.66579461, 7.51966381, 7.56060529, 7.27601719]),\n",
       " 'score_time': array([0.09627151, 0.10590386, 0.11608148, 0.09340429, 0.09263682]),\n",
       " 'test_score': array([0.30081675, 0.31238896, 0.31075728, 0.30761175, 0.31213152]),\n",
       " 'train_score': array([0.87406407, 0.87890089, 0.87720302, 0.87781713, 0.87378073])}"
      ]
     },
     "execution_count": 15,
     "metadata": {},
     "output_type": "execute_result"
    }
   ],
   "source": [
    "scores"
   ]
  },
  {
   "cell_type": "markdown",
   "metadata": {},
   "source": [
    "Note - it takes a litle time! Also, the scores are the R2 score (also known as the coefficient of determination, essentially a measure of correlation between true and predicted scores) at this point."
   ]
  },
  {
   "cell_type": "code",
   "execution_count": 16,
   "metadata": {},
   "outputs": [
    {
     "data": {
      "text/plain": [
       "0.30874125147311166"
      ]
     },
     "execution_count": 16,
     "metadata": {},
     "output_type": "execute_result"
    }
   ],
   "source": [
    "np.mean(scores['test_score'])"
   ]
  },
  {
   "cell_type": "code",
   "execution_count": 17,
   "metadata": {},
   "outputs": [
    {
     "data": {
      "text/plain": [
       "0.8763531676939305"
      ]
     },
     "execution_count": 17,
     "metadata": {},
     "output_type": "execute_result"
    }
   ],
   "source": [
    "np.mean(scores['train_score'])"
   ]
  },
  {
   "cell_type": "markdown",
   "metadata": {},
   "source": [
    "Looks like we have a ..... issue! Overfitting, high variance."
   ]
  },
  {
   "cell_type": "markdown",
   "metadata": {},
   "source": [
    "Let's also plot the predictions vs true values:"
   ]
  },
  {
   "cell_type": "code",
   "execution_count": 18,
   "metadata": {},
   "outputs": [],
   "source": [
    "ypred = cross_val_predict(model,features,target, \\\n",
    "        cv = KFold(n_splits=5, shuffle=True, random_state=10))"
   ]
  },
  {
   "cell_type": "code",
   "execution_count": 19,
   "metadata": {},
   "outputs": [
    {
     "data": {
      "text/plain": [
       "(0.0, 3.0)"
      ]
     },
     "execution_count": 19,
     "metadata": {},
     "output_type": "execute_result"
    },
    {
     "data": {
      "image/png": "[encoded data removed]",
      "text/plain": [
       "<Figure size 1800x1200 with 1 Axes>"
      ]
     },
     "metadata": {
      "needs_background": "light"
     },
     "output_type": "display_data"
    }
   ],
   "source": [
    "plt.scatter(target,ypred, s = 20, c = 'royalblue')\n",
    "plt.xlabel('True (spectroscopic) z', fontsize=14)\n",
    "plt.ylabel('Predicted z',fontsize=14)\n",
    "x = np.linspace(0,3,100)\n",
    "y = x\n",
    "plt.plot(x, y, linestyle='dashed', c='r', label='y=x')\n",
    "plt.axis('square')\n",
    "plt.xlim(0,3)\n",
    "plt.ylim(0,3)"
   ]
  },
  {
   "cell_type": "markdown",
   "metadata": {},
   "source": [
    "### Question: Does it look like the one of the paper?"
   ]
  },
  {
   "cell_type": "markdown",
   "metadata": {},
   "source": [
    "For a fair comparison, we can calculate the outlier fraction, like in the paper:"
   ]
  },
  {
   "cell_type": "code",
   "execution_count": 20,
   "metadata": {},
   "outputs": [
    {
     "data": {
      "text/plain": [
       "0.2580387876752582"
      ]
     },
     "execution_count": 20,
     "metadata": {},
     "output_type": "execute_result"
    }
   ],
   "source": [
    "len(np.where(np.abs(target-ypred)>0.15*(1+target))[0])/len(target)"
   ]
  },
  {
   "cell_type": "markdown",
   "metadata": {},
   "source": [
    "And the normalized median absolute deviation, or NMAD:"
   ]
  },
  {
   "cell_type": "code",
   "execution_count": 21,
   "metadata": {},
   "outputs": [
    {
     "data": {
      "text/plain": [
       "0.07448238165966214"
      ]
     },
     "execution_count": 21,
     "metadata": {},
     "output_type": "execute_result"
    }
   ],
   "source": [
    "1.48*np.median(np.abs(target-ypred)/(1 + target)) \n",
    "#The 1.48 is there because for a Gaussian distribution, this becomes the standard deviation"
   ]
  },
  {
   "cell_type": "markdown",
   "metadata": {},
   "source": [
    "#### We have a pretty severe high variance issue; let's see if parameter optimization helps."
   ]
  },
  {
   "cell_type": "markdown",
   "metadata": {},
   "source": [
    "We can start by making the data set a bit smaller, as we have seen that timings were already challenging in simple k-fold CV."
   ]
  },
  {
   "cell_type": "code",
   "execution_count": 22,
   "metadata": {},
   "outputs": [],
   "source": [
    "np.random.seed(20)\n",
    "ntrain = len(features)\n",
    "sel = np.random.choice(range(len(features)), ntrain, replace = False) #sample without replacement"
   ]
  },
  {
   "cell_type": "code",
   "execution_count": 23,
   "metadata": {},
   "outputs": [],
   "source": [
    "from sklearn.model_selection import train_test_split\n",
    "sel, sel_test = train_test_split(sel, test_size=0.2)"
   ]
  },
  {
   "cell_type": "code",
   "execution_count": 24,
   "metadata": {},
   "outputs": [
    {
     "data": {
      "text/plain": [
       "19057"
      ]
     },
     "execution_count": 24,
     "metadata": {},
     "output_type": "execute_result"
    }
   ],
   "source": [
    "len(np.unique(sel))"
   ]
  },
  {
   "cell_type": "markdown",
   "metadata": {},
   "source": [
    "And we create our new smaller data set."
   ]
  },
  {
   "cell_type": "code",
   "execution_count": 25,
   "metadata": {},
   "outputs": [],
   "source": [
    "seld = features.loc[sel,:]\n",
    "selt = target[sel]\n",
    "\n",
    "seld_test = features.loc[sel_test,:]\n",
    "selt_test = target[sel_test]"
   ]
  },
  {
   "cell_type": "code",
   "execution_count": 26,
   "metadata": {},
   "outputs": [],
   "source": [
    "# littlescores = cross_validate(model,seld,selt, cv = KFold(n_splits=5, shuffle=True, random_state=10), return_train_score=True)"
   ]
  },
  {
   "cell_type": "code",
   "execution_count": 27,
   "metadata": {},
   "outputs": [],
   "source": [
    "# littlescores['test_score'].mean(), littlescores['train_score'].mean()"
   ]
  },
  {
   "cell_type": "markdown",
   "metadata": {},
   "source": [
    "Similar performance on training set ensures that size of data set is not a big issue and we can proceed with optimization."
   ]
  },
  {
   "cell_type": "markdown",
   "metadata": {},
   "source": [
    "The parameters that we can consider varying include:\n",
    "\n",
    "#### Tree Parameters\n",
    "\n",
    "-  The minimum number of instances in a leaf node;\n",
    "\n",
    "-  The minimum number of instances required to create a new split;\n",
    "\n",
    "- The maximum depth of tree;\n",
    "\n",
    "-  The criterion chosen to decide whether a split is worth making, expressed in terms of information gain;\n",
    "\n",
    "\n",
    "#### Randomization Parameters\n",
    "\n",
    "- The number of k < n features that are used to build trees.\n",
    "\n",
    "- The re-sampling (boostrap) of the data set (T or F).\n",
    "\n",
    "\n",
    "#### Forest Parameters\n",
    "\n",
    "The number of trees in the forest (n_estimators) can be adjusted, with the general understanding that more trees are better, but at some point performance will plateau, so one can find the trade-off between having more trees and lower runtime."
   ]
  },
  {
   "cell_type": "markdown",
   "metadata": {},
   "source": [
    "We can find them here:"
   ]
  },
  {
   "cell_type": "code",
   "execution_count": 28,
   "metadata": {},
   "outputs": [
    {
     "data": {
      "text/plain": [
       "{'bootstrap': True,\n",
       " 'ccp_alpha': 0.0,\n",
       " 'criterion': 'squared_error',\n",
       " 'max_depth': None,\n",
       " 'max_features': 1.0,\n",
       " 'max_leaf_nodes': None,\n",
       " 'max_samples': None,\n",
       " 'min_impurity_decrease': 0.0,\n",
       " 'min_samples_leaf': 1,\n",
       " 'min_samples_split': 2,\n",
       " 'min_weight_fraction_leaf': 0.0,\n",
       " 'n_estimators': 100,\n",
       " 'n_jobs': None,\n",
       " 'oob_score': False,\n",
       " 'random_state': None,\n",
       " 'verbose': 0,\n",
       " 'warm_start': False}"
      ]
     },
     "execution_count": 28,
     "metadata": {},
     "output_type": "execute_result"
    }
   ],
   "source": [
    "model.get_params()"
   ]
  },
  {
   "cell_type": "markdown",
   "metadata": {},
   "source": [
    "Let's discuss a possible set.\n",
    "\n",
    "max_depth, max_features, increas n_estimators, n_leaves"
   ]
  },
  {
   "cell_type": "code",
   "execution_count": 29,
   "metadata": {},
   "outputs": [
    {
     "data": {
      "text/html": [
       "<div>\n",
       "<style scoped>\n",
       "    .dataframe tbody tr th:only-of-type {\n",
       "        vertical-align: middle;\n",
       "    }\n",
       "\n",
       "    .dataframe tbody tr th {\n",
       "        vertical-align: top;\n",
       "    }\n",
       "\n",
       "    .dataframe thead th {\n",
       "        text-align: right;\n",
       "    }\n",
       "</style>\n",
       "<table border=\"1\" class=\"dataframe\">\n",
       "  <thead>\n",
       "    <tr style=\"text-align: right;\">\n",
       "      <th></th>\n",
       "      <th>u_apercor</th>\n",
       "      <th>g_apercor</th>\n",
       "      <th>r_apercor</th>\n",
       "      <th>i_apercor</th>\n",
       "      <th>z_apercor</th>\n",
       "      <th>y_apercor</th>\n",
       "    </tr>\n",
       "  </thead>\n",
       "  <tbody>\n",
       "    <tr>\n",
       "      <th>10423</th>\n",
       "      <td>24.925338</td>\n",
       "      <td>24.136357</td>\n",
       "      <td>22.926392</td>\n",
       "      <td>21.710163</td>\n",
       "      <td>21.195688</td>\n",
       "      <td>-99.000000</td>\n",
       "    </tr>\n",
       "    <tr>\n",
       "      <th>17568</th>\n",
       "      <td>22.452628</td>\n",
       "      <td>21.415618</td>\n",
       "      <td>20.288384</td>\n",
       "      <td>19.836142</td>\n",
       "      <td>19.608309</td>\n",
       "      <td>-99.000000</td>\n",
       "    </tr>\n",
       "    <tr>\n",
       "      <th>22231</th>\n",
       "      <td>25.079738</td>\n",
       "      <td>24.355512</td>\n",
       "      <td>23.334964</td>\n",
       "      <td>22.789102</td>\n",
       "      <td>22.735625</td>\n",
       "      <td>-99.000000</td>\n",
       "    </tr>\n",
       "    <tr>\n",
       "      <th>21206</th>\n",
       "      <td>24.816484</td>\n",
       "      <td>24.486021</td>\n",
       "      <td>23.861832</td>\n",
       "      <td>23.260590</td>\n",
       "      <td>22.878103</td>\n",
       "      <td>-99.000000</td>\n",
       "    </tr>\n",
       "    <tr>\n",
       "      <th>23796</th>\n",
       "      <td>25.298183</td>\n",
       "      <td>24.505416</td>\n",
       "      <td>24.202082</td>\n",
       "      <td>23.987302</td>\n",
       "      <td>24.175154</td>\n",
       "      <td>-99.000000</td>\n",
       "    </tr>\n",
       "    <tr>\n",
       "      <th>17541</th>\n",
       "      <td>24.142261</td>\n",
       "      <td>23.729016</td>\n",
       "      <td>23.094103</td>\n",
       "      <td>23.027214</td>\n",
       "      <td>22.988223</td>\n",
       "      <td>-99.000000</td>\n",
       "    </tr>\n",
       "    <tr>\n",
       "      <th>13541</th>\n",
       "      <td>23.876779</td>\n",
       "      <td>23.682530</td>\n",
       "      <td>23.241844</td>\n",
       "      <td>22.650736</td>\n",
       "      <td>22.506095</td>\n",
       "      <td>-99.000000</td>\n",
       "    </tr>\n",
       "    <tr>\n",
       "      <th>13169</th>\n",
       "      <td>24.363590</td>\n",
       "      <td>23.444348</td>\n",
       "      <td>22.973828</td>\n",
       "      <td>22.741105</td>\n",
       "      <td>22.655150</td>\n",
       "      <td>22.688658</td>\n",
       "    </tr>\n",
       "    <tr>\n",
       "      <th>8074</th>\n",
       "      <td>24.557732</td>\n",
       "      <td>24.479149</td>\n",
       "      <td>24.320924</td>\n",
       "      <td>23.865042</td>\n",
       "      <td>23.513233</td>\n",
       "      <td>23.557985</td>\n",
       "    </tr>\n",
       "    <tr>\n",
       "      <th>18190</th>\n",
       "      <td>23.752160</td>\n",
       "      <td>23.500453</td>\n",
       "      <td>23.143274</td>\n",
       "      <td>22.791387</td>\n",
       "      <td>22.299410</td>\n",
       "      <td>-99.000000</td>\n",
       "    </tr>\n",
       "  </tbody>\n",
       "</table>\n",
       "</div>"
      ],
      "text/plain": [
       "       u_apercor  g_apercor  r_apercor  i_apercor  z_apercor  y_apercor\n",
       "10423  24.925338  24.136357  22.926392  21.710163  21.195688 -99.000000\n",
       "17568  22.452628  21.415618  20.288384  19.836142  19.608309 -99.000000\n",
       "22231  25.079738  24.355512  23.334964  22.789102  22.735625 -99.000000\n",
       "21206  24.816484  24.486021  23.861832  23.260590  22.878103 -99.000000\n",
       "23796  25.298183  24.505416  24.202082  23.987302  24.175154 -99.000000\n",
       "17541  24.142261  23.729016  23.094103  23.027214  22.988223 -99.000000\n",
       "13541  23.876779  23.682530  23.241844  22.650736  22.506095 -99.000000\n",
       "13169  24.363590  23.444348  22.973828  22.741105  22.655150  22.688658\n",
       "8074   24.557732  24.479149  24.320924  23.865042  23.513233  23.557985\n",
       "18190  23.752160  23.500453  23.143274  22.791387  22.299410 -99.000000"
      ]
     },
     "execution_count": 29,
     "metadata": {},
     "output_type": "execute_result"
    }
   ],
   "source": [
    "seld.head(10)"
   ]
  },
  {
   "cell_type": "code",
   "execution_count": 30,
   "metadata": {},
   "outputs": [
    {
     "data": {
      "text/plain": [
       "10423    1.104324\n",
       "17568    0.372083\n",
       "22231    0.514079\n",
       "21206    0.825409\n",
       "23796    0.584154\n",
       "Name: zhelio, dtype: float32"
      ]
     },
     "execution_count": 30,
     "metadata": {},
     "output_type": "execute_result"
    }
   ],
   "source": [
    "len(seld.columns)\n",
    "selt.head()"
   ]
  },
  {
   "cell_type": "code",
   "execution_count": 31,
   "metadata": {},
   "outputs": [
    {
     "data": {
      "text/plain": [
       "array([ True,  True,  True, ...,  True,  True,  True])"
      ]
     },
     "execution_count": 31,
     "metadata": {},
     "output_type": "execute_result"
    }
   ],
   "source": [
    "seld.index == selt.index"
   ]
  },
  {
   "cell_type": "code",
   "execution_count": 32,
   "metadata": {},
   "outputs": [
    {
     "data": {
      "text/plain": [
       "13169    0.189523\n",
       "8074     1.078245\n",
       "8353     0.643838\n",
       "8858     1.496607\n",
       "8945     0.580605\n",
       "1884     0.992015\n",
       "8764     0.719222\n",
       "3539     0.829183\n",
       "12157    0.937059\n",
       "10120    1.016460\n",
       "Name: zhelio, dtype: float32"
      ]
     },
     "execution_count": 32,
     "metadata": {},
     "output_type": "execute_result"
    }
   ],
   "source": [
    "# First, remove inconsistent values\n",
    "seld_filtered = seld\n",
    "for colname in seld.columns:\n",
    "    seld_filtered = seld_filtered[seld_filtered[colname] > 0]\n",
    "    seld_test = seld_test[seld_test[colname] > 0]\n",
    "seld_filtered.head(10)\n",
    "\n",
    "selt_filtered = selt.loc[seld_filtered.index]\n",
    "selt_test = selt_test.loc[seld_test.index]\n",
    "selt_filtered.head(10)"
   ]
  },
  {
   "cell_type": "code",
   "execution_count": 33,
   "metadata": {},
   "outputs": [
    {
     "data": {
      "text/plain": [
       "array([ True,  True,  True, ...,  True,  True,  True])"
      ]
     },
     "execution_count": 33,
     "metadata": {},
     "output_type": "execute_result"
    }
   ],
   "source": [
    "seld_filtered.index == selt_filtered.index"
   ]
  },
  {
   "cell_type": "code",
   "execution_count": 34,
   "metadata": {},
   "outputs": [
    {
     "data": {
      "text/plain": [
       "((19057, 6), (9740, 6), (9740,))"
      ]
     },
     "execution_count": 34,
     "metadata": {},
     "output_type": "execute_result"
    }
   ],
   "source": [
    "np.shape(seld.values), np.shape(seld_filtered.values), np.shape(selt_filtered.values)"
   ]
  },
  {
   "cell_type": "code",
   "execution_count": 35,
   "metadata": {},
   "outputs": [],
   "source": [
    "# now remove negative redshifts\n",
    "selt_filtered = selt_filtered[0 < selt_filtered]\n",
    "seld_filtered = seld_filtered.loc[selt_filtered.index]\n",
    "\n",
    "selt_test = selt_test[0 < selt_test]\n",
    "seld_test = seld_test.loc[selt_test.index]\n"
   ]
  },
  {
   "cell_type": "code",
   "execution_count": 36,
   "metadata": {},
   "outputs": [],
   "source": [
    "# now remove larger than 3 redshifts\n",
    "selt_filtered = selt_filtered[selt_filtered < 3]\n",
    "seld_filtered = seld_filtered.loc[selt_filtered.index]\n",
    "\n",
    "selt_test = selt_test[selt_test < 3]\n",
    "seld_test = seld_test.loc[selt_test.index]"
   ]
  },
  {
   "cell_type": "code",
   "execution_count": 37,
   "metadata": {},
   "outputs": [
    {
     "data": {
      "text/plain": [
       "array([ True,  True,  True, ...,  True,  True,  True])"
      ]
     },
     "execution_count": 37,
     "metadata": {},
     "output_type": "execute_result"
    }
   ],
   "source": [
    "seld_filtered.index == selt_filtered.index"
   ]
  },
  {
   "cell_type": "code",
   "execution_count": 38,
   "metadata": {},
   "outputs": [
    {
     "data": {
      "text/plain": [
       "((19057, 6), (9541, 6), (9541,))"
      ]
     },
     "execution_count": 38,
     "metadata": {},
     "output_type": "execute_result"
    }
   ],
   "source": [
    "np.shape(seld.values), np.shape(seld_filtered.values), np.shape(selt_filtered.values)"
   ]
  },
  {
   "cell_type": "code",
   "execution_count": 39,
   "metadata": {},
   "outputs": [],
   "source": [
    "from sklearn.preprocessing import StandardScaler, MinMaxScaler"
   ]
  },
  {
   "cell_type": "code",
   "execution_count": 40,
   "metadata": {},
   "outputs": [],
   "source": [
    "scalerd = StandardScaler()\n",
    "scalerd.fit(seld_filtered)\n",
    "seld_sc = scalerd.transform(seld_filtered)\n",
    "\n",
    "scalert = StandardScaler()\n",
    "scalert.fit(selt_filtered.values.reshape(-1,1))\n",
    "selt_sc = scalert.transform(selt_filtered.values.reshape(-1,1))"
   ]
  },
  {
   "cell_type": "markdown",
   "metadata": {},
   "source": [
    "The cell below creates a grid of parameters and runs a cross-validated model for every possible combination, and returns the best-performing model. It gets time-consuming quite fast."
   ]
  },
  {
   "cell_type": "code",
   "execution_count": 41,
   "metadata": {},
   "outputs": [
    {
     "name": "stdout",
     "output_type": "stream",
     "text": [
      "Fitting 5 folds for each of 1 candidates, totalling 5 fits\n",
      "Best params, best score: -0.1225 {'max_depth': None, 'max_features': 5, 'min_samples_leaf': 5, 'min_samples_split': 5, 'n_estimators': 5}\n"
     ]
    }
   ],
   "source": [
    "#Takes a few minutes\n",
    "\n",
    "parameters = {'max_depth':[None], \\\n",
    "              'min_samples_split':[5], 'n_estimators':[5], 'max_features': [5], 'min_samples_leaf': [5]}\n",
    "\n",
    "nmodels = np.product([len(el) for el in parameters.values()])\n",
    "\n",
    "model = GridSearchCV(RandomForestRegressor(), parameters, \\\n",
    "                     cv = KFold(n_splits=5, shuffle=True), \\\n",
    "                     verbose = 2, n_jobs = 4, return_train_score=True)\n",
    "\n",
    "# seld_sc2 = np.concatenate((seld_sc, seld_sc + np.random.randn(len(seld_sc), 6)), axis=1)\n",
    "# selt_sc2 = np.concatenate((selt_sc, selt_sc+np.random.randn(len(selt_sc))), axis=1)\n",
    "\n",
    "model.fit(seld_sc + np.random.randn(len(seld_sc), 6), selt_sc+np.random.randn(len(selt_sc)))\n",
    "\n",
    "print('Best params, best score:', \"{:.4f}\".format(model.best_score_), \\\n",
    "      model.best_params_)"
   ]
  },
  {
   "cell_type": "markdown",
   "metadata": {},
   "source": [
    "We can save the scores in a data frame and sort them by decreasing test scores (so our top performing model is first)."
   ]
  },
  {
   "cell_type": "code",
   "execution_count": 42,
   "metadata": {},
   "outputs": [],
   "source": [
    "scores = pd.DataFrame(model.cv_results_)\n",
    "\n",
    "scoresCV = scores[['params','mean_test_score','std_test_score','mean_train_score']].sort_values(by = 'mean_test_score', \\\n",
    "                                                    ascending = False)\n"
   ]
  },
  {
   "cell_type": "code",
   "execution_count": 43,
   "metadata": {},
   "outputs": [
    {
     "data": {
      "text/html": [
       "<div>\n",
       "<style scoped>\n",
       "    .dataframe tbody tr th:only-of-type {\n",
       "        vertical-align: middle;\n",
       "    }\n",
       "\n",
       "    .dataframe tbody tr th {\n",
       "        vertical-align: top;\n",
       "    }\n",
       "\n",
       "    .dataframe thead th {\n",
       "        text-align: right;\n",
       "    }\n",
       "</style>\n",
       "<table border=\"1\" class=\"dataframe\">\n",
       "  <thead>\n",
       "    <tr style=\"text-align: right;\">\n",
       "      <th></th>\n",
       "      <th>params</th>\n",
       "      <th>mean_test_score</th>\n",
       "      <th>std_test_score</th>\n",
       "      <th>mean_train_score</th>\n",
       "    </tr>\n",
       "  </thead>\n",
       "  <tbody>\n",
       "    <tr>\n",
       "      <th>0</th>\n",
       "      <td>{'max_depth': None, 'max_features': 5, 'min_samples_leaf': 5, 'min_samples_split': 5, 'n_estimat...</td>\n",
       "      <td>-0.122462</td>\n",
       "      <td>0.0153</td>\n",
       "      <td>0.460001</td>\n",
       "    </tr>\n",
       "  </tbody>\n",
       "</table>\n",
       "</div>"
      ],
      "text/plain": [
       "                                                                                                params  \\\n",
       "0  {'max_depth': None, 'max_features': 5, 'min_samples_leaf': 5, 'min_samples_split': 5, 'n_estimat...   \n",
       "\n",
       "   mean_test_score  std_test_score  mean_train_score  \n",
       "0        -0.122462          0.0153          0.460001  "
      ]
     },
     "execution_count": 43,
     "metadata": {},
     "output_type": "execute_result"
    }
   ],
   "source": [
    "scoresCV.sort_values(by='mean_test_score', ascending=False)"
   ]
  },
  {
   "cell_type": "code",
   "execution_count": 44,
   "metadata": {},
   "outputs": [
    {
     "data": {
      "text/plain": [
       "-0.12246187722968951"
      ]
     },
     "execution_count": 44,
     "metadata": {},
     "output_type": "execute_result"
    }
   ],
   "source": [
    "scores['mean_test_score'].mean()"
   ]
  },
  {
   "cell_type": "code",
   "execution_count": 45,
   "metadata": {},
   "outputs": [
    {
     "name": "stdout",
     "output_type": "stream",
     "text": [
      "Fitting 5 folds for each of 1 candidates, totalling 5 fits\n",
      "Fitting 5 folds for each of 1 candidates, totalling 5 fits\n",
      "Fitting 5 folds for each of 1 candidates, totalling 5 fits\n",
      "Fitting 5 folds for each of 1 candidates, totalling 5 fits\n"
     ]
    },
    {
     "name": "stderr",
     "output_type": "stream",
     "text": [
      "/home/isidro/.local/lib/python3.10/site-packages/sklearn/model_selection/_validation.py:686: DataConversionWarning: A column-vector y was passed when a 1d array was expected. Please change the shape of y to (n_samples,), for example using ravel().\n",
      "  estimator.fit(X_train, y_train, **fit_params)\n",
      "/home/isidro/.local/lib/python3.10/site-packages/sklearn/model_selection/_validation.py:686: DataConversionWarning: A column-vector y was passed when a 1d array was expected. Please change the shape of y to (n_samples,), for example using ravel().\n",
      "  estimator.fit(X_train, y_train, **fit_params)\n",
      "/home/isidro/.local/lib/python3.10/site-packages/sklearn/model_selection/_validation.py:686: DataConversionWarning: A column-vector y was passed when a 1d array was expected. Please change the shape of y to (n_samples,), for example using ravel().\n",
      "  estimator.fit(X_train, y_train, **fit_params)\n",
      "/home/isidro/.local/lib/python3.10/site-packages/sklearn/model_selection/_validation.py:686: DataConversionWarning: A column-vector y was passed when a 1d array was expected. Please change the shape of y to (n_samples,), for example using ravel().\n",
      "  estimator.fit(X_train, y_train, **fit_params)\n",
      "/home/isidro/.local/lib/python3.10/site-packages/sklearn/model_selection/_validation.py:686: DataConversionWarning: A column-vector y was passed when a 1d array was expected. Please change the shape of y to (n_samples,), for example using ravel().\n",
      "  estimator.fit(X_train, y_train, **fit_params)\n",
      "/home/isidro/.local/lib/python3.10/site-packages/sklearn/model_selection/_search.py:910: DataConversionWarning: A column-vector y was passed when a 1d array was expected. Please change the shape of y to (n_samples,), for example using ravel().\n",
      "  self.best_estimator_.fit(X, y, **fit_params)\n",
      "/home/isidro/.local/lib/python3.10/site-packages/sklearn/model_selection/_validation.py:686: DataConversionWarning: A column-vector y was passed when a 1d array was expected. Please change the shape of y to (n_samples,), for example using ravel().\n",
      "  estimator.fit(X_train, y_train, **fit_params)\n",
      "/home/isidro/.local/lib/python3.10/site-packages/sklearn/model_selection/_validation.py:686: DataConversionWarning: A column-vector y was passed when a 1d array was expected. Please change the shape of y to (n_samples,), for example using ravel().\n",
      "  estimator.fit(X_train, y_train, **fit_params)\n",
      "/home/isidro/.local/lib/python3.10/site-packages/sklearn/model_selection/_validation.py:686: DataConversionWarning: A column-vector y was passed when a 1d array was expected. Please change the shape of y to (n_samples,), for example using ravel().\n",
      "  estimator.fit(X_train, y_train, **fit_params)\n",
      "/home/isidro/.local/lib/python3.10/site-packages/sklearn/model_selection/_validation.py:686: DataConversionWarning: A column-vector y was passed when a 1d array was expected. Please change the shape of y to (n_samples,), for example using ravel().\n",
      "  estimator.fit(X_train, y_train, **fit_params)\n",
      "/home/isidro/.local/lib/python3.10/site-packages/sklearn/model_selection/_validation.py:686: DataConversionWarning: A column-vector y was passed when a 1d array was expected. Please change the shape of y to (n_samples,), for example using ravel().\n",
      "  estimator.fit(X_train, y_train, **fit_params)\n",
      "/home/isidro/.local/lib/python3.10/site-packages/sklearn/model_selection/_search.py:910: DataConversionWarning: A column-vector y was passed when a 1d array was expected. Please change the shape of y to (n_samples,), for example using ravel().\n",
      "  self.best_estimator_.fit(X, y, **fit_params)\n",
      "/home/isidro/.local/lib/python3.10/site-packages/sklearn/model_selection/_validation.py:686: DataConversionWarning: A column-vector y was passed when a 1d array was expected. Please change the shape of y to (n_samples,), for example using ravel().\n",
      "  estimator.fit(X_train, y_train, **fit_params)\n",
      "/home/isidro/.local/lib/python3.10/site-packages/sklearn/model_selection/_validation.py:686: DataConversionWarning: A column-vector y was passed when a 1d array was expected. Please change the shape of y to (n_samples,), for example using ravel().\n",
      "  estimator.fit(X_train, y_train, **fit_params)\n",
      "/home/isidro/.local/lib/python3.10/site-packages/sklearn/model_selection/_validation.py:686: DataConversionWarning: A column-vector y was passed when a 1d array was expected. Please change the shape of y to (n_samples,), for example using ravel().\n",
      "  estimator.fit(X_train, y_train, **fit_params)\n",
      "/home/isidro/.local/lib/python3.10/site-packages/sklearn/model_selection/_validation.py:686: DataConversionWarning: A column-vector y was passed when a 1d array was expected. Please change the shape of y to (n_samples,), for example using ravel().\n",
      "  estimator.fit(X_train, y_train, **fit_params)\n",
      "/home/isidro/.local/lib/python3.10/site-packages/sklearn/model_selection/_validation.py:686: DataConversionWarning: A column-vector y was passed when a 1d array was expected. Please change the shape of y to (n_samples,), for example using ravel().\n",
      "  estimator.fit(X_train, y_train, **fit_params)\n",
      "/home/isidro/.local/lib/python3.10/site-packages/sklearn/model_selection/_search.py:910: DataConversionWarning: A column-vector y was passed when a 1d array was expected. Please change the shape of y to (n_samples,), for example using ravel().\n",
      "  self.best_estimator_.fit(X, y, **fit_params)\n"
     ]
    },
    {
     "name": "stdout",
     "output_type": "stream",
     "text": [
      "Fitting 5 folds for each of 1 candidates, totalling 5 fits\n"
     ]
    },
    {
     "name": "stderr",
     "output_type": "stream",
     "text": [
      "/home/isidro/.local/lib/python3.10/site-packages/sklearn/model_selection/_validation.py:686: DataConversionWarning: A column-vector y was passed when a 1d array was expected. Please change the shape of y to (n_samples,), for example using ravel().\n",
      "  estimator.fit(X_train, y_train, **fit_params)\n",
      "/home/isidro/.local/lib/python3.10/site-packages/sklearn/model_selection/_validation.py:686: DataConversionWarning: A column-vector y was passed when a 1d array was expected. Please change the shape of y to (n_samples,), for example using ravel().\n",
      "  estimator.fit(X_train, y_train, **fit_params)\n",
      "/home/isidro/.local/lib/python3.10/site-packages/sklearn/model_selection/_validation.py:686: DataConversionWarning: A column-vector y was passed when a 1d array was expected. Please change the shape of y to (n_samples,), for example using ravel().\n",
      "  estimator.fit(X_train, y_train, **fit_params)\n",
      "/home/isidro/.local/lib/python3.10/site-packages/sklearn/model_selection/_validation.py:686: DataConversionWarning: A column-vector y was passed when a 1d array was expected. Please change the shape of y to (n_samples,), for example using ravel().\n",
      "  estimator.fit(X_train, y_train, **fit_params)\n",
      "/home/isidro/.local/lib/python3.10/site-packages/sklearn/model_selection/_validation.py:686: DataConversionWarning: A column-vector y was passed when a 1d array was expected. Please change the shape of y to (n_samples,), for example using ravel().\n",
      "  estimator.fit(X_train, y_train, **fit_params)\n",
      "/home/isidro/.local/lib/python3.10/site-packages/sklearn/model_selection/_search.py:910: DataConversionWarning: A column-vector y was passed when a 1d array was expected. Please change the shape of y to (n_samples,), for example using ravel().\n",
      "  self.best_estimator_.fit(X, y, **fit_params)\n",
      "/home/isidro/.local/lib/python3.10/site-packages/sklearn/model_selection/_validation.py:686: DataConversionWarning: A column-vector y was passed when a 1d array was expected. Please change the shape of y to (n_samples,), for example using ravel().\n",
      "  estimator.fit(X_train, y_train, **fit_params)\n",
      "/home/isidro/.local/lib/python3.10/site-packages/sklearn/model_selection/_validation.py:686: DataConversionWarning: A column-vector y was passed when a 1d array was expected. Please change the shape of y to (n_samples,), for example using ravel().\n",
      "  estimator.fit(X_train, y_train, **fit_params)\n",
      "/home/isidro/.local/lib/python3.10/site-packages/sklearn/model_selection/_validation.py:686: DataConversionWarning: A column-vector y was passed when a 1d array was expected. Please change the shape of y to (n_samples,), for example using ravel().\n",
      "  estimator.fit(X_train, y_train, **fit_params)\n",
      "/home/isidro/.local/lib/python3.10/site-packages/sklearn/model_selection/_validation.py:686: DataConversionWarning: A column-vector y was passed when a 1d array was expected. Please change the shape of y to (n_samples,), for example using ravel().\n",
      "  estimator.fit(X_train, y_train, **fit_params)\n",
      "/home/isidro/.local/lib/python3.10/site-packages/sklearn/model_selection/_validation.py:686: DataConversionWarning: A column-vector y was passed when a 1d array was expected. Please change the shape of y to (n_samples,), for example using ravel().\n",
      "  estimator.fit(X_train, y_train, **fit_params)\n",
      "/home/isidro/.local/lib/python3.10/site-packages/sklearn/model_selection/_search.py:910: DataConversionWarning: A column-vector y was passed when a 1d array was expected. Please change the shape of y to (n_samples,), for example using ravel().\n",
      "  self.best_estimator_.fit(X, y, **fit_params)\n"
     ]
    }
   ],
   "source": [
    "ypred_test = cross_val_predict(model,scalerd.transform(seld_test),scalert.transform(selt_test.values.reshape(-1, 1)), \\\n",
    "        cv = KFold(n_splits=5, shuffle=True, random_state=10))"
   ]
  },
  {
   "cell_type": "code",
   "execution_count": 46,
   "metadata": {},
   "outputs": [
    {
     "data": {
      "text/plain": [
       "(0.0, 2.4064274787902833)"
      ]
     },
     "execution_count": 46,
     "metadata": {},
     "output_type": "execute_result"
    },
    {
     "data": {
      "image/png": "[encoded data removed]",
      "text/plain": [
       "<Figure size 1800x1200 with 1 Axes>"
      ]
     },
     "metadata": {
      "needs_background": "light"
     },
     "output_type": "display_data"
    }
   ],
   "source": [
    "ypred = scalert.inverse_transform(ypred_test.reshape(-1,1))\n",
    "plt.scatter(selt_test, ypred, s = 20, c = 'royalblue')\n",
    "plt.xlabel('True (spectroscopic) z', fontsize=14)\n",
    "plt.ylabel('Predicted z',fontsize=14)\n",
    "x = np.linspace(0,np.max(selt_test)+0.1,100)\n",
    "y = x\n",
    "plt.plot(x, y, linestyle='dashed', c='r', label='y=x')\n",
    "index = np.random.randint(0, len(selt_test), 20)\n",
    "plt.axis('square')\n",
    "plt.legend()\n",
    "plt.xlim(0,np.max(selt_test)+0.1)\n",
    "plt.ylim(0,np.max(selt_test)+0.1)"
   ]
  },
  {
   "cell_type": "code",
   "execution_count": 47,
   "metadata": {},
   "outputs": [],
   "source": [
    "from sklearn.metrics import mean_squared_error, accuracy_score"
   ]
  },
  {
   "cell_type": "code",
   "execution_count": 48,
   "metadata": {},
   "outputs": [
    {
     "data": {
      "text/plain": [
       "array([6, 0, 6, 6, 7, 2, 1, 5, 3, 8, 3, 9, 2, 3, 5, 5, 0, 2, 6, 9])"
      ]
     },
     "execution_count": 48,
     "metadata": {},
     "output_type": "execute_result"
    }
   ],
   "source": [
    "np.random.randint(0, 10, 20)"
   ]
  },
  {
   "cell_type": "code",
   "execution_count": 49,
   "metadata": {},
   "outputs": [
    {
     "data": {
      "text/plain": [
       "0.1083092700519866"
      ]
     },
     "execution_count": 49,
     "metadata": {},
     "output_type": "execute_result"
    }
   ],
   "source": [
    "mse_test =  mean_squared_error(selt_test, scalert.inverse_transform(ypred_test.reshape(-1,1)))\n",
    "mse_test"
   ]
  },
  {
   "cell_type": "code",
   "execution_count": 50,
   "metadata": {},
   "outputs": [
    {
     "data": {
      "text/plain": [
       "0.7229059297485229"
      ]
     },
     "execution_count": 50,
     "metadata": {},
     "output_type": "execute_result"
    }
   ],
   "source": [
    "mean_test = np.mean(scalert.inverse_transform(ypred_test.reshape(-1,1)))\n",
    "mean_test"
   ]
  },
  {
   "cell_type": "code",
   "execution_count": 51,
   "metadata": {},
   "outputs": [
    {
     "data": {
      "text/plain": [
       "0.25455173499219125"
      ]
     },
     "execution_count": 51,
     "metadata": {},
     "output_type": "execute_result"
    }
   ],
   "source": [
    "std_test = np.std(scalert.inverse_transform(ypred_test.reshape(-1,1)))\n",
    "std_test"
   ]
  },
  {
   "cell_type": "code",
   "execution_count": 52,
   "metadata": {},
   "outputs": [
    {
     "name": "stdout",
     "output_type": "stream",
     "text": [
      "Fitting 5 folds for each of 1 candidates, totalling 5 fits\n"
     ]
    },
    {
     "name": "stderr",
     "output_type": "stream",
     "text": [
      "/home/isidro/.local/lib/python3.10/site-packages/sklearn/model_selection/_validation.py:686: DataConversionWarning: A column-vector y was passed when a 1d array was expected. Please change the shape of y to (n_samples,), for example using ravel().\n",
      "  estimator.fit(X_train, y_train, **fit_params)\n",
      "/home/isidro/.local/lib/python3.10/site-packages/sklearn/model_selection/_validation.py:686: DataConversionWarning: A column-vector y was passed when a 1d array was expected. Please change the shape of y to (n_samples,), for example using ravel().\n",
      "  estimator.fit(X_train, y_train, **fit_params)\n",
      "/home/isidro/.local/lib/python3.10/site-packages/sklearn/model_selection/_validation.py:686: DataConversionWarning: A column-vector y was passed when a 1d array was expected. Please change the shape of y to (n_samples,), for example using ravel().\n",
      "  estimator.fit(X_train, y_train, **fit_params)\n",
      "/home/isidro/.local/lib/python3.10/site-packages/sklearn/model_selection/_validation.py:686: DataConversionWarning: A column-vector y was passed when a 1d array was expected. Please change the shape of y to (n_samples,), for example using ravel().\n",
      "  estimator.fit(X_train, y_train, **fit_params)\n",
      "/home/isidro/.local/lib/python3.10/site-packages/sklearn/model_selection/_validation.py:686: DataConversionWarning: A column-vector y was passed when a 1d array was expected. Please change the shape of y to (n_samples,), for example using ravel().\n",
      "  estimator.fit(X_train, y_train, **fit_params)\n",
      "/home/isidro/.local/lib/python3.10/site-packages/sklearn/model_selection/_search.py:910: DataConversionWarning: A column-vector y was passed when a 1d array was expected. Please change the shape of y to (n_samples,), for example using ravel().\n",
      "  self.best_estimator_.fit(X, y, **fit_params)\n"
     ]
    },
    {
     "name": "stdout",
     "output_type": "stream",
     "text": [
      "Fitting 5 folds for each of 1 candidates, totalling 5 fits\n"
     ]
    },
    {
     "name": "stderr",
     "output_type": "stream",
     "text": [
      "/home/isidro/.local/lib/python3.10/site-packages/sklearn/model_selection/_validation.py:686: DataConversionWarning: A column-vector y was passed when a 1d array was expected. Please change the shape of y to (n_samples,), for example using ravel().\n",
      "  estimator.fit(X_train, y_train, **fit_params)\n",
      "/home/isidro/.local/lib/python3.10/site-packages/sklearn/model_selection/_validation.py:686: DataConversionWarning: A column-vector y was passed when a 1d array was expected. Please change the shape of y to (n_samples,), for example using ravel().\n",
      "  estimator.fit(X_train, y_train, **fit_params)\n",
      "/home/isidro/.local/lib/python3.10/site-packages/sklearn/model_selection/_validation.py:686: DataConversionWarning: A column-vector y was passed when a 1d array was expected. Please change the shape of y to (n_samples,), for example using ravel().\n",
      "  estimator.fit(X_train, y_train, **fit_params)\n",
      "/home/isidro/.local/lib/python3.10/site-packages/sklearn/model_selection/_validation.py:686: DataConversionWarning: A column-vector y was passed when a 1d array was expected. Please change the shape of y to (n_samples,), for example using ravel().\n",
      "  estimator.fit(X_train, y_train, **fit_params)\n",
      "/home/isidro/.local/lib/python3.10/site-packages/sklearn/model_selection/_validation.py:686: DataConversionWarning: A column-vector y was passed when a 1d array was expected. Please change the shape of y to (n_samples,), for example using ravel().\n",
      "  estimator.fit(X_train, y_train, **fit_params)\n",
      "/home/isidro/.local/lib/python3.10/site-packages/sklearn/model_selection/_search.py:910: DataConversionWarning: A column-vector y was passed when a 1d array was expected. Please change the shape of y to (n_samples,), for example using ravel().\n",
      "  self.best_estimator_.fit(X, y, **fit_params)\n"
     ]
    },
    {
     "name": "stdout",
     "output_type": "stream",
     "text": [
      "Fitting 5 folds for each of 1 candidates, totalling 5 fits\n"
     ]
    },
    {
     "name": "stderr",
     "output_type": "stream",
     "text": [
      "/home/isidro/.local/lib/python3.10/site-packages/sklearn/model_selection/_validation.py:686: DataConversionWarning: A column-vector y was passed when a 1d array was expected. Please change the shape of y to (n_samples,), for example using ravel().\n",
      "  estimator.fit(X_train, y_train, **fit_params)\n",
      "/home/isidro/.local/lib/python3.10/site-packages/sklearn/model_selection/_validation.py:686: DataConversionWarning: A column-vector y was passed when a 1d array was expected. Please change the shape of y to (n_samples,), for example using ravel().\n",
      "  estimator.fit(X_train, y_train, **fit_params)\n",
      "/home/isidro/.local/lib/python3.10/site-packages/sklearn/model_selection/_validation.py:686: DataConversionWarning: A column-vector y was passed when a 1d array was expected. Please change the shape of y to (n_samples,), for example using ravel().\n",
      "  estimator.fit(X_train, y_train, **fit_params)\n",
      "/home/isidro/.local/lib/python3.10/site-packages/sklearn/model_selection/_validation.py:686: DataConversionWarning: A column-vector y was passed when a 1d array was expected. Please change the shape of y to (n_samples,), for example using ravel().\n",
      "  estimator.fit(X_train, y_train, **fit_params)\n",
      "/home/isidro/.local/lib/python3.10/site-packages/sklearn/model_selection/_validation.py:686: DataConversionWarning: A column-vector y was passed when a 1d array was expected. Please change the shape of y to (n_samples,), for example using ravel().\n",
      "  estimator.fit(X_train, y_train, **fit_params)\n",
      "/home/isidro/.local/lib/python3.10/site-packages/sklearn/model_selection/_search.py:910: DataConversionWarning: A column-vector y was passed when a 1d array was expected. Please change the shape of y to (n_samples,), for example using ravel().\n",
      "  self.best_estimator_.fit(X, y, **fit_params)\n"
     ]
    },
    {
     "name": "stdout",
     "output_type": "stream",
     "text": [
      "Fitting 5 folds for each of 1 candidates, totalling 5 fits\n"
     ]
    },
    {
     "name": "stderr",
     "output_type": "stream",
     "text": [
      "/home/isidro/.local/lib/python3.10/site-packages/sklearn/model_selection/_validation.py:686: DataConversionWarning: A column-vector y was passed when a 1d array was expected. Please change the shape of y to (n_samples,), for example using ravel().\n",
      "  estimator.fit(X_train, y_train, **fit_params)\n",
      "/home/isidro/.local/lib/python3.10/site-packages/sklearn/model_selection/_validation.py:686: DataConversionWarning: A column-vector y was passed when a 1d array was expected. Please change the shape of y to (n_samples,), for example using ravel().\n",
      "  estimator.fit(X_train, y_train, **fit_params)\n",
      "/home/isidro/.local/lib/python3.10/site-packages/sklearn/model_selection/_validation.py:686: DataConversionWarning: A column-vector y was passed when a 1d array was expected. Please change the shape of y to (n_samples,), for example using ravel().\n",
      "  estimator.fit(X_train, y_train, **fit_params)\n",
      "/home/isidro/.local/lib/python3.10/site-packages/sklearn/model_selection/_validation.py:686: DataConversionWarning: A column-vector y was passed when a 1d array was expected. Please change the shape of y to (n_samples,), for example using ravel().\n",
      "  estimator.fit(X_train, y_train, **fit_params)\n",
      "/home/isidro/.local/lib/python3.10/site-packages/sklearn/model_selection/_validation.py:686: DataConversionWarning: A column-vector y was passed when a 1d array was expected. Please change the shape of y to (n_samples,), for example using ravel().\n",
      "  estimator.fit(X_train, y_train, **fit_params)\n",
      "/home/isidro/.local/lib/python3.10/site-packages/sklearn/model_selection/_search.py:910: DataConversionWarning: A column-vector y was passed when a 1d array was expected. Please change the shape of y to (n_samples,), for example using ravel().\n",
      "  self.best_estimator_.fit(X, y, **fit_params)\n"
     ]
    },
    {
     "name": "stdout",
     "output_type": "stream",
     "text": [
      "Fitting 5 folds for each of 1 candidates, totalling 5 fits\n"
     ]
    },
    {
     "name": "stderr",
     "output_type": "stream",
     "text": [
      "/home/isidro/.local/lib/python3.10/site-packages/sklearn/model_selection/_validation.py:686: DataConversionWarning: A column-vector y was passed when a 1d array was expected. Please change the shape of y to (n_samples,), for example using ravel().\n",
      "  estimator.fit(X_train, y_train, **fit_params)\n",
      "/home/isidro/.local/lib/python3.10/site-packages/sklearn/model_selection/_validation.py:686: DataConversionWarning: A column-vector y was passed when a 1d array was expected. Please change the shape of y to (n_samples,), for example using ravel().\n",
      "  estimator.fit(X_train, y_train, **fit_params)\n",
      "/home/isidro/.local/lib/python3.10/site-packages/sklearn/model_selection/_validation.py:686: DataConversionWarning: A column-vector y was passed when a 1d array was expected. Please change the shape of y to (n_samples,), for example using ravel().\n",
      "  estimator.fit(X_train, y_train, **fit_params)\n",
      "/home/isidro/.local/lib/python3.10/site-packages/sklearn/model_selection/_validation.py:686: DataConversionWarning: A column-vector y was passed when a 1d array was expected. Please change the shape of y to (n_samples,), for example using ravel().\n",
      "  estimator.fit(X_train, y_train, **fit_params)\n",
      "/home/isidro/.local/lib/python3.10/site-packages/sklearn/model_selection/_validation.py:686: DataConversionWarning: A column-vector y was passed when a 1d array was expected. Please change the shape of y to (n_samples,), for example using ravel().\n",
      "  estimator.fit(X_train, y_train, **fit_params)\n",
      "/home/isidro/.local/lib/python3.10/site-packages/sklearn/model_selection/_search.py:910: DataConversionWarning: A column-vector y was passed when a 1d array was expected. Please change the shape of y to (n_samples,), for example using ravel().\n",
      "  self.best_estimator_.fit(X, y, **fit_params)\n"
     ]
    }
   ],
   "source": [
    "ypred_train = cross_val_predict(model,seld_sc, selt_sc, \\\n",
    "        cv = KFold(n_splits=5, shuffle=True, random_state=10))"
   ]
  },
  {
   "cell_type": "code",
   "execution_count": 55,
   "metadata": {},
   "outputs": [
    {
     "name": "stdout",
     "output_type": "stream",
     "text": [
      "Fitting 5 folds for each of 1 candidates, totalling 5 fits\n"
     ]
    },
    {
     "name": "stderr",
     "output_type": "stream",
     "text": [
      "/home/isidro/.local/lib/python3.10/site-packages/sklearn/model_selection/_validation.py:686: DataConversionWarning: A column-vector y was passed when a 1d array was expected. Please change the shape of y to (n_samples,), for example using ravel().\n",
      "  estimator.fit(X_train, y_train, **fit_params)\n",
      "/home/isidro/.local/lib/python3.10/site-packages/sklearn/model_selection/_validation.py:686: DataConversionWarning: A column-vector y was passed when a 1d array was expected. Please change the shape of y to (n_samples,), for example using ravel().\n",
      "  estimator.fit(X_train, y_train, **fit_params)\n",
      "/home/isidro/.local/lib/python3.10/site-packages/sklearn/model_selection/_validation.py:686: DataConversionWarning: A column-vector y was passed when a 1d array was expected. Please change the shape of y to (n_samples,), for example using ravel().\n",
      "  estimator.fit(X_train, y_train, **fit_params)\n",
      "/home/isidro/.local/lib/python3.10/site-packages/sklearn/model_selection/_validation.py:686: DataConversionWarning: A column-vector y was passed when a 1d array was expected. Please change the shape of y to (n_samples,), for example using ravel().\n",
      "  estimator.fit(X_train, y_train, **fit_params)\n",
      "/home/isidro/.local/lib/python3.10/site-packages/sklearn/model_selection/_validation.py:686: DataConversionWarning: A column-vector y was passed when a 1d array was expected. Please change the shape of y to (n_samples,), for example using ravel().\n",
      "  estimator.fit(X_train, y_train, **fit_params)\n",
      "/home/isidro/.local/lib/python3.10/site-packages/sklearn/model_selection/_search.py:910: DataConversionWarning: A column-vector y was passed when a 1d array was expected. Please change the shape of y to (n_samples,), for example using ravel().\n",
      "  self.best_estimator_.fit(X, y, **fit_params)\n"
     ]
    },
    {
     "name": "stdout",
     "output_type": "stream",
     "text": [
      "Fitting 5 folds for each of 1 candidates, totalling 5 fits\n"
     ]
    },
    {
     "name": "stderr",
     "output_type": "stream",
     "text": [
      "/home/isidro/.local/lib/python3.10/site-packages/sklearn/model_selection/_validation.py:686: DataConversionWarning: A column-vector y was passed when a 1d array was expected. Please change the shape of y to (n_samples,), for example using ravel().\n",
      "  estimator.fit(X_train, y_train, **fit_params)\n",
      "/home/isidro/.local/lib/python3.10/site-packages/sklearn/model_selection/_validation.py:686: DataConversionWarning: A column-vector y was passed when a 1d array was expected. Please change the shape of y to (n_samples,), for example using ravel().\n",
      "  estimator.fit(X_train, y_train, **fit_params)\n",
      "/home/isidro/.local/lib/python3.10/site-packages/sklearn/model_selection/_validation.py:686: DataConversionWarning: A column-vector y was passed when a 1d array was expected. Please change the shape of y to (n_samples,), for example using ravel().\n",
      "  estimator.fit(X_train, y_train, **fit_params)\n",
      "/home/isidro/.local/lib/python3.10/site-packages/sklearn/model_selection/_validation.py:686: DataConversionWarning: A column-vector y was passed when a 1d array was expected. Please change the shape of y to (n_samples,), for example using ravel().\n",
      "  estimator.fit(X_train, y_train, **fit_params)\n",
      "/home/isidro/.local/lib/python3.10/site-packages/sklearn/model_selection/_validation.py:686: DataConversionWarning: A column-vector y was passed when a 1d array was expected. Please change the shape of y to (n_samples,), for example using ravel().\n",
      "  estimator.fit(X_train, y_train, **fit_params)\n",
      "/home/isidro/.local/lib/python3.10/site-packages/sklearn/model_selection/_search.py:910: DataConversionWarning: A column-vector y was passed when a 1d array was expected. Please change the shape of y to (n_samples,), for example using ravel().\n",
      "  self.best_estimator_.fit(X, y, **fit_params)\n"
     ]
    },
    {
     "name": "stdout",
     "output_type": "stream",
     "text": [
      "Fitting 5 folds for each of 1 candidates, totalling 5 fits\n"
     ]
    },
    {
     "name": "stderr",
     "output_type": "stream",
     "text": [
      "/home/isidro/.local/lib/python3.10/site-packages/sklearn/model_selection/_validation.py:686: DataConversionWarning: A column-vector y was passed when a 1d array was expected. Please change the shape of y to (n_samples,), for example using ravel().\n",
      "  estimator.fit(X_train, y_train, **fit_params)\n",
      "/home/isidro/.local/lib/python3.10/site-packages/sklearn/model_selection/_validation.py:686: DataConversionWarning: A column-vector y was passed when a 1d array was expected. Please change the shape of y to (n_samples,), for example using ravel().\n",
      "  estimator.fit(X_train, y_train, **fit_params)\n",
      "/home/isidro/.local/lib/python3.10/site-packages/sklearn/model_selection/_validation.py:686: DataConversionWarning: A column-vector y was passed when a 1d array was expected. Please change the shape of y to (n_samples,), for example using ravel().\n",
      "  estimator.fit(X_train, y_train, **fit_params)\n",
      "/home/isidro/.local/lib/python3.10/site-packages/sklearn/model_selection/_validation.py:686: DataConversionWarning: A column-vector y was passed when a 1d array was expected. Please change the shape of y to (n_samples,), for example using ravel().\n",
      "  estimator.fit(X_train, y_train, **fit_params)\n",
      "/home/isidro/.local/lib/python3.10/site-packages/sklearn/model_selection/_validation.py:686: DataConversionWarning: A column-vector y was passed when a 1d array was expected. Please change the shape of y to (n_samples,), for example using ravel().\n",
      "  estimator.fit(X_train, y_train, **fit_params)\n",
      "/home/isidro/.local/lib/python3.10/site-packages/sklearn/model_selection/_search.py:910: DataConversionWarning: A column-vector y was passed when a 1d array was expected. Please change the shape of y to (n_samples,), for example using ravel().\n",
      "  self.best_estimator_.fit(X, y, **fit_params)\n"
     ]
    },
    {
     "name": "stdout",
     "output_type": "stream",
     "text": [
      "Fitting 5 folds for each of 1 candidates, totalling 5 fits\n"
     ]
    },
    {
     "name": "stderr",
     "output_type": "stream",
     "text": [
      "/home/isidro/.local/lib/python3.10/site-packages/sklearn/model_selection/_validation.py:686: DataConversionWarning: A column-vector y was passed when a 1d array was expected. Please change the shape of y to (n_samples,), for example using ravel().\n",
      "  estimator.fit(X_train, y_train, **fit_params)\n",
      "/home/isidro/.local/lib/python3.10/site-packages/sklearn/model_selection/_validation.py:686: DataConversionWarning: A column-vector y was passed when a 1d array was expected. Please change the shape of y to (n_samples,), for example using ravel().\n",
      "  estimator.fit(X_train, y_train, **fit_params)\n",
      "/home/isidro/.local/lib/python3.10/site-packages/sklearn/model_selection/_validation.py:686: DataConversionWarning: A column-vector y was passed when a 1d array was expected. Please change the shape of y to (n_samples,), for example using ravel().\n",
      "  estimator.fit(X_train, y_train, **fit_params)\n",
      "/home/isidro/.local/lib/python3.10/site-packages/sklearn/model_selection/_validation.py:686: DataConversionWarning: A column-vector y was passed when a 1d array was expected. Please change the shape of y to (n_samples,), for example using ravel().\n",
      "  estimator.fit(X_train, y_train, **fit_params)\n",
      "/home/isidro/.local/lib/python3.10/site-packages/sklearn/model_selection/_validation.py:686: DataConversionWarning: A column-vector y was passed when a 1d array was expected. Please change the shape of y to (n_samples,), for example using ravel().\n",
      "  estimator.fit(X_train, y_train, **fit_params)\n",
      "/home/isidro/.local/lib/python3.10/site-packages/sklearn/model_selection/_search.py:910: DataConversionWarning: A column-vector y was passed when a 1d array was expected. Please change the shape of y to (n_samples,), for example using ravel().\n",
      "  self.best_estimator_.fit(X, y, **fit_params)\n"
     ]
    },
    {
     "name": "stdout",
     "output_type": "stream",
     "text": [
      "Fitting 5 folds for each of 1 candidates, totalling 5 fits\n"
     ]
    },
    {
     "name": "stderr",
     "output_type": "stream",
     "text": [
      "/home/isidro/.local/lib/python3.10/site-packages/sklearn/model_selection/_validation.py:686: DataConversionWarning: A column-vector y was passed when a 1d array was expected. Please change the shape of y to (n_samples,), for example using ravel().\n",
      "  estimator.fit(X_train, y_train, **fit_params)\n",
      "/home/isidro/.local/lib/python3.10/site-packages/sklearn/model_selection/_validation.py:686: DataConversionWarning: A column-vector y was passed when a 1d array was expected. Please change the shape of y to (n_samples,), for example using ravel().\n",
      "  estimator.fit(X_train, y_train, **fit_params)\n",
      "/home/isidro/.local/lib/python3.10/site-packages/sklearn/model_selection/_validation.py:686: DataConversionWarning: A column-vector y was passed when a 1d array was expected. Please change the shape of y to (n_samples,), for example using ravel().\n",
      "  estimator.fit(X_train, y_train, **fit_params)\n",
      "/home/isidro/.local/lib/python3.10/site-packages/sklearn/model_selection/_validation.py:686: DataConversionWarning: A column-vector y was passed when a 1d array was expected. Please change the shape of y to (n_samples,), for example using ravel().\n",
      "  estimator.fit(X_train, y_train, **fit_params)\n",
      "/home/isidro/.local/lib/python3.10/site-packages/sklearn/model_selection/_validation.py:686: DataConversionWarning: A column-vector y was passed when a 1d array was expected. Please change the shape of y to (n_samples,), for example using ravel().\n",
      "  estimator.fit(X_train, y_train, **fit_params)\n",
      "/home/isidro/.local/lib/python3.10/site-packages/sklearn/model_selection/_search.py:910: DataConversionWarning: A column-vector y was passed when a 1d array was expected. Please change the shape of y to (n_samples,), for example using ravel().\n",
      "  self.best_estimator_.fit(X, y, **fit_params)\n"
     ]
    }
   ],
   "source": [
    "scores = cross_validate(model, seld_sc, selt_sc, \\\n",
    "    cv = KFold(n_splits=5, shuffle=True, random_state=10), \\\n",
    "                        return_train_score=True)"
   ]
  },
  {
   "cell_type": "code",
   "execution_count": 56,
   "metadata": {},
   "outputs": [
    {
     "data": {
      "text/plain": [
       "{'fit_time': array([0.26450849, 0.25404286, 0.23772359, 0.24068737, 0.24173355]),\n",
       " 'score_time': array([0.00160933, 0.00158787, 0.00170279, 0.00176477, 0.00163579]),\n",
       " 'test_score': array([0.32165947, 0.36508898, 0.35110305, 0.34459958, 0.33889804]),\n",
       " 'train_score': array([0.67021288, 0.66275729, 0.66682886, 0.66828693, 0.66936841])}"
      ]
     },
     "execution_count": 56,
     "metadata": {},
     "output_type": "execute_result"
    }
   ],
   "source": [
    "scores"
   ]
  },
  {
   "cell_type": "code",
   "execution_count": 53,
   "metadata": {},
   "outputs": [
    {
     "data": {
      "text/plain": [
       "0.09899543315723774"
      ]
     },
     "execution_count": 53,
     "metadata": {},
     "output_type": "execute_result"
    }
   ],
   "source": [
    "mse_train = mean_squared_error(scalert.inverse_transform(selt_sc.reshape(-1,1)), scalert.inverse_transform(ypred_train.reshape(-1,1)))\n",
    "mse_train"
   ]
  },
  {
   "cell_type": "markdown",
   "metadata": {},
   "source": [
    "### And the verdict is...."
   ]
  },
  {
   "cell_type": "markdown",
   "metadata": {},
   "source": [
    "\n",
    "\n",
    "\n",
    "\n",
    "\n",
    "\n",
    "\n",
    "\n",
    "\n",
    "\n",
    "\n",
    "\n",
    "\n",
    "\n",
    "\n",
    "\n",
    "\n",
    "\n",
    "\n"
   ]
  },
  {
   "cell_type": "markdown",
   "metadata": {},
   "source": [
    "### Challenge: can you use some of the things we learned, the paper, and your own knowledge (possibly) to match the paper's results?\n",
    "\n"
   ]
  },
  {
   "cell_type": "markdown",
   "metadata": {},
   "source": [
    "- FEature engieeniering\n",
    "- REdshift range\n",
    "- Missing values\n",
    "- Review paper"
   ]
  }
 ],
 "metadata": {
  "kernelspec": {
   "display_name": "Python 3 (ipykernel)",
   "language": "python",
   "name": "python3"
  },
  "language_info": {
   "codemirror_mode": {
    "name": "ipython",
    "version": 3
   },
   "file_extension": ".py",
   "mimetype": "text/x-python",
   "name": "python",
   "nbconvert_exporter": "python",
   "pygments_lexer": "ipython3",
   "version": "3.10.6"
  }
 },
 "nbformat": 4,
 "nbformat_minor": 2
}
