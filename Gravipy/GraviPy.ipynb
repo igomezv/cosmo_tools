{
 "cells": [
  {
   "cell_type": "markdown",
   "metadata": {},
   "source": [
    "# <font color=green>__GraviPy__ </font>\n",
    "\n",
    "## https://pypi.org/project/GraviPy/\n",
    "\n",
    "### Está paquetería de Python es útil en Relatividad General. \n",
    "### Para una métrica $g^{\\mu \\nu}$ en ciertas coordenadas $x^\\mu = (x^1,x^2,x^3,x^4)$, lo que hace está paquetería de Python son cálculos para obtener los símbolos de Christofell $\\Gamma^{\\ \\sigma}_{\\mu \\nu}$, el tensor de Riemann $R^{\\sigma}_{\\mu \\nu \\gamma}$, el tensor de Ricci $R^{\\mu \\nu}$, el escalar de Ricci $R$, la ecuación de geodésicas entre otras propiedades. \n",
    "\n",
    "### Obtener esto es necesario para resolver las ecuaciones de Einstein para una métrica $g^{\\mu \\nu}$.\n",
    "\n",
    "### $G_{\\mu \\nu} = R_{\\mu \\nu} - \\dfrac{1}{2}R g_{\\mu \\nu} = 8\\pi G T_{\\mu \\nu} $ .\n",
    "\n",
    "## <font color=red>__NOTA__: </font>\n",
    "\n",
    "###  La convención de índices que utiliza GraviPy es: \n",
    "###  $\\bullet$      $\\chi(-i)$   para índices  contravariantes  $ \\chi^\\mu $ .\n",
    "###  $\\bullet$       $\\chi(+i)$  para índices covariantes $ \\chi_\\mu $ .\n",
    "#### Las unidades que se manejan son $c=1$. \n",
    "\n",
    "### Las formulas que usa está paquetería de Python son:\n",
    "\n",
    "### $\\circ \\quad $  $\\Gamma^{\\sigma}_{\\ \\mu \\nu} = \\dfrac{1}{2} g^{\\sigma \\gamma }\\left( g_{\\gamma \\mu, \\nu } + g_{\\gamma \\nu, \\mu } - g_{\\mu \\nu , \\gamma } \\right) $ \n",
    "\n",
    "### $\\circ \\quad $ $R^{\\rho}_{\\sigma \\mu \\nu } = \\partial_\\mu \\Gamma^{ \\rho}_{\\ \\nu \\sigma} -  \\partial_\\nu \\Gamma^{\\rho}_{\\ \\mu \\sigma} + \\Gamma^{ \\rho}_{\\ \\mu \\lambda}  \\Gamma^{ \\lambda}_{\\ \\nu \\sigma} - \\Gamma^{ \\rho}_{\\ \\nu \\lambda} \\Gamma^{\\lambda}_{\\ \\mu \\sigma}  $\n",
    "\n",
    "### $\\circ \\quad $ $R_{\\mu \\nu} = R^{\\sigma}_{\\mu \\sigma \\nu} $\n",
    "\n",
    "### $\\circ \\quad $ $R = R_{\\mu \\nu} g^{\\mu \\nu}$\n",
    "\n",
    "### $\\circ \\quad $ $\\dfrac{d^2 x^\\mu}{ds^2} + \\Gamma^{\\mu}_{\\ \\alpha \\beta} \\dfrac{d x^\\alpha}{ds} \\dfrac{d x^\\beta}{ds} = 0$\n",
    "\n"
   ]
  },
  {
   "cell_type": "markdown",
   "metadata": {},
   "source": [
    "# <font color=purple>__Métrica de Schwarzschild__: </font>\n",
    "\n",
    "### En este caso se muestra la solución para la métrica:\n",
    "\n",
    "### $ds^2 = g_{\\mu \\nu}dx^\\mu dx^\\nu= -\\left(1 - \\dfrac{2GM}{r}  \\right) dt^2 + \\left(1 - \\dfrac{2GM}{r}  \\right)^{-1} dr^2 + r^2 d \\theta^2 + r^2 sin^2 \\theta  d \\phi^2$ "
   ]
  },
  {
   "cell_type": "code",
   "execution_count": 1,
   "metadata": {},
   "outputs": [
    {
     "name": "stdout",
     "output_type": "stream",
     "text": [
      "t\n",
      "r\n",
      "\\theta\n",
      "\\phi\n"
     ]
    },
    {
     "data": {
      "text/latex": [
       "$$\\left[\\begin{matrix}\\frac{2 M}{r} - 1 & 0 & 0 & 0\\\\0 & \\frac{1}{- \\frac{2 M}{r} + 1} & 0 & 0\\\\0 & 0 & r^{2} & 0\\\\0 & 0 & 0 & r^{2} \\sin^{2}{\\left (\\theta \\right )}\\end{matrix}\\right]$$"
      ],
      "text/plain": [
       "⎡2⋅M                                    ⎤\n",
       "⎢─── - 1      0      0          0       ⎥\n",
       "⎢ r                                     ⎥\n",
       "⎢                                       ⎥\n",
       "⎢             1                         ⎥\n",
       "⎢   0     ─────────  0          0       ⎥\n",
       "⎢           2⋅M                         ⎥\n",
       "⎢         - ─── + 1                     ⎥\n",
       "⎢            r                          ⎥\n",
       "⎢                                       ⎥\n",
       "⎢                     2                 ⎥\n",
       "⎢   0         0      r          0       ⎥\n",
       "⎢                                       ⎥\n",
       "⎢                         2    2        ⎥\n",
       "⎣   0         0      0   r ⋅sin (\\theta)⎦"
      ]
     },
     "execution_count": 1,
     "metadata": {},
     "output_type": "execute_result"
    }
   ],
   "source": [
    "import numpy as np\n",
    "from sympy import *    \n",
    "from gravipy import *  \n",
    "\n",
    "init_printing()\n",
    "\n",
    "x,y,z = symbols('x, y, z')\n",
    "#print x\n",
    "t, r, theta, phi, M = symbols('t, r, \\\\theta, \\phi, M') #Define los símbolos\n",
    "#print r\n",
    "\n",
    "\n",
    "chi = Coordinates('\\chi', [t, r, theta, phi])  #Crea el 4-Vector  \n",
    "\n",
    "Metric = diag(-(1 - 2 * M / r), 1 / (1 - 2 * M / r), r ** 2, r ** 2 * sin(theta) ** 2) # Define la métrica\n",
    "\n",
    "g = MetricTensor('g', chi, Metric)  #Los índices corren de 1,2,3,4.\n",
    "\n",
    "#print chi(1)\n",
    "for i in range(4):   \n",
    "    print chi(-i-1)\n",
    "#print g(-All, -All) #g^(\\mu \\nu)\n",
    "g(All, All)  #g_(\\mu \\nu)\n",
    "#g.components"
   ]
  },
  {
   "cell_type": "code",
   "execution_count": 2,
   "metadata": {},
   "outputs": [
    {
     "data": {
      "text/latex": [
       "$$\\left[\\begin{matrix}\\left[\\begin{matrix}0 & - \\frac{M}{r \\left(2 M - r\\right)} & 0 & 0\\\\- \\frac{M}{r \\left(2 M - r\\right)} & 0 & 0 & 0\\\\0 & 0 & 0 & 0\\\\0 & 0 & 0 & 0\\end{matrix}\\right] & \\left[\\begin{matrix}\\frac{M \\left(- 2 M + r\\right)}{r^{3}} & 0 & 0 & 0\\\\0 & - \\frac{M \\left(- 2 M + r\\right)}{r \\left(2 M - r\\right)^{2}} & 0 & 0\\\\0 & 0 & 2 M - r & 0\\\\0 & 0 & 0 & - \\left(- 2 M + r\\right) \\sin^{2}{\\left (\\theta \\right )}\\end{matrix}\\right] & \\left[\\begin{matrix}0 & 0 & 0 & 0\\\\0 & 0 & \\frac{1}{r} & 0\\\\0 & \\frac{1}{r} & 0 & 0\\\\0 & 0 & 0 & - \\frac{\\sin{\\left (2 \\theta \\right )}}{2}\\end{matrix}\\right] & \\left[\\begin{matrix}0 & 0 & 0 & 0\\\\0 & 0 & 0 & \\frac{1}{r}\\\\0 & 0 & 0 & \\frac{\\sin{\\left (2 \\theta \\right )}}{2 \\sin^{2}{\\left (\\theta \\right )}}\\\\0 & \\frac{1}{r} & \\frac{\\sin{\\left (2 \\theta \\right )}}{2 \\sin^{2}{\\left (\\theta \\right )}} & 0\\end{matrix}\\right]\\end{matrix}\\right]$$"
      ],
      "text/plain": [
       "⎡                                  ⎡M⋅(-2⋅M + r)                              \n",
       "⎢                                  ⎢────────────        0            0        \n",
       "⎢⎡                 -M           ⎤  ⎢      3                                   \n",
       "⎢⎢     0       ───────────  0  0⎥  ⎢     r                                    \n",
       "⎢⎢             r⋅(2⋅M - r)      ⎥  ⎢                                          \n",
       "⎢⎢                              ⎥  ⎢              -M⋅(-2⋅M + r)               \n",
       "⎢⎢    -M                        ⎥  ⎢     0        ──────────────     0        \n",
       "⎢⎢───────────       0       0  0⎥  ⎢                          2               \n",
       "⎢⎢r⋅(2⋅M - r)                   ⎥  ⎢               r⋅(2⋅M - r)                \n",
       "⎢⎢                              ⎥  ⎢                                          \n",
       "⎢⎢     0            0       0  0⎥  ⎢     0              0         2⋅M - r     \n",
       "⎢⎢                              ⎥  ⎢                                          \n",
       "⎢⎣     0            0       0  0⎦  ⎢                                          \n",
       "⎢                                  ⎣     0              0            0     -(-\n",
       "⎣                                                                             \n",
       "\n",
       "                     ⎤                              ⎡0  0        0            \n",
       "        0            ⎥  ⎡0  0  0         0       ⎤  ⎢                         \n",
       "                     ⎥  ⎢                        ⎥  ⎢                         \n",
       "                     ⎥  ⎢      1                 ⎥  ⎢0  0        0            \n",
       "                     ⎥  ⎢0  0  ─         0       ⎥  ⎢                         \n",
       "                     ⎥  ⎢      r                 ⎥  ⎢                         \n",
       "        0            ⎥  ⎢                        ⎥  ⎢                      sin\n",
       "                     ⎥  ⎢   1                    ⎥  ⎢0  0        0         ───\n",
       "                     ⎥  ⎢0  ─  0         0       ⎥  ⎢                         \n",
       "                     ⎥  ⎢   r                    ⎥  ⎢                      2⋅s\n",
       "        0            ⎥  ⎢                        ⎥  ⎢                         \n",
       "                     ⎥  ⎢         -sin(2⋅\\theta) ⎥  ⎢   1  sin(2⋅\\theta)      \n",
       "            2        ⎥  ⎢0  0  0  ───────────────⎥  ⎢0  ─  ──────────────     \n",
       "2⋅M + r)⋅sin (\\theta)⎦  ⎣                2       ⎦  ⎢   r       2             \n",
       "                                                    ⎣      2⋅sin (\\theta)     \n",
       "\n",
       "   0       ⎤⎤\n",
       "           ⎥⎥\n",
       "   1       ⎥⎥\n",
       "   ─       ⎥⎥\n",
       "   r       ⎥⎥\n",
       "           ⎥⎥\n",
       "(2⋅\\theta) ⎥⎥\n",
       "───────────⎥⎥\n",
       "  2        ⎥⎥\n",
       "in (\\theta)⎥⎥\n",
       "           ⎥⎥\n",
       "           ⎥⎥\n",
       "   0       ⎥⎥\n",
       "           ⎥⎥\n",
       "           ⎦⎦"
      ]
     },
     "execution_count": 2,
     "metadata": {},
     "output_type": "execute_result"
    }
   ],
   "source": [
    "Ga = Christoffel('Ga', g) # Símbolos de Christofell\n",
    "Ga(-All, All, All)    # \\Gamma^\\mu_(\\nu \\sigma)\n",
    "#Ga.components"
   ]
  },
  {
   "cell_type": "code",
   "execution_count": 3,
   "metadata": {
    "scrolled": false
   },
   "outputs": [
    {
     "data": {
      "text/latex": [
       "$$\\left[\\begin{matrix}0 & 0 & 0 & 0\\\\0 & 0 & 0 & 0\\\\0 & 0 & 0 & 0\\\\0 & 0 & 0 & 0\\end{matrix}\\right]$$"
      ],
      "text/plain": [
       "⎡0  0  0  0⎤\n",
       "⎢          ⎥\n",
       "⎢0  0  0  0⎥\n",
       "⎢          ⎥\n",
       "⎢0  0  0  0⎥\n",
       "⎢          ⎥\n",
       "⎣0  0  0  0⎦"
      ]
     },
     "execution_count": 3,
     "metadata": {},
     "output_type": "execute_result"
    }
   ],
   "source": [
    "Rm = Riemann('Rm', g)\n",
    "ricci = sum([Rm(i, All, k, All)*g(-i, -k) for i, k in list(variations(range(1, 5), 2, True))], zeros(4))#Contracción de indices\n",
    "ricci.simplify()\n",
    "ricci"
   ]
  },
  {
   "cell_type": "code",
   "execution_count": 4,
   "metadata": {},
   "outputs": [
    {
     "data": {
      "text/latex": [
       "$$\\left[\\begin{matrix}0 & 0 & 0 & 0\\\\0 & 0 & 0 & 0\\\\0 & 0 & 0 & 0\\\\0 & 0 & 0 & 0\\end{matrix}\\right]$$"
      ],
      "text/plain": [
       "⎡0  0  0  0⎤\n",
       "⎢          ⎥\n",
       "⎢0  0  0  0⎥\n",
       "⎢          ⎥\n",
       "⎢0  0  0  0⎥\n",
       "⎢          ⎥\n",
       "⎣0  0  0  0⎦"
      ]
     },
     "execution_count": 4,
     "metadata": {},
     "output_type": "execute_result"
    }
   ],
   "source": [
    "Ri = Ricci('Ri', g)   #Tensor de Ricci\n",
    "Ri(-All,-All)"
   ]
  },
  {
   "cell_type": "code",
   "execution_count": 5,
   "metadata": {},
   "outputs": [
    {
     "data": {
      "text/latex": [
       "$$\\left[\\begin{matrix}0 & 0 & 0 & 0\\\\0 & 0 & 0 & 0\\\\0 & 0 & 0 & 0\\\\0 & 0 & 0 & 0\\end{matrix}\\right]$$"
      ],
      "text/plain": [
       "⎡0  0  0  0⎤\n",
       "⎢          ⎥\n",
       "⎢0  0  0  0⎥\n",
       "⎢          ⎥\n",
       "⎢0  0  0  0⎥\n",
       "⎢          ⎥\n",
       "⎣0  0  0  0⎦"
      ]
     },
     "execution_count": 5,
     "metadata": {},
     "output_type": "execute_result"
    }
   ],
   "source": [
    "G = Einstein('G', Ri)   #Tensor de Einstein\n",
    "G(-All,-All)"
   ]
  },
  {
   "cell_type": "code",
   "execution_count": 6,
   "metadata": {},
   "outputs": [],
   "source": [
    "tau = symbols('\\\\tau')\n",
    "w = Geodesic('w', g, tau)     #Ecuación de Geodésicas"
   ]
  },
  {
   "cell_type": "code",
   "execution_count": 7,
   "metadata": {},
   "outputs": [
    {
     "data": {
      "image/png": "[encoded data removed]",
      "text/latex": [
       "$$\\frac{- 2 M \\frac{d}{d \\tau} r{\\left (\\tau \\right )} \\frac{d}{d \\tau} t{\\left (\\tau \\right )} + \\left(2 M - r{\\left (\\tau \\right )}\\right) r{\\left (\\tau \\right )} \\frac{d^{2}}{d \\tau^{2}} t{\\left (\\tau \\right )}}{\\left(2 M - r{\\left (\\tau \\right )}\\right) r{\\left (\\tau \\right )}}$$"
      ],
      "text/plain": [
       "                                                                 2           \n",
       "        d              d                                        d            \n",
       "- 2⋅M⋅─────(r(\\tau))⋅─────(t(\\tau)) + (2⋅M - r(\\tau))⋅r(\\tau)⋅──────(t(\\tau))\n",
       "      d\\tau          d\\tau                                         2         \n",
       "                                                              d\\tau          \n",
       "─────────────────────────────────────────────────────────────────────────────\n",
       "                           (2⋅M - r(\\tau))⋅r(\\tau)                           "
      ]
     },
     "execution_count": 7,
     "metadata": {},
     "output_type": "execute_result"
    }
   ],
   "source": [
    "w(-1)"
   ]
  },
  {
   "cell_type": "code",
   "execution_count": 8,
   "metadata": {},
   "outputs": [
    {
     "data": {
      "image/png": "[encoded data removed]",
      "text/latex": [
       "$$\\frac{M \\left(- 2 M + r{\\left (\\tau \\right )}\\right)^{2} \\left(\\frac{d}{d \\tau} t{\\left (\\tau \\right )}\\right)^{2} - M r^{2}{\\left (\\tau \\right )} \\left(\\frac{d}{d \\tau} r{\\left (\\tau \\right )}\\right)^{2} - \\left(- 2 M + r{\\left (\\tau \\right )}\\right)^{2} r^{3}{\\left (\\tau \\right )} \\sin^{2}{\\left (\\theta{\\left (\\tau \\right )} \\right )} \\left(\\frac{d}{d \\tau} \\phi{\\left (\\tau \\right )}\\right)^{2} - \\left(- 2 M + r{\\left (\\tau \\right )}\\right)^{2} r^{3}{\\left (\\tau \\right )} \\left(\\frac{d}{d \\tau} \\theta{\\left (\\tau \\right )}\\right)^{2} + \\left(- 2 M + r{\\left (\\tau \\right )}\\right) r^{3}{\\left (\\tau \\right )} \\frac{d^{2}}{d \\tau^{2}} r{\\left (\\tau \\right )}}{\\left(- 2 M + r{\\left (\\tau \\right )}\\right) r^{3}{\\left (\\tau \\right )}}$$"
      ],
      "text/plain": [
       "                                    2                              2          \n",
       "                  2 ⎛  d           ⎞       2       ⎛  d           ⎞           \n",
       "M⋅(-2⋅M + r(\\tau)) ⋅⎜─────(t(\\tau))⎟  - M⋅r (\\tau)⋅⎜─────(r(\\tau))⎟  - (-2⋅M +\n",
       "                    ⎝d\\tau         ⎠               ⎝d\\tau         ⎠           \n",
       "                                                                              \n",
       "──────────────────────────────────────────────────────────────────────────────\n",
       "                                                                              \n",
       "                                                                              \n",
       "\n",
       "                                                          2                   \n",
       "         2  3          2               ⎛  d              ⎞                    \n",
       " r(\\tau)) ⋅r (\\tau)⋅sin (\\theta(\\tau))⋅⎜─────(\\phi(\\tau))⎟  - (-2⋅M + r(\\tau))\n",
       "                                       ⎝d\\tau            ⎠                    \n",
       "                                                                              \n",
       "──────────────────────────────────────────────────────────────────────────────\n",
       "                                            3                                 \n",
       "                          (-2⋅M + r(\\tau))⋅r (\\tau)                           \n",
       "\n",
       "                                2                                2           \n",
       "2  3       ⎛  d                ⎞                      3         d            \n",
       " ⋅r (\\tau)⋅⎜─────(\\theta(\\tau))⎟  + (-2⋅M + r(\\tau))⋅r (\\tau)⋅──────(r(\\tau))\n",
       "           ⎝d\\tau              ⎠                                   2         \n",
       "                                                              d\\tau          \n",
       "─────────────────────────────────────────────────────────────────────────────\n",
       "                                                                             \n",
       "                                                                             "
      ]
     },
     "execution_count": 8,
     "metadata": {},
     "output_type": "execute_result"
    }
   ],
   "source": [
    "w(-2)"
   ]
  },
  {
   "cell_type": "code",
   "execution_count": 9,
   "metadata": {},
   "outputs": [
    {
     "data": {
      "image/png": "[encoded data removed]",
      "text/latex": [
       "$$\\frac{- r{\\left (\\tau \\right )} \\sin{\\left (\\theta{\\left (\\tau \\right )} \\right )} \\cos{\\left (\\theta{\\left (\\tau \\right )} \\right )} \\left(\\frac{d}{d \\tau} \\phi{\\left (\\tau \\right )}\\right)^{2} + r{\\left (\\tau \\right )} \\frac{d^{2}}{d \\tau^{2}} \\theta{\\left (\\tau \\right )} + 2 \\frac{d}{d \\tau} \\theta{\\left (\\tau \\right )} \\frac{d}{d \\tau} r{\\left (\\tau \\right )}}{r{\\left (\\tau \\right )}}$$"
      ],
      "text/plain": [
       "                                                                 2            \n",
       "                                              ⎛  d              ⎞             \n",
       "- r(\\tau)⋅sin(\\theta(\\tau))⋅cos(\\theta(\\tau))⋅⎜─────(\\phi(\\tau))⎟  + r(\\tau)⋅─\n",
       "                                              ⎝d\\tau            ⎠             \n",
       "                                                                             d\n",
       "──────────────────────────────────────────────────────────────────────────────\n",
       "                                                                r(\\tau)       \n",
       "\n",
       "  2                                                       \n",
       " d                        d                   d           \n",
       "─────(\\theta(\\tau)) + 2⋅─────(\\theta(\\tau))⋅─────(r(\\tau))\n",
       "    2                   d\\tau               d\\tau         \n",
       "\\tau                                                      \n",
       "──────────────────────────────────────────────────────────\n",
       "                                                          "
      ]
     },
     "execution_count": 9,
     "metadata": {},
     "output_type": "execute_result"
    }
   ],
   "source": [
    "w(-3)"
   ]
  },
  {
   "cell_type": "code",
   "execution_count": 10,
   "metadata": {},
   "outputs": [
    {
     "data": {
      "image/png": "[encoded data removed]",
      "text/latex": [
       "$$\\frac{r{\\left (\\tau \\right )} \\sin{\\left (\\theta{\\left (\\tau \\right )} \\right )} \\frac{d^{2}}{d \\tau^{2}} \\phi{\\left (\\tau \\right )} + 2 r{\\left (\\tau \\right )} \\cos{\\left (\\theta{\\left (\\tau \\right )} \\right )} \\frac{d}{d \\tau} \\phi{\\left (\\tau \\right )} \\frac{d}{d \\tau} \\theta{\\left (\\tau \\right )} + 2 \\sin{\\left (\\theta{\\left (\\tau \\right )} \\right )} \\frac{d}{d \\tau} \\phi{\\left (\\tau \\right )} \\frac{d}{d \\tau} r{\\left (\\tau \\right )}}{r{\\left (\\tau \\right )} \\sin{\\left (\\theta{\\left (\\tau \\right )} \\right )}}$$"
      ],
      "text/plain": [
       "                             2                                                \n",
       "                            d                                                d\n",
       "r(\\tau)⋅sin(\\theta(\\tau))⋅──────(\\phi(\\tau)) + 2⋅r(\\tau)⋅cos(\\theta(\\tau))⋅───\n",
       "                               2                                           d\\t\n",
       "                          d\\tau                                               \n",
       "──────────────────────────────────────────────────────────────────────────────\n",
       "                                                                       r(\\tau)\n",
       "\n",
       "                                                                              \n",
       "                 d                                         d                 d\n",
       "──(\\phi(\\tau))⋅─────(\\theta(\\tau)) + 2⋅sin(\\theta(\\tau))⋅─────(\\phi(\\tau))⋅───\n",
       "au             d\\tau                                     d\\tau             d\\t\n",
       "                                                                              \n",
       "──────────────────────────────────────────────────────────────────────────────\n",
       "⋅sin(\\theta(\\tau))                                                            \n",
       "\n",
       "           \n",
       "           \n",
       "──(r(\\tau))\n",
       "au         \n",
       "           \n",
       "───────────\n",
       "           "
      ]
     },
     "execution_count": 10,
     "metadata": {},
     "output_type": "execute_result"
    }
   ],
   "source": [
    "w(-4)"
   ]
  },
  {
   "cell_type": "code",
   "execution_count": 11,
   "metadata": {},
   "outputs": [
    {
     "data": {
      "text/plain": [
       "True"
      ]
     },
     "execution_count": 11,
     "metadata": {},
     "output_type": "execute_result"
    }
   ],
   "source": [
    "not any([(Rm.covariantD(i, j, k, l, m) + Rm.covariantD(i, j, m, k, l) + Rm.\n",
    "covariantD(i, j, l, m, k)).simplify() \\\n",
    "for i, j, k, l, m in list(variations(range(1, 5), 5, True))])"
   ]
  },
  {
   "cell_type": "markdown",
   "metadata": {},
   "source": [
    "#  <font color=purple>__Métrica de FLRW__: </font>\n",
    "\n",
    "### En este caso se muestra la solución para la métrica:\n",
    "\n",
    "### $ds^2 = g_{\\mu \\nu}dx^\\mu dx^\\nu = -dt^2 + a^2(t) \\left(\\dfrac{d \\chi^2}{1- k \\chi^2} + \\chi^2 d \\theta^2 + \\chi^2 sin^2 \\theta  d \\phi^2 \\right)$ "
   ]
  },
  {
   "cell_type": "code",
   "execution_count": 12,
   "metadata": {},
   "outputs": [
    {
     "data": {
      "image/png": "[encoded data removed]",
      "text/latex": [
       "$$\\left \\{ \\left ( -4\\right ) : \\phi, \\quad \\left ( -3\\right ) : \\theta, \\quad \\left ( -2\\right ) : r, \\quad \\left ( -1\\right ) : t, \\quad \\left ( 1\\right ) : - t, \\quad \\left ( 2\\right ) : \\frac{r a^{2}{\\left (t \\right )}}{- k r^{2} + 1}, \\quad \\left ( 3\\right ) : \\theta r^{2} a^{2}{\\left (t \\right )}, \\quad \\left ( 4\\right ) : \\phi r^{2} a^{2}{\\left (t \\right )} \\sin^{2}{\\left (\\theta \\right )}\\right \\}$$"
      ],
      "text/plain": [
       "⎧                                                                    2        \n",
       "⎪                                                                 r⋅a (t)     \n",
       "⎨(-4,): \\phi, (-3,): \\theta, (-2,): r, (-1,): t, (1,): -t, (2,): ──────────, (\n",
       "⎪                                                                     2       \n",
       "⎩                                                                - k⋅r  + 1   \n",
       "\n",
       "                                                      ⎫\n",
       "             2  2                 2  2       2        ⎪\n",
       "3,): \\theta⋅r ⋅a (t), (4,): \\phi⋅r ⋅a (t)⋅sin (\\theta)⎬\n",
       "                                                      ⎪\n",
       "                                                      ⎭"
      ]
     },
     "execution_count": 12,
     "metadata": {},
     "output_type": "execute_result"
    }
   ],
   "source": [
    "t, r, theta, phi, k, Lambda, GN = symbols('t, r, \\\\theta, \\phi, k, \\Lambda, G_N') #Define los símbolos\n",
    "\n",
    "a = Function('a')\n",
    "\n",
    "chi = Coordinates('\\chi', [t, r, theta, phi])  #Crea el 4-Vector  \n",
    "u = Coordinates('u', [1,0,0,0])   # 4-Velocidad para un observador en reposo\n",
    "\n",
    "Metric = diag(-1, a(t)**2 / (1 - k*r**2), a(t)**2 * r ** 2, a(t)**2 * r ** 2 * sin(theta) ** 2) # Define la métrica\n",
    "\n",
    "g = MetricTensor('g', u, Metric)  #Los índices corren de 1,2,3,4.\n",
    "g = MetricTensor('g', chi, Metric)  #Los índices corren de 1,2,3,4.\n",
    "\n",
    "#print g(-All, -All) #g^(\\mu \\nu)\n",
    "chi.components "
   ]
  },
  {
   "cell_type": "code",
   "execution_count": 13,
   "metadata": {},
   "outputs": [
    {
     "data": {
      "image/png": "[encoded data removed]",
      "text/latex": [
       "$$\\left \\{ \\left ( -4\\right ) : 0, \\quad \\left ( -3\\right ) : 0, \\quad \\left ( -2\\right ) : 0, \\quad \\left ( -1\\right ) : 1, \\quad \\left ( 1\\right ) : -1, \\quad \\left ( 2\\right ) : 0, \\quad \\left ( 3\\right ) : 0, \\quad \\left ( 4\\right ) : 0\\right \\}$$"
      ],
      "text/plain": [
       "{(-4,): 0, (-3,): 0, (-2,): 0, (-1,): 1, (1,): -1, (2,): 0, (3,): 0, (4,): 0}"
      ]
     },
     "execution_count": 13,
     "metadata": {},
     "output_type": "execute_result"
    }
   ],
   "source": [
    "#chi.partial_derivative_components\n",
    "u.components"
   ]
  },
  {
   "cell_type": "code",
   "execution_count": 14,
   "metadata": {},
   "outputs": [
    {
     "data": {
      "text/latex": [
       "$$\\left[\\begin{matrix}-1 & 0 & 0 & 0\\\\0 & \\frac{a^{2}{\\left (t \\right )}}{- k r^{2} + 1} & 0 & 0\\\\0 & 0 & r^{2} a^{2}{\\left (t \\right )} & 0\\\\0 & 0 & 0 & r^{2} a^{2}{\\left (t \\right )} \\sin^{2}{\\left (\\theta \\right )}\\end{matrix}\\right]$$"
      ],
      "text/plain": [
       "⎡-1      0          0                0          ⎤\n",
       "⎢                                               ⎥\n",
       "⎢       2                                       ⎥\n",
       "⎢      a (t)                                    ⎥\n",
       "⎢0   ──────────     0                0          ⎥\n",
       "⎢         2                                     ⎥\n",
       "⎢    - k⋅r  + 1                                 ⎥\n",
       "⎢                                               ⎥\n",
       "⎢                 2  2                          ⎥\n",
       "⎢0       0       r ⋅a (t)            0          ⎥\n",
       "⎢                                               ⎥\n",
       "⎢                           2  2       2        ⎥\n",
       "⎣0       0          0      r ⋅a (t)⋅sin (\\theta)⎦"
      ]
     },
     "execution_count": 14,
     "metadata": {},
     "output_type": "execute_result"
    }
   ],
   "source": [
    "g(All, All)"
   ]
  },
  {
   "cell_type": "code",
   "execution_count": 15,
   "metadata": {},
   "outputs": [
    {
     "data": {
      "text/latex": [
       "$$\\left[\\begin{matrix}\\left[\\begin{matrix}0 & 0 & 0 & 0\\\\0 & - \\frac{a{\\left (t \\right )} \\frac{d}{d t} a{\\left (t \\right )}}{k r^{2} - 1} & 0 & 0\\\\0 & 0 & r^{2} a{\\left (t \\right )} \\frac{d}{d t} a{\\left (t \\right )} & 0\\\\0 & 0 & 0 & r^{2} a{\\left (t \\right )} \\sin^{2}{\\left (\\theta \\right )} \\frac{d}{d t} a{\\left (t \\right )}\\end{matrix}\\right] & \\left[\\begin{matrix}0 & - \\frac{\\left(- k r^{2} + 1\\right) \\frac{d}{d t} a{\\left (t \\right )}}{\\left(k r^{2} - 1\\right) a{\\left (t \\right )}} & 0 & 0\\\\- \\frac{\\left(- k r^{2} + 1\\right) \\frac{d}{d t} a{\\left (t \\right )}}{\\left(k r^{2} - 1\\right) a{\\left (t \\right )}} & \\frac{k r \\left(- k r^{2} + 1\\right)}{\\left(k r^{2} - 1\\right)^{2}} & 0 & 0\\\\0 & 0 & - r \\left(- k r^{2} + 1\\right) & 0\\\\0 & 0 & 0 & - r \\left(- k r^{2} + 1\\right) \\sin^{2}{\\left (\\theta \\right )}\\end{matrix}\\right] & \\left[\\begin{matrix}0 & 0 & \\frac{\\frac{d}{d t} a{\\left (t \\right )}}{a{\\left (t \\right )}} & 0\\\\0 & 0 & \\frac{1}{r} & 0\\\\\\frac{\\frac{d}{d t} a{\\left (t \\right )}}{a{\\left (t \\right )}} & \\frac{1}{r} & 0 & 0\\\\0 & 0 & 0 & - \\frac{\\sin{\\left (2 \\theta \\right )}}{2}\\end{matrix}\\right] & \\left[\\begin{matrix}0 & 0 & 0 & \\frac{\\frac{d}{d t} a{\\left (t \\right )}}{a{\\left (t \\right )}}\\\\0 & 0 & 0 & \\frac{1}{r}\\\\0 & 0 & 0 & \\frac{\\sin{\\left (2 \\theta \\right )}}{2 \\sin^{2}{\\left (\\theta \\right )}}\\\\\\frac{\\frac{d}{d t} a{\\left (t \\right )}}{a{\\left (t \\right )}} & \\frac{1}{r} & \\frac{\\sin{\\left (2 \\theta \\right )}}{2 \\sin^{2}{\\left (\\theta \\right )}} & 0\\end{matrix}\\right]\\end{matrix}\\right]$$"
      ],
      "text/plain": [
       "⎡                                                                       ⎡     \n",
       "⎢                                                                       ⎢     \n",
       "⎢⎡0         0                0                        0              ⎤  ⎢     \n",
       "⎢⎢                                                                   ⎥  ⎢     \n",
       "⎢⎢         d                                                         ⎥  ⎢     \n",
       "⎢⎢   -a(t)⋅──(a(t))                                                  ⎥  ⎢     \n",
       "⎢⎢         dt                                                        ⎥  ⎢     \n",
       "⎢⎢0  ───────────────         0                        0              ⎥  ⎢ ⎛   \n",
       "⎢⎢          2                                                        ⎥  ⎢-⎝- k\n",
       "⎢⎢       k⋅r  - 1                                                    ⎥  ⎢     \n",
       "⎢⎢                                                                   ⎥  ⎢─────\n",
       "⎢⎢                     2      d                                      ⎥  ⎢    ⎛\n",
       "⎢⎢0         0         r ⋅a(t)⋅──(a(t))                0              ⎥  ⎢    ⎝\n",
       "⎢⎢                            dt                                     ⎥  ⎢     \n",
       "⎢⎢                                                                   ⎥  ⎢     \n",
       "⎢⎢                                       2         2         d       ⎥  ⎢     \n",
       "⎢⎢0         0                0          r ⋅a(t)⋅sin (\\theta)⋅──(a(t))⎥  ⎢     \n",
       "⎢⎣                                                           dt      ⎦  ⎢     \n",
       "⎢                                                                       ⎢     \n",
       "⎢                                                                       ⎣     \n",
       "⎣                                                                             \n",
       "\n",
       "                     ⎛     2    ⎞ d                                           \n",
       "                    -⎝- k⋅r  + 1⎠⋅──(a(t))                                    \n",
       "                                  dt                                          \n",
       "      0             ───────────────────────         0                      0  \n",
       "                        ⎛   2    ⎞                                            \n",
       "                        ⎝k⋅r  - 1⎠⋅a(t)                                       \n",
       "                                                                              \n",
       "  2    ⎞ d                                                                    \n",
       "⋅r  + 1⎠⋅──(a(t))          ⎛     2    ⎞                                       \n",
       "         dt            k⋅r⋅⎝- k⋅r  + 1⎠                                       \n",
       "──────────────────     ────────────────             0                      0  \n",
       "   2    ⎞                          2                                          \n",
       "k⋅r  - 1⎠⋅a(t)           ⎛   2    ⎞                                           \n",
       "                         ⎝k⋅r  - 1⎠                                           \n",
       "                                                                              \n",
       "                                                ⎛     2    ⎞                  \n",
       "      0                        0             -r⋅⎝- k⋅r  + 1⎠               0  \n",
       "                                                                              \n",
       "                                                                 ⎛     2    ⎞ \n",
       "      0                        0                    0         -r⋅⎝- k⋅r  + 1⎠⋅\n",
       "                                                                              \n",
       "\n",
       "            ⎤                                            ⎡                    \n",
       "            ⎥  ⎡             d                        ⎤  ⎢                    \n",
       "            ⎥  ⎢             ──(a(t))                 ⎥  ⎢                    \n",
       "            ⎥  ⎢             dt                       ⎥  ⎢   0      0        0\n",
       "            ⎥  ⎢   0      0  ────────         0       ⎥  ⎢                    \n",
       "            ⎥  ⎢               a(t)                   ⎥  ⎢                    \n",
       "            ⎥  ⎢                                      ⎥  ⎢                    \n",
       "            ⎥  ⎢                1                     ⎥  ⎢   0      0        0\n",
       "            ⎥  ⎢   0      0     ─             0       ⎥  ⎢                    \n",
       "            ⎥  ⎢                r                     ⎥  ⎢                    \n",
       "            ⎥  ⎢                                      ⎥  ⎢                    \n",
       "            ⎥  ⎢d                                     ⎥  ⎢   0      0        0\n",
       "            ⎥  ⎢──(a(t))                              ⎥  ⎢                    \n",
       "            ⎥  ⎢dt        1                           ⎥  ⎢                    \n",
       "            ⎥  ⎢────────  ─     0             0       ⎥  ⎢                    \n",
       "            ⎥  ⎢  a(t)    r                           ⎥  ⎢d                   \n",
       "            ⎥  ⎢                                      ⎥  ⎢──(a(t))            \n",
       "            ⎥  ⎢                       -sin(2⋅\\theta) ⎥  ⎢dt        1  sin(2⋅\\\n",
       "   2        ⎥  ⎢   0      0     0      ───────────────⎥  ⎢────────  ─  ───────\n",
       "sin (\\theta)⎦  ⎣                              2       ⎦  ⎢  a(t)    r       2 \n",
       "                                                         ⎣             2⋅sin (\n",
       "\n",
       "            d          ⎤⎤\n",
       "            ──(a(t))   ⎥⎥\n",
       "            dt         ⎥⎥\n",
       "            ────────   ⎥⎥\n",
       "              a(t)     ⎥⎥\n",
       "                       ⎥⎥\n",
       "               1       ⎥⎥\n",
       "               ─       ⎥⎥\n",
       "               r       ⎥⎥\n",
       "                       ⎥⎥\n",
       "         sin(2⋅\\theta) ⎥⎥\n",
       "         ──────────────⎥⎥\n",
       "              2        ⎥⎥\n",
       "         2⋅sin (\\theta)⎥⎥\n",
       "                       ⎥⎥\n",
       "                       ⎥⎥\n",
       "                       ⎥⎥\n",
       "theta)                 ⎥⎥\n",
       "───────        0       ⎥⎥\n",
       "                       ⎥⎥\n",
       "\\theta)                ⎦⎦"
      ]
     },
     "execution_count": 15,
     "metadata": {},
     "output_type": "execute_result"
    }
   ],
   "source": [
    "Ga = Christoffel('Ga', g) # Símbolos de Christofell\n",
    "Ga(-All, All, All)    # \\Gamma^\\mu_(\\nu \\sigma)\n",
    "#Ga.components"
   ]
  },
  {
   "cell_type": "code",
   "execution_count": 16,
   "metadata": {},
   "outputs": [
    {
     "data": {
      "text/latex": [
       "$$\\left[\\begin{matrix}- \\frac{3 \\frac{d^{2}}{d t^{2}} a{\\left (t \\right )}}{a{\\left (t \\right )}} & 0 & 0 & 0\\\\0 & - \\frac{2 k + a{\\left (t \\right )} \\frac{d^{2}}{d t^{2}} a{\\left (t \\right )} + 2 \\left(\\frac{d}{d t} a{\\left (t \\right )}\\right)^{2}}{k r^{2} - 1} & 0 & 0\\\\0 & 0 & r^{2} \\left(2 k + a{\\left (t \\right )} \\frac{d^{2}}{d t^{2}} a{\\left (t \\right )} + 2 \\left(\\frac{d}{d t} a{\\left (t \\right )}\\right)^{2}\\right) & 0\\\\0 & 0 & 0 & r^{2} \\left(2 k + a{\\left (t \\right )} \\frac{d^{2}}{d t^{2}} a{\\left (t \\right )} + 2 \\left(\\frac{d}{d t} a{\\left (t \\right )}\\right)^{2}\\right) \\sin^{2}{\\left (\\theta \\right )}\\end{matrix}\\right]$$"
      ],
      "text/plain": [
       "⎡     2                                                                       \n",
       "⎢    d                                                                        \n",
       "⎢-3⋅───(a(t))                                                                 \n",
       "⎢     2                                                                       \n",
       "⎢   dt                                                                        \n",
       "⎢─────────────                     0                                          \n",
       "⎢     a(t)                                                                    \n",
       "⎢                                                                             \n",
       "⎢                ⎛             2                     2⎞                       \n",
       "⎢                ⎜            d            ⎛d       ⎞ ⎟                       \n",
       "⎢               -⎜2⋅k + a(t)⋅───(a(t)) + 2⋅⎜──(a(t))⎟ ⎟                       \n",
       "⎢                ⎜             2           ⎝dt      ⎠ ⎟                       \n",
       "⎢                ⎝           dt                       ⎠                       \n",
       "⎢      0        ────────────────────────────────────────                      \n",
       "⎢                                  2                                          \n",
       "⎢                               k⋅r  - 1                                      \n",
       "⎢                                                                             \n",
       "⎢                                                            ⎛             2  \n",
       "⎢                                                          2 ⎜            d   \n",
       "⎢      0                           0                      r ⋅⎜2⋅k + a(t)⋅───(a\n",
       "⎢                                                            ⎜             2  \n",
       "⎢                                                            ⎝           dt   \n",
       "⎢                                                                             \n",
       "⎢                                                                             \n",
       "⎢                                                                             \n",
       "⎢      0                           0                                          \n",
       "⎢                                                                             \n",
       "⎣                                                                             \n",
       "\n",
       "                                                                             ⎤\n",
       "                                                                             ⎥\n",
       "                                                                             ⎥\n",
       "                                                                             ⎥\n",
       "                                                                             ⎥\n",
       "0                                                0                           ⎥\n",
       "                                                                             ⎥\n",
       "                                                                             ⎥\n",
       "                                                                             ⎥\n",
       "                                                                             ⎥\n",
       "                                                                             ⎥\n",
       "                                                                             ⎥\n",
       "                                                                             ⎥\n",
       "0                                                0                           ⎥\n",
       "                                                                             ⎥\n",
       "                                                                             ⎥\n",
       "                                                                             ⎥\n",
       "                   2⎞                                                        ⎥\n",
       "         ⎛d       ⎞ ⎟                                                        ⎥\n",
       "(t)) + 2⋅⎜──(a(t))⎟ ⎟                            0                           ⎥\n",
       "         ⎝dt      ⎠ ⎟                                                        ⎥\n",
       "                    ⎠                                                        ⎥\n",
       "                                                                             ⎥\n",
       "                          ⎛             2                     2⎞             ⎥\n",
       "                        2 ⎜            d            ⎛d       ⎞ ⎟    2        ⎥\n",
       "0                      r ⋅⎜2⋅k + a(t)⋅───(a(t)) + 2⋅⎜──(a(t))⎟ ⎟⋅sin (\\theta)⎥\n",
       "                          ⎜             2           ⎝dt      ⎠ ⎟             ⎥\n",
       "                          ⎝           dt                       ⎠             ⎦"
      ]
     },
     "execution_count": 16,
     "metadata": {},
     "output_type": "execute_result"
    }
   ],
   "source": [
    "Ri = Ricci('Ri', g)   #Tensor de Ricci\n",
    "Ri(All,All)"
   ]
  },
  {
   "cell_type": "code",
   "execution_count": 17,
   "metadata": {},
   "outputs": [
    {
     "data": {
      "image/png": "[encoded data removed]",
      "text/latex": [
       "$$\\frac{6 \\left(k + a{\\left (t \\right )} \\frac{d^{2}}{d t^{2}} a{\\left (t \\right )} + \\left(\\frac{d}{d t} a{\\left (t \\right )}\\right)^{2}\\right)}{a^{2}{\\left (t \\right )}}$$"
      ],
      "text/plain": [
       "  ⎛           2                   2⎞\n",
       "  ⎜          d          ⎛d       ⎞ ⎟\n",
       "6⋅⎜k + a(t)⋅───(a(t)) + ⎜──(a(t))⎟ ⎟\n",
       "  ⎜           2         ⎝dt      ⎠ ⎟\n",
       "  ⎝         dt                     ⎠\n",
       "────────────────────────────────────\n",
       "                2                   \n",
       "               a (t)                "
      ]
     },
     "execution_count": 17,
     "metadata": {},
     "output_type": "execute_result"
    }
   ],
   "source": [
    "Ri.scalar()"
   ]
  },
  {
   "cell_type": "code",
   "execution_count": 18,
   "metadata": {},
   "outputs": [
    {
     "data": {
      "text/latex": [
       "$$\\left[\\begin{matrix}\\frac{3 \\left(k + \\left(\\frac{d}{d t} a{\\left (t \\right )}\\right)^{2}\\right)}{a^{2}{\\left (t \\right )}} & 0 & 0 & 0\\\\0 & \\frac{k + 2 a{\\left (t \\right )} \\frac{d^{2}}{d t^{2}} a{\\left (t \\right )} + \\left(\\frac{d}{d t} a{\\left (t \\right )}\\right)^{2}}{k r^{2} - 1} & 0 & 0\\\\0 & 0 & - r^{2} \\left(k + 2 a{\\left (t \\right )} \\frac{d^{2}}{d t^{2}} a{\\left (t \\right )} + \\left(\\frac{d}{d t} a{\\left (t \\right )}\\right)^{2}\\right) & 0\\\\0 & 0 & 0 & - r^{2} \\left(k + 2 a{\\left (t \\right )} \\frac{d^{2}}{d t^{2}} a{\\left (t \\right )} + \\left(\\frac{d}{d t} a{\\left (t \\right )}\\right)^{2}\\right) \\sin^{2}{\\left (\\theta \\right )}\\end{matrix}\\right]$$"
      ],
      "text/plain": [
       "⎡  ⎛              2⎞                                                          \n",
       "⎢  ⎜    ⎛d       ⎞ ⎟                                                          \n",
       "⎢3⋅⎜k + ⎜──(a(t))⎟ ⎟                                                          \n",
       "⎢  ⎝    ⎝dt      ⎠ ⎠                                                          \n",
       "⎢───────────────────                  0                                      0\n",
       "⎢        2                                                                    \n",
       "⎢       a (t)                                                                 \n",
       "⎢                                                                             \n",
       "⎢                                  2                   2                      \n",
       "⎢                                 d          ⎛d       ⎞                       \n",
       "⎢                     k + 2⋅a(t)⋅───(a(t)) + ⎜──(a(t))⎟                       \n",
       "⎢                                  2         ⎝dt      ⎠                       \n",
       "⎢                                dt                                           \n",
       "⎢         0           ──────────────────────────────────                     0\n",
       "⎢                                     2                                       \n",
       "⎢                                  k⋅r  - 1                                   \n",
       "⎢                                                                             \n",
       "⎢                                                             ⎛             2 \n",
       "⎢                                                           2 ⎜            d  \n",
       "⎢         0                           0                   -r ⋅⎜k + 2⋅a(t)⋅───(\n",
       "⎢                                                             ⎜             2 \n",
       "⎢                                                             ⎝           dt  \n",
       "⎢                                                                             \n",
       "⎢                                                                             \n",
       "⎢                                                                             \n",
       "⎢         0                           0                                      0\n",
       "⎢                                                                             \n",
       "⎣                                                                             \n",
       "\n",
       "                                                                           ⎤\n",
       "                                                                           ⎥\n",
       "                                                                           ⎥\n",
       "                                                                           ⎥\n",
       "                                                0                          ⎥\n",
       "                                                                           ⎥\n",
       "                                                                           ⎥\n",
       "                                                                           ⎥\n",
       "                                                                           ⎥\n",
       "                                                                           ⎥\n",
       "                                                                           ⎥\n",
       "                                                                           ⎥\n",
       "                                                                           ⎥\n",
       "                                                0                          ⎥\n",
       "                                                                           ⎥\n",
       "                                                                           ⎥\n",
       "                                                                           ⎥\n",
       "                  2⎞                                                       ⎥\n",
       "        ⎛d       ⎞ ⎟                                                       ⎥\n",
       "a(t)) + ⎜──(a(t))⎟ ⎟                            0                          ⎥\n",
       "        ⎝dt      ⎠ ⎟                                                       ⎥\n",
       "                   ⎠                                                       ⎥\n",
       "                                                                           ⎥\n",
       "                          ⎛             2                   2⎞             ⎥\n",
       "                        2 ⎜            d          ⎛d       ⎞ ⎟    2        ⎥\n",
       "                      -r ⋅⎜k + 2⋅a(t)⋅───(a(t)) + ⎜──(a(t))⎟ ⎟⋅sin (\\theta)⎥\n",
       "                          ⎜             2         ⎝dt      ⎠ ⎟             ⎥\n",
       "                          ⎝           dt                     ⎠             ⎦"
      ]
     },
     "execution_count": 18,
     "metadata": {},
     "output_type": "execute_result"
    }
   ],
   "source": [
    "G = Einstein('G', Ri)   #Tensor de Einstein\n",
    "G(All,All)"
   ]
  },
  {
   "cell_type": "code",
   "execution_count": 19,
   "metadata": {},
   "outputs": [
    {
     "data": {
      "text/latex": [
       "$$\\left[\\begin{matrix}- \\Lambda + \\frac{3 \\left(k + \\left(\\frac{d}{d t} a{\\left (t \\right )}\\right)^{2}\\right)}{a^{2}{\\left (t \\right )}} & 0 & 0 & 0\\\\0 & \\frac{\\Lambda a^{2}{\\left (t \\right )}}{- k r^{2} + 1} + \\frac{k + 2 a{\\left (t \\right )} \\frac{d^{2}}{d t^{2}} a{\\left (t \\right )} + \\left(\\frac{d}{d t} a{\\left (t \\right )}\\right)^{2}}{k r^{2} - 1} & 0 & 0\\\\0 & 0 & \\Lambda r^{2} a^{2}{\\left (t \\right )} - r^{2} \\left(k + 2 a{\\left (t \\right )} \\frac{d^{2}}{d t^{2}} a{\\left (t \\right )} + \\left(\\frac{d}{d t} a{\\left (t \\right )}\\right)^{2}\\right) & 0\\\\0 & 0 & 0 & \\Lambda r^{2} a^{2}{\\left (t \\right )} \\sin^{2}{\\left (\\theta \\right )} - r^{2} \\left(k + 2 a{\\left (t \\right )} \\frac{d^{2}}{d t^{2}} a{\\left (t \\right )} + \\left(\\frac{d}{d t} a{\\left (t \\right )}\\right)^{2}\\right) \\sin^{2}{\\left (\\theta \\right )}\\end{matrix}\\right]$$"
      ],
      "text/plain": [
       "⎡             ⎛              2⎞                                               \n",
       "⎢             ⎜    ⎛d       ⎞ ⎟                                               \n",
       "⎢           3⋅⎜k + ⎜──(a(t))⎟ ⎟                                               \n",
       "⎢             ⎝    ⎝dt      ⎠ ⎠                                               \n",
       "⎢-\\Lambda + ───────────────────                          0                    \n",
       "⎢                   2                                                         \n",
       "⎢                  a (t)                                                      \n",
       "⎢                                                                             \n",
       "⎢                                                             2               \n",
       "⎢                                                            d          ⎛d    \n",
       "⎢                                                k + 2⋅a(t)⋅───(a(t)) + ⎜──(a(\n",
       "⎢                                         2                   2         ⎝dt   \n",
       "⎢                                \\Lambda⋅a (t)              dt                \n",
       "⎢              0                 ───────────── + ─────────────────────────────\n",
       "⎢                                       2                        2            \n",
       "⎢                                  - k⋅r  + 1                 k⋅r  - 1        \n",
       "⎢                                                                             \n",
       "⎢                                                                             \n",
       "⎢                                                                             \n",
       "⎢              0                                         0                    \n",
       "⎢                                                                             \n",
       "⎢                                                                             \n",
       "⎢                                                                             \n",
       "⎢                                                                             \n",
       "⎢                                                                             \n",
       "⎢              0                                         0                    \n",
       "⎢                                                                             \n",
       "⎣                                                                             \n",
       "\n",
       "                                                                              \n",
       "                                                                              \n",
       "                                                                              \n",
       "                                                                              \n",
       "                                   0                                          \n",
       "                                                                              \n",
       "                                                                              \n",
       "                                                                              \n",
       "    2                                                                         \n",
       "   ⎞                                                                          \n",
       "t))⎟                                                                          \n",
       "   ⎠                                                                          \n",
       "                                                                              \n",
       "─────                              0                                          \n",
       "                                                                              \n",
       "                                                                              \n",
       "                                                                              \n",
       "                             ⎛             2                   2⎞             \n",
       "                2  2       2 ⎜            d          ⎛d       ⎞ ⎟             \n",
       "       \\Lambda⋅r ⋅a (t) - r ⋅⎜k + 2⋅a(t)⋅───(a(t)) + ⎜──(a(t))⎟ ⎟             \n",
       "                             ⎜             2         ⎝dt      ⎠ ⎟             \n",
       "                             ⎝           dt                     ⎠             \n",
       "                                                                              \n",
       "                                                                              \n",
       "                                                                            2 \n",
       "                                   0                               \\Lambda⋅r ⋅\n",
       "                                                                              \n",
       "                                                                              \n",
       "\n",
       "                                                                         ⎤\n",
       "                                                                         ⎥\n",
       "                                                                         ⎥\n",
       "                                                                         ⎥\n",
       "                              0                                          ⎥\n",
       "                                                                         ⎥\n",
       "                                                                         ⎥\n",
       "                                                                         ⎥\n",
       "                                                                         ⎥\n",
       "                                                                         ⎥\n",
       "                                                                         ⎥\n",
       "                                                                         ⎥\n",
       "                                                                         ⎥\n",
       "                              0                                          ⎥\n",
       "                                                                         ⎥\n",
       "                                                                         ⎥\n",
       "                                                                         ⎥\n",
       "                                                                         ⎥\n",
       "                                                                         ⎥\n",
       "                              0                                          ⎥\n",
       "                                                                         ⎥\n",
       "                                                                         ⎥\n",
       "                                                                         ⎥\n",
       "                        ⎛             2                   2⎞             ⎥\n",
       " 2       2            2 ⎜            d          ⎛d       ⎞ ⎟    2        ⎥\n",
       "a (t)⋅sin (\\theta) - r ⋅⎜k + 2⋅a(t)⋅───(a(t)) + ⎜──(a(t))⎟ ⎟⋅sin (\\theta)⎥\n",
       "                        ⎜             2         ⎝dt      ⎠ ⎟             ⎥\n",
       "                        ⎝           dt                     ⎠             ⎦"
      ]
     },
     "execution_count": 19,
     "metadata": {},
     "output_type": "execute_result"
    }
   ],
   "source": [
    "G_L = G(All,All) + Lambda*g(All,All)\n",
    "G_L"
   ]
  },
  {
   "cell_type": "markdown",
   "metadata": {},
   "source": [
    "# <font color=purple>__Tensor de energía momento__: </font>\n",
    "\n",
    "## En este caso el $T_{\\mu \\nu}$ es para un fluido perfecto.\n",
    "\n",
    "## $T_{\\mu \\nu} = (\\rho + P) u_\\mu u_\\nu + P g_{\\mu \\nu}$"
   ]
  },
  {
   "cell_type": "code",
   "execution_count": 20,
   "metadata": {},
   "outputs": [
    {
     "data": {
      "text/latex": [
       "$$\\left[\\begin{matrix}\\rho{\\left (a \\right )} & 0 & 0 & 0\\\\0 & \\frac{P{\\left (\\rho \\right )} a^{2}{\\left (t \\right )}}{- k r^{2} + 1} & 0 & 0\\\\0 & 0 & r^{2} P{\\left (\\rho \\right )} a^{2}{\\left (t \\right )} & 0\\\\0 & 0 & 0 & r^{2} P{\\left (\\rho \\right )} a^{2}{\\left (t \\right )} \\sin^{2}{\\left (\\theta \\right )}\\end{matrix}\\right]$$"
      ],
      "text/plain": [
       "⎡\\rho(a)        0               0                        0              ⎤\n",
       "⎢                                                                       ⎥\n",
       "⎢                  2                                                    ⎥\n",
       "⎢         P(\\rho)⋅a (t)                                                 ⎥\n",
       "⎢   0     ─────────────         0                        0              ⎥\n",
       "⎢                2                                                      ⎥\n",
       "⎢           - k⋅r  + 1                                                  ⎥\n",
       "⎢                                                                       ⎥\n",
       "⎢                         2          2                                  ⎥\n",
       "⎢   0           0        r ⋅P(\\rho)⋅a (t)                0              ⎥\n",
       "⎢                                                                       ⎥\n",
       "⎢                                           2          2       2        ⎥\n",
       "⎣   0           0               0          r ⋅P(\\rho)⋅a (t)⋅sin (\\theta)⎦"
      ]
     },
     "execution_count": 20,
     "metadata": {},
     "output_type": "execute_result"
    }
   ],
   "source": [
    "P = Function('P') #Define los símbolos\n",
    "#print r\n",
    "rho = Function('\\\\rho')\n",
    "\n",
    "chi = Coordinates('\\chi', [t, r, theta, phi])  #Crea el 4-Vector  \n",
    "\n",
    "Te_m = diag(rho(a)*u(1)*u(1), P(rho)*g(2,2),P(rho)*g(3,3),P(rho)*g(4,4)) \n",
    "\n",
    "#print g(-All, -All) #g^(\\mu \\nu)\n",
    "Te_m "
   ]
  }
 ],
 "metadata": {
  "kernelspec": {
   "display_name": "Python 3",
   "language": "python",
   "name": "python3"
  },
  "language_info": {
   "codemirror_mode": {
    "name": "ipython",
    "version": 3
   },
   "file_extension": ".py",
   "mimetype": "text/x-python",
   "name": "python",
   "nbconvert_exporter": "python",
   "pygments_lexer": "ipython3",
   "version": "3.6.7"
  }
 },
 "nbformat": 4,
 "nbformat_minor": 2
}
