{
 "cells": [
  {
   "cell_type": "markdown",
   "metadata": {},
   "source": [
    "Problema 1 tarea 2. Metrica: B^2(r) dr^2+r^2 d\\Omega"
   ]
  },
  {
   "cell_type": "code",
   "execution_count": 2,
   "metadata": {},
   "outputs": [
    {
     "ename": "NameError",
     "evalue": "name 'R' is not defined",
     "output_type": "error",
     "traceback": [
      "\u001b[0;31m---------------------------------------------------------------------------\u001b[0m",
      "\u001b[0;31mNameError\u001b[0m                                 Traceback (most recent call last)",
      "\u001b[0;32m<ipython-input-2-e76bb713a3b9>\u001b[0m in \u001b[0;36m<module>\u001b[0;34m\u001b[0m\n\u001b[0;32m----> 1\u001b[0;31m \u001b[0mR\u001b[0m\u001b[0;34m,\u001b[0m \u001b[0mtheta\u001b[0m\u001b[0;34m,\u001b[0m \u001b[0mphi\u001b[0m\u001b[0;34m,\u001b[0m\u001b[0;34m\u001b[0m\u001b[0;34m\u001b[0m\u001b[0m\n\u001b[0m\u001b[1;32m      2\u001b[0m \u001b[0mB\u001b[0m \u001b[0;34m=\u001b[0m \u001b[0msymbols\u001b[0m\u001b[0;34m(\u001b[0m\u001b[0;34m'R, \\\\theta, \\phi, B'\u001b[0m\u001b[0;34m)\u001b[0m \u001b[0;31m# define some symbolic variables\u001b[0m\u001b[0;34m\u001b[0m\u001b[0;34m\u001b[0m\u001b[0m\n\u001b[1;32m      3\u001b[0m \u001b[0mx\u001b[0m \u001b[0;34m=\u001b[0m \u001b[0mCoordinates\u001b[0m\u001b[0;34m(\u001b[0m\u001b[0;34m'\\chi'\u001b[0m\u001b[0;34m,\u001b[0m \u001b[0;34m[\u001b[0m\u001b[0mR\u001b[0m\u001b[0;34m,\u001b[0m \u001b[0mtheta\u001b[0m\u001b[0;34m,\u001b[0m \u001b[0mphi\u001b[0m\u001b[0;34m]\u001b[0m\u001b[0;34m)\u001b[0m\u001b[0;34m\u001b[0m\u001b[0;34m\u001b[0m\u001b[0m\n\u001b[1;32m      4\u001b[0m \u001b[0mB\u001b[0m \u001b[0;34m=\u001b[0m \u001b[0mFunction\u001b[0m\u001b[0;34m(\u001b[0m\u001b[0;34m'B'\u001b[0m\u001b[0;34m)\u001b[0m\u001b[0;34m(\u001b[0m\u001b[0mR\u001b[0m\u001b[0;34m)\u001b[0m\u001b[0;34m\u001b[0m\u001b[0;34m\u001b[0m\u001b[0m\n\u001b[1;32m      5\u001b[0m \u001b[0mMetric\u001b[0m \u001b[0;34m=\u001b[0m \u001b[0mdiag\u001b[0m\u001b[0;34m(\u001b[0m\u001b[0mB\u001b[0m\u001b[0;34m**\u001b[0m\u001b[0;36m2\u001b[0m\u001b[0;34m,\u001b[0m \u001b[0mR\u001b[0m\u001b[0;34m**\u001b[0m\u001b[0;36m2\u001b[0m\u001b[0;34m,\u001b[0m \u001b[0mR\u001b[0m\u001b[0;34m**\u001b[0m\u001b[0;36m2\u001b[0m\u001b[0;34m*\u001b[0m\u001b[0msin\u001b[0m\u001b[0;34m(\u001b[0m\u001b[0mtheta\u001b[0m\u001b[0;34m)\u001b[0m\u001b[0;34m**\u001b[0m\u001b[0;36m2\u001b[0m\u001b[0;34m)\u001b[0m \u001b[0;31m# define a matrix of a metric tensor components\u001b[0m\u001b[0;34m\u001b[0m\u001b[0;34m\u001b[0m\u001b[0m\n",
      "\u001b[0;31mNameError\u001b[0m: name 'R' is not defined"
     ]
    }
   ],
   "source": [
    "R, theta, phi, B = symbols('R, \\\\theta, \\phi, B') # define some symbolic variables\n",
    "x = Coordinates('\\chi', [R, theta, phi]) \n",
    "B = Function('B')(R)\n",
    "Metric = diag(B**2, R**2, R**2*sin(theta)**2) # define a matrix of a metric tensor components  \n",
    "g = MetricTensor('g', x, Metric) # create a metric tensor object instantiating the MetricTensor class"
   ]
  },
  {
   "cell_type": "code",
   "execution_count": 72,
   "metadata": {},
   "outputs": [],
   "source": [
    "Ga = Christoffel('Ga', g)\n"
   ]
  },
  {
   "cell_type": "code",
   "execution_count": 76,
   "metadata": {},
   "outputs": [
    {
     "data": {
      "text/latex": [
       "$$\\left[\\begin{matrix}\\left[\\begin{matrix}\\frac{\\frac{d}{d R} B{\\left (R \\right )}}{B{\\left (R \\right )}} & \\frac{\\frac{d}{d R} B{\\left (R \\right )}}{B{\\left (R \\right )}} & \\frac{\\frac{d}{d R} B{\\left (R \\right )}}{B{\\left (R \\right )}}\\\\0 & 0 & 0\\\\0 & 0 & 0\\end{matrix}\\right] & \\left[\\begin{matrix}0 & 0 & 0\\\\- \\frac{R}{B^{2}{\\left (R \\right )}} & - \\frac{R}{B^{2}{\\left (R \\right )}} & - \\frac{R}{B^{2}{\\left (R \\right )}}\\\\0 & 0 & 0\\end{matrix}\\right] & \\left[\\begin{matrix}0 & 0 & 0\\\\0 & 0 & 0\\\\- \\frac{R \\sin^{2}{\\left (\\theta \\right )}}{B^{2}{\\left (R \\right )}} & - \\frac{R \\sin^{2}{\\left (\\theta \\right )}}{B^{2}{\\left (R \\right )}} & - \\frac{R \\sin^{2}{\\left (\\theta \\right )}}{B^{2}{\\left (R \\right )}}\\end{matrix}\\right]\\\\\\left[\\begin{matrix}0 & 0 & 0\\\\\\frac{1}{R} & \\frac{1}{R} & \\frac{1}{R}\\\\0 & 0 & 0\\end{matrix}\\right] & \\left[\\begin{matrix}\\frac{1}{R} & \\frac{1}{R} & \\frac{1}{R}\\\\0 & 0 & 0\\\\0 & 0 & 0\\end{matrix}\\right] & \\left[\\begin{matrix}0 & 0 & 0\\\\0 & 0 & 0\\\\- \\frac{\\sin{\\left (2 \\theta \\right )}}{2} & - \\frac{\\sin{\\left (2 \\theta \\right )}}{2} & - \\frac{\\sin{\\left (2 \\theta \\right )}}{2}\\end{matrix}\\right]\\\\\\left[\\begin{matrix}0 & 0 & 0\\\\0 & 0 & 0\\\\\\frac{1}{R} & \\frac{1}{R} & \\frac{1}{R}\\end{matrix}\\right] & \\left[\\begin{matrix}0 & 0 & 0\\\\0 & 0 & 0\\\\\\frac{\\sin{\\left (2 \\theta \\right )}}{2 \\sin^{2}{\\left (\\theta \\right )}} & \\frac{\\sin{\\left (2 \\theta \\right )}}{2 \\sin^{2}{\\left (\\theta \\right )}} & \\frac{\\sin{\\left (2 \\theta \\right )}}{2 \\sin^{2}{\\left (\\theta \\right )}}\\end{matrix}\\right] & \\left[\\begin{matrix}\\frac{1}{R} & \\frac{1}{R} & \\frac{1}{R}\\\\\\frac{\\sin{\\left (2 \\theta \\right )}}{2 \\sin^{2}{\\left (\\theta \\right )}} & \\frac{\\sin{\\left (2 \\theta \\right )}}{2 \\sin^{2}{\\left (\\theta \\right )}} & \\frac{\\sin{\\left (2 \\theta \\right )}}{2 \\sin^{2}{\\left (\\theta \\right )}}\\\\0 & 0 & 0\\end{matrix}\\right]\\end{matrix}\\right]$$"
      ],
      "text/plain": [
       "⎡⎡d         d         d       ⎤               ⎡  0      0      0  ⎤           \n",
       "⎢⎢──(B(R))  ──(B(R))  ──(B(R))⎥               ⎢                   ⎥           \n",
       "⎢⎢dR        dR        dR      ⎥               ⎢ -R     -R     -R  ⎥           \n",
       "⎢⎢────────  ────────  ────────⎥               ⎢─────  ─────  ─────⎥           \n",
       "⎢⎢  B(R)      B(R)      B(R)  ⎥               ⎢ 2      2      2   ⎥           \n",
       "⎢⎢                            ⎥               ⎢B (R)  B (R)  B (R)⎥           \n",
       "⎢⎢   0         0         0    ⎥               ⎢                   ⎥           \n",
       "⎢⎢                            ⎥               ⎣  0      0      0  ⎦           \n",
       "⎢⎣   0         0         0    ⎦                                               \n",
       "⎢                                                                             \n",
       "⎢          ⎡0  0  0⎤                                ⎡1  1  1⎤                 \n",
       "⎢          ⎢       ⎥                                ⎢─  ─  ─⎥                 \n",
       "⎢          ⎢1  1  1⎥                                ⎢R  R  R⎥                 \n",
       "⎢          ⎢─  ─  ─⎥                                ⎢       ⎥                 \n",
       "⎢          ⎢R  R  R⎥                                ⎢0  0  0⎥                 \n",
       "⎢          ⎢       ⎥                                ⎢       ⎥                 \n",
       "⎢          ⎣0  0  0⎦                                ⎣0  0  0⎦                 \n",
       "⎢                                                                             \n",
       "⎢                                                                             \n",
       "⎢                                ⎡      0               0               0     \n",
       "⎢          ⎡0  0  0⎤             ⎢                                            \n",
       "⎢          ⎢       ⎥             ⎢      0               0               0     \n",
       "⎢          ⎢0  0  0⎥             ⎢                                            \n",
       "⎢          ⎢       ⎥             ⎢sin(2⋅\\theta)   sin(2⋅\\theta)   sin(2⋅\\theta\n",
       "⎢          ⎢1  1  1⎥             ⎢──────────────  ──────────────  ────────────\n",
       "⎢          ⎢─  ─  ─⎥             ⎢     2               2               2      \n",
       "⎢          ⎣R  R  R⎦             ⎣2⋅sin (\\theta)  2⋅sin (\\theta)  2⋅sin (\\thet\n",
       "⎣                                                                             \n",
       "\n",
       "     ⎡       0                 0                 0        ⎤⎤\n",
       "     ⎢                                                    ⎥⎥\n",
       "     ⎢       0                 0                 0        ⎥⎥\n",
       "     ⎢                                                    ⎥⎥\n",
       "     ⎢      2                 2                 2         ⎥⎥\n",
       "     ⎢-R⋅sin (\\theta)   -R⋅sin (\\theta)   -R⋅sin (\\theta) ⎥⎥\n",
       "     ⎢────────────────  ────────────────  ────────────────⎥⎥\n",
       "     ⎢      2                 2                 2         ⎥⎥\n",
       "     ⎣     B (R)             B (R)             B (R)      ⎦⎥\n",
       "                                                           ⎥\n",
       "      ⎡       0                0                0       ⎤  ⎥\n",
       "      ⎢                                                 ⎥  ⎥\n",
       "      ⎢       0                0                0       ⎥  ⎥\n",
       "      ⎢                                                 ⎥  ⎥\n",
       "      ⎢-sin(2⋅\\theta)   -sin(2⋅\\theta)   -sin(2⋅\\theta) ⎥  ⎥\n",
       "      ⎢───────────────  ───────────────  ───────────────⎥  ⎥\n",
       "      ⎣       2                2                2       ⎦  ⎥\n",
       "                                                           ⎥\n",
       "        ⎡      1               1               1       ⎤   ⎥\n",
       "  ⎤     ⎢      ─               ─               ─       ⎥   ⎥\n",
       "  ⎥     ⎢      R               R               R       ⎥   ⎥\n",
       "  ⎥     ⎢                                              ⎥   ⎥\n",
       "  ⎥     ⎢sin(2⋅\\theta)   sin(2⋅\\theta)   sin(2⋅\\theta) ⎥   ⎥\n",
       ") ⎥     ⎢──────────────  ──────────────  ──────────────⎥   ⎥\n",
       "──⎥     ⎢     2               2               2        ⎥   ⎥\n",
       "  ⎥     ⎢2⋅sin (\\theta)  2⋅sin (\\theta)  2⋅sin (\\theta)⎥   ⎥\n",
       "a)⎦     ⎢                                              ⎥   ⎥\n",
       "        ⎣      0               0               0       ⎦   ⎦"
      ]
     },
     "execution_count": 76,
     "metadata": {},
     "output_type": "execute_result"
    }
   ],
   "source": [
    "Ga(-All, All, All)"
   ]
  },
  {
   "cell_type": "code",
   "execution_count": 77,
   "metadata": {},
   "outputs": [
    {
     "data": {
      "text/latex": [
       "$$\\left[\\begin{matrix}\\frac{2 \\frac{d}{d R} B{\\left (R \\right )}}{R B^{5}{\\left (R \\right )}} & 0 & 0\\\\0 & \\frac{R \\frac{d}{d R} B{\\left (R \\right )} + B^{3}{\\left (R \\right )} - B{\\left (R \\right )}}{R^{4} B^{3}{\\left (R \\right )}} & 0\\\\0 & 0 & \\frac{R \\frac{d}{d R} B{\\left (R \\right )} + B^{3}{\\left (R \\right )} - B{\\left (R \\right )}}{R^{4} B^{3}{\\left (R \\right )} \\sin^{2}{\\left (\\theta \\right )}}\\end{matrix}\\right]$$"
      ],
      "text/plain": [
       "⎡  d                                                             ⎤\n",
       "⎢2⋅──(B(R))                                                      ⎥\n",
       "⎢  dR                                                            ⎥\n",
       "⎢──────────              0                          0            ⎥\n",
       "⎢    5                                                           ⎥\n",
       "⎢ R⋅B (R)                                                        ⎥\n",
       "⎢                                                                ⎥\n",
       "⎢              d           3                                     ⎥\n",
       "⎢            R⋅──(B(R)) + B (R) - B(R)                           ⎥\n",
       "⎢              dR                                                ⎥\n",
       "⎢    0       ─────────────────────────              0            ⎥\n",
       "⎢                      4  3                                      ⎥\n",
       "⎢                     R ⋅B (R)                                   ⎥\n",
       "⎢                                                                ⎥\n",
       "⎢                                         d           3          ⎥\n",
       "⎢                                       R⋅──(B(R)) + B (R) - B(R)⎥\n",
       "⎢                                         dR                     ⎥\n",
       "⎢    0                   0              ─────────────────────────⎥\n",
       "⎢                                          4  3       2          ⎥\n",
       "⎣                                         R ⋅B (R)⋅sin (\\theta)  ⎦"
      ]
     },
     "execution_count": 77,
     "metadata": {},
     "output_type": "execute_result"
    }
   ],
   "source": [
    "Ri = Ricci('Ri', g)\n",
    "Ri(-All, -All)"
   ]
  },
  {
   "cell_type": "code",
   "execution_count": 78,
   "metadata": {},
   "outputs": [
    {
     "data": {
      "image/png": "[encoded data removed]",
      "text/latex": [
       "$$\\frac{2 \\left(2 R \\frac{d}{d R} B{\\left (R \\right )} + B^{3}{\\left (R \\right )} - B{\\left (R \\right )}\\right)}{R^{2} B^{3}{\\left (R \\right )}}$$"
      ],
      "text/plain": [
       "  ⎛    d           3          ⎞\n",
       "2⋅⎜2⋅R⋅──(B(R)) + B (R) - B(R)⎟\n",
       "  ⎝    dR                     ⎠\n",
       "───────────────────────────────\n",
       "             2  3              \n",
       "            R ⋅B (R)           "
      ]
     },
     "execution_count": 78,
     "metadata": {},
     "output_type": "execute_result"
    }
   ],
   "source": [
    "Ri.scalar()"
   ]
  },
  {
   "cell_type": "code",
   "execution_count": 66,
   "metadata": {},
   "outputs": [
    {
     "data": {
      "text/latex": [
       "$$\\left[\\begin{matrix}\\frac{1}{R^{2}} & 0 & 0\\\\0 & - \\frac{R \\frac{d}{d R} B{\\left (R \\right )}}{B^{3}{\\left (R \\right )}} & 0\\\\0 & 0 & - \\frac{R \\sin^{2}{\\left (\\theta \\right )} \\frac{d}{d R} B{\\left (R \\right )}}{B^{3}{\\left (R \\right )}}\\end{matrix}\\right]$$"
      ],
      "text/plain": [
       "⎡1                                          ⎤\n",
       "⎢──       0                    0            ⎥\n",
       "⎢ 2                                         ⎥\n",
       "⎢R                                          ⎥\n",
       "⎢                                           ⎥\n",
       "⎢       d                                   ⎥\n",
       "⎢    -R⋅──(B(R))                            ⎥\n",
       "⎢       dR                                  ⎥\n",
       "⎢0   ────────────              0            ⎥\n",
       "⎢        3                                  ⎥\n",
       "⎢       B (R)                               ⎥\n",
       "⎢                                           ⎥\n",
       "⎢                        2         d        ⎥\n",
       "⎢                  -R⋅sin (\\theta)⋅──(B(R)) ⎥\n",
       "⎢                                  dR       ⎥\n",
       "⎢0        0        ─────────────────────────⎥\n",
       "⎢                             3             ⎥\n",
       "⎣                            B (R)          ⎦"
      ]
     },
     "execution_count": 66,
     "metadata": {},
     "output_type": "execute_result"
    }
   ],
   "source": [
    "G = Einstein('G', Ri)\n",
    "G(All, All)"
   ]
  },
  {
   "cell_type": "code",
   "execution_count": 83,
   "metadata": {},
   "outputs": [
    {
     "data": {
      "image/png": "[encoded data removed]",
      "text/latex": [
       "$$0$$"
      ],
      "text/plain": [
       "0"
      ]
     },
     "execution_count": 83,
     "metadata": {},
     "output_type": "execute_result"
    }
   ],
   "source": [
    "Ga(-3, 1, 1)"
   ]
  },
  {
   "cell_type": "code",
   "execution_count": null,
   "metadata": {},
   "outputs": [],
   "source": []
  }
 ],
 "metadata": {
  "kernelspec": {
   "display_name": "Python 3",
   "language": "python",
   "name": "python3"
  },
  "language_info": {
   "codemirror_mode": {
    "name": "ipython",
    "version": 3
   },
   "file_extension": ".py",
   "mimetype": "text/x-python",
   "name": "python",
   "nbconvert_exporter": "python",
   "pygments_lexer": "ipython3",
   "version": "3.6.7"
  }
 },
 "nbformat": 4,
 "nbformat_minor": 2
}
