{
 "cells": [
  {
   "cell_type": "code",
   "execution_count": 2,
   "metadata": {},
   "outputs": [],
   "source": [
    "from gravipy import * \n",
    "init_printing()"
   ]
  },
  {
   "cell_type": "markdown",
   "metadata": {},
   "source": [
    "Se establecen los símbolos a utilizar, las coordenadas. Se define una métrica y un tensor métrico. En este caso se utilizarán los elementos correspondientes a una esfera unitaria:"
   ]
  },
  {
   "cell_type": "code",
   "execution_count": 4,
   "metadata": {},
   "outputs": [],
   "source": [
    "theta, phi, M = symbols('\\\\theta, \\phi, M') # variables simbolicas\n",
    "x = Coordinates('\\chi', [theta, phi]) # vector de dos coordenadas\n",
    "Metric = diag(-1, sin(theta)**2) # componentes de la metrica\n",
    "g = MetricTensor('g', x, Metric) # creacion del tensor metrico"
   ]
  },
  {
   "cell_type": "markdown",
   "metadata": {},
   "source": [
    "Se quieren calcular el escalar de Ricci y el tensor de Einstein para la métrica dada."
   ]
  },
  {
   "cell_type": "markdown",
   "metadata": {},
   "source": [
    "Antes de calcular el escalar de Ricci, es necesario contar con los correspondientes símbolos de Christoffel y el tensor de Ricci (en ese orden):"
   ]
  },
  {
   "cell_type": "code",
   "execution_count": 12,
   "metadata": {},
   "outputs": [
    {
     "data": {
      "text/latex": [
       "$$\\left[\\begin{matrix}\\left[\\begin{matrix}0 & 0\\\\0 & 0\\end{matrix}\\right] & \\left[\\begin{matrix}0 & 0\\\\- \\frac{\\sin{\\left (2 \\theta \\right )}}{2} & - \\frac{\\sin{\\left (2 \\theta \\right )}}{2}\\end{matrix}\\right]\\\\\\left[\\begin{matrix}0 & 0\\\\\\frac{\\sin{\\left (2 \\theta \\right )}}{2} & \\frac{\\sin{\\left (2 \\theta \\right )}}{2}\\end{matrix}\\right] & \\left[\\begin{matrix}\\frac{\\sin{\\left (2 \\theta \\right )}}{2} & \\frac{\\sin{\\left (2 \\theta \\right )}}{2}\\\\0 & 0\\end{matrix}\\right]\\end{matrix}\\right]$$"
      ],
      "text/plain": [
       "⎡                                ⎡       0                0       ⎤⎤\n",
       "⎢            ⎡0  0⎤              ⎢                                ⎥⎥\n",
       "⎢            ⎢    ⎥              ⎢-sin(2⋅\\theta)   -sin(2⋅\\theta) ⎥⎥\n",
       "⎢            ⎣0  0⎦              ⎢───────────────  ───────────────⎥⎥\n",
       "⎢                                ⎣       2                2       ⎦⎥\n",
       "⎢                                                                  ⎥\n",
       "⎢⎡      0              0      ⎤    ⎡sin(2⋅\\theta)  sin(2⋅\\theta)⎤  ⎥\n",
       "⎢⎢                            ⎥    ⎢─────────────  ─────────────⎥  ⎥\n",
       "⎢⎢sin(2⋅\\theta)  sin(2⋅\\theta)⎥    ⎢      2              2      ⎥  ⎥\n",
       "⎢⎢─────────────  ─────────────⎥    ⎢                            ⎥  ⎥\n",
       "⎣⎣      2              2      ⎦    ⎣      0              0      ⎦  ⎦"
      ]
     },
     "execution_count": 12,
     "metadata": {},
     "output_type": "execute_result"
    }
   ],
   "source": [
    "Ga = Christoffel('Ga', g)\n",
    "Ga(All,All,All)\n"
   ]
  },
  {
   "cell_type": "code",
   "execution_count": 10,
   "metadata": {},
   "outputs": [
    {
     "data": {
      "text/latex": [
       "$$\\left[\\begin{matrix}1 & 0\\\\0 & - \\sin^{2}{\\left (\\theta \\right )}\\end{matrix}\\right]$$"
      ],
      "text/plain": [
       "⎡1        0      ⎤\n",
       "⎢                ⎥\n",
       "⎢       2        ⎥\n",
       "⎣0  -sin (\\theta)⎦"
      ]
     },
     "execution_count": 10,
     "metadata": {},
     "output_type": "execute_result"
    }
   ],
   "source": [
    "Ri = Ricci('Ri', g)\n",
    "Ri(All, All)"
   ]
  },
  {
   "cell_type": "markdown",
   "metadata": {},
   "source": [
    "Con el tensor de Ricci calculado, ya se puede determinar el escalar de Ricci:"
   ]
  },
  {
   "cell_type": "code",
   "execution_count": 11,
   "metadata": {},
   "outputs": [
    {
     "data": {
      "image/png": "[encoded data removed]",
      "text/latex": [
       "$$-2$$"
      ],
      "text/plain": [
       "-2"
      ]
     },
     "execution_count": 11,
     "metadata": {},
     "output_type": "execute_result"
    }
   ],
   "source": [
    "Ri.scalar()"
   ]
  },
  {
   "cell_type": "markdown",
   "metadata": {},
   "source": [
    "Con lo anterior, se puede continuar con el tensor de Einstein:"
   ]
  },
  {
   "cell_type": "code",
   "execution_count": 13,
   "metadata": {},
   "outputs": [
    {
     "data": {
      "text/latex": [
       "$$\\left[\\begin{matrix}0 & 0\\\\0 & 0\\end{matrix}\\right]$$"
      ],
      "text/plain": [
       "⎡0  0⎤\n",
       "⎢    ⎥\n",
       "⎣0  0⎦"
      ]
     },
     "execution_count": 13,
     "metadata": {},
     "output_type": "execute_result"
    }
   ],
   "source": [
    "G = Einstein('G', Ri)\n",
    "G(All, All)"
   ]
  },
  {
   "cell_type": "code",
   "execution_count": null,
   "metadata": {},
   "outputs": [],
   "source": []
  }
 ],
 "metadata": {
  "kernelspec": {
   "display_name": "Python 3",
   "language": "python",
   "name": "python3"
  },
  "language_info": {
   "codemirror_mode": {
    "name": "ipython",
    "version": 3
   },
   "file_extension": ".py",
   "mimetype": "text/x-python",
   "name": "python",
   "nbconvert_exporter": "python",
   "pygments_lexer": "ipython3",
   "version": "3.6.7"
  }
 },
 "nbformat": 4,
 "nbformat_minor": 2
}
